{
 "cells": [
  {
   "cell_type": "markdown",
   "id": "849ec999-bb8d-4548-ac8f-fc68882b6b92",
   "metadata": {},
   "source": [
    "## Подготовка"
   ]
  },
  {
   "cell_type": "code",
   "execution_count": 1,
   "id": "5d1c5fe2-67cc-4dd2-beef-a27cd2812e83",
   "metadata": {},
   "outputs": [],
   "source": [
    "import numpy as np\n",
    "import pandas as pd\n",
    "\n",
    "import json\n",
    "import requests\n",
    "from bs4 import BeautifulSoup\n",
    "import time"
   ]
  },
  {
   "cell_type": "code",
   "execution_count": 2,
   "id": "ebafc4c6-7658-41a2-b7ba-6f88ba32b9ab",
   "metadata": {},
   "outputs": [
    {
     "data": {
      "text/html": [
       "<div>\n",
       "<style scoped>\n",
       "    .dataframe tbody tr th:only-of-type {\n",
       "        vertical-align: middle;\n",
       "    }\n",
       "\n",
       "    .dataframe tbody tr th {\n",
       "        vertical-align: top;\n",
       "    }\n",
       "\n",
       "    .dataframe thead th {\n",
       "        text-align: right;\n",
       "    }\n",
       "</style>\n",
       "<table border=\"1\" class=\"dataframe\">\n",
       "  <thead>\n",
       "    <tr style=\"text-align: right;\">\n",
       "      <th></th>\n",
       "      <th>id</th>\n",
       "      <th>header</th>\n",
       "      <th>date</th>\n",
       "      <th>newspaper</th>\n",
       "      <th>city</th>\n",
       "      <th>md_index</th>\n",
       "      <th>url</th>\n",
       "    </tr>\n",
       "  </thead>\n",
       "  <tbody>\n",
       "    <tr>\n",
       "      <th>703</th>\n",
       "      <td>704</td>\n",
       "      <td>Женщины для утех по-прежнему нужны: Япония и К...</td>\n",
       "      <td>2016-01-03</td>\n",
       "      <td>ИА Regnum</td>\n",
       "      <td>Москва</td>\n",
       "      <td>2.312</td>\n",
       "      <td>http://regnum.ru/news/2048238.html</td>\n",
       "    </tr>\n",
       "    <tr>\n",
       "      <th>700</th>\n",
       "      <td>701</td>\n",
       "      <td>В Норвегии мигрантов научат не насиловать женщин</td>\n",
       "      <td>2016-01-04</td>\n",
       "      <td>Известия (iz.ru)</td>\n",
       "      <td>Москва</td>\n",
       "      <td>1.113</td>\n",
       "      <td>http://izvestia.ru/news/600956</td>\n",
       "    </tr>\n",
       "    <tr>\n",
       "      <th>693</th>\n",
       "      <td>694</td>\n",
       "      <td>Полиция Кельна опровергла сообщения о нападени...</td>\n",
       "      <td>2016-01-05</td>\n",
       "      <td>Российская газета (rg.ru)</td>\n",
       "      <td>Москва</td>\n",
       "      <td>1.266</td>\n",
       "      <td>http://www.rg.ru/2016/01/05/keln-site.html</td>\n",
       "    </tr>\n",
       "  </tbody>\n",
       "</table>\n",
       "</div>"
      ],
      "text/plain": [
       "      id                                             header       date  \\\n",
       "703  704  Женщины для утех по-прежнему нужны: Япония и К... 2016-01-03   \n",
       "700  701   В Норвегии мигрантов научат не насиловать женщин 2016-01-04   \n",
       "693  694  Полиция Кельна опровергла сообщения о нападени... 2016-01-05   \n",
       "\n",
       "                     newspaper    city  md_index  \\\n",
       "703                  ИА Regnum  Москва     2.312   \n",
       "700           Известия (iz.ru)  Москва     1.113   \n",
       "693  Российская газета (rg.ru)  Москва     1.266   \n",
       "\n",
       "                                            url  \n",
       "703          http://regnum.ru/news/2048238.html  \n",
       "700              http://izvestia.ru/news/600956  \n",
       "693  http://www.rg.ru/2016/01/05/keln-site.html  "
      ]
     },
     "execution_count": 2,
     "metadata": {},
     "output_type": "execute_result"
    }
   ],
   "source": [
    "names = ['id', 'header', 'date',\n",
    "         'newspaper', 'city', 'md_index', 'url']\n",
    "\n",
    "data = pd.read_excel('urls-for-parsing.xlsx',\n",
    "                     names = names)\n",
    "data.head(3)"
   ]
  },
  {
   "cell_type": "code",
   "execution_count": 3,
   "id": "b5418169-111c-4c39-a693-f87009f11233",
   "metadata": {},
   "outputs": [],
   "source": [
    "def parser(links, scraper):\n",
    "\n",
    "    headlines = []\n",
    "    descriptions = []\n",
    "    article_bodies = []\n",
    "    urls = []\n",
    "\n",
    "    for link in links:\n",
    "      try:\n",
    "        h, d, a = scraper(link)\n",
    "        headlines.append(h)\n",
    "        descriptions.append(d)\n",
    "        article_bodies.append(a)\n",
    "        urls.append(link)\n",
    "\n",
    "      except TypeError:\n",
    "        pass\n",
    "          \n",
    "    return(headlines, descriptions, article_bodies, urls)"
   ]
  },
  {
   "cell_type": "code",
   "execution_count": 4,
   "id": "cadbccf9-553d-4daf-9750-05ef2d595387",
   "metadata": {},
   "outputs": [],
   "source": [
    "def save_texts(name, texts):  \n",
    "    out_path = 'C:/Users/KseniaLapshina/thesis-data-collection/texts-files-api/' + name + '.xlsx'\n",
    "    writer = pd.ExcelWriter(out_path , engine='xlsxwriter')\n",
    "    texts.to_excel(writer)\n",
    "    writer.close()"
   ]
  },
  {
   "cell_type": "code",
   "execution_count": 5,
   "id": "32440e94-639b-4706-82d1-cb916e02c8ec",
   "metadata": {},
   "outputs": [
    {
     "data": {
      "text/html": [
       "<div>\n",
       "<style scoped>\n",
       "    .dataframe tbody tr th:only-of-type {\n",
       "        vertical-align: middle;\n",
       "    }\n",
       "\n",
       "    .dataframe tbody tr th {\n",
       "        vertical-align: top;\n",
       "    }\n",
       "\n",
       "    .dataframe thead th {\n",
       "        text-align: right;\n",
       "    }\n",
       "</style>\n",
       "<table border=\"1\" class=\"dataframe\">\n",
       "  <thead>\n",
       "    <tr style=\"text-align: right;\">\n",
       "      <th></th>\n",
       "      <th>headline</th>\n",
       "      <th>description</th>\n",
       "      <th>article_body</th>\n",
       "      <th>url</th>\n",
       "    </tr>\n",
       "  </thead>\n",
       "  <tbody>\n",
       "  </tbody>\n",
       "</table>\n",
       "</div>"
      ],
      "text/plain": [
       "Empty DataFrame\n",
       "Columns: [headline, description, article_body, url]\n",
       "Index: []"
      ]
     },
     "execution_count": 5,
     "metadata": {},
     "output_type": "execute_result"
    }
   ],
   "source": [
    "cols = ['headline', 'description', 'article_body', 'url']\n",
    "texts_all = pd.DataFrame(columns = cols)\n",
    "texts_all"
   ]
  },
  {
   "cell_type": "code",
   "execution_count": 43,
   "id": "7784158c-ac5d-49f2-bd3e-e6c7b3068b1b",
   "metadata": {},
   "outputs": [],
   "source": [
    "# Временный апи ключ на аккаунте, лимит запросов - 1К на аккаунт\n",
    "apikey = 'cc34d1d7dd07bcc509c9fe45014fe6c164d47005'\n",
    "apikey = '8aced2c0cc35f3e261c331f90555b0ecb563ff87'"
   ]
  },
  {
   "cell_type": "code",
   "execution_count": null,
   "id": "483e5d83-2765-49d8-83c2-a231e0761cba",
   "metadata": {},
   "outputs": [],
   "source": []
  },
  {
   "cell_type": "markdown",
   "id": "9ae35b0b-9ecf-4cf0-a6fb-ecd613dcda29",
   "metadata": {},
   "source": [
    "## Известия (iz.ru)"
   ]
  },
  {
   "cell_type": "code",
   "execution_count": 7,
   "id": "23f2888c-560c-498b-bc74-e38a250b53fd",
   "metadata": {},
   "outputs": [],
   "source": [
    "name = 'Известия (iz.ru)'"
   ]
  },
  {
   "cell_type": "code",
   "execution_count": 8,
   "id": "4c0a1d1d-e8fa-407f-a6fb-dd88f17a3197",
   "metadata": {},
   "outputs": [],
   "source": [
    "def iz_scraper(link):\n",
    "\n",
    "    params = {'url': link, 'apikey': apikey}\n",
    "    \n",
    "    try:\n",
    "        try:\n",
    "          \n",
    "          r = requests.get('https://api.zenrows.com/v1/', params=params)\n",
    "        except requests.exceptions.RequestException as ex:\n",
    "          print(ex)\n",
    "    \n",
    "        soup = BeautifulSoup(r.content, \"html.parser\")\n",
    "    \n",
    "        headline = soup.find('meta', property=\"og:title\").get(\"content\")\n",
    "        description = soup.find('meta', property=\"og:description\").get(\"content\")\n",
    "        article_body = ''\n",
    "    \n",
    "        blocks = soup.find_all('p')\n",
    "        for block in blocks:\n",
    "          article_body = article_body + block.get_text()\n",
    "    \n",
    "        return(headline, description, article_body)\n",
    "    \n",
    "    except (UnboundLocalError, KeyError, AttributeError, UnicodeDecodeError) as error:\n",
    "      print(error)\n",
    "      pass"
   ]
  },
  {
   "cell_type": "code",
   "execution_count": 9,
   "id": "05c49073-6927-4987-8a30-c68516d1df76",
   "metadata": {},
   "outputs": [
    {
     "data": {
      "text/plain": [
       "(422,)"
      ]
     },
     "execution_count": 9,
     "metadata": {},
     "output_type": "execute_result"
    }
   ],
   "source": [
    "links_iz = data[data.newspaper == name].url\n",
    "links_iz.shape"
   ]
  },
  {
   "cell_type": "code",
   "execution_count": 10,
   "id": "c29076f5-8508-467c-8fb7-8ab50b5f872f",
   "metadata": {},
   "outputs": [
    {
     "name": "stdout",
     "output_type": "stream",
     "text": [
      "CPU times: total: 5min 56s\n",
      "Wall time: 23min 31s\n"
     ]
    }
   ],
   "source": [
    "%%time\n",
    "headlines, descriptions, article_bodies, urls = parser(links_iz, iz_scraper)"
   ]
  },
  {
   "cell_type": "code",
   "execution_count": 11,
   "id": "1483c1fb-e583-43f5-ab96-e73829b675dd",
   "metadata": {},
   "outputs": [
    {
     "data": {
      "text/plain": [
       "(422, 4)"
      ]
     },
     "execution_count": 11,
     "metadata": {},
     "output_type": "execute_result"
    }
   ],
   "source": [
    "d = {'headline': headlines, 'description': descriptions, 'article_body': article_bodies, 'url' : urls}\n",
    "texts_iz = pd.DataFrame(data=d)\n",
    "texts_iz.shape"
   ]
  },
  {
   "cell_type": "code",
   "execution_count": 12,
   "id": "dc8cf3a6-1000-4fa6-b337-1010f7ac70bd",
   "metadata": {},
   "outputs": [],
   "source": [
    "save_texts(name, texts_iz)\n",
    "texts_all = pd.concat([texts_all, texts_iz])"
   ]
  },
  {
   "cell_type": "code",
   "execution_count": null,
   "id": "c3b29ea7-5938-47f5-bc04-6dd7d8d34993",
   "metadata": {},
   "outputs": [],
   "source": []
  },
  {
   "cell_type": "markdown",
   "id": "6f086f85-fa49-41a5-8207-c344b70219ad",
   "metadata": {},
   "source": [
    "## NEWS.ru"
   ]
  },
  {
   "cell_type": "code",
   "execution_count": 13,
   "id": "c9fd6817-d5cc-4a51-b734-383b279aad10",
   "metadata": {},
   "outputs": [],
   "source": [
    "name = 'NEWS.ru'"
   ]
  },
  {
   "cell_type": "code",
   "execution_count": 14,
   "id": "36312493-8586-4438-aabe-cbb7b472235b",
   "metadata": {},
   "outputs": [],
   "source": [
    "def ne_scraper(link):\n",
    "\n",
    "    params = {'url': link, 'apikey': apikey}\n",
    "    \n",
    "    try:\n",
    "        try:\n",
    "          r = requests.get('https://api.zenrows.com/v1/', params=params)\n",
    "        except requests.exceptions.RequestException as ex:\n",
    "          print(ex)\n",
    "    \n",
    "        soup = BeautifulSoup(r.content, \"html.parser\")\n",
    "    \n",
    "        headline = soup.find('meta', property=\"og:title\").get(\"content\")\n",
    "        description = soup.find('meta', property=\"og:description\").get(\"content\")\n",
    "        article_body = soup.find('div', {'itemprop' : 'articleBody'}).get_text()\n",
    "    \n",
    "        return(headline, description, article_body)\n",
    "    \n",
    "    except (UnboundLocalError, KeyError, AttributeError, UnicodeDecodeError) as error:\n",
    "      print(error)\n",
    "      pass"
   ]
  },
  {
   "cell_type": "code",
   "execution_count": 15,
   "id": "e24c0cbc-d542-45cd-bc6d-9335eda8e6ef",
   "metadata": {},
   "outputs": [
    {
     "data": {
      "text/plain": [
       "(386,)"
      ]
     },
     "execution_count": 15,
     "metadata": {},
     "output_type": "execute_result"
    }
   ],
   "source": [
    "links_ne = data[data.newspaper == name].url\n",
    "links_ne.shape"
   ]
  },
  {
   "cell_type": "code",
   "execution_count": 16,
   "id": "ca677058-c207-4e4e-9a6d-e1fd84147b18",
   "metadata": {},
   "outputs": [
    {
     "name": "stdout",
     "output_type": "stream",
     "text": [
      "'NoneType' object has no attribute 'get'\n",
      "CPU times: total: 5min 6s\n",
      "Wall time: 16min 16s\n"
     ]
    }
   ],
   "source": [
    "%%time\n",
    "headlines, descriptions, article_bodies, urls = parser(links_ne, ne_scraper)"
   ]
  },
  {
   "cell_type": "code",
   "execution_count": 17,
   "id": "c994091b-9bba-4ffb-8339-e034f403cf62",
   "metadata": {},
   "outputs": [
    {
     "data": {
      "text/plain": [
       "(385, 4)"
      ]
     },
     "execution_count": 17,
     "metadata": {},
     "output_type": "execute_result"
    }
   ],
   "source": [
    "d = {'headline': headlines, 'description': descriptions, 'article_body': article_bodies, 'url' : urls}\n",
    "texts_ne = pd.DataFrame(data=d)\n",
    "texts_ne.shape"
   ]
  },
  {
   "cell_type": "code",
   "execution_count": 18,
   "id": "16b98510-d199-4287-a8f1-21d910355434",
   "metadata": {},
   "outputs": [],
   "source": [
    "save_texts(name, texts_ne)\n",
    "texts_all = pd.concat([texts_all, texts_ne])"
   ]
  },
  {
   "cell_type": "code",
   "execution_count": null,
   "id": "69a40580-758c-4c16-abea-f99ec8832a75",
   "metadata": {},
   "outputs": [],
   "source": []
  },
  {
   "cell_type": "markdown",
   "id": "813c96b0-4937-42a5-ad02-e297c3b6df67",
   "metadata": {},
   "source": [
    "## Фонтанка (fontanka.ru)"
   ]
  },
  {
   "cell_type": "code",
   "execution_count": 44,
   "id": "a7f6567c-b03e-41eb-93e4-cb1a96c7ab8a",
   "metadata": {},
   "outputs": [],
   "source": [
    "name = 'Фонтанка (fontanka.ru)'"
   ]
  },
  {
   "cell_type": "code",
   "execution_count": 45,
   "id": "dfaaa3e1-50cb-4be1-a47e-4e9ec55a71ce",
   "metadata": {},
   "outputs": [],
   "source": [
    "def fn_scraper(link):\n",
    "\n",
    "    params = {'url': link, 'apikey': apikey}\n",
    "    \n",
    "    try:\n",
    "        try:\n",
    "          r = requests.get('https://api.zenrows.com/v1/', params=params)\n",
    "        except requests.exceptions.RequestException as ex:\n",
    "          print(ex)\n",
    "    \n",
    "        soup = BeautifulSoup(r.content, \"html.parser\")\n",
    "    \n",
    "        headline = soup.find('meta', property=\"og:title\").get(\"content\")\n",
    "        description = soup.find('meta', property=\"og:description\").get(\"content\")\n",
    "    \n",
    "        article_body = ''\n",
    "        blocks = soup.find_all('p')\n",
    "        for block in blocks:\n",
    "          article_body = article_body + block.get_text()\n",
    "    \n",
    "        return(headline, description, article_body)\n",
    "    \n",
    "    except (UnboundLocalError, KeyError, AttributeError, UnicodeDecodeError) as error:\n",
    "      print(error)\n",
    "      pass"
   ]
  },
  {
   "cell_type": "code",
   "execution_count": 46,
   "id": "74a290d0-b79d-412a-af77-92d362da8908",
   "metadata": {},
   "outputs": [
    {
     "data": {
      "text/plain": [
       "(341,)"
      ]
     },
     "execution_count": 46,
     "metadata": {},
     "output_type": "execute_result"
    }
   ],
   "source": [
    "links_fn = data[data.newspaper == name].url\n",
    "links_fn.shape"
   ]
  },
  {
   "cell_type": "code",
   "execution_count": 47,
   "id": "da6bc0ac-b320-4758-a2d4-2860546a7466",
   "metadata": {},
   "outputs": [
    {
     "name": "stdout",
     "output_type": "stream",
     "text": [
      "'NoneType' object has no attribute 'get'\n",
      "'NoneType' object has no attribute 'get'\n",
      "'NoneType' object has no attribute 'get'\n",
      "'NoneType' object has no attribute 'get'\n",
      "'NoneType' object has no attribute 'get'\n",
      "'NoneType' object has no attribute 'get'\n",
      "'NoneType' object has no attribute 'get'\n",
      "'NoneType' object has no attribute 'get'\n",
      "'NoneType' object has no attribute 'get'\n",
      "CPU times: total: 4min 55s\n",
      "Wall time: 21min 11s\n"
     ]
    }
   ],
   "source": [
    "%%time\n",
    "headlines, descriptions, article_bodies, urls = parser(links_fn, fn_scraper)"
   ]
  },
  {
   "cell_type": "code",
   "execution_count": 48,
   "id": "fac02864-349e-4785-b081-19404a4020ce",
   "metadata": {},
   "outputs": [
    {
     "data": {
      "text/plain": [
       "(332, 4)"
      ]
     },
     "execution_count": 48,
     "metadata": {},
     "output_type": "execute_result"
    }
   ],
   "source": [
    "d = {'headline': headlines, 'description': descriptions, 'article_body': article_bodies, 'url' : urls}\n",
    "texts_fn = pd.DataFrame(data=d)\n",
    "texts_fn.shape"
   ]
  },
  {
   "cell_type": "code",
   "execution_count": 49,
   "id": "088b55d3-6256-4909-8fd9-30b23bcfe40e",
   "metadata": {},
   "outputs": [],
   "source": [
    "save_texts(name, texts_fn)\n",
    "texts_all = pd.concat([texts_all, texts_fn])"
   ]
  },
  {
   "cell_type": "code",
   "execution_count": null,
   "id": "645bbd1f-d3ca-4795-8175-35eb5dd1fe20",
   "metadata": {},
   "outputs": [],
   "source": []
  },
  {
   "cell_type": "markdown",
   "id": "dcd27ff9-c78d-4d39-9745-162a372233b5",
   "metadata": {},
   "source": [
    "## Чемпионат.com (championat.com)"
   ]
  },
  {
   "cell_type": "code",
   "execution_count": 50,
   "id": "b49d2d7a-4988-460c-8764-f34c9956d2d9",
   "metadata": {},
   "outputs": [],
   "source": [
    "name = 'Чемпионат.com (championat.com)'"
   ]
  },
  {
   "cell_type": "code",
   "execution_count": 51,
   "id": "8fa71f03-c612-4f00-8460-7af61adcfe10",
   "metadata": {},
   "outputs": [],
   "source": [
    "def ch_scraper(link):\n",
    "\n",
    "    params = {'url': link, 'apikey': apikey}\n",
    "    \n",
    "    try:\n",
    "        try:\n",
    "          r = requests.get('https://api.zenrows.com/v1/', params=params)\n",
    "        except requests.exceptions.RequestException as ex:\n",
    "          print(ex)\n",
    "    \n",
    "        soup = BeautifulSoup(r.content, \"html.parser\")\n",
    "    \n",
    "        headline = soup.find('meta', property=\"og:title\").get(\"content\")\n",
    "        description = soup.find('meta', property=\"og:description\").get(\"content\")\n",
    "        article_body = soup.find('div', {'id': 'articleBody'}).get_text()\n",
    "    \n",
    "        return(headline, description, article_body)\n",
    "    \n",
    "    except (UnboundLocalError, KeyError, AttributeError, UnicodeDecodeError) as error:\n",
    "      print(error)\n",
    "      pass"
   ]
  },
  {
   "cell_type": "code",
   "execution_count": 52,
   "id": "2556d4b0-44b5-4c70-8e06-fb2c82781bd7",
   "metadata": {},
   "outputs": [
    {
     "data": {
      "text/plain": [
       "(242,)"
      ]
     },
     "execution_count": 52,
     "metadata": {},
     "output_type": "execute_result"
    }
   ],
   "source": [
    "links_ch = data[data.newspaper == name].url\n",
    "links_ch.shape"
   ]
  },
  {
   "cell_type": "code",
   "execution_count": 53,
   "id": "1ec6e3a0-7bbe-460f-8f1f-0291754a501a",
   "metadata": {},
   "outputs": [
    {
     "name": "stdout",
     "output_type": "stream",
     "text": [
      "'NoneType' object has no attribute 'get'\n",
      "'NoneType' object has no attribute 'get'\n",
      "'NoneType' object has no attribute 'get'\n",
      "'NoneType' object has no attribute 'get'\n",
      "'NoneType' object has no attribute 'get'\n",
      "CPU times: total: 3min 30s\n",
      "Wall time: 16min 13s\n"
     ]
    }
   ],
   "source": [
    "%%time\n",
    "headlines, descriptions, article_bodies, urls = parser(links_ch, ch_scraper)"
   ]
  },
  {
   "cell_type": "code",
   "execution_count": 54,
   "id": "9c589d3a-b652-43ee-af1a-56f490e2b175",
   "metadata": {},
   "outputs": [
    {
     "data": {
      "text/plain": [
       "(237, 4)"
      ]
     },
     "execution_count": 54,
     "metadata": {},
     "output_type": "execute_result"
    }
   ],
   "source": [
    "d = {'headline': headlines, 'description': descriptions, 'article_body': article_bodies, 'url' : urls}\n",
    "texts_ch = pd.DataFrame(data=d)\n",
    "texts_ch.shape"
   ]
  },
  {
   "cell_type": "code",
   "execution_count": 55,
   "id": "b390e0ae-e7e3-4b65-abb9-ce55fe3a0cf0",
   "metadata": {},
   "outputs": [],
   "source": [
    "save_texts(name, texts_ch)\n",
    "texts_all = pd.concat([texts_all, texts_ch])"
   ]
  },
  {
   "cell_type": "code",
   "execution_count": null,
   "id": "f9aa93ed-7072-4580-afef-d4c690465330",
   "metadata": {},
   "outputs": [],
   "source": []
  },
  {
   "cell_type": "markdown",
   "id": "96a90a59-d3f0-48e4-91a4-0da049af2757",
   "metadata": {},
   "source": [
    "## V1.ru"
   ]
  },
  {
   "cell_type": "code",
   "execution_count": 25,
   "id": "9fc8b2dd-27eb-45ab-9d5b-5343985105f0",
   "metadata": {},
   "outputs": [],
   "source": [
    "name = 'V1.ru'"
   ]
  },
  {
   "cell_type": "code",
   "execution_count": 26,
   "id": "5cc64ad3-7f20-4573-91a4-dae37c591796",
   "metadata": {},
   "outputs": [],
   "source": [
    "def v1_scraper(link):\n",
    "\n",
    "    params = {'url': link, 'apikey': apikey}\n",
    "    \n",
    "    try:\n",
    "        try:\n",
    "          r = requests.get('https://api.zenrows.com/v1/', params=params)\n",
    "        except requests.exceptions.RequestException as ex:\n",
    "          print(ex)\n",
    "    \n",
    "        soup = BeautifulSoup(r.content, \"html.parser\")\n",
    "    \n",
    "        headline = soup.find('title').get_text()\n",
    "        description = soup.find('meta', {'name' : 'description'}).get(\"content\")\n",
    "        article_body = ''\n",
    "    \n",
    "        blocks = soup.find_all('p')\n",
    "        for block in blocks:\n",
    "          article_body = article_body + block.get_text()\n",
    "    \n",
    "        return(headline, description, article_body)\n",
    "    \n",
    "    except (UnboundLocalError, KeyError, AttributeError, UnicodeDecodeError) as error:\n",
    "      print(error)\n",
    "      pass"
   ]
  },
  {
   "cell_type": "code",
   "execution_count": 27,
   "id": "1668d4cb-3d3d-4656-96b9-a7130a706781",
   "metadata": {},
   "outputs": [
    {
     "data": {
      "text/plain": [
       "(90,)"
      ]
     },
     "execution_count": 27,
     "metadata": {},
     "output_type": "execute_result"
    }
   ],
   "source": [
    "links_v1 = data[data.newspaper == name].url\n",
    "links_v1.shape"
   ]
  },
  {
   "cell_type": "code",
   "execution_count": 28,
   "id": "4174f893-8451-4fbc-82fa-00eb41a94ea2",
   "metadata": {},
   "outputs": [
    {
     "name": "stdout",
     "output_type": "stream",
     "text": [
      "CPU times: total: 1min 14s\n",
      "Wall time: 6min\n"
     ]
    }
   ],
   "source": [
    "%%time\n",
    "headlines, descriptions, article_bodies, urls = parser(links_v1, v1_scraper)"
   ]
  },
  {
   "cell_type": "code",
   "execution_count": 29,
   "id": "e1f5fe6f-fc33-448f-9caf-77ed81d302b4",
   "metadata": {},
   "outputs": [
    {
     "data": {
      "text/plain": [
       "(90, 4)"
      ]
     },
     "execution_count": 29,
     "metadata": {},
     "output_type": "execute_result"
    }
   ],
   "source": [
    "d = {'headline': headlines, 'description': descriptions, 'article_body': article_bodies, 'url' : urls}\n",
    "texts_v1 = pd.DataFrame(data=d)\n",
    "texts_v1.shape"
   ]
  },
  {
   "cell_type": "code",
   "execution_count": 30,
   "id": "41eaa92f-5904-4f07-a881-6c6a0e8944b6",
   "metadata": {},
   "outputs": [],
   "source": [
    "save_texts(name, texts_v1)\n",
    "texts_all = pd.concat([texts_all, texts_v1])"
   ]
  },
  {
   "cell_type": "code",
   "execution_count": null,
   "id": "dc038701-da5a-47c1-9f32-e58b7efe5925",
   "metadata": {},
   "outputs": [],
   "source": []
  },
  {
   "cell_type": "markdown",
   "id": "c75d6b76-2a68-4f6e-9549-f2d0230eccda",
   "metadata": {},
   "source": [
    "## Екатеринбург Он-лайн (e1.ru)"
   ]
  },
  {
   "cell_type": "code",
   "execution_count": 31,
   "id": "b7e9fce6-4feb-4484-b191-bb1629521f37",
   "metadata": {},
   "outputs": [],
   "source": [
    "name = 'Екатеринбург Он-лайн (e1.ru)'"
   ]
  },
  {
   "cell_type": "code",
   "execution_count": 32,
   "id": "a61242f7-cdf5-445f-b744-f7c41d0e316e",
   "metadata": {},
   "outputs": [],
   "source": [
    "def e1_scraper(link):\n",
    "\n",
    "    params = {'url': link, 'apikey': apikey}\n",
    "    \n",
    "    try:\n",
    "        try:\n",
    "          r = requests.get('https://api.zenrows.com/v1/', params=params)\n",
    "        except requests.exceptions.RequestException as ex:\n",
    "          print(ex)\n",
    "    \n",
    "        soup = BeautifulSoup(r.content, \"html.parser\")\n",
    "    \n",
    "        headline = soup.find('title').get_text()\n",
    "        description = soup.find('meta', {'name' : 'description'}).get(\"content\")\n",
    "        article_body = ''\n",
    "    \n",
    "        blocks = soup.find_all('p')\n",
    "        for block in blocks:\n",
    "          article_body = article_body + block.get_text()\n",
    "    \n",
    "        return(headline, description, article_body)\n",
    "    \n",
    "    except (UnboundLocalError, KeyError, AttributeError, UnicodeDecodeError) as error:\n",
    "      print(error)\n",
    "      pass"
   ]
  },
  {
   "cell_type": "code",
   "execution_count": 33,
   "id": "90aea65b-f6a5-4076-9701-caab42fc5f0d",
   "metadata": {},
   "outputs": [
    {
     "data": {
      "text/plain": [
       "(91,)"
      ]
     },
     "execution_count": 33,
     "metadata": {},
     "output_type": "execute_result"
    }
   ],
   "source": [
    "links_e1 = data[data.newspaper == name].url\n",
    "links_e1.shape"
   ]
  },
  {
   "cell_type": "code",
   "execution_count": 34,
   "id": "67b30c19-c8dd-439c-9c94-088f16e5824a",
   "metadata": {},
   "outputs": [
    {
     "name": "stdout",
     "output_type": "stream",
     "text": [
      "'NoneType' object has no attribute 'get_text'\n",
      "'NoneType' object has no attribute 'get_text'\n",
      "'NoneType' object has no attribute 'get_text'\n",
      "'NoneType' object has no attribute 'get_text'\n",
      "CPU times: total: 1min 21s\n",
      "Wall time: 5min 4s\n"
     ]
    }
   ],
   "source": [
    "%%time\n",
    "headlines, descriptions, article_bodies, urls = parser(links_e1, e1_scraper)"
   ]
  },
  {
   "cell_type": "code",
   "execution_count": 35,
   "id": "7b8adf05-a54e-41af-ab09-5eec29900fc6",
   "metadata": {},
   "outputs": [
    {
     "data": {
      "text/plain": [
       "(87, 4)"
      ]
     },
     "execution_count": 35,
     "metadata": {},
     "output_type": "execute_result"
    }
   ],
   "source": [
    "d = {'headline': headlines, 'description': descriptions, 'article_body': article_bodies, 'url' : urls}\n",
    "texts_e1 = pd.DataFrame(data=d)\n",
    "texts_e1.shape"
   ]
  },
  {
   "cell_type": "code",
   "execution_count": 36,
   "id": "ddac0a73-6b0e-46c8-b1bb-fe815592897a",
   "metadata": {},
   "outputs": [],
   "source": [
    "save_texts(name, texts_e1)\n",
    "texts_all = pd.concat([texts_all, texts_e1])"
   ]
  },
  {
   "cell_type": "code",
   "execution_count": null,
   "id": "6042782a-9fe0-44eb-a029-d23229664349",
   "metadata": {},
   "outputs": [],
   "source": []
  },
  {
   "cell_type": "markdown",
   "id": "d9676051-cec4-453e-bae2-0e0a5e187f0e",
   "metadata": {},
   "source": [
    "## 59.ru"
   ]
  },
  {
   "cell_type": "code",
   "execution_count": 62,
   "id": "b364c944-2d26-4d93-81e3-f3dffe9e3449",
   "metadata": {},
   "outputs": [],
   "source": [
    "name = '59.ru'"
   ]
  },
  {
   "cell_type": "code",
   "execution_count": 63,
   "id": "a79a6dbb-621a-4163-841f-dff28d5cfd4c",
   "metadata": {},
   "outputs": [],
   "source": [
    "def scraper_59(link):\n",
    "\n",
    "    params = {'url': link, 'apikey': apikey}\n",
    "    \n",
    "    try:\n",
    "        try:\n",
    "          r = requests.get('https://api.zenrows.com/v1/', params=params)\n",
    "        except requests.exceptions.RequestException as ex:\n",
    "          print(ex)\n",
    "    \n",
    "        soup = BeautifulSoup(r.content, \"html.parser\")\n",
    "    \n",
    "        headline = soup.find('title').get_text()\n",
    "        description = soup.find('meta', {'name' : 'description'}).get(\"content\")\n",
    "        article_body = soup.find('div', {'itemprop': 'articleBody'}).get_text()\n",
    "    \n",
    "        return(headline, description, article_body)\n",
    "    \n",
    "    except (UnboundLocalError, KeyError, AttributeError, UnicodeDecodeError) as error:\n",
    "      print(error)\n",
    "      pass"
   ]
  },
  {
   "cell_type": "code",
   "execution_count": 64,
   "id": "d1c839b5-e1bb-406b-a514-17a712f98e6a",
   "metadata": {},
   "outputs": [
    {
     "data": {
      "text/plain": [
       "(78,)"
      ]
     },
     "execution_count": 64,
     "metadata": {},
     "output_type": "execute_result"
    }
   ],
   "source": [
    "links_59 = data[data.newspaper == name].url\n",
    "links_59.shape"
   ]
  },
  {
   "cell_type": "code",
   "execution_count": 65,
   "id": "009335df-d7c8-41ba-8d4f-c0188d26f482",
   "metadata": {},
   "outputs": [
    {
     "name": "stdout",
     "output_type": "stream",
     "text": [
      "CPU times: total: 1min 5s\n",
      "Wall time: 6min\n"
     ]
    }
   ],
   "source": [
    "%%time\n",
    "headlines, descriptions, article_bodies, urls = parser(links_59, scraper_59)"
   ]
  },
  {
   "cell_type": "code",
   "execution_count": 66,
   "id": "33ca2452-c481-4d2d-bb42-d782afea43f7",
   "metadata": {},
   "outputs": [
    {
     "data": {
      "text/plain": [
       "(78, 4)"
      ]
     },
     "execution_count": 66,
     "metadata": {},
     "output_type": "execute_result"
    }
   ],
   "source": [
    "d = {'headline': headlines, 'description': descriptions, 'article_body': article_bodies, 'url' : urls}\n",
    "texts_59 = pd.DataFrame(data=d)\n",
    "texts_59.shape"
   ]
  },
  {
   "cell_type": "code",
   "execution_count": 67,
   "id": "3c3758a8-2ddc-4b28-b312-589934d506dd",
   "metadata": {},
   "outputs": [],
   "source": [
    "save_texts(name, texts_59)\n",
    "texts_all = pd.concat([texts_all, texts_59])"
   ]
  },
  {
   "cell_type": "code",
   "execution_count": null,
   "id": "b0ae7e88-2d0d-4f9d-b955-ee203bc93889",
   "metadata": {},
   "outputs": [],
   "source": []
  },
  {
   "cell_type": "markdown",
   "id": "18c47425-7c9f-499c-a328-13568371d3d7",
   "metadata": {},
   "source": [
    "## 72.ru"
   ]
  },
  {
   "cell_type": "code",
   "execution_count": 69,
   "id": "df244a95-9c65-4ec0-9f3c-58a4b57114a5",
   "metadata": {},
   "outputs": [],
   "source": [
    "name = '72.ru'"
   ]
  },
  {
   "cell_type": "code",
   "execution_count": 70,
   "id": "f577536b-bb22-4050-8ef4-50e88c1768f4",
   "metadata": {},
   "outputs": [],
   "source": [
    "def scraper_72(link):\n",
    "\n",
    "    params = {'url': link, 'apikey': apikey}\n",
    "    \n",
    "    try:\n",
    "        try:\n",
    "          r = requests.get('https://api.zenrows.com/v1/', params=params)\n",
    "        except requests.exceptions.RequestException as ex:\n",
    "          print(ex)\n",
    "    \n",
    "        soup = BeautifulSoup(r.content, \"html.parser\")\n",
    "    \n",
    "        headline = soup.find('title').get_text()\n",
    "        description = soup.find('meta', {'name' : 'description'}).get(\"content\")\n",
    "        article_body = ''\n",
    "    \n",
    "        blocks= soup.find_all('p')\n",
    "        for block in blocks:\n",
    "          article_body = article_body + block.get_text()\n",
    "    \n",
    "        return(headline, description, article_body)\n",
    "    \n",
    "    except (UnboundLocalError, KeyError, AttributeError, UnicodeDecodeError) as error:\n",
    "      print(error)\n",
    "      pass"
   ]
  },
  {
   "cell_type": "code",
   "execution_count": 71,
   "id": "9a5613a7-19b7-42e7-8894-74812bcb0c39",
   "metadata": {},
   "outputs": [
    {
     "data": {
      "text/plain": [
       "(61,)"
      ]
     },
     "execution_count": 71,
     "metadata": {},
     "output_type": "execute_result"
    }
   ],
   "source": [
    "links_72 = data[data.newspaper == name].url\n",
    "links_72.shape"
   ]
  },
  {
   "cell_type": "code",
   "execution_count": 72,
   "id": "37e476a7-0344-4027-b094-bc94b4dc373a",
   "metadata": {},
   "outputs": [
    {
     "name": "stdout",
     "output_type": "stream",
     "text": [
      "CPU times: total: 52.1 s\n",
      "Wall time: 3min 56s\n"
     ]
    }
   ],
   "source": [
    "%%time\n",
    "headlines, descriptions, article_bodies, urls = parser(links_72, scraper_72)"
   ]
  },
  {
   "cell_type": "code",
   "execution_count": 73,
   "id": "678fb567-dcc2-4567-8ed9-25892c64c6f1",
   "metadata": {},
   "outputs": [
    {
     "data": {
      "text/plain": [
       "(61, 4)"
      ]
     },
     "execution_count": 73,
     "metadata": {},
     "output_type": "execute_result"
    }
   ],
   "source": [
    "d = {'headline': headlines, 'description': descriptions, 'article_body': article_bodies, 'url' : urls}\n",
    "texts_72 = pd.DataFrame(data=d)\n",
    "texts_72.shape"
   ]
  },
  {
   "cell_type": "code",
   "execution_count": 74,
   "id": "b360ed80-6302-45c3-908d-4174b8098216",
   "metadata": {},
   "outputs": [],
   "source": [
    "save_texts(name, texts_72)\n",
    "texts_all = pd.concat([texts_all, texts_72])"
   ]
  },
  {
   "cell_type": "code",
   "execution_count": null,
   "id": "e197d0b9-784b-46b7-b0a6-ad380a4eebb3",
   "metadata": {},
   "outputs": [],
   "source": []
  },
  {
   "cell_type": "markdown",
   "id": "7ffe0460-d121-48e4-a9cf-290da7d8f9bc",
   "metadata": {},
   "source": [
    "## Финальный датасет"
   ]
  },
  {
   "cell_type": "code",
   "execution_count": 75,
   "id": "0a62d5e6-bef9-4625-95b7-e4a76c64b513",
   "metadata": {},
   "outputs": [
    {
     "data": {
      "text/html": [
       "<div>\n",
       "<style scoped>\n",
       "    .dataframe tbody tr th:only-of-type {\n",
       "        vertical-align: middle;\n",
       "    }\n",
       "\n",
       "    .dataframe tbody tr th {\n",
       "        vertical-align: top;\n",
       "    }\n",
       "\n",
       "    .dataframe thead th {\n",
       "        text-align: right;\n",
       "    }\n",
       "</style>\n",
       "<table border=\"1\" class=\"dataframe\">\n",
       "  <thead>\n",
       "    <tr style=\"text-align: right;\">\n",
       "      <th></th>\n",
       "      <th>headline</th>\n",
       "      <th>description</th>\n",
       "      <th>article_body</th>\n",
       "      <th>url</th>\n",
       "    </tr>\n",
       "  </thead>\n",
       "  <tbody>\n",
       "    <tr>\n",
       "      <th>0</th>\n",
       "      <td>В Норвегии мигрантов научат не насиловать женщин</td>\n",
       "      <td>Наплыв беженцев из Сирии и других стран Ближне...</td>\n",
       "      <td>\\n                                            ...</td>\n",
       "      <td>http://izvestia.ru/news/600956</td>\n",
       "    </tr>\n",
       "    <tr>\n",
       "      <th>1</th>\n",
       "      <td>Серийному маньяку из Севастополя предъявлено о...</td>\n",
       "      <td>Павла Бондаренко обвиняют в убийстве четырех ж...</td>\n",
       "      <td>\\n                                            ...</td>\n",
       "      <td>http://izvestia.ru/news/603261</td>\n",
       "    </tr>\n",
       "    <tr>\n",
       "      <th>2</th>\n",
       "      <td>На карнавале в Кельне сексуальным домогательст...</td>\n",
       "      <td>Из 22 случаев наиболее серьезными стали два, к...</td>\n",
       "      <td>\\n                                            ...</td>\n",
       "      <td>http://izvestia.ru/news/603491</td>\n",
       "    </tr>\n",
       "  </tbody>\n",
       "</table>\n",
       "</div>"
      ],
      "text/plain": [
       "                                            headline  \\\n",
       "0   В Норвегии мигрантов научат не насиловать женщин   \n",
       "1  Серийному маньяку из Севастополя предъявлено о...   \n",
       "2  На карнавале в Кельне сексуальным домогательст...   \n",
       "\n",
       "                                         description  \\\n",
       "0  Наплыв беженцев из Сирии и других стран Ближне...   \n",
       "1  Павла Бондаренко обвиняют в убийстве четырех ж...   \n",
       "2  Из 22 случаев наиболее серьезными стали два, к...   \n",
       "\n",
       "                                        article_body  \\\n",
       "0  \\n                                            ...   \n",
       "1  \\n                                            ...   \n",
       "2  \\n                                            ...   \n",
       "\n",
       "                              url  \n",
       "0  http://izvestia.ru/news/600956  \n",
       "1  http://izvestia.ru/news/603261  \n",
       "2  http://izvestia.ru/news/603491  "
      ]
     },
     "execution_count": 75,
     "metadata": {},
     "output_type": "execute_result"
    }
   ],
   "source": [
    "texts_all = texts_all.drop_duplicates()\n",
    "texts_all.head(3)"
   ]
  },
  {
   "cell_type": "code",
   "execution_count": 76,
   "id": "c1c5053c-500a-42a8-8173-1b78c1b1c428",
   "metadata": {},
   "outputs": [],
   "source": [
    "texts_all.to_excel('texts-parsed-api.xlsx')"
   ]
  },
  {
   "cell_type": "code",
   "execution_count": null,
   "id": "c006fc2a-0884-47c4-a453-1ba1c5f21a86",
   "metadata": {},
   "outputs": [],
   "source": []
  }
 ],
 "metadata": {
  "kernelspec": {
   "display_name": "Python 3 (ipykernel)",
   "language": "python",
   "name": "python3"
  },
  "language_info": {
   "codemirror_mode": {
    "name": "ipython",
    "version": 3
   },
   "file_extension": ".py",
   "mimetype": "text/x-python",
   "name": "python",
   "nbconvert_exporter": "python",
   "pygments_lexer": "ipython3",
   "version": "3.11.7"
  }
 },
 "nbformat": 4,
 "nbformat_minor": 5
}
