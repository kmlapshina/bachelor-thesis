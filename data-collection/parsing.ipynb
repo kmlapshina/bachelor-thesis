{
 "cells": [
  {
   "cell_type": "markdown",
   "id": "8f0466f0-a07e-4546-b004-78844dab2b9c",
   "metadata": {},
   "source": [
    "## Подготовка"
   ]
  },
  {
   "cell_type": "code",
   "execution_count": 1,
   "id": "c1fd0943-0e9d-4b3b-9d24-71f9be503a62",
   "metadata": {},
   "outputs": [],
   "source": [
    "#pip install xlsxwriter"
   ]
  },
  {
   "cell_type": "code",
   "execution_count": 2,
   "id": "0155ca5d-ae51-4f17-92f5-e285a1bb53a5",
   "metadata": {},
   "outputs": [],
   "source": [
    "import numpy as np\n",
    "import pandas as pd\n",
    "\n",
    "import json\n",
    "import requests\n",
    "from bs4 import BeautifulSoup\n",
    "import time"
   ]
  },
  {
   "cell_type": "code",
   "execution_count": 3,
   "id": "bf6938f7-454b-4676-b7b3-3f15f1555d71",
   "metadata": {},
   "outputs": [
    {
     "data": {
      "text/html": [
       "<div>\n",
       "<style scoped>\n",
       "    .dataframe tbody tr th:only-of-type {\n",
       "        vertical-align: middle;\n",
       "    }\n",
       "\n",
       "    .dataframe tbody tr th {\n",
       "        vertical-align: top;\n",
       "    }\n",
       "\n",
       "    .dataframe thead th {\n",
       "        text-align: right;\n",
       "    }\n",
       "</style>\n",
       "<table border=\"1\" class=\"dataframe\">\n",
       "  <thead>\n",
       "    <tr style=\"text-align: right;\">\n",
       "      <th></th>\n",
       "      <th>id</th>\n",
       "      <th>header</th>\n",
       "      <th>date</th>\n",
       "      <th>newspaper</th>\n",
       "      <th>city</th>\n",
       "      <th>md_index</th>\n",
       "      <th>url</th>\n",
       "    </tr>\n",
       "  </thead>\n",
       "  <tbody>\n",
       "    <tr>\n",
       "      <th>703</th>\n",
       "      <td>704</td>\n",
       "      <td>Женщины для утех по-прежнему нужны: Япония и К...</td>\n",
       "      <td>2016-01-03</td>\n",
       "      <td>ИА Regnum</td>\n",
       "      <td>Москва</td>\n",
       "      <td>2.312</td>\n",
       "      <td>http://regnum.ru/news/2048238.html</td>\n",
       "    </tr>\n",
       "    <tr>\n",
       "      <th>700</th>\n",
       "      <td>701</td>\n",
       "      <td>В Норвегии мигрантов научат не насиловать женщин</td>\n",
       "      <td>2016-01-04</td>\n",
       "      <td>Известия (iz.ru)</td>\n",
       "      <td>Москва</td>\n",
       "      <td>1.113</td>\n",
       "      <td>http://izvestia.ru/news/600956</td>\n",
       "    </tr>\n",
       "    <tr>\n",
       "      <th>693</th>\n",
       "      <td>694</td>\n",
       "      <td>Полиция Кельна опровергла сообщения о нападени...</td>\n",
       "      <td>2016-01-05</td>\n",
       "      <td>Российская газета (rg.ru)</td>\n",
       "      <td>Москва</td>\n",
       "      <td>1.266</td>\n",
       "      <td>http://www.rg.ru/2016/01/05/keln-site.html</td>\n",
       "    </tr>\n",
       "  </tbody>\n",
       "</table>\n",
       "</div>"
      ],
      "text/plain": [
       "      id                                             header       date  \\\n",
       "703  704  Женщины для утех по-прежнему нужны: Япония и К... 2016-01-03   \n",
       "700  701   В Норвегии мигрантов научат не насиловать женщин 2016-01-04   \n",
       "693  694  Полиция Кельна опровергла сообщения о нападени... 2016-01-05   \n",
       "\n",
       "                     newspaper    city  md_index  \\\n",
       "703                  ИА Regnum  Москва     2.312   \n",
       "700           Известия (iz.ru)  Москва     1.113   \n",
       "693  Российская газета (rg.ru)  Москва     1.266   \n",
       "\n",
       "                                            url  \n",
       "703          http://regnum.ru/news/2048238.html  \n",
       "700              http://izvestia.ru/news/600956  \n",
       "693  http://www.rg.ru/2016/01/05/keln-site.html  "
      ]
     },
     "execution_count": 3,
     "metadata": {},
     "output_type": "execute_result"
    }
   ],
   "source": [
    "names = ['id', 'header', 'date',\n",
    "         'newspaper', 'city', 'md_index', 'url']\n",
    "\n",
    "data = pd.read_excel('urls-for-parsing.xlsx',\n",
    "                     names = names)\n",
    "data.head(3)"
   ]
  },
  {
   "cell_type": "code",
   "execution_count": 4,
   "id": "b62e0b7c-0d63-4563-8c94-3267bcf4edaf",
   "metadata": {},
   "outputs": [],
   "source": [
    "def parser(links, scraper):\n",
    "\n",
    "    headlines = []\n",
    "    descriptions = []\n",
    "    article_bodies = []\n",
    "    urls = []\n",
    "\n",
    "    for link in links:\n",
    "      try:\n",
    "        h, d, a = scraper(link)\n",
    "        headlines.append(h)\n",
    "        descriptions.append(d)\n",
    "        article_bodies.append(a)\n",
    "        urls.append(link)\n",
    "\n",
    "      except TypeError:\n",
    "        pass\n",
    "          \n",
    "    return(headlines, descriptions, article_bodies, urls)"
   ]
  },
  {
   "cell_type": "code",
   "execution_count": 5,
   "id": "cc547c13-38e0-42b6-a1e4-8848523821e6",
   "metadata": {},
   "outputs": [],
   "source": [
    "def save_texts(name, texts):  \n",
    "    out_path = 'C:/Users/KseniaLapshina/thesis-data-collection/texts-files/' + name + '.xlsx'\n",
    "    writer = pd.ExcelWriter(out_path , engine='xlsxwriter')\n",
    "    texts.to_excel(writer)\n",
    "    writer.close()"
   ]
  },
  {
   "cell_type": "code",
   "execution_count": 6,
   "id": "cfa45321-124a-4e65-8699-b1dad19e3adc",
   "metadata": {},
   "outputs": [
    {
     "data": {
      "text/html": [
       "<div>\n",
       "<style scoped>\n",
       "    .dataframe tbody tr th:only-of-type {\n",
       "        vertical-align: middle;\n",
       "    }\n",
       "\n",
       "    .dataframe tbody tr th {\n",
       "        vertical-align: top;\n",
       "    }\n",
       "\n",
       "    .dataframe thead th {\n",
       "        text-align: right;\n",
       "    }\n",
       "</style>\n",
       "<table border=\"1\" class=\"dataframe\">\n",
       "  <thead>\n",
       "    <tr style=\"text-align: right;\">\n",
       "      <th></th>\n",
       "      <th>headline</th>\n",
       "      <th>description</th>\n",
       "      <th>article_body</th>\n",
       "      <th>url</th>\n",
       "    </tr>\n",
       "  </thead>\n",
       "  <tbody>\n",
       "  </tbody>\n",
       "</table>\n",
       "</div>"
      ],
      "text/plain": [
       "Empty DataFrame\n",
       "Columns: [headline, description, article_body, url]\n",
       "Index: []"
      ]
     },
     "execution_count": 6,
     "metadata": {},
     "output_type": "execute_result"
    }
   ],
   "source": [
    "cols = ['headline', 'description', 'article_body', 'url']\n",
    "texts_all = pd.DataFrame(columns = cols)\n",
    "texts_all"
   ]
  },
  {
   "cell_type": "code",
   "execution_count": null,
   "id": "f3496b61-aae7-4ca9-afaa-dbc438d69499",
   "metadata": {},
   "outputs": [],
   "source": []
  },
  {
   "cell_type": "markdown",
   "id": "653a63db-5de7-46f3-ad31-3f3ae41ef8f8",
   "metadata": {},
   "source": [
    "## Комсомольская правда (kp.ru)"
   ]
  },
  {
   "cell_type": "code",
   "execution_count": 7,
   "id": "8d0846e6-53ad-413a-a72d-0646c353b330",
   "metadata": {},
   "outputs": [],
   "source": [
    "name = 'Комсомольская правда (kp.ru)'"
   ]
  },
  {
   "cell_type": "code",
   "execution_count": 8,
   "id": "dc9e7b55-73fb-4785-9d0b-5163cc8c9cf0",
   "metadata": {},
   "outputs": [],
   "source": [
    "def kp_scraper(link):\n",
    "\n",
    "  try:\n",
    "    try:\n",
    "      r = requests.get(link, timeout=20)\n",
    "    except requests.exceptions.RequestException as ex:\n",
    "      print(ex)\n",
    "\n",
    "    soup = BeautifulSoup(r.content, \"html.parser\")\n",
    "    json_data = json.loads(soup.find(type=\"application/ld+json\").string)\n",
    "\n",
    "    headline = json_data['headline']\n",
    "    description = json_data['description']\n",
    "    article_body = json_data['articleBody']\n",
    "\n",
    "    return(headline, description, article_body)\n",
    "\n",
    "  except (UnboundLocalError, KeyError, AttributeError, UnicodeDecodeError) as error:\n",
    "    print(error)\n",
    "    pass"
   ]
  },
  {
   "cell_type": "code",
   "execution_count": 9,
   "id": "ff9c2999-5b9e-428c-a33e-b07193f2dac7",
   "metadata": {},
   "outputs": [
    {
     "data": {
      "text/plain": [
       "(1522,)"
      ]
     },
     "execution_count": 9,
     "metadata": {},
     "output_type": "execute_result"
    }
   ],
   "source": [
    "links_kp = data[data.newspaper == name].url\n",
    "links_kp.shape"
   ]
  },
  {
   "cell_type": "code",
   "execution_count": 10,
   "id": "dfee552f-a0e3-41f8-8a23-cbd62f27b33b",
   "metadata": {},
   "outputs": [
    {
     "name": "stdout",
     "output_type": "stream",
     "text": [
      "HTTPSConnectionPool(host='www.perm.kp.ru', port=443): Read timed out. (read timeout=20)\n",
      "cannot access local variable 'r' where it is not associated with a value\n",
      "HTTPSConnectionPool(host='www.vrn.kp.ru', port=443): Read timed out. (read timeout=20)\n",
      "cannot access local variable 'r' where it is not associated with a value\n",
      "'headline'\n",
      "HTTPSConnectionPool(host='www.bryansk.kp.ru', port=443): Read timed out. (read timeout=20)\n",
      "cannot access local variable 'r' where it is not associated with a value\n",
      "HTTPSConnectionPool(host='www.spb.kp.ru', port=443): Read timed out. (read timeout=20)\n",
      "cannot access local variable 'r' where it is not associated with a value\n",
      "'headline'\n",
      "'headline'\n",
      "HTTPSConnectionPool(host='www.penza.kp.ru', port=443): Read timed out.\n",
      "cannot access local variable 'r' where it is not associated with a value\n",
      "'headline'\n",
      "'headline'\n"
     ]
    },
    {
     "name": "stderr",
     "output_type": "stream",
     "text": [
      "Some characters could not be decoded, and were replaced with REPLACEMENT CHARACTER.\n"
     ]
    },
    {
     "name": "stdout",
     "output_type": "stream",
     "text": [
      "'headline'\n",
      "'articleBody'\n",
      "'headline'\n",
      "'articleBody'\n",
      "'articleBody'\n",
      "'articleBody'\n"
     ]
    },
    {
     "name": "stderr",
     "output_type": "stream",
     "text": [
      "Some characters could not be decoded, and were replaced with REPLACEMENT CHARACTER.\n"
     ]
    },
    {
     "name": "stdout",
     "output_type": "stream",
     "text": [
      "'articleBody'\n",
      "'articleBody'\n",
      "'articleBody'\n"
     ]
    },
    {
     "name": "stderr",
     "output_type": "stream",
     "text": [
      "Some characters could not be decoded, and were replaced with REPLACEMENT CHARACTER.\n"
     ]
    },
    {
     "name": "stdout",
     "output_type": "stream",
     "text": [
      "'headline'\n",
      "'articleBody'\n",
      "'articleBody'\n",
      "'articleBody'\n",
      "'articleBody'\n",
      "'articleBody'\n",
      "'articleBody'\n",
      "'headline'\n",
      "'articleBody'\n",
      "'articleBody'\n",
      "'articleBody'\n",
      "'articleBody'\n",
      "'articleBody'\n",
      "'articleBody'\n",
      "'articleBody'\n",
      "'articleBody'\n",
      "'articleBody'\n",
      "'articleBody'\n",
      "'articleBody'\n",
      "'articleBody'\n",
      "'articleBody'\n",
      "'articleBody'\n",
      "'articleBody'\n",
      "'articleBody'\n",
      "'articleBody'\n",
      "'articleBody'\n",
      "'articleBody'\n",
      "'headline'\n",
      "'articleBody'\n",
      "CPU times: total: 16min 26s\n",
      "Wall time: 32min 56s\n"
     ]
    }
   ],
   "source": [
    "%%time\n",
    "headlines, descriptions, article_bodies, urls = parser(links_kp, kp_scraper)"
   ]
  },
  {
   "cell_type": "code",
   "execution_count": 11,
   "id": "cf78f08b-f05c-48f4-aa1d-33b806dff9ac",
   "metadata": {},
   "outputs": [
    {
     "data": {
      "text/plain": [
       "(1474, 4)"
      ]
     },
     "execution_count": 11,
     "metadata": {},
     "output_type": "execute_result"
    }
   ],
   "source": [
    "d = {'headline': headlines, 'description': descriptions, 'article_body': article_bodies, 'url' : urls}\n",
    "texts_kp = pd.DataFrame(data=d)\n",
    "texts_kp.shape"
   ]
  },
  {
   "cell_type": "code",
   "execution_count": 12,
   "id": "ab886107-a9a9-4871-aaba-44841e19f661",
   "metadata": {},
   "outputs": [],
   "source": [
    "save_texts(name, texts_kp)\n",
    "texts_all = pd.concat([texts_all, texts_kp])"
   ]
  },
  {
   "cell_type": "code",
   "execution_count": null,
   "id": "b2fe908d-0de3-4534-b3a0-11548a7364cc",
   "metadata": {},
   "outputs": [],
   "source": []
  },
  {
   "cell_type": "markdown",
   "id": "d260803c-7494-4f64-b0ad-761355d03a22",
   "metadata": {},
   "source": [
    "## Газета.Ru"
   ]
  },
  {
   "cell_type": "code",
   "execution_count": 13,
   "id": "e0fdfba4-3435-4999-b09f-f5915a68059c",
   "metadata": {},
   "outputs": [],
   "source": [
    "name = 'Газета.Ru'"
   ]
  },
  {
   "cell_type": "code",
   "execution_count": 14,
   "id": "e979eb5e-ba20-472a-9765-4e5ca5d239eb",
   "metadata": {},
   "outputs": [],
   "source": [
    "def gzru_scraper(link):\n",
    "  try:\n",
    "    try:\n",
    "      r = requests.get(link, timeout = 20)\n",
    "    except requests.exceptions.RequestException as ex:\n",
    "        print(ex)\n",
    "\n",
    "    soup = BeautifulSoup(r.content.decode('utf-8'), \"html.parser\")\n",
    "\n",
    "    headline = soup.find('meta', property=\"og:title\").get(\"content\")\n",
    "    description = soup.find('meta', property=\"og:description\").get(\"content\")\n",
    "    article_body = soup.find('div', {\"class\": 'b_article-text'}).get_text()\n",
    "\n",
    "    return(headline, description, article_body)\n",
    "\n",
    "  except (UnboundLocalError, KeyError, AttributeError, UnicodeDecodeError) as error:\n",
    "    print(error)\n",
    "    pass"
   ]
  },
  {
   "cell_type": "code",
   "execution_count": 15,
   "id": "9ac0b384-5e52-44d3-8cfc-8a1218adf259",
   "metadata": {},
   "outputs": [
    {
     "data": {
      "text/plain": [
       "(1103,)"
      ]
     },
     "execution_count": 15,
     "metadata": {},
     "output_type": "execute_result"
    }
   ],
   "source": [
    "links_gzru = data[data.newspaper == name].url\n",
    "links_gzru.shape"
   ]
  },
  {
   "cell_type": "code",
   "execution_count": 16,
   "id": "390c5ea0-db27-4e7c-97c5-b503b44b405c",
   "metadata": {},
   "outputs": [
    {
     "name": "stdout",
     "output_type": "stream",
     "text": [
      "'NoneType' object has no attribute 'get_text'\n",
      "'NoneType' object has no attribute 'get_text'\n",
      "'NoneType' object has no attribute 'get_text'\n",
      "'NoneType' object has no attribute 'get_text'\n",
      "'NoneType' object has no attribute 'get_text'\n",
      "'NoneType' object has no attribute 'get_text'\n",
      "'NoneType' object has no attribute 'get_text'\n",
      "'NoneType' object has no attribute 'get_text'\n",
      "'NoneType' object has no attribute 'get_text'\n",
      "'NoneType' object has no attribute 'get_text'\n",
      "'NoneType' object has no attribute 'get_text'\n",
      "'NoneType' object has no attribute 'get_text'\n",
      "'NoneType' object has no attribute 'get_text'\n",
      "HTTPSConnectionPool(host='www.gazeta.ru', port=443): Read timed out. (read timeout=20)\n",
      "cannot access local variable 'r' where it is not associated with a value\n",
      "HTTPSConnectionPool(host='www.gazeta.ru', port=443): Read timed out. (read timeout=20)\n",
      "cannot access local variable 'r' where it is not associated with a value\n",
      "'utf-8' codec can't decode byte 0xe9 in position 1775: invalid continuation byte\n",
      "CPU times: total: 11min 48s\n",
      "Wall time: 35min 35s\n"
     ]
    }
   ],
   "source": [
    "%%time\n",
    "headlines, descriptions, article_bodies, urls = parser(links_gzru, gzru_scraper)"
   ]
  },
  {
   "cell_type": "code",
   "execution_count": 76,
   "id": "d198667e-59b7-409e-b609-d2ef16f79d49",
   "metadata": {},
   "outputs": [
    {
     "data": {
      "text/plain": [
       "(1087, 4)"
      ]
     },
     "execution_count": 76,
     "metadata": {},
     "output_type": "execute_result"
    }
   ],
   "source": [
    "d = {'headline': headlines, 'description': descriptions, 'article_body': article_bodies, 'url' : urls}\n",
    "texts_gzru = pd.DataFrame(data=d)\n",
    "texts_gzru.shape"
   ]
  },
  {
   "cell_type": "code",
   "execution_count": 84,
   "id": "2eeb323a-26a4-491c-a2b6-bbd575cfeb85",
   "metadata": {},
   "outputs": [],
   "source": [
    "texts_gzru = texts_gzru.drop(index=[89, 571])"
   ]
  },
  {
   "cell_type": "code",
   "execution_count": 86,
   "id": "a50402cd-7d55-4056-9dd9-60ae051effd9",
   "metadata": {},
   "outputs": [],
   "source": [
    "#save_texts(name, texts_gzru.article_body[90:572])"
   ]
  },
  {
   "cell_type": "code",
   "execution_count": 85,
   "id": "0a19d18b-698c-4ef9-9953-5bf8fa92e64d",
   "metadata": {},
   "outputs": [],
   "source": [
    "save_texts(name, texts_gzru)\n",
    "texts_all = pd.concat([texts_all, texts_gzru])"
   ]
  },
  {
   "cell_type": "code",
   "execution_count": null,
   "id": "054edb62-1642-4006-9d8e-ec6973f46ac3",
   "metadata": {},
   "outputs": [],
   "source": []
  },
  {
   "cell_type": "markdown",
   "id": "0a164d91-7c1d-40c0-aa42-2d08c8583aee",
   "metadata": {},
   "source": [
    "## Lenta.Ru"
   ]
  },
  {
   "cell_type": "code",
   "execution_count": 87,
   "id": "a20f0c37-5353-4c31-9371-c3d36b736b2a",
   "metadata": {},
   "outputs": [],
   "source": [
    "name = 'Lenta.Ru'"
   ]
  },
  {
   "cell_type": "code",
   "execution_count": 88,
   "id": "8bff5782-a0ce-4d44-a96d-3c6080da626f",
   "metadata": {},
   "outputs": [],
   "source": [
    "def len_scraper(link):\n",
    "\n",
    "    try:\n",
    "        try:\n",
    "          r = requests.get(link, timeout=20)\n",
    "        except requests.exceptions.RequestException as ex:\n",
    "          print(ex)\n",
    "\n",
    "        soup = BeautifulSoup(r.content, \"html.parser\")\n",
    "        json_data = json.loads(soup.find(type=\"application/ld+json\").string)\n",
    "\n",
    "        headline = json_data['headline']\n",
    "        description = json_data['description']\n",
    "        article_body = json_data['articleBody']\n",
    "\n",
    "        return(headline, description, article_body)\n",
    "\n",
    "    except (UnboundLocalError, KeyError, AttributeError, UnicodeDecodeError) as error:\n",
    "      print(error)\n",
    "      pass"
   ]
  },
  {
   "cell_type": "code",
   "execution_count": 89,
   "id": "bb453b92-fd3d-40fd-8b7b-8b0b05f1a20f",
   "metadata": {},
   "outputs": [
    {
     "data": {
      "text/plain": [
       "(1079,)"
      ]
     },
     "execution_count": 89,
     "metadata": {},
     "output_type": "execute_result"
    }
   ],
   "source": [
    "links_len = data[data.newspaper == name].url\n",
    "links_len.shape"
   ]
  },
  {
   "cell_type": "code",
   "execution_count": 90,
   "id": "b83359c4-f23b-4889-b508-ac5a27fb115e",
   "metadata": {},
   "outputs": [
    {
     "name": "stderr",
     "output_type": "stream",
     "text": [
      "Exception ignored in: <function ZipFile.__del__ at 0x000002873E98CA40>\n",
      "Traceback (most recent call last):\n",
      "  File \"C:\\Users\\KseniaLapshina\\anaconda3\\Lib\\zipfile.py\", line 1874, in __del__\n",
      "    self.close()\n",
      "  File \"C:\\Users\\KseniaLapshina\\anaconda3\\Lib\\zipfile.py\", line 1891, in close\n",
      "    self.fp.seek(self.start_dir)\n",
      "ValueError: seek of closed file\n",
      "Exception ignored in: <function ZipFile.__del__ at 0x000002873E98CA40>\n",
      "Traceback (most recent call last):\n",
      "  File \"C:\\Users\\KseniaLapshina\\anaconda3\\Lib\\zipfile.py\", line 1874, in __del__\n",
      "    self.close()\n",
      "  File \"C:\\Users\\KseniaLapshina\\anaconda3\\Lib\\zipfile.py\", line 1891, in close\n",
      "    self.fp.seek(self.start_dir)\n",
      "ValueError: seek of closed file\n",
      "Exception ignored in: <function ZipFile.__del__ at 0x000002873E98CA40>\n",
      "Traceback (most recent call last):\n",
      "  File \"C:\\Users\\KseniaLapshina\\anaconda3\\Lib\\zipfile.py\", line 1874, in __del__\n",
      "    self.close()\n",
      "  File \"C:\\Users\\KseniaLapshina\\anaconda3\\Lib\\zipfile.py\", line 1891, in close\n",
      "    self.fp.seek(self.start_dir)\n",
      "ValueError: seek of closed file\n",
      "Exception ignored in: <function ZipFile.__del__ at 0x000002873E98CA40>\n",
      "Traceback (most recent call last):\n",
      "  File \"C:\\Users\\KseniaLapshina\\anaconda3\\Lib\\zipfile.py\", line 1874, in __del__\n",
      "    self.close()\n",
      "  File \"C:\\Users\\KseniaLapshina\\anaconda3\\Lib\\zipfile.py\", line 1891, in close\n",
      "    self.fp.seek(self.start_dir)\n",
      "ValueError: seek of closed file\n",
      "Exception ignored in: <function ZipFile.__del__ at 0x000002873E98CA40>\n",
      "Traceback (most recent call last):\n",
      "  File \"C:\\Users\\KseniaLapshina\\anaconda3\\Lib\\zipfile.py\", line 1874, in __del__\n",
      "    self.close()\n",
      "  File \"C:\\Users\\KseniaLapshina\\anaconda3\\Lib\\zipfile.py\", line 1891, in close\n",
      "    self.fp.seek(self.start_dir)\n",
      "ValueError: seek of closed file\n",
      "Exception ignored in: <function ZipFile.__del__ at 0x000002873E98CA40>\n",
      "Traceback (most recent call last):\n",
      "  File \"C:\\Users\\KseniaLapshina\\anaconda3\\Lib\\zipfile.py\", line 1874, in __del__\n",
      "    self.close()\n",
      "  File \"C:\\Users\\KseniaLapshina\\anaconda3\\Lib\\zipfile.py\", line 1891, in close\n",
      "    self.fp.seek(self.start_dir)\n",
      "ValueError: seek of closed file\n"
     ]
    },
    {
     "name": "stdout",
     "output_type": "stream",
     "text": [
      "CPU times: total: 13min 7s\n",
      "Wall time: 20min 8s\n"
     ]
    }
   ],
   "source": [
    "%%time\n",
    "headlines, descriptions, article_bodies, urls = parser(links_len, len_scraper)"
   ]
  },
  {
   "cell_type": "code",
   "execution_count": 91,
   "id": "4130b411-ba1f-454e-8732-bbd6595928bd",
   "metadata": {},
   "outputs": [
    {
     "data": {
      "text/plain": [
       "(1079, 4)"
      ]
     },
     "execution_count": 91,
     "metadata": {},
     "output_type": "execute_result"
    }
   ],
   "source": [
    "d = {'headline': headlines, 'description': descriptions, 'article_body': article_bodies, 'url' : urls}\n",
    "texts_len = pd.DataFrame(data=d)\n",
    "texts_len.shape"
   ]
  },
  {
   "cell_type": "code",
   "execution_count": 92,
   "id": "661890e2-ae46-4c4e-96ac-dad41a81f740",
   "metadata": {},
   "outputs": [],
   "source": [
    "save_texts(name, texts_len)\n",
    "texts_all = pd.concat([texts_all, texts_len])"
   ]
  },
  {
   "cell_type": "code",
   "execution_count": null,
   "id": "31c719fc-e7eb-4cf1-8c75-4a797f96e4b2",
   "metadata": {},
   "outputs": [],
   "source": []
  },
  {
   "cell_type": "markdown",
   "id": "b92af183-35d7-4159-9842-02ac0d2dda5b",
   "metadata": {},
   "source": [
    "## ИА Regnum"
   ]
  },
  {
   "cell_type": "code",
   "execution_count": 93,
   "id": "0402779f-3519-4c16-8dcf-299952b87220",
   "metadata": {},
   "outputs": [],
   "source": [
    "name = 'ИА Regnum'"
   ]
  },
  {
   "cell_type": "code",
   "execution_count": 94,
   "id": "6631b3c1-b643-40f0-8d44-9d4fa6d9b4ed",
   "metadata": {},
   "outputs": [],
   "source": [
    "def rg_scraper(link):\n",
    "    try:\n",
    "        try:\n",
    "          r = requests.get(link, timeout=20)\n",
    "        except requests.exceptions.RequestException as ex:\n",
    "          print(ex)\n",
    "\n",
    "        soup = BeautifulSoup(r.content, \"html.parser\")\n",
    "\n",
    "        headline = soup.find('meta', property=\"og:title\").get(\"content\")\n",
    "        description = soup.find('meta', property=\"og:description\").get(\"content\")\n",
    "        article_body = ''\n",
    "\n",
    "        blocks = soup.find_all('p')\n",
    "        for block in blocks:\n",
    "          article_body = article_body + block.get_text()\n",
    "\n",
    "        return(headline, description, article_body)\n",
    "\n",
    "    except (UnboundLocalError, KeyError, AttributeError, UnicodeDecodeError) as error:\n",
    "      print(error)\n",
    "      pass"
   ]
  },
  {
   "cell_type": "code",
   "execution_count": 95,
   "id": "5033c06f-e312-4fef-adc4-35d512aa9c1f",
   "metadata": {},
   "outputs": [
    {
     "data": {
      "text/plain": [
       "(868,)"
      ]
     },
     "execution_count": 95,
     "metadata": {},
     "output_type": "execute_result"
    }
   ],
   "source": [
    "links_rg = data[data.newspaper == name].url\n",
    "links_rg.shape"
   ]
  },
  {
   "cell_type": "code",
   "execution_count": 96,
   "id": "88e70552-57b7-4223-8ddf-af3a3f1952d1",
   "metadata": {},
   "outputs": [
    {
     "name": "stdout",
     "output_type": "stream",
     "text": [
      "'NoneType' object has no attribute 'get'\n",
      "'NoneType' object has no attribute 'get'\n",
      "'NoneType' object has no attribute 'get'\n",
      "'NoneType' object has no attribute 'get'\n",
      "CPU times: total: 10min 5s\n",
      "Wall time: 14min 25s\n"
     ]
    }
   ],
   "source": [
    "%%time\n",
    "headlines, descriptions, article_bodies, urls = parser(links_rg, rg_scraper)"
   ]
  },
  {
   "cell_type": "code",
   "execution_count": 97,
   "id": "c5711c5d-010f-42e1-9384-7c475333cd0d",
   "metadata": {},
   "outputs": [
    {
     "data": {
      "text/plain": [
       "(864, 4)"
      ]
     },
     "execution_count": 97,
     "metadata": {},
     "output_type": "execute_result"
    }
   ],
   "source": [
    "d = {'headline': headlines, 'description': descriptions, 'article_body': article_bodies, 'url' : urls}\n",
    "texts_rg = pd.DataFrame(data=d)\n",
    "texts_rg.shape"
   ]
  },
  {
   "cell_type": "code",
   "execution_count": 98,
   "id": "71a5532b-2f44-48df-b63d-ac653f10f6e9",
   "metadata": {},
   "outputs": [],
   "source": [
    "save_texts(name, texts_rg)\n",
    "texts_all = pd.concat([texts_all, texts_rg])"
   ]
  },
  {
   "cell_type": "code",
   "execution_count": null,
   "id": "9247f75d-c2e7-4996-8872-914cc0277338",
   "metadata": {},
   "outputs": [],
   "source": []
  },
  {
   "cell_type": "markdown",
   "id": "9a729265-a94a-4a1c-8268-f15bffc0b7ab",
   "metadata": {},
   "source": [
    "## Life.ru"
   ]
  },
  {
   "cell_type": "code",
   "execution_count": 99,
   "id": "bf4ef634-2072-40b5-afcc-5aaf243663c1",
   "metadata": {},
   "outputs": [],
   "source": [
    "name = 'Life.ru'"
   ]
  },
  {
   "cell_type": "code",
   "execution_count": 100,
   "id": "253f7bae-0769-4fd4-a2ad-7c302783d226",
   "metadata": {},
   "outputs": [],
   "source": [
    "def lf_scraper(link):\n",
    "\n",
    "    try:\n",
    "      try:\n",
    "        r = requests.get(link, timeout=20)\n",
    "      except requests.exceptions.RequestException as ex:\n",
    "          print(ex)\n",
    "\n",
    "      soup = BeautifulSoup(r.content.decode('utf-8'), \"html.parser\")\n",
    "\n",
    "      headline = soup.find('meta', property=\"og:title\").get(\"content\")\n",
    "      description = soup.find('meta', property=\"og:description\").get(\"content\")\n",
    "      article_body = ''\n",
    "\n",
    "      blocks = soup.find_all('p')\n",
    "      for block in blocks:\n",
    "        article_body = article_body + block.get_text()\n",
    "\n",
    "      return(headline, description, article_body)\n",
    "\n",
    "    except (UnboundLocalError, KeyError, AttributeError, UnicodeDecodeError) as error:\n",
    "      print(error)\n",
    "      pass"
   ]
  },
  {
   "cell_type": "code",
   "execution_count": 101,
   "id": "a1d6be0e-c212-450b-a0b3-4a3e3a1fac46",
   "metadata": {},
   "outputs": [
    {
     "data": {
      "text/plain": [
       "(710,)"
      ]
     },
     "execution_count": 101,
     "metadata": {},
     "output_type": "execute_result"
    }
   ],
   "source": [
    "links_lf = data[data.newspaper == name].url\n",
    "links_lf.shape"
   ]
  },
  {
   "cell_type": "code",
   "execution_count": 102,
   "id": "d89af08f-1a0d-43a3-aac5-5ff665d4f767",
   "metadata": {},
   "outputs": [
    {
     "name": "stdout",
     "output_type": "stream",
     "text": [
      "'NoneType' object has no attribute 'get'\n",
      "'NoneType' object has no attribute 'get'\n",
      "'NoneType' object has no attribute 'get'\n",
      "'NoneType' object has no attribute 'get'\n",
      "'NoneType' object has no attribute 'get'\n",
      "'NoneType' object has no attribute 'get'\n",
      "'NoneType' object has no attribute 'get'\n",
      "'NoneType' object has no attribute 'get'\n",
      "'NoneType' object has no attribute 'get'\n",
      "'NoneType' object has no attribute 'get'\n",
      "'NoneType' object has no attribute 'get'\n",
      "'NoneType' object has no attribute 'get'\n",
      "'NoneType' object has no attribute 'get'\n",
      "'NoneType' object has no attribute 'get'\n",
      "'NoneType' object has no attribute 'get'\n",
      "'NoneType' object has no attribute 'get'\n",
      "'NoneType' object has no attribute 'get'\n",
      "'NoneType' object has no attribute 'get'\n",
      "'NoneType' object has no attribute 'get'\n",
      "CPU times: total: 8min 37s\n",
      "Wall time: 22min 59s\n"
     ]
    }
   ],
   "source": [
    "%%time\n",
    "headlines, descriptions, article_bodies, urls = parser(links_lf, lf_scraper)"
   ]
  },
  {
   "cell_type": "code",
   "execution_count": 103,
   "id": "d739ae43-567c-4a9a-8e48-65ff78d8b98b",
   "metadata": {},
   "outputs": [
    {
     "data": {
      "text/plain": [
       "(691, 4)"
      ]
     },
     "execution_count": 103,
     "metadata": {},
     "output_type": "execute_result"
    }
   ],
   "source": [
    "d = {'headline': headlines, 'description': descriptions, 'article_body': article_bodies, 'url' : urls}\n",
    "texts_lf = pd.DataFrame(data=d)\n",
    "texts_lf.shape"
   ]
  },
  {
   "cell_type": "code",
   "execution_count": 104,
   "id": "36fd30e9-fe11-47a1-bf7a-4be5b548eb51",
   "metadata": {},
   "outputs": [],
   "source": [
    "save_texts(name, texts_lf)\n",
    "texts_all = pd.concat([texts_all, texts_lf])"
   ]
  },
  {
   "cell_type": "code",
   "execution_count": null,
   "id": "7ed44985-0873-49b6-a972-437d23bfb9fd",
   "metadata": {},
   "outputs": [],
   "source": []
  },
  {
   "cell_type": "markdown",
   "id": "514c03e5-2252-455c-9656-b105e41e16ef",
   "metadata": {},
   "source": [
    "## Московский Комсомолец (mk.ru)"
   ]
  },
  {
   "cell_type": "code",
   "execution_count": 105,
   "id": "cd9d5dc4-a2c8-4a03-8652-cbd87558d3c0",
   "metadata": {},
   "outputs": [],
   "source": [
    "name = 'Московский Комсомолец (mk.ru)'"
   ]
  },
  {
   "cell_type": "code",
   "execution_count": 106,
   "id": "8faa9571-f444-448b-8541-6b6db532bb38",
   "metadata": {},
   "outputs": [],
   "source": [
    "def mk_scraper(link):\n",
    "\n",
    "    try:\n",
    "        try:\n",
    "          r = requests.get(link, timeout=20)\n",
    "        except requests.exceptions.RequestException as ex:\n",
    "          print(ex)\n",
    "\n",
    "        soup = BeautifulSoup(r.content, \"html.parser\")\n",
    "\n",
    "        headline = soup.find('meta', property=\"og:title\").get(\"content\")\n",
    "        description = soup.find('meta', property=\"og:description\").get(\"content\")\n",
    "        article_body = soup.find('div', {\"class\": 'article__body'}).get_text()\n",
    "\n",
    "        return(headline, description, article_body)\n",
    "\n",
    "    except (UnboundLocalError, KeyError, AttributeError, UnicodeDecodeError) as error:\n",
    "      print(error)\n",
    "      pass"
   ]
  },
  {
   "cell_type": "code",
   "execution_count": 107,
   "id": "375aa34a-43b4-40e4-9602-afc1795b3ba1",
   "metadata": {},
   "outputs": [
    {
     "data": {
      "text/plain": [
       "(710,)"
      ]
     },
     "execution_count": 107,
     "metadata": {},
     "output_type": "execute_result"
    }
   ],
   "source": [
    "links_mk = data[data.newspaper == name].url\n",
    "links_mk.shape"
   ]
  },
  {
   "cell_type": "code",
   "execution_count": 108,
   "id": "4d6c4ee2-5ca1-4d75-8e76-36b19cd65a0b",
   "metadata": {},
   "outputs": [
    {
     "name": "stdout",
     "output_type": "stream",
     "text": [
      "'NoneType' object has no attribute 'get_text'\n",
      "CPU times: total: 13min 55s\n",
      "Wall time: 17min 7s\n"
     ]
    }
   ],
   "source": [
    "%%time\n",
    "headlines, descriptions, article_bodies, urls = parser(links_mk, mk_scraper)"
   ]
  },
  {
   "cell_type": "code",
   "execution_count": 109,
   "id": "64bdd99b-5e4f-4bd3-aee6-43675954516c",
   "metadata": {},
   "outputs": [
    {
     "data": {
      "text/plain": [
       "(709, 4)"
      ]
     },
     "execution_count": 109,
     "metadata": {},
     "output_type": "execute_result"
    }
   ],
   "source": [
    "d = {'headline': headlines, 'description': descriptions, 'article_body': article_bodies, 'url' : urls}\n",
    "texts_mk = pd.DataFrame(data=d)\n",
    "texts_mk.shape"
   ]
  },
  {
   "cell_type": "code",
   "execution_count": 110,
   "id": "7387dbd4-a9d6-48ac-8083-b8af837c72b7",
   "metadata": {},
   "outputs": [],
   "source": [
    "save_texts(name, texts_mk)\n",
    "texts_all = pd.concat([texts_all, texts_mk])"
   ]
  },
  {
   "cell_type": "code",
   "execution_count": null,
   "id": "765f8aa9-27e5-4f10-843f-c0a361ff7bd5",
   "metadata": {},
   "outputs": [],
   "source": []
  },
  {
   "cell_type": "markdown",
   "id": "cf9ec84c-f871-4787-9498-aa866dd00b95",
   "metadata": {},
   "source": [
    "## ТАСС|"
   ]
  },
  {
   "cell_type": "code",
   "execution_count": 111,
   "id": "cce3552a-5fb8-4fe6-971c-95be7ad798aa",
   "metadata": {},
   "outputs": [],
   "source": [
    "name = 'ТАСС'"
   ]
  },
  {
   "cell_type": "code",
   "execution_count": 112,
   "id": "a15d3df9-a9c6-4727-8ec5-0e0df4a61845",
   "metadata": {},
   "outputs": [],
   "source": [
    "def ta_scraper(link):\n",
    "\n",
    "    try:\n",
    "        try:\n",
    "          r = requests.get(link, timeout=20)\n",
    "        except requests.exceptions.RequestException as ex:\n",
    "          print(ex)\n",
    "\n",
    "        soup = BeautifulSoup(r.content, \"html.parser\")\n",
    "\n",
    "        headline = soup.find('meta', property=\"og:title\").get(\"content\")\n",
    "        description = soup.find('meta', property=\"og:description\").get(\"content\")\n",
    "        article_body = ''\n",
    "\n",
    "        blocks = soup.find_all('p')\n",
    "        for block in blocks:\n",
    "          article_body = article_body + block.get_text()\n",
    "\n",
    "        return(headline, description, article_body)\n",
    "\n",
    "    except (UnboundLocalError, KeyError, AttributeError, UnicodeDecodeError) as error:\n",
    "      print(error)\n",
    "      pass"
   ]
  },
  {
   "cell_type": "code",
   "execution_count": 113,
   "id": "c5c471d5-28df-4ba7-8a7a-cdd2abbe36ee",
   "metadata": {},
   "outputs": [
    {
     "data": {
      "text/plain": [
       "(646,)"
      ]
     },
     "execution_count": 113,
     "metadata": {},
     "output_type": "execute_result"
    }
   ],
   "source": [
    "links_ta = data[data.newspaper == name].url\n",
    "links_ta.shape"
   ]
  },
  {
   "cell_type": "code",
   "execution_count": 114,
   "id": "da55ed14-9401-483f-a790-bb28f4114fcf",
   "metadata": {},
   "outputs": [
    {
     "name": "stdout",
     "output_type": "stream",
     "text": [
      "CPU times: total: 7min 40s\n",
      "Wall time: 12min 59s\n"
     ]
    }
   ],
   "source": [
    "%%time\n",
    "headlines, descriptions, article_bodies, urls = parser(links_ta, ta_scraper)"
   ]
  },
  {
   "cell_type": "code",
   "execution_count": 115,
   "id": "072165d8-5d55-4d8e-a5ba-2f798d8def15",
   "metadata": {},
   "outputs": [
    {
     "data": {
      "text/plain": [
       "(646, 4)"
      ]
     },
     "execution_count": 115,
     "metadata": {},
     "output_type": "execute_result"
    }
   ],
   "source": [
    "d = {'headline': headlines, 'description': descriptions, 'article_body': article_bodies, 'url' : urls}\n",
    "texts_ta = pd.DataFrame(data=d)\n",
    "texts_ta.shape"
   ]
  },
  {
   "cell_type": "code",
   "execution_count": 116,
   "id": "68c2e309-5527-484d-8388-1812bbcb53ec",
   "metadata": {},
   "outputs": [],
   "source": [
    "save_texts(name, texts_ta)\n",
    "texts_all = pd.concat([texts_all, texts_ta])"
   ]
  },
  {
   "cell_type": "code",
   "execution_count": null,
   "id": "3ff06d91-482b-4f41-9349-f1756a116f48",
   "metadata": {},
   "outputs": [],
   "source": []
  },
  {
   "cell_type": "markdown",
   "id": "a0ed604b-1361-4a66-ba1b-15093e39ef02",
   "metadata": {},
   "source": [
    "## РИА Новости"
   ]
  },
  {
   "cell_type": "code",
   "execution_count": 117,
   "id": "7d149132-27ce-4b29-907f-04886b63ab76",
   "metadata": {},
   "outputs": [],
   "source": [
    "name = 'РИА Новости'"
   ]
  },
  {
   "cell_type": "code",
   "execution_count": 118,
   "id": "be80de9a-14be-4345-bcc0-b9f9778912aa",
   "metadata": {},
   "outputs": [],
   "source": [
    "def ria_scraper(link):\n",
    "\n",
    "    try:\n",
    "      try:\n",
    "        r = requests.get(link, timeout=20)\n",
    "      except requests.exceptions.RequestException as ex:\n",
    "          print(ex)\n",
    "\n",
    "      soup = BeautifulSoup(r.content.decode('utf-8'), \"html.parser\")\n",
    "\n",
    "      headline = soup.find('meta', property=\"og:title\").get(\"content\")\n",
    "      description = soup.find('meta', property=\"og:description\").get(\"content\")\n",
    "      article_body = soup.find('div', {\"class\": 'article__text'}).get_text()\n",
    "\n",
    "      return(headline, description, article_body)\n",
    "\n",
    "    except (UnboundLocalError, KeyError, AttributeError, UnicodeDecodeError) as error:\n",
    "      print(error)\n",
    "      pass"
   ]
  },
  {
   "cell_type": "code",
   "execution_count": 119,
   "id": "bd8812eb-b244-42ab-8baf-33ec81352e3f",
   "metadata": {},
   "outputs": [
    {
     "data": {
      "text/plain": [
       "(640,)"
      ]
     },
     "execution_count": 119,
     "metadata": {},
     "output_type": "execute_result"
    }
   ],
   "source": [
    "links_ria = data[data.newspaper == name].url\n",
    "links_ria.shape"
   ]
  },
  {
   "cell_type": "code",
   "execution_count": 120,
   "id": "97827c95-8020-4e24-b1a5-adef7f4fbb8c",
   "metadata": {},
   "outputs": [
    {
     "name": "stdout",
     "output_type": "stream",
     "text": [
      "'NoneType' object has no attribute 'get_text'\n",
      "CPU times: total: 7min 50s\n",
      "Wall time: 15min 45s\n"
     ]
    }
   ],
   "source": [
    "%%time\n",
    "headlines, descriptions, article_bodies, urls = parser(links_ria, ria_scraper)"
   ]
  },
  {
   "cell_type": "code",
   "execution_count": 121,
   "id": "032407b1-69c3-4205-bdef-1142ddcf480b",
   "metadata": {},
   "outputs": [
    {
     "data": {
      "text/plain": [
       "(639, 4)"
      ]
     },
     "execution_count": 121,
     "metadata": {},
     "output_type": "execute_result"
    }
   ],
   "source": [
    "d = {'headline': headlines, 'description': descriptions, 'article_body': article_bodies, 'url' : urls}\n",
    "texts_ria = pd.DataFrame(data=d)\n",
    "texts_ria.shape"
   ]
  },
  {
   "cell_type": "code",
   "execution_count": 122,
   "id": "3a1411c6-89bf-4f51-9af6-bfb18be2ffe2",
   "metadata": {},
   "outputs": [],
   "source": [
    "save_texts(name, texts_ria)\n",
    "texts_all = pd.concat([texts_all, texts_ria])"
   ]
  },
  {
   "cell_type": "code",
   "execution_count": null,
   "id": "dceec60d-9286-43f0-b567-553127e900ea",
   "metadata": {},
   "outputs": [],
   "source": []
  },
  {
   "cell_type": "markdown",
   "id": "8b738c22-fa4b-4e9c-a49a-f3930920b149",
   "metadata": {},
   "source": [
    "## ИА Росбалт"
   ]
  },
  {
   "cell_type": "code",
   "execution_count": 123,
   "id": "20378828-49af-479d-98d0-a117f1d8eca5",
   "metadata": {},
   "outputs": [],
   "source": [
    "name = 'ИА Росбалт'"
   ]
  },
  {
   "cell_type": "code",
   "execution_count": 124,
   "id": "25a2bcee-755b-44b5-b97c-7ca80c8d600a",
   "metadata": {},
   "outputs": [],
   "source": [
    "def rb_scraper(link):\n",
    "\n",
    "    try:\n",
    "        try:\n",
    "          r = requests.get(link, timeout=20)\n",
    "        except requests.exceptions.RequestException as ex:\n",
    "          print(ex)\n",
    "\n",
    "        soup = BeautifulSoup(r.content, \"html.parser\")\n",
    "\n",
    "        headline = soup.find('meta', property=\"og:title\").get(\"content\")\n",
    "        description = soup.find('meta', property=\"og:description\").get(\"content\")\n",
    "        blocks = soup.find_all('div', {\"class\": 'Common_common__MfItd'})\n",
    "        article_body = ''\n",
    "        for block in blocks:\n",
    "          article_body = article_body + block.get_text()\n",
    "\n",
    "        return(headline, description, article_body)\n",
    "\n",
    "    except (UnboundLocalError, KeyError, AttributeError, UnicodeDecodeError) as error:\n",
    "      print(error)\n",
    "      pass"
   ]
  },
  {
   "cell_type": "code",
   "execution_count": 125,
   "id": "5784d46c-0310-4c68-af7f-c1c439b1c076",
   "metadata": {},
   "outputs": [
    {
     "data": {
      "text/plain": [
       "(518,)"
      ]
     },
     "execution_count": 125,
     "metadata": {},
     "output_type": "execute_result"
    }
   ],
   "source": [
    "links_rb = data[data.newspaper == name].url\n",
    "links_rb.shape"
   ]
  },
  {
   "cell_type": "code",
   "execution_count": 126,
   "id": "cbd7d289-de32-4ca7-a868-ba4100c9576e",
   "metadata": {},
   "outputs": [
    {
     "name": "stdout",
     "output_type": "stream",
     "text": [
      "CPU times: total: 5min 36s\n",
      "Wall time: 9min 42s\n"
     ]
    }
   ],
   "source": [
    "%%time\n",
    "headlines, descriptions, article_bodies, urls = parser(links_rb, rb_scraper)"
   ]
  },
  {
   "cell_type": "code",
   "execution_count": 127,
   "id": "046f88c8-b569-40bb-a90d-38046dbf6d2e",
   "metadata": {},
   "outputs": [
    {
     "data": {
      "text/plain": [
       "(518, 4)"
      ]
     },
     "execution_count": 127,
     "metadata": {},
     "output_type": "execute_result"
    }
   ],
   "source": [
    "d = {'headline': headlines, 'description': descriptions, 'article_body': article_bodies, 'url' : urls}\n",
    "texts_rb = pd.DataFrame(data=d)\n",
    "texts_rb.shape"
   ]
  },
  {
   "cell_type": "code",
   "execution_count": 128,
   "id": "9613938d-72cd-4f82-a7f1-f01359daa5fa",
   "metadata": {},
   "outputs": [],
   "source": [
    "save_texts(name, texts_rb)\n",
    "texts_all = pd.concat([texts_all, texts_rb])"
   ]
  },
  {
   "cell_type": "code",
   "execution_count": null,
   "id": "77a3a54c-cc12-455c-82ed-956f3fd99f9e",
   "metadata": {},
   "outputs": [],
   "source": []
  },
  {
   "cell_type": "markdown",
   "id": "09f83cd5-9e5e-4bab-9e2d-e4ef7805896f",
   "metadata": {},
   "source": [
    "## VSE42 (vse42.ru)"
   ]
  },
  {
   "cell_type": "code",
   "execution_count": 129,
   "id": "c1dad8e2-777b-41b3-b7ee-2cb44d529834",
   "metadata": {},
   "outputs": [],
   "source": [
    "name = 'VSE42 (vse42.ru)'"
   ]
  },
  {
   "cell_type": "code",
   "execution_count": 130,
   "id": "9e870d16-b140-43f1-a71c-63c6d5787a44",
   "metadata": {},
   "outputs": [],
   "source": [
    "def vs_scraper(link):\n",
    "\n",
    "    try:\n",
    "        try:\n",
    "          r = requests.get(link, timeout=20)\n",
    "        except requests.exceptions.RequestException as ex:\n",
    "          print(ex)\n",
    "\n",
    "        soup = BeautifulSoup(r.content, \"html.parser\")\n",
    "\n",
    "        headline = soup.find('meta', property=\"og:title\").get(\"content\")\n",
    "        description = soup.find('meta', property=\"og:description\").get(\"content\")\n",
    "\n",
    "        article_body = ''\n",
    "        blocks = soup.find_all('div', {'class': \"paragraph-block__text\"})\n",
    "        for block in blocks:\n",
    "          article_body = article_body + block.get_text()\n",
    "\n",
    "        return(headline, description, article_body)\n",
    "\n",
    "    except (UnboundLocalError, KeyError, AttributeError, UnicodeDecodeError) as error:\n",
    "      print(error)\n",
    "      pass"
   ]
  },
  {
   "cell_type": "code",
   "execution_count": 131,
   "id": "adbcc0cb-65d2-494e-a4a3-314ea33c4bfe",
   "metadata": {},
   "outputs": [
    {
     "data": {
      "text/plain": [
       "(462,)"
      ]
     },
     "execution_count": 131,
     "metadata": {},
     "output_type": "execute_result"
    }
   ],
   "source": [
    "links_vs = data[data.newspaper == name].url\n",
    "links_vs.shape"
   ]
  },
  {
   "cell_type": "code",
   "execution_count": 132,
   "id": "0f02664c-301d-4b35-a6d3-15a2cdffc31a",
   "metadata": {},
   "outputs": [
    {
     "name": "stdout",
     "output_type": "stream",
     "text": [
      "CPU times: total: 6min 59s\n",
      "Wall time: 9min 29s\n"
     ]
    }
   ],
   "source": [
    "%%time\n",
    "headlines, descriptions, article_bodies, urls = parser(links_vs, vs_scraper)"
   ]
  },
  {
   "cell_type": "code",
   "execution_count": 133,
   "id": "54d26f9a-a332-4b07-b657-2c5e64ba4750",
   "metadata": {},
   "outputs": [
    {
     "data": {
      "text/plain": [
       "(462, 4)"
      ]
     },
     "execution_count": 133,
     "metadata": {},
     "output_type": "execute_result"
    }
   ],
   "source": [
    "d = {'headline': headlines, 'description': descriptions, 'article_body': article_bodies, 'url' : urls}\n",
    "texts_vs = pd.DataFrame(data=d)\n",
    "texts_vs.shape"
   ]
  },
  {
   "cell_type": "code",
   "execution_count": 134,
   "id": "4ce54da0-4ab6-4677-afe7-dad180f11c36",
   "metadata": {},
   "outputs": [],
   "source": [
    "save_texts(name, texts_vs)\n",
    "texts_all = pd.concat([texts_all, texts_vs])"
   ]
  },
  {
   "cell_type": "code",
   "execution_count": null,
   "id": "53b93f38-7f78-4f47-b3fb-690c9d6268c7",
   "metadata": {},
   "outputs": [],
   "source": []
  },
  {
   "cell_type": "markdown",
   "id": "22cbdbd7-47b0-48bc-b799-3d876159af32",
   "metadata": {},
   "source": [
    "## ИА Красная весна"
   ]
  },
  {
   "cell_type": "code",
   "execution_count": 135,
   "id": "8b484aae-c020-4ab2-9991-59083f9a29f7",
   "metadata": {},
   "outputs": [],
   "source": [
    "name = 'ИА Красная весна'"
   ]
  },
  {
   "cell_type": "code",
   "execution_count": 136,
   "id": "f113075f-caf2-4733-b80f-5c3cd4d43cd2",
   "metadata": {},
   "outputs": [],
   "source": [
    "def kv_scraper(link):\n",
    "\n",
    "    try:\n",
    "        try:\n",
    "          r = requests.get(link, timeout=20)\n",
    "        except requests.exceptions.RequestException as ex:\n",
    "          print(ex)\n",
    "\n",
    "        soup = BeautifulSoup(r.content, \"html.parser\")\n",
    "\n",
    "        headline = soup.find('meta', property=\"og:title\").get(\"content\")\n",
    "        description = soup.find('meta', property=\"og:description\").get(\"content\")\n",
    "        blocks = soup.find('div', {\"class\": 'body requested'}).find_all('p')\n",
    "        article_body = ''\n",
    "        for block in blocks:\n",
    "          article_body = article_body + block.get_text()\n",
    "\n",
    "        return(headline, description, article_body)\n",
    "\n",
    "    except (UnboundLocalError, KeyError, AttributeError, UnicodeDecodeError) as error:\n",
    "      print(error)\n",
    "      pass"
   ]
  },
  {
   "cell_type": "code",
   "execution_count": 137,
   "id": "67379472-2533-4ae4-94bf-e2aa18bb69c8",
   "metadata": {},
   "outputs": [
    {
     "data": {
      "text/plain": [
       "(410,)"
      ]
     },
     "execution_count": 137,
     "metadata": {},
     "output_type": "execute_result"
    }
   ],
   "source": [
    "links_kv = data[data.newspaper == name].url\n",
    "links_kv.shape"
   ]
  },
  {
   "cell_type": "code",
   "execution_count": 138,
   "id": "2574e668-7e51-426d-903d-bbbd1d16a1e5",
   "metadata": {},
   "outputs": [
    {
     "name": "stdout",
     "output_type": "stream",
     "text": [
      "CPU times: total: 4min 27s\n",
      "Wall time: 5min 47s\n"
     ]
    }
   ],
   "source": [
    "%%time\n",
    "headlines, descriptions, article_bodies, urls = parser(links_kv, kv_scraper)"
   ]
  },
  {
   "cell_type": "code",
   "execution_count": 139,
   "id": "9b7fd112-6769-43cb-8741-ac0b15d9c962",
   "metadata": {},
   "outputs": [
    {
     "data": {
      "text/plain": [
       "(410, 4)"
      ]
     },
     "execution_count": 139,
     "metadata": {},
     "output_type": "execute_result"
    }
   ],
   "source": [
    "d = {'headline': headlines, 'description': descriptions, 'article_body': article_bodies, 'url' : urls}\n",
    "texts_kv = pd.DataFrame(data=d)\n",
    "texts_kv.shape"
   ]
  },
  {
   "cell_type": "code",
   "execution_count": 140,
   "id": "a0258e8a-357d-4539-9f3c-95c1c004821b",
   "metadata": {},
   "outputs": [],
   "source": [
    "save_texts(name, texts_kv)\n",
    "texts_all = pd.concat([texts_all, texts_kv])"
   ]
  },
  {
   "cell_type": "code",
   "execution_count": null,
   "id": "487e3d0c-1a06-4280-8f2a-46a37f959a4d",
   "metadata": {},
   "outputs": [],
   "source": []
  },
  {
   "cell_type": "markdown",
   "id": "54571f1c-bc68-4254-89f5-5c924f74ae6a",
   "metadata": {},
   "source": [
    "## Sports.ru"
   ]
  },
  {
   "cell_type": "code",
   "execution_count": 141,
   "id": "09b4173d-4be2-4781-a513-4c493bd8ad3f",
   "metadata": {},
   "outputs": [],
   "source": [
    "name = 'Sports.ru'"
   ]
  },
  {
   "cell_type": "code",
   "execution_count": 142,
   "id": "9e45b6f7-25cd-419a-9218-ef8514f2abc9",
   "metadata": {},
   "outputs": [],
   "source": [
    "def sp_scraper(link):\n",
    "\n",
    "    try:\n",
    "        try:\n",
    "          r = requests.get(link, timeout=20)\n",
    "        except requests.exceptions.RequestException as ex:\n",
    "          print(ex)\n",
    "\n",
    "        soup = BeautifulSoup(r.content, \"html.parser\")\n",
    "\n",
    "        headline = soup.find('meta', property=\"og:title\").get(\"content\")\n",
    "        description = soup.find('meta', property=\"og:description\").get(\"content\")\n",
    "        article_body = soup.find('div', {'class': \"news-item__content\"}).get_text()\n",
    "\n",
    "        return(headline, description, article_body)\n",
    "\n",
    "    except (UnboundLocalError, KeyError, AttributeError, UnicodeDecodeError) as error:\n",
    "      print(error)\n",
    "      pass"
   ]
  },
  {
   "cell_type": "code",
   "execution_count": 143,
   "id": "b57d414b-d07d-4b1b-81d8-4d285a416f8a",
   "metadata": {},
   "outputs": [
    {
     "data": {
      "text/plain": [
       "(347,)"
      ]
     },
     "execution_count": 143,
     "metadata": {},
     "output_type": "execute_result"
    }
   ],
   "source": [
    "links_sp = data[data.newspaper == name].url\n",
    "links_sp.shape"
   ]
  },
  {
   "cell_type": "code",
   "execution_count": 144,
   "id": "ddaa06de-175a-4dfc-8a95-9b4ddd70b115",
   "metadata": {},
   "outputs": [
    {
     "name": "stdout",
     "output_type": "stream",
     "text": [
      "'NoneType' object has no attribute 'get'\n",
      "'NoneType' object has no attribute 'get'\n",
      "'NoneType' object has no attribute 'get'\n",
      "'NoneType' object has no attribute 'get'\n",
      "HTTPConnectionPool(host='ua.tribuna.com', port=80): Read timed out. (read timeout=20)\n",
      "cannot access local variable 'r' where it is not associated with a value\n",
      "('Connection aborted.', ConnectionResetError(10054, 'Удаленный хост принудительно разорвал существующее подключение', None, 10054, None))\n",
      "cannot access local variable 'r' where it is not associated with a value\n",
      "'NoneType' object has no attribute 'get'\n",
      "'NoneType' object has no attribute 'get'\n",
      "'NoneType' object has no attribute 'get'\n",
      "'NoneType' object has no attribute 'get'\n",
      "'NoneType' object has no attribute 'get'\n",
      "'NoneType' object has no attribute 'get'\n",
      "'NoneType' object has no attribute 'get'\n",
      "CPU times: total: 5min 16s\n",
      "Wall time: 11min 17s\n"
     ]
    }
   ],
   "source": [
    "%%time\n",
    "headlines, descriptions, article_bodies, urls = parser(links_sp, sp_scraper)"
   ]
  },
  {
   "cell_type": "code",
   "execution_count": 145,
   "id": "7728f3e2-42d5-4216-9067-d4395ef506bd",
   "metadata": {},
   "outputs": [
    {
     "data": {
      "text/plain": [
       "(334, 4)"
      ]
     },
     "execution_count": 145,
     "metadata": {},
     "output_type": "execute_result"
    }
   ],
   "source": [
    "d = {'headline': headlines, 'description': descriptions, 'article_body': article_bodies, 'url' : urls}\n",
    "texts_sp = pd.DataFrame(data=d)\n",
    "texts_sp.shape"
   ]
  },
  {
   "cell_type": "code",
   "execution_count": 146,
   "id": "b8f3819f-b883-4cfe-9a0c-53ed4fe8e717",
   "metadata": {},
   "outputs": [],
   "source": [
    "save_texts(name, texts_sp)\n",
    "texts_all = pd.concat([texts_all, texts_sp])"
   ]
  },
  {
   "cell_type": "code",
   "execution_count": null,
   "id": "161d015d-2f1c-4f51-9452-2e38d44352d3",
   "metadata": {},
   "outputs": [],
   "source": []
  },
  {
   "cell_type": "markdown",
   "id": "bb4f15af-a600-451f-814b-7d858142e886",
   "metadata": {},
   "source": [
    "## Российская газета (rg.ru)"
   ]
  },
  {
   "cell_type": "code",
   "execution_count": 147,
   "id": "1615fb7d-a4cd-4de5-8e50-85d408f4d0d2",
   "metadata": {},
   "outputs": [],
   "source": [
    "name = 'Российская газета (rg.ru)'"
   ]
  },
  {
   "cell_type": "code",
   "execution_count": 148,
   "id": "f4634138-ba9d-49fb-b6d6-33248aecc4b6",
   "metadata": {},
   "outputs": [],
   "source": [
    "def rg_scraper(link):\n",
    "\n",
    "    try:\n",
    "        try:\n",
    "          r = requests.get(link, timeout=20)\n",
    "        except requests.exceptions.RequestException as ex:\n",
    "          print(ex)\n",
    "\n",
    "        soup = BeautifulSoup(r.content, \"html.parser\")\n",
    "\n",
    "        headline = soup.find('meta', property=\"og:title\").get(\"content\")\n",
    "        description = soup.find('meta', property=\"og:description\").get(\"content\")\n",
    "        article_body = soup.find('div', {'class': \"PageArticleContent_content___3MI5\"}).get_text()\n",
    "\n",
    "        return(headline, description, article_body)\n",
    "\n",
    "    except (UnboundLocalError, KeyError, AttributeError, UnicodeDecodeError) as error:\n",
    "      print(error)\n",
    "      pass"
   ]
  },
  {
   "cell_type": "code",
   "execution_count": 149,
   "id": "82b78574-beb2-4f8b-bde4-187827963c70",
   "metadata": {},
   "outputs": [
    {
     "data": {
      "text/plain": [
       "(339,)"
      ]
     },
     "execution_count": 149,
     "metadata": {},
     "output_type": "execute_result"
    }
   ],
   "source": [
    "links_rg = data[data.newspaper == name].url\n",
    "links_rg.shape"
   ]
  },
  {
   "cell_type": "code",
   "execution_count": 150,
   "id": "cd553ef3-1355-4ecf-9cb8-0689a6fe31f3",
   "metadata": {},
   "outputs": [
    {
     "name": "stdout",
     "output_type": "stream",
     "text": [
      "'NoneType' object has no attribute 'get_text'\n",
      "CPU times: total: 3min 47s\n",
      "Wall time: 4min 43s\n"
     ]
    }
   ],
   "source": [
    "%%time\n",
    "headlines, descriptions, article_bodies, urls = parser(links_rg, rg_scraper)"
   ]
  },
  {
   "cell_type": "code",
   "execution_count": 151,
   "id": "c7698cfe-0188-45ff-ade0-50b9ff697022",
   "metadata": {},
   "outputs": [
    {
     "data": {
      "text/plain": [
       "(338, 4)"
      ]
     },
     "execution_count": 151,
     "metadata": {},
     "output_type": "execute_result"
    }
   ],
   "source": [
    "d = {'headline': headlines, 'description': descriptions, 'article_body': article_bodies, 'url' : urls}\n",
    "texts_rg = pd.DataFrame(data=d)\n",
    "texts_rg.shape"
   ]
  },
  {
   "cell_type": "code",
   "execution_count": 152,
   "id": "20e207df-553a-4c28-8556-a9191be8d94b",
   "metadata": {},
   "outputs": [],
   "source": [
    "save_texts(name, texts_rg)\n",
    "texts_all = pd.concat([texts_all, texts_rg])"
   ]
  },
  {
   "cell_type": "code",
   "execution_count": null,
   "id": "efe9c16a-3908-4e37-b426-f45e7c4e94c9",
   "metadata": {},
   "outputs": [],
   "source": []
  },
  {
   "cell_type": "markdown",
   "id": "f02661c4-19a1-4572-8e25-751c76c0b102",
   "metadata": {},
   "source": [
    "## ИА SM-News"
   ]
  },
  {
   "cell_type": "code",
   "execution_count": 153,
   "id": "20d6cbbd-8bfb-48f0-94d3-8d3270b3c29c",
   "metadata": {},
   "outputs": [],
   "source": [
    "name = 'ИА SM-News'"
   ]
  },
  {
   "cell_type": "code",
   "execution_count": 154,
   "id": "dc619349-fddb-41cf-ba33-921860bdf0b5",
   "metadata": {},
   "outputs": [],
   "source": [
    "def sm_scraper(link):\n",
    "\n",
    "    try:\n",
    "        try:\n",
    "          r = requests.get(link, timeout=20)\n",
    "        except requests.exceptions.RequestException as ex:\n",
    "          print(ex)\n",
    "\n",
    "        soup = BeautifulSoup(r.content, \"html.parser\")\n",
    "\n",
    "        headline = soup.find('meta', property=\"og:title\").get(\"content\")\n",
    "        description = soup.find('meta', property=\"og:description\").get(\"content\")\n",
    "\n",
    "        article_body = ''\n",
    "        blocks = soup.find('div', {'itemprop': 'articleBody'}).find_all('p')\n",
    "        for block in blocks:\n",
    "          article_body = article_body + block.get_text()\n",
    "\n",
    "        return(headline, description, article_body)\n",
    "\n",
    "    except (UnboundLocalError, KeyError, AttributeError, UnicodeDecodeError) as error:\n",
    "      print(error)\n",
    "      pass"
   ]
  },
  {
   "cell_type": "code",
   "execution_count": 155,
   "id": "3cc5d77e-f456-43eb-80c0-825a91d1db90",
   "metadata": {},
   "outputs": [
    {
     "data": {
      "text/plain": [
       "(308,)"
      ]
     },
     "execution_count": 155,
     "metadata": {},
     "output_type": "execute_result"
    }
   ],
   "source": [
    "links_sm = data[data.newspaper == name].url\n",
    "links_sm.shape"
   ]
  },
  {
   "cell_type": "code",
   "execution_count": 156,
   "id": "6be8f644-a92a-457b-a663-c53965200211",
   "metadata": {
    "scrolled": true
   },
   "outputs": [
    {
     "name": "stdout",
     "output_type": "stream",
     "text": [
      "'NoneType' object has no attribute 'get'\n",
      "'NoneType' object has no attribute 'get'\n",
      "'NoneType' object has no attribute 'get'\n",
      "'NoneType' object has no attribute 'get'\n",
      "'NoneType' object has no attribute 'get'\n",
      "'NoneType' object has no attribute 'get'\n",
      "'NoneType' object has no attribute 'get'\n",
      "'NoneType' object has no attribute 'get'\n",
      "'NoneType' object has no attribute 'get'\n",
      "'NoneType' object has no attribute 'get'\n",
      "'NoneType' object has no attribute 'get'\n",
      "'NoneType' object has no attribute 'get'\n",
      "'NoneType' object has no attribute 'get'\n",
      "'NoneType' object has no attribute 'get'\n",
      "'NoneType' object has no attribute 'get'\n",
      "'NoneType' object has no attribute 'get'\n",
      "'NoneType' object has no attribute 'get'\n",
      "HTTPSConnectionPool(host='sm-news.ru', port=443): Max retries exceeded with url: /news/vneshnyaya-politika/rossiya-podnyala-v-oon-vopros-o-seksualnom-nasilii-so-storony-sbu/ (Caused by ConnectTimeoutError(<urllib3.connection.HTTPSConnection object at 0x000002874FCC7C10>, 'Connection to sm-news.ru timed out. (connect timeout=20)'))\n",
      "cannot access local variable 'r' where it is not associated with a value\n",
      "HTTPSConnectionPool(host='sm-news.ru', port=443): Max retries exceeded with url: /news/kriminal/seriynyy-manyak-iz-kalugi-otvetit-v-sude-za-iznasilovanie-12-zhenshchin/ (Caused by ConnectTimeoutError(<urllib3.connection.HTTPSConnection object at 0x000002874F75BB90>, 'Connection to sm-news.ru timed out. (connect timeout=20)'))\n",
      "cannot access local variable 'r' where it is not associated with a value\n",
      "HTTPSConnectionPool(host='sm-news.ru', port=443): Max retries exceeded with url: /news/kriminal/v-moskve-zaderzhan-vrach-po-podozreniyu-v-iznasilovanii-patsientki/ (Caused by ConnectTimeoutError(<urllib3.connection.HTTPSConnection object at 0x000002874F828B50>, 'Connection to sm-news.ru timed out. (connect timeout=20)'))\n",
      "cannot access local variable 'r' where it is not associated with a value\n",
      "HTTPSConnectionPool(host='sm-news.ru', port=443): Max retries exceeded with url: /news/kriminal/sk-vozbudil-delo-na-zhitelya-kamchatki-za-ubiystvo-nasilnika-zheny/ (Caused by ConnectTimeoutError(<urllib3.connection.HTTPSConnection object at 0x000002874F759890>, 'Connection to sm-news.ru timed out. (connect timeout=20)'))\n",
      "cannot access local variable 'r' where it is not associated with a value\n",
      "HTTPSConnectionPool(host='sm-news.ru', port=443): Max retries exceeded with url: /news/kriminal/zhitel-saratova-poluchil-15-let-za-pokhishchenie-i-iznasilovanie-zhenshchiny/ (Caused by ConnectTimeoutError(<urllib3.connection.HTTPSConnection object at 0x000002875051E310>, 'Connection to sm-news.ru timed out. (connect timeout=20)'))\n",
      "cannot access local variable 'r' where it is not associated with a value\n",
      "HTTPSConnectionPool(host='sm-news.ru', port=443): Max retries exceeded with url: /news/evropa/oon-rassmotrit-doklad-ukrainy-kasayushchiysya-likvidatsii-diskriminatsii-zhenshchin/ (Caused by ConnectTimeoutError(<urllib3.connection.HTTPSConnection object at 0x000002875051E990>, 'Connection to sm-news.ru timed out. (connect timeout=20)'))\n",
      "cannot access local variable 'r' where it is not associated with a value\n",
      "HTTPSConnectionPool(host='sm-news.ru', port=443): Max retries exceeded with url: /news/kriminal/v-oon-vstrevozheny-vspleskom-seksualnogo-nasiliya-na-ukraine/ (Caused by ConnectTimeoutError(<urllib3.connection.HTTPSConnection object at 0x000002874F8EBBD0>, 'Connection to sm-news.ru timed out. (connect timeout=20)'))\n",
      "cannot access local variable 'r' where it is not associated with a value\n",
      "HTTPSConnectionPool(host='sm-news.ru', port=443): Max retries exceeded with url: /news/konflikty/oon-trebuet-ot-kieva-presech-massovye-iznasilovaniya-na-donbasse/ (Caused by ConnectTimeoutError(<urllib3.connection.HTTPSConnection object at 0x000002874F7C6A50>, 'Connection to sm-news.ru timed out. (connect timeout=20)'))\n",
      "cannot access local variable 'r' where it is not associated with a value\n",
      "HTTPSConnectionPool(host='sm-news.ru', port=443): Max retries exceeded with url: /news/kriminal/buryatskomu-nasilniku-dali-pozhiznennoe-za-ubiystvo-pyati-chelovek/ (Caused by ConnectTimeoutError(<urllib3.connection.HTTPSConnection object at 0x000002874F8E9AD0>, 'Connection to sm-news.ru timed out. (connect timeout=20)'))\n",
      "cannot access local variable 'r' where it is not associated with a value\n",
      "HTTPSConnectionPool(host='sm-news.ru', port=443): Max retries exceeded with url: /news/kriminal/v-irkutskoy-oblasti-angarskogo-manyaka-obvinili-eshche-v-60-prestupleniyakh/ (Caused by ConnectTimeoutError(<urllib3.connection.HTTPSConnection object at 0x000002875051C150>, 'Connection to sm-news.ru timed out. (connect timeout=20)'))\n",
      "cannot access local variable 'r' where it is not associated with a value\n",
      "HTTPSConnectionPool(host='sm-news.ru', port=443): Max retries exceeded with url: /news/kriminal/v-nizhegorodskoy-oblasti-osudili-seriynogo-nasilnika-6-zhenshchin/ (Caused by ConnectTimeoutError(<urllib3.connection.HTTPSConnection object at 0x0000028750B77DD0>, 'Connection to sm-news.ru timed out. (connect timeout=20)'))\n",
      "cannot access local variable 'r' where it is not associated with a value\n",
      "HTTPSConnectionPool(host='sm-news.ru', port=443): Max retries exceeded with url: /news/kriminal/chetvero-zhiteley-tambova-poluchili-ot-17-5-do-20-let-za-dvoynoe-ubiystvo/ (Caused by ConnectTimeoutError(<urllib3.connection.HTTPSConnection object at 0x000002874FCC47D0>, 'Connection to sm-news.ru timed out. (connect timeout=20)'))\n",
      "cannot access local variable 'r' where it is not associated with a value\n",
      "HTTPSConnectionPool(host='sm-news.ru', port=443): Max retries exceeded with url: /news/kriminal/khabarovchanin-poluchil-pozhiznennoe-za-seksualnoe-nasilie-i-ubiystvo-koreyanki/ (Caused by ConnectTimeoutError(<urllib3.connection.HTTPSConnection object at 0x000002874F759910>, 'Connection to sm-news.ru timed out. (connect timeout=20)'))\n",
      "cannot access local variable 'r' where it is not associated with a value\n",
      "HTTPSConnectionPool(host='sm-news.ru', port=443): Max retries exceeded with url: /news/kriminal/zhitelyu-tyvy-vynesli-pozhiznennyy-prigovor-za-dvoynoe-ubiystvo-i-iznasilovanie-/ (Caused by ConnectTimeoutError(<urllib3.connection.HTTPSConnection object at 0x000002874FF04B10>, 'Connection to sm-news.ru timed out. (connect timeout=20)'))\n",
      "cannot access local variable 'r' where it is not associated with a value\n",
      "HTTPSConnectionPool(host='sm-news.ru', port=443): Max retries exceeded with url: /news/kriminal/v-gorode-na-neve-issleduyut-delo-seriynogo-manyaka/ (Caused by ConnectTimeoutError(<urllib3.connection.HTTPSConnection object at 0x000002874FCC6390>, 'Connection to sm-news.ru timed out. (connect timeout=20)'))\n",
      "cannot access local variable 'r' where it is not associated with a value\n",
      "HTTPSConnectionPool(host='sm-news.ru', port=443): Max retries exceeded with url: /news/kriminal/v-magadane-13-osuzhdennykh-poluchili-144-goda-za-gruppovoe-iznasilovanie/ (Caused by ConnectTimeoutError(<urllib3.connection.HTTPSConnection object at 0x000002874AFD5E90>, 'Connection to sm-news.ru timed out. (connect timeout=20)'))\n",
      "cannot access local variable 'r' where it is not associated with a value\n",
      "HTTPSConnectionPool(host='sm-news.ru', port=443): Max retries exceeded with url: /news/kriminal/vologodskiy-sud-rassmotrit-delo-o-napadeniyakh-na-zhenshchin-v-techenie-13-let/ (Caused by ConnectTimeoutError(<urllib3.connection.HTTPSConnection object at 0x000002874F759750>, 'Connection to sm-news.ru timed out. (connect timeout=20)'))\n",
      "cannot access local variable 'r' where it is not associated with a value\n",
      "HTTPSConnectionPool(host='sm-news.ru', port=443): Max retries exceeded with url: /news/kriminal/v-khakasii-taksistu-predyavili-obvinenie-v-ryade-ubiystv-i-iznasilovaniy/ (Caused by ConnectTimeoutError(<urllib3.connection.HTTPSConnection object at 0x000002875051EBD0>, 'Connection to sm-news.ru timed out. (connect timeout=20)'))\n",
      "cannot access local variable 'r' where it is not associated with a value\n",
      "HTTPSConnectionPool(host='sm-news.ru', port=443): Max retries exceeded with url: /news/prazdniki/zhenshchiny-aktivistki-vsego-mira-otmechayut-den-protiv-nasiliya/ (Caused by ConnectTimeoutError(<urllib3.connection.HTTPSConnection object at 0x00000287506DCA90>, 'Connection to sm-news.ru timed out. (connect timeout=20)'))\n",
      "cannot access local variable 'r' where it is not associated with a value\n",
      "HTTPSConnectionPool(host='sm-news.ru', port=443): Max retries exceeded with url: /news/kriminal/khabarovsk-vzbudorazhen-gibelyu-neizvestnoy-zhenshchiny/ (Caused by ConnectTimeoutError(<urllib3.connection.HTTPSConnection object at 0x000002874FBBEA50>, 'Connection to sm-news.ru timed out. (connect timeout=20)'))\n",
      "cannot access local variable 'r' where it is not associated with a value\n",
      "HTTPSConnectionPool(host='sm-news.ru', port=443): Max retries exceeded with url: /news/kriminal/v-kurgane-pyanyy-pensioner-iznasiloval-znakomuyu-dachnitsu/ (Caused by ConnectTimeoutError(<urllib3.connection.HTTPSConnection object at 0x000002874FF06210>, 'Connection to sm-news.ru timed out. (connect timeout=20)'))\n",
      "cannot access local variable 'r' where it is not associated with a value\n",
      "HTTPSConnectionPool(host='sm-news.ru', port=443): Max retries exceeded with url: /news/kriminal/zhitel-sevastopolya-poluchil-pozhiznennyy-srok-za-seriyu-ubiystv-i-iznasilovaniy/ (Caused by ConnectTimeoutError(<urllib3.connection.HTTPSConnection object at 0x0000028750947350>, 'Connection to sm-news.ru timed out. (connect timeout=20)'))\n",
      "cannot access local variable 'r' where it is not associated with a value\n",
      "HTTPSConnectionPool(host='sm-news.ru', port=443): Max retries exceeded with url: /news/internet/v-oon-prizvali-muzhchin-podderzhat-zhenshchin-v-borbe-s-seksualnym-nasiliem/ (Caused by ConnectTimeoutError(<urllib3.connection.HTTPSConnection object at 0x000002874F72C650>, 'Connection to sm-news.ru timed out. (connect timeout=20)'))\n",
      "cannot access local variable 'r' where it is not associated with a value\n",
      "HTTPSConnectionPool(host='sm-news.ru', port=443): Max retries exceeded with url: /news/kriminal/v-ekaterinburge-zaderzhali-podozrevaemogo-nasilovavshego-zhenshchin-v-techenie-22-let/ (Caused by ConnectTimeoutError(<urllib3.connection.HTTPSConnection object at 0x000002875051F350>, 'Connection to sm-news.ru timed out. (connect timeout=20)'))\n",
      "cannot access local variable 'r' where it is not associated with a value\n",
      "HTTPSConnectionPool(host='sm-news.ru', port=443): Max retries exceeded with url: /news/evropa/oon-v-grecheskikh-tsentrakh-po-priyemu-bezhentsev-protsvetaet-seksualnoe-nasilie/ (Caused by ConnectTimeoutError(<urllib3.connection.HTTPSConnection object at 0x000002874F758490>, 'Connection to sm-news.ru timed out. (connect timeout=20)'))\n",
      "cannot access local variable 'r' where it is not associated with a value\n",
      "HTTPSConnectionPool(host='sm-news.ru', port=443): Max retries exceeded with url: /news/regiony/zhitelnitsa-azova-napisala-lozhnyy-donos/ (Caused by ConnectTimeoutError(<urllib3.connection.HTTPSConnection object at 0x000002874FCC56D0>, 'Connection to sm-news.ru timed out. (connect timeout=20)'))\n",
      "cannot access local variable 'r' where it is not associated with a value\n",
      "HTTPSConnectionPool(host='sm-news.ru', port=443): Max retries exceeded with url: /news/prazdniki/mirovoe-soobshchestvo-otmechaet-mezhdunarodnyy-den-podderzhki-zhertv-prestupleniy/ (Caused by ConnectTimeoutError(<urllib3.connection.HTTPSConnection object at 0x000002874FF07410>, 'Connection to sm-news.ru timed out. (connect timeout=20)'))\n",
      "cannot access local variable 'r' where it is not associated with a value\n",
      "HTTPSConnectionPool(host='sm-news.ru', port=443): Max retries exceeded with url: /news/regiony/v-zaurale-semya-zhestoko-raspravilas-s-molodym-parnem-do-etogo-iznasilovav-ego/ (Caused by ConnectTimeoutError(<urllib3.connection.HTTPSConnection object at 0x000002875051DE50>, 'Connection to sm-news.ru timed out. (connect timeout=20)'))\n",
      "cannot access local variable 'r' where it is not associated with a value\n",
      "HTTPSConnectionPool(host='sm-news.ru', port=443): Max retries exceeded with url: /news/kriminal/v-ssha-k-100-godam-tyurmy-prigovoren-bebisitter-za-iznasilovanie-svoikh-podopechnykh/ (Caused by ConnectTimeoutError(<urllib3.connection.HTTPSConnection object at 0x000002874FE8FF10>, 'Connection to sm-news.ru timed out. (connect timeout=20)'))\n",
      "cannot access local variable 'r' where it is not associated with a value\n",
      "HTTPSConnectionPool(host='sm-news.ru', port=443): Max retries exceeded with url: /news/kriminal/tambovchanin-poluchil-srok-za-iznasilovanie-sobiravshey-landyshi-v-lesu-pensionerki/ (Caused by ConnectTimeoutError(<urllib3.connection.HTTPSConnection object at 0x000002875049ED90>, 'Connection to sm-news.ru timed out. (connect timeout=20)'))\n",
      "cannot access local variable 'r' where it is not associated with a value\n",
      "HTTPSConnectionPool(host='sm-news.ru', port=443): Max retries exceeded with url: /news/severnaya-amerika/v-pentagone-otmetili-vsplesk-seksualnykh-domogatelstv-v-armii-ssha-na-10/ (Caused by ConnectTimeoutError(<urllib3.connection.HTTPSConnection object at 0x000002874F759E10>, 'Connection to sm-news.ru timed out. (connect timeout=20)'))\n",
      "cannot access local variable 'r' where it is not associated with a value\n",
      "HTTPSConnectionPool(host='sm-news.ru', port=443): Max retries exceeded with url: /news/evropa/kaznacheya-vatikana-zhdet-sud-po-obvineniyu-v-istoricheskom-seksualnom-nasilii/ (Caused by ConnectTimeoutError(<urllib3.connection.HTTPSConnection object at 0x000002874F758D90>, 'Connection to sm-news.ru timed out. (connect timeout=20)'))\n",
      "cannot access local variable 'r' where it is not associated with a value\n",
      "HTTPSConnectionPool(host='sm-news.ru', port=443): Max retries exceeded with url: /news/kriminal/kurskiy-notarius-nasilnik-idet-pod-sud/ (Caused by ConnectTimeoutError(<urllib3.connection.HTTPSConnection object at 0x000002875033D710>, 'Connection to sm-news.ru timed out. (connect timeout=20)'))\n",
      "cannot access local variable 'r' where it is not associated with a value\n",
      "HTTPSConnectionPool(host='sm-news.ru', port=443): Max retries exceeded with url: /news/kriminal/zhitel-cheboksar-osuzhden-za-iznasilovanie-znakomoy-pod-ugrozoy-sbrosit-eye-s-pyatogo-etazha/ (Caused by ConnectTimeoutError(<urllib3.connection.HTTPSConnection object at 0x000002874FF071D0>, 'Connection to sm-news.ru timed out. (connect timeout=20)'))\n",
      "cannot access local variable 'r' where it is not associated with a value\n",
      "HTTPSConnectionPool(host='sm-news.ru', port=443): Max retries exceeded with url: /news/kriminal/troim-zhitelyam-saratovskoy-oblasti-vynesli-prigovor-za-ubiystvo-i-iznasilovaniya/ (Caused by ConnectTimeoutError(<urllib3.connection.HTTPSConnection object at 0x000002874AFD4450>, 'Connection to sm-news.ru timed out. (connect timeout=20)'))\n",
      "cannot access local variable 'r' where it is not associated with a value\n",
      "HTTPSConnectionPool(host='sm-news.ru', port=443): Max retries exceeded with url: /news/prazdniki/mirovoe-soobshchestvo-spravlyaet-den-borby-s-seksualnym-nasiliem/ (Caused by ConnectTimeoutError(<urllib3.connection.HTTPSConnection object at 0x000002874FCC4990>, 'Connection to sm-news.ru timed out. (connect timeout=20)'))\n",
      "cannot access local variable 'r' where it is not associated with a value\n",
      "HTTPSConnectionPool(host='sm-news.ru', port=443): Max retries exceeded with url: /news/kriminal/v-moskve-osuzhdyen-skryvavshiysya-v-rumynii-nasilnik/ (Caused by ConnectTimeoutError(<urllib3.connection.HTTPSConnection object at 0x000002874F75AD50>, 'Connection to sm-news.ru timed out. (connect timeout=20)'))\n",
      "cannot access local variable 'r' where it is not associated with a value\n",
      "HTTPSConnectionPool(host='sm-news.ru', port=443): Max retries exceeded with url: /news/kriminal/vozhatomu-nasilniku-iz-krasnoyarskogo-kraya-predyavili-obvinenie/ (Caused by ConnectTimeoutError(<urllib3.connection.HTTPSConnection object at 0x000002874F8EA9D0>, 'Connection to sm-news.ru timed out. (connect timeout=20)'))\n",
      "cannot access local variable 'r' where it is not associated with a value\n",
      "HTTPSConnectionPool(host='sm-news.ru', port=443): Max retries exceeded with url: /news/kriminal/sk-soobshchil-o-khode-rassledovaniya-zhestokogo-ubiystva-zhenshchiny-v-poselke-psebay-krasnodarskogo/ (Caused by ConnectTimeoutError(<urllib3.connection.HTTPSConnection object at 0x000002875051E250>, 'Connection to sm-news.ru timed out. (connect timeout=20)'))\n",
      "cannot access local variable 'r' where it is not associated with a value\n",
      "HTTPSConnectionPool(host='sm-news.ru', port=443): Max retries exceeded with url: /news/kriminal/v-barnaule-razyskivayut-nasilnika-na-velosipede/ (Caused by ConnectTimeoutError(<urllib3.connection.HTTPSConnection object at 0x000002874FF06010>, 'Connection to sm-news.ru timed out. (connect timeout=20)'))\n",
      "cannot access local variable 'r' where it is not associated with a value\n",
      "HTTPSConnectionPool(host='sm-news.ru', port=443): Max retries exceeded with url: /penzenskij-sadist-poluchil-22-goda-za-ubijstvo-starika-iznasilovanie-71-letnej-pensionerki/ (Caused by ConnectTimeoutError(<urllib3.connection.HTTPSConnection object at 0x000002875051C150>, 'Connection to sm-news.ru timed out. (connect timeout=20)'))\n",
      "cannot access local variable 'r' where it is not associated with a value\n",
      "HTTPSConnectionPool(host='sm-news.ru', port=443): Max retries exceeded with url: /v-saratovskoj-oblasti-muzhchina-v-svoj-den-rozhdeniya-po-doroge-domoj-iznasiloval-znakomuyu-i-usnul/ (Caused by ConnectTimeoutError(<urllib3.connection.HTTPSConnection object at 0x000002874FE8F550>, 'Connection to sm-news.ru timed out. (connect timeout=20)'))\n",
      "cannot access local variable 'r' where it is not associated with a value\n",
      "HTTPSConnectionPool(host='sm-news.ru', port=443): Max retries exceeded with url: /v-kurske-osudyat-serijnogo-manyaka-neudachnika/ (Caused by ConnectTimeoutError(<urllib3.connection.HTTPSConnection object at 0x0000028750945790>, 'Connection to sm-news.ru timed out. (connect timeout=20)'))\n",
      "cannot access local variable 'r' where it is not associated with a value\n",
      "HTTPSConnectionPool(host='sm-news.ru', port=443): Max retries exceeded with url: /usypil-i-iznasiloval-vracha-iz-samary-osudyat-za-nadrugatelstvo-nad-pacientkoj/ (Caused by ConnectTimeoutError(<urllib3.connection.HTTPSConnection object at 0x000002874F759250>, 'Connection to sm-news.ru timed out. (connect timeout=20)'))\n",
      "cannot access local variable 'r' where it is not associated with a value\n",
      "HTTPSConnectionPool(host='sm-news.ru', port=443): Max retries exceeded with url: /foto-permskogo-manyaka-nasilnika-popalo-v-set/ (Caused by ConnectTimeoutError(<urllib3.connection.HTTPSConnection object at 0x000002874F8EA610>, 'Connection to sm-news.ru timed out. (connect timeout=20)'))\n",
      "cannot access local variable 'r' where it is not associated with a value\n",
      "HTTPSConnectionPool(host='sm-news.ru', port=443): Max retries exceeded with url: /sledovatel-prosit-arestovat-prodyusera-lunacharskogo-po-delu-ob-iznasilovanii/ (Caused by ConnectTimeoutError(<urllib3.connection.HTTPSConnection object at 0x000002874FF078D0>, 'Connection to sm-news.ru timed out. (connect timeout=20)'))\n",
      "cannot access local variable 'r' where it is not associated with a value\n",
      "HTTPSConnectionPool(host='sm-news.ru', port=443): Max retries exceeded with url: /domogatelstva-i-iznasilovaniya-senator-vysmeyal-glavnuyu-temu-dnya-v-politike-ssha/ (Caused by ConnectTimeoutError(<urllib3.connection.HTTPSConnection object at 0x000002874FF05210>, 'Connection to sm-news.ru timed out. (connect timeout=20)'))\n",
      "cannot access local variable 'r' where it is not associated with a value\n",
      "HTTPSConnectionPool(host='sm-news.ru', port=443): Max retries exceeded with url: /antixrist-soros-vedmy-liberalki-tramp-kavano-i-drugie-zhertvy-koldovstva/ (Caused by ConnectTimeoutError(<urllib3.connection.HTTPSConnection object at 0x000002874F828C90>, 'Connection to sm-news.ru timed out. (connect timeout=20)'))\n",
      "cannot access local variable 'r' where it is not associated with a value\n",
      "HTTPSConnectionPool(host='sm-news.ru', port=443): Max retries exceeded with url: /ubil-sem-chelovek-v-stolichnoe-mvd-s-povinnoj-yavilsya-manyak/ (Caused by ConnectTimeoutError(<urllib3.connection.HTTPSConnection object at 0x000002874F8EAE10>, 'Connection to sm-news.ru timed out. (connect timeout=20)'))\n",
      "cannot access local variable 'r' where it is not associated with a value\n",
      "HTTPSConnectionPool(host='sm-news.ru', port=443): Max retries exceeded with url: /gorbataya-gora-est-i-na-urale-pod-kurganom-muzhchina-iznasiloval-druga-i-ubil-lopatoj/ (Caused by ConnectTimeoutError(<urllib3.connection.HTTPSConnection object at 0x000002874F759D90>, 'Connection to sm-news.ru timed out. (connect timeout=20)'))\n",
      "cannot access local variable 'r' where it is not associated with a value\n",
      "HTTPSConnectionPool(host='sm-news.ru', port=443): Max retries exceeded with url: /manyak-liftyor-iz-arxangelska-predstanet-pered-sudom/ (Caused by ConnectTimeoutError(<urllib3.connection.HTTPSConnection object at 0x00000287506DC2D0>, 'Connection to sm-news.ru timed out. (connect timeout=20)'))\n",
      "cannot access local variable 'r' where it is not associated with a value\n",
      "HTTPSConnectionPool(host='sm-news.ru', port=443): Max retries exceeded with url: /v-ekaterinburge-osudyat-nasilnika-so-stazhem/ (Caused by ConnectTimeoutError(<urllib3.connection.HTTPSConnection object at 0x0000028751D2FD90>, 'Connection to sm-news.ru timed out. (connect timeout=20)'))\n",
      "cannot access local variable 'r' where it is not associated with a value\n",
      "HTTPSConnectionPool(host='sm-news.ru', port=443): Max retries exceeded with url: /v-zabajkale-budut-sudit-ubijcu-recidivista/ (Caused by ConnectTimeoutError(<urllib3.connection.HTTPSConnection object at 0x000002874FFFDE50>, 'Connection to sm-news.ru timed out. (connect timeout=20)'))\n",
      "cannot access local variable 'r' where it is not associated with a value\n",
      "HTTPSConnectionPool(host='sm-news.ru', port=443): Max retries exceeded with url: /arest-za-gruppovoe-iznasilovanie-devushki-doznavatelya-grozit-troim-policejskim-v-ufe/ (Caused by ConnectTimeoutError(<urllib3.connection.HTTPSConnection object at 0x000002874F9AA110>, 'Connection to sm-news.ru timed out. (connect timeout=20)'))\n",
      "cannot access local variable 'r' where it is not associated with a value\n",
      "HTTPSConnectionPool(host='sm-news.ru', port=443): Max retries exceeded with url: /v-bashkirii-uvolili-podozrevaemyx-v-iznasilovanii-kollegi-policejskix/ (Caused by ConnectTimeoutError(<urllib3.connection.HTTPSConnection object at 0x0000028750B777D0>, 'Connection to sm-news.ru timed out. (connect timeout=20)'))\n",
      "cannot access local variable 'r' where it is not associated with a value\n",
      "HTTPSConnectionPool(host='sm-news.ru', port=443): Max retries exceeded with url: /iznasiloval-s-osoboj-zhestokostyu-na-altae-pojman-recidivist/ (Caused by ConnectTimeoutError(<urllib3.connection.HTTPSConnection object at 0x000002874F75AD90>, 'Connection to sm-news.ru timed out. (connect timeout=20)'))\n",
      "cannot access local variable 'r' where it is not associated with a value\n",
      "HTTPSConnectionPool(host='sm-news.ru', port=443): Max retries exceeded with url: /v-zabajkale-osuzhden-atamanovskij-manyak-za-ubijstvo-i-popytku-iznasilovaniya-zhenshhiny/ (Caused by ConnectTimeoutError(<urllib3.connection.HTTPSConnection object at 0x000002874F8EA110>, 'Connection to sm-news.ru timed out. (connect timeout=20)'))\n",
      "cannot access local variable 'r' where it is not associated with a value\n",
      "HTTPSConnectionPool(host='sm-news.ru', port=443): Max retries exceeded with url: /v-krasnodarskom-krae-mestnyx-zhitelej-osudyat-za-iznasilovanie-i-ubijstvo/ (Caused by ConnectTimeoutError(<urllib3.connection.HTTPSConnection object at 0x000002875051C490>, 'Connection to sm-news.ru timed out. (connect timeout=20)'))\n",
      "cannot access local variable 'r' where it is not associated with a value\n",
      "HTTPSConnectionPool(host='sm-news.ru', port=443): Max retries exceeded with url: /ekspertiza-dnk-devushku-v-ufe-nasilovali-vse-troe-policejskix/ (Caused by ConnectTimeoutError(<urllib3.connection.HTTPSConnection object at 0x000002874FF07D90>, 'Connection to sm-news.ru timed out. (connect timeout=20)'))\n",
      "cannot access local variable 'r' where it is not associated with a value\n",
      "HTTPSConnectionPool(host='sm-news.ru', port=443): Max retries exceeded with url: /kurganec-priznal-vinu-v-iznasilovanii-neznakomoj-devushki-2036/ (Caused by ConnectTimeoutError(<urllib3.connection.HTTPSConnection object at 0x000002874FFFDCD0>, 'Connection to sm-news.ru timed out. (connect timeout=20)'))\n",
      "cannot access local variable 'r' where it is not associated with a value\n",
      "HTTPSConnectionPool(host='sm-news.ru', port=443): Max retries exceeded with url: /xarassment-po-russki-lish-24-rossiyanok-zayavili-ob-ugroze-domogatelstv-1327/ (Caused by ConnectTimeoutError(<urllib3.connection.HTTPSConnection object at 0x000002875051D410>, 'Connection to sm-news.ru timed out. (connect timeout=20)'))\n",
      "cannot access local variable 'r' where it is not associated with a value\n",
      "HTTPSConnectionPool(host='sm-news.ru', port=443): Max retries exceeded with url: /v-den-zashhity-seks-rabotnikov-v-mire-provedut-marshi-krasnyx-zontov-9335/ (Caused by ConnectTimeoutError(<urllib3.connection.HTTPSConnection object at 0x000002874F75BBD0>, 'Connection to sm-news.ru timed out. (connect timeout=20)'))\n",
      "cannot access local variable 'r' where it is not associated with a value\n",
      "HTTPSConnectionPool(host='sm-news.ru', port=443): Max retries exceeded with url: /byli-pod-narkozom-v-peterburge-anesteziologa-podozrevayut-v-iznasilovanii-tryox-yunyx-pacientok-8679/ (Caused by ConnectTimeoutError(<urllib3.connection.HTTPSConnection object at 0x000002874FCC6B50>, 'Connection to sm-news.ru timed out. (connect timeout=20)'))\n",
      "cannot access local variable 'r' where it is not associated with a value\n",
      "HTTPSConnectionPool(host='sm-news.ru', port=443): Max retries exceeded with url: /bili-nasilovali-i-sozhgli-v-saratove-na-26-let-osudili-molodyx-ubijc-6446/ (Caused by ConnectTimeoutError(<urllib3.connection.HTTPSConnection object at 0x00000287506DC910>, 'Connection to sm-news.ru timed out. (connect timeout=20)'))\n",
      "cannot access local variable 'r' where it is not associated with a value\n",
      "HTTPSConnectionPool(host='sm-news.ru', port=443): Max retries exceeded with url: /ubil-i-spryatal-telo-devushki-v-meshok-zhitel-xabarovska-poluchil-pozhiznennyj-srok-9335/ (Caused by ConnectTimeoutError(<urllib3.connection.HTTPSConnection object at 0x000002874FF04710>, 'Connection to sm-news.ru timed out. (connect timeout=20)'))\n",
      "cannot access local variable 'r' where it is not associated with a value\n",
      "HTTPSConnectionPool(host='sm-news.ru', port=443): Max retries exceeded with url: /obvinyaetsya-v-ubijstve-4-zhenshhin-taksista-manyaka-osudyat-v-xakasii-1389/ (Caused by ConnectTimeoutError(<urllib3.connection.HTTPSConnection object at 0x000002874FFFDB90>, 'Connection to sm-news.ru timed out. (connect timeout=20)'))\n",
      "cannot access local variable 'r' where it is not associated with a value\n",
      "HTTPSConnectionPool(host='sm-news.ru', port=443): Max retries exceeded with url: /ego-zhertvami-priznany-12-devushek-v-ekaterinburge-osudyat-manyaka-iz-90-yx-1327/ (Caused by ConnectTimeoutError(<urllib3.connection.HTTPSConnection object at 0x000002874FE8F550>, 'Connection to sm-news.ru timed out. (connect timeout=20)'))\n",
      "cannot access local variable 'r' where it is not associated with a value\n",
      "HTTPSConnectionPool(host='sm-news.ru', port=443): Max retries exceeded with url: /zamministra-mvd-yakutii-sel-v-tyurmu-za-popytku-iznasilovaniya-podchinennoj-6851/ (Caused by ConnectTimeoutError(<urllib3.connection.HTTPSConnection object at 0x0000028754A5B210>, 'Connection to sm-news.ru timed out. (connect timeout=20)'))\n",
      "cannot access local variable 'r' where it is not associated with a value\n",
      "HTTPSConnectionPool(host='sm-news.ru', port=443): Max retries exceeded with url: /emu-vmenyayut-12-prestuplenij-v-irkutske-osudyat-internet-nasilnika-3484/ (Caused by ConnectTimeoutError(<urllib3.connection.HTTPSConnection object at 0x000002875051CC10>, 'Connection to sm-news.ru timed out. (connect timeout=20)'))\n",
      "cannot access local variable 'r' where it is not associated with a value\n",
      "HTTPSConnectionPool(host='sm-news.ru', port=443): Max retries exceeded with url: /protiv-makgregora-vedyotsya-rassledovanie-o-seksualnom-nasilii-1327/ (Caused by ConnectTimeoutError(<urllib3.connection.HTTPSConnection object at 0x00000287506DC610>, 'Connection to sm-news.ru timed out. (connect timeout=20)'))\n",
      "cannot access local variable 'r' where it is not associated with a value\n",
      "HTTPSConnectionPool(host='sm-news.ru', port=443): Max retries exceeded with url: /zapret-na-rabotu-migrantov-isaev-nazval-plyusy-skandala-v-yakutii-8679/ (Caused by ConnectTimeoutError(<urllib3.connection.HTTPSConnection object at 0x000002874FB67990>, 'Connection to sm-news.ru timed out. (connect timeout=20)'))\n",
      "cannot access local variable 'r' where it is not associated with a value\n",
      "HTTPSConnectionPool(host='sm-news.ru', port=443): Max retries exceeded with url: /v-chuvashii-urozhenec-azerbajdzhana-nasiloval-i-grabil-zhenshhin-6402/ (Caused by ConnectTimeoutError(<urllib3.connection.HTTPSConnection object at 0x000002874FF06810>, 'Connection to sm-news.ru timed out. (connect timeout=20)'))\n",
      "cannot access local variable 'r' where it is not associated with a value\n",
      "HTTPSConnectionPool(host='sm-news.ru', port=443): Max retries exceeded with url: /ubil-dvux-devushek-v-volgogradskoj-oblasti-osudyat-nasilnika-recidivista-iz-moskvy-9335/ (Caused by ConnectTimeoutError(<urllib3.connection.HTTPSConnection object at 0x000002874F8E9DD0>, 'Connection to sm-news.ru timed out. (connect timeout=20)'))\n",
      "cannot access local variable 'r' where it is not associated with a value\n",
      "HTTPSConnectionPool(host='sm-news.ru', port=443): Max retries exceeded with url: /v-chuvashii-nasilnika-recidivista-prigovorili-k-6-godam-kolonii-6402/ (Caused by ConnectTimeoutError(<urllib3.connection.HTTPSConnection object at 0x000002874F7C6FD0>, 'Connection to sm-news.ru timed out. (connect timeout=20)'))\n",
      "cannot access local variable 'r' where it is not associated with a value\n",
      "HTTPSConnectionPool(host='sm-news.ru', port=443): Max retries exceeded with url: /serijnyj-manyak-iz-irkutskoj-oblasti-27-let-nasiloval-mestnyx-zhitelnic-2240/ (Caused by ConnectTimeoutError(<urllib3.connection.HTTPSConnection object at 0x0000028751ABF810>, 'Connection to sm-news.ru timed out. (connect timeout=20)'))\n",
      "cannot access local variable 'r' where it is not associated with a value\n",
      "HTTPSConnectionPool(host='sm-news.ru', port=443): Max retries exceeded with url: /v-buryatii-dvoe-parnej-iznasilovali-devushku-i-snimali-proisxodyashhee-na-video-4704/ (Caused by ConnectTimeoutError(<urllib3.connection.HTTPSConnection object at 0x000002874FFA34D0>, 'Connection to sm-news.ru timed out. (connect timeout=20)'))\n",
      "cannot access local variable 'r' where it is not associated with a value\n",
      "HTTPSConnectionPool(host='sm-news.ru', port=443): Max retries exceeded with url: /bastrykin-peredal-delo-ob-ubijstve-v-chemodanovke-centralnomu-apparatu-sk-1327/ (Caused by ConnectTimeoutError(<urllib3.connection.HTTPSConnection object at 0x000002874F758A90>, 'Connection to sm-news.ru timed out. (connect timeout=20)'))\n",
      "cannot access local variable 'r' where it is not associated with a value\n",
      "HTTPSConnectionPool(host='sm-news.ru', port=443): Max retries exceeded with url: /pod-vladimirom-osuzhdeny-na-bolshie-sroki-ubijcy-bezdomnoj-mnogodetnoj-materi-3365/ (Caused by ConnectTimeoutError(<urllib3.connection.HTTPSConnection object at 0x000002875028C790>, 'Connection to sm-news.ru timed out. (connect timeout=20)'))\n",
      "cannot access local variable 'r' where it is not associated with a value\n",
      "HTTPSConnectionPool(host='sm-news.ru', port=443): Max retries exceeded with url: /pered-dnem-zashhitnika-otechestva-pyanyj-saratovec-iznasiloval-priyatelya-6446/ (Caused by ConnectTimeoutError(<urllib3.connection.HTTPSConnection object at 0x000002874F8EAB50>, 'Connection to sm-news.ru timed out. (connect timeout=20)'))\n",
      "cannot access local variable 'r' where it is not associated with a value\n",
      "HTTPSConnectionPool(host='sm-news.ru', port=443): Max retries exceeded with url: /otomstili-nasilniku-paru-iz-chuvashii-osudili-za-samosud-6402/ (Caused by ConnectTimeoutError(<urllib3.connection.HTTPSConnection object at 0x0000028755C9FE10>, 'Connection to sm-news.ru timed out. (connect timeout=20)'))\n",
      "cannot access local variable 'r' where it is not associated with a value\n",
      "HTTPSConnectionPool(host='sm-news.ru', port=443): Max retries exceeded with url: /vedma-buxenvalda-seks-i-nasilie-v-nacistskix-lageryax-24578/ (Caused by ConnectTimeoutError(<urllib3.connection.HTTPSConnection object at 0x000002874FC37B90>, 'Connection to sm-news.ru timed out. (connect timeout=20)'))\n",
      "cannot access local variable 'r' where it is not associated with a value\n",
      "HTTPSConnectionPool(host='sm-news.ru', port=443): Max retries exceeded with url: /zapyatnali-reputaciyu-6-zvezd-kotoryx-obvinili-v-iznasilovanii-40435/ (Caused by ConnectTimeoutError(<urllib3.connection.HTTPSConnection object at 0x000002874AFB1390>, 'Connection to sm-news.ru timed out. (connect timeout=20)'))\n",
      "cannot access local variable 'r' where it is not associated with a value\n",
      "HTTPSConnectionPool(host='sm-news.ru', port=443): Max retries exceeded with url: /on-reshil-chto-budet-zabavno-iznasilovat-menya-s-shestyu-druzyami-5-zvezd-podvergshiesya-seksualnomu-nasiliyu-45470/ (Caused by ConnectTimeoutError(<urllib3.connection.HTTPSConnection object at 0x000002874F758D90>, 'Connection to sm-news.ru timed out. (connect timeout=20)'))\n",
      "cannot access local variable 'r' where it is not associated with a value\n",
      "HTTPSConnectionPool(host='sm-news.ru', port=443): Max retries exceeded with url: /top-5-serijnyx-ubijc-o-kotoryx-vy-mozhete-ne-znat-45470/ (Caused by ConnectTimeoutError(<urllib3.connection.HTTPSConnection object at 0x000002874FF07ED0>, 'Connection to sm-news.ru timed out. (connect timeout=20)'))\n",
      "cannot access local variable 'r' where it is not associated with a value\n",
      "HTTPSConnectionPool(host='sm-news.ru', port=443): Max retries exceeded with url: /sozavisimy-i-ne-imeyut-zarabotka-kandelaki-rasskazala-pochemu-zhenshhiny-terpyat-domashnee-nasilie-2240/ (Caused by ConnectTimeoutError(<urllib3.connection.HTTPSConnection object at 0x000002874F7C5D10>, 'Connection to sm-news.ru timed out. (connect timeout=20)'))\n",
      "cannot access local variable 'r' where it is not associated with a value\n",
      "HTTPSConnectionPool(host='sm-news.ru', port=443): Max retries exceeded with url: /zhertve-nasilnikov-iz-mvd-stalo-ploxo-na-sude-v-ufe-1327/ (Caused by ConnectTimeoutError(<urllib3.connection.HTTPSConnection object at 0x000002874F8EAB10>, 'Connection to sm-news.ru timed out. (connect timeout=20)'))\n",
      "cannot access local variable 'r' where it is not associated with a value\n",
      "HTTPSConnectionPool(host='sm-news.ru', port=443): Max retries exceeded with url: /v-ufe-vozobnovyat-process-po-delu-ob-iznasilovanii-doznavatelya-kollegami-iz-mvd-9335/ (Caused by ConnectTimeoutError(<urllib3.connection.HTTPSConnection object at 0x0000028750B77E50>, 'Connection to sm-news.ru timed out. (connect timeout=20)'))\n",
      "cannot access local variable 'r' where it is not associated with a value\n",
      "HTTPSConnectionPool(host='sm-news.ru', port=443): Max retries exceeded with url: /top-5-samyx-gromkix-skandalov-sredi-gollivudskix-zvezd-47655/ (Caused by ConnectTimeoutError(<urllib3.connection.HTTPSConnection object at 0x000002874FF07890>, 'Connection to sm-news.ru timed out. (connect timeout=20)'))\n",
      "cannot access local variable 'r' where it is not associated with a value\n",
      "HTTPSConnectionPool(host='sm-news.ru', port=443): Max retries exceeded with url: /v-kakix-stranax-bezopasno-puteshestvovat-zhenshhinam-rejting-47655/ (Caused by ConnectTimeoutError(<urllib3.connection.HTTPSConnection object at 0x000002874FFA1C90>, 'Connection to sm-news.ru timed out. (connect timeout=20)'))\n",
      "cannot access local variable 'r' where it is not associated with a value\n",
      "HTTPSConnectionPool(host='sm-news.ru', port=443): Max retries exceeded with url: /v-slavgorode-razyskivayut-molodogo-nasilnika-recidivista-8450/ (Caused by ConnectTimeoutError(<urllib3.connection.HTTPSConnection object at 0x000002875051F790>, 'Connection to sm-news.ru timed out. (connect timeout=20)'))\n",
      "cannot access local variable 'r' where it is not associated with a value\n",
      "HTTPSConnectionPool(host='sm-news.ru', port=443): Max retries exceeded with url: /v-ulan-ude-obnaruzhen-golyj-trup-zhenshhiny-4704/ (Caused by ConnectTimeoutError(<urllib3.connection.HTTPSConnection object at 0x000002874F8EA190>, 'Connection to sm-news.ru timed out. (connect timeout=20)'))\n",
      "cannot access local variable 'r' where it is not associated with a value\n",
      "HTTPSConnectionPool(host='sm-news.ru', port=443): Max retries exceeded with url: /nagnavshij-straxu-na-zhenshhin-v-slavgorode-yunyj-manyak-zaderzhan-8450/ (Caused by ConnectTimeoutError(<urllib3.connection.HTTPSConnection object at 0x000002874FFFDB90>, 'Connection to sm-news.ru timed out. (connect timeout=20)'))\n",
      "cannot access local variable 'r' where it is not associated with a value\n",
      "HTTPSConnectionPool(host='sm-news.ru', port=443): Max retries exceeded with url: /kandelaki-proshlas-po-romanu-polanski-za-skandal-s-iznasilovaniem-55924/ (Caused by ConnectTimeoutError(<urllib3.connection.HTTPSConnection object at 0x000002875051C950>, 'Connection to sm-news.ru timed out. (connect timeout=20)'))\n",
      "cannot access local variable 'r' where it is not associated with a value\n",
      "HTTPSConnectionPool(host='sm-news.ru', port=443): Max retries exceeded with url: /pod-tyumenyu-za-poxishhenie-cheloveka-i-nasilie-budut-sudit-mestnogo-zhitelya-2282/ (Caused by ConnectTimeoutError(<urllib3.connection.HTTPSConnection object at 0x000002874F828690>, 'Connection to sm-news.ru timed out. (connect timeout=20)'))\n",
      "cannot access local variable 'r' where it is not associated with a value\n",
      "HTTPSConnectionPool(host='sm-news.ru', port=443): Max retries exceeded with url: /kak-raspoznat-v-okruzhenii-sociopatov-i-kak-zashhititsya-ot-nix-54027/ (Caused by ConnectTimeoutError(<urllib3.connection.HTTPSConnection object at 0x000002875097DFD0>, 'Connection to sm-news.ru timed out. (connect timeout=20)'))\n",
      "cannot access local variable 'r' where it is not associated with a value\n",
      "HTTPSConnectionPool(host='sm-news.ru', port=443): Max retries exceeded with url: /lgbt-aktivistka-obvinila-v-domogatelstvax-marata-safina-1327/ (Caused by ConnectTimeoutError(<urllib3.connection.HTTPSConnection object at 0x000002874F758FD0>, 'Connection to sm-news.ru timed out. (connect timeout=20)'))\n",
      "cannot access local variable 'r' where it is not associated with a value\n",
      "HTTPSConnectionPool(host='sm-news.ru', port=443): Max retries exceeded with url: /v-mire-otmetyat-mezhdunarodnyj-den-zashhity-seks-rabotnikov-ot-nasiliya-55924/ (Caused by ConnectTimeoutError(<urllib3.connection.HTTPSConnection object at 0x000002874FF054D0>, 'Connection to sm-news.ru timed out. (connect timeout=20)'))\n",
      "cannot access local variable 'r' where it is not associated with a value\n",
      "HTTPSConnectionPool(host='sm-news.ru', port=443): Max retries exceeded with url: /obvinyaemyj-v-iznasilovanii-devushki-na-ulice-zhitel-kostromy-predstanet-pered-sudom-3279/ (Caused by ConnectTimeoutError(<urllib3.connection.HTTPSConnection object at 0x00000287506DC710>, 'Connection to sm-news.ru timed out. (connect timeout=20)'))\n",
      "cannot access local variable 'r' where it is not associated with a value\n",
      "HTTPSConnectionPool(host='sm-news.ru', port=443): Max retries exceeded with url: /kaliningradskij-recidivist-ograbivshij-i-iznasilovavshij-80-letnyuyu-starushku-prigovoren-k-85-godam-9109/ (Caused by ConnectTimeoutError(<urllib3.connection.HTTPSConnection object at 0x000002874F759ED0>, 'Connection to sm-news.ru timed out. (connect timeout=20)'))\n",
      "cannot access local variable 'r' where it is not associated with a value\n",
      "HTTPSConnectionPool(host='sm-news.ru', port=443): Max retries exceeded with url: /nasiloval-i-grabil-nasledivshego-v-mordovii-zhitelya-nizhegorodskoj-oblasti-zhdet-sud-5190/ (Caused by ConnectTimeoutError(<urllib3.connection.HTTPSConnection object at 0x000002874F758590>, 'Connection to sm-news.ru timed out. (connect timeout=20)'))\n",
      "cannot access local variable 'r' where it is not associated with a value\n",
      "HTTPSConnectionPool(host='sm-news.ru', port=443): Max retries exceeded with url: /metod-sherloka-xolmsa-pomog-obezvredit-manyaka-iz-barnaula-8450/ (Caused by ConnectTimeoutError(<urllib3.connection.HTTPSConnection object at 0x0000028750B77AD0>, 'Connection to sm-news.ru timed out. (connect timeout=20)'))\n",
      "cannot access local variable 'r' where it is not associated with a value\n",
      "HTTPSConnectionPool(host='sm-news.ru', port=443): Max retries exceeded with url: /sledovateli-yamala-raskryli-trojnoe-ubijstvo-dvadcatiletnej-davnosti/ (Caused by ConnectTimeoutError(<urllib3.connection.HTTPSConnection object at 0x000002874FF04150>, 'Connection to sm-news.ru timed out. (connect timeout=20)'))\n",
      "cannot access local variable 'r' where it is not associated with a value\n",
      "HTTPSConnectionPool(host='sm-news.ru', port=443): Max retries exceeded with url: /ubijca-dvux-zhenshhin-osuzhden-v-saratove-na-pozhiznennoe-zaklyuchenie-55717/ (Caused by ConnectTimeoutError(<urllib3.connection.HTTPSConnection object at 0x000002874F8280D0>, 'Connection to sm-news.ru timed out. (connect timeout=20)'))\n",
      "cannot access local variable 'r' where it is not associated with a value\n",
      "HTTPSConnectionPool(host='sm-news.ru', port=443): Max retries exceeded with url: /vo-vladimirskoj-oblasti-osudili-nasilnika-3365/ (Caused by ConnectTimeoutError(<urllib3.connection.HTTPSConnection object at 0x000002875051D150>, 'Connection to sm-news.ru timed out. (connect timeout=20)'))\n",
      "cannot access local variable 'r' where it is not associated with a value\n",
      "HTTPSConnectionPool(host='sm-news.ru', port=443): Max retries exceeded with url: /nasilnika-iz-tadzhikistana-zaderzhali-pri-vezde-v-rossiyu-pod-novym-imenem-8384/ (Caused by ConnectTimeoutError(<urllib3.connection.HTTPSConnection object at 0x000002874FFFD490>, 'Connection to sm-news.ru timed out. (connect timeout=20)'))\n",
      "cannot access local variable 'r' where it is not associated with a value\n",
      "HTTPSConnectionPool(host='sm-news.ru', port=443): Max retries exceeded with url: /chitincu-grozit-pozhiznennoe-za-ubijstvo-i-iznasilovanie-zhenshhiny-6240/ (Caused by ConnectTimeoutError(<urllib3.connection.HTTPSConnection object at 0x000002875058B750>, 'Connection to sm-news.ru timed out. (connect timeout=20)'))\n",
      "cannot access local variable 'r' where it is not associated with a value\n",
      "HTTPSConnectionPool(host='sm-news.ru', port=443): Max retries exceeded with url: /skandal-vokrug-reginy-todorenko-chem-opasen-bulling-i-kak-ego-izbezhat-61226/ (Caused by ConnectTimeoutError(<urllib3.connection.HTTPSConnection object at 0x000002874FCC7C90>, 'Connection to sm-news.ru timed out. (connect timeout=20)'))\n",
      "cannot access local variable 'r' where it is not associated with a value\n",
      "HTTPSConnectionPool(host='sm-news.ru', port=443): Max retries exceeded with url: /kaliningradka-obvinyaetsya-v-seksualnom-nasilii-nad-devushkoj-9109/ (Caused by ConnectTimeoutError(<urllib3.connection.HTTPSConnection object at 0x000002874FC8DE50>, 'Connection to sm-news.ru timed out. (connect timeout=20)'))\n",
      "cannot access local variable 'r' where it is not associated with a value\n",
      "HTTPSConnectionPool(host='sm-news.ru', port=443): Max retries exceeded with url: /v-ufe-nasilniku-i-grabitelyu-dali-6-let-5068/ (Caused by ConnectTimeoutError(<urllib3.connection.HTTPSConnection object at 0x000002874F759C90>, 'Connection to sm-news.ru timed out. (connect timeout=20)'))\n",
      "cannot access local variable 'r' where it is not associated with a value\n",
      "HTTPSConnectionPool(host='sm-news.ru', port=443): Max retries exceeded with url: /manyaka-davida-sarabashyana-osudili-v-rostove-k-pozhiznennomu-zaklyucheniyu-3083/ (Caused by ConnectTimeoutError(<urllib3.connection.HTTPSConnection object at 0x000002874FF07D90>, 'Connection to sm-news.ru timed out. (connect timeout=20)'))\n",
      "cannot access local variable 'r' where it is not associated with a value\n",
      "HTTPSConnectionPool(host='sm-news.ru', port=443): Max retries exceeded with url: /policejskie-do-smerti-izbili-zhitelya-tomskoj-oblasti-4256/ (Caused by ConnectTimeoutError(<urllib3.connection.HTTPSConnection object at 0x000002874F8EBE10>, 'Connection to sm-news.ru timed out. (connect timeout=20)'))\n",
      "cannot access local variable 'r' where it is not associated with a value\n",
      "HTTPSConnectionPool(host='sm-news.ru', port=443): Max retries exceeded with url: /zhitelya-marij-el-osudyat-za-dvojnoe-ubijstvo-taburetom-55908/ (Caused by ConnectTimeoutError(<urllib3.connection.HTTPSConnection object at 0x000002874FFFEE10>, 'Connection to sm-news.ru timed out. (connect timeout=20)'))\n",
      "cannot access local variable 'r' where it is not associated with a value\n",
      "HTTPSConnectionPool(host='sm-news.ru', port=443): Max retries exceeded with url: /sk-pokazal-video-sledstvennogo-eksperimenta-s-manyakom-iz-irkutska-55924/ (Caused by ConnectTimeoutError(<urllib3.connection.HTTPSConnection object at 0x000002874F759550>, 'Connection to sm-news.ru timed out. (connect timeout=20)'))\n",
      "cannot access local variable 'r' where it is not associated with a value\n",
      "HTTPSConnectionPool(host='sm-news.ru', port=443): Max retries exceeded with url: /zhitelya-feodosii-osudyat-za-iznasilovanie-i-ubijstvo-pensionerki-56510/ (Caused by ConnectTimeoutError(<urllib3.connection.HTTPSConnection object at 0x00000287506DCA50>, 'Connection to sm-news.ru timed out. (connect timeout=20)'))\n",
      "cannot access local variable 'r' where it is not associated with a value\n",
      "HTTPSConnectionPool(host='sm-news.ru', port=443): Max retries exceeded with url: /sk-pokazal-video-sledstvennyx-dejstvij-s-saratovskim-nasilnikom-63187/ (Caused by ConnectTimeoutError(<urllib3.connection.HTTPSConnection object at 0x000002874FF04D10>, 'Connection to sm-news.ru timed out. (connect timeout=20)'))\n",
      "cannot access local variable 'r' where it is not associated with a value\n",
      "HTTPSConnectionPool(host='sm-news.ru', port=443): Max retries exceeded with url: /chitinec-poluchil-225-goda-kolonii-za-iznasilovanie-i-ubijstvo-zhenshhiny-6240/ (Caused by ConnectTimeoutError(<urllib3.connection.HTTPSConnection object at 0x000002874FCC4F10>, 'Connection to sm-news.ru timed out. (connect timeout=20)'))\n",
      "cannot access local variable 'r' where it is not associated with a value\n",
      "HTTPSConnectionPool(host='sm-news.ru', port=443): Max retries exceeded with url: /sk-zaderzhal-podozrevaemogo-v-ubijstve-i-iznasilovanii-trex-zhenshhin-v-podmoskove-55924/ (Caused by ConnectTimeoutError(<urllib3.connection.HTTPSConnection object at 0x000002875051FC50>, 'Connection to sm-news.ru timed out. (connect timeout=20)'))\n",
      "cannot access local variable 'r' where it is not associated with a value\n",
      "HTTPSConnectionPool(host='sm-news.ru', port=443): Max retries exceeded with url: /v-sevastopole-po-sledam-dnk-nashli-i-zaderzhali-serijnogo-nasilnika-9913/ (Caused by ConnectTimeoutError(<urllib3.connection.HTTPSConnection object at 0x000002874FFFE910>, 'Connection to sm-news.ru timed out. (connect timeout=20)'))\n",
      "cannot access local variable 'r' where it is not associated with a value\n",
      "HTTPSConnectionPool(host='sm-news.ru', port=443): Max retries exceeded with url: /v-chuvashii-vynesli-prigovor-serijnomu-nasilniku-6402/ (Caused by ConnectTimeoutError(<urllib3.connection.HTTPSConnection object at 0x0000028754CA0190>, 'Connection to sm-news.ru timed out. (connect timeout=20)'))\n",
      "cannot access local variable 'r' where it is not associated with a value\n",
      "HTTPSConnectionPool(host='sm-news.ru', port=443): Max retries exceeded with url: /serijnyj-nasilnik-iz-chepecka-predstanet-pered-sudom-5327/ (Caused by ConnectTimeoutError(<urllib3.connection.HTTPSConnection object at 0x000002875051F350>, 'Connection to sm-news.ru timed out. (connect timeout=20)'))\n",
      "cannot access local variable 'r' where it is not associated with a value\n",
      "HTTPSConnectionPool(host='sm-news.ru', port=443): Max retries exceeded with url: /zavershilo-sledstvie-po-delu-ubijcy-kotorogo-xoteli-linchevat-saratovcy-63187/ (Caused by ConnectTimeoutError(<urllib3.connection.HTTPSConnection object at 0x0000028750EE3A90>, 'Connection to sm-news.ru timed out. (connect timeout=20)'))\n",
      "cannot access local variable 'r' where it is not associated with a value\n",
      "HTTPSConnectionPool(host='sm-news.ru', port=443): Max retries exceeded with url: /ufimec-predstanet-pered-sudom-za-ubijstvo-zhenshhiny-sovershennoe-15-let-nazad-5068/ (Caused by ConnectTimeoutError(<urllib3.connection.HTTPSConnection object at 0x000002874F75AA90>, 'Connection to sm-news.ru timed out. (connect timeout=20)'))\n",
      "cannot access local variable 'r' where it is not associated with a value\n",
      "HTTPSConnectionPool(host='sm-news.ru', port=443): Max retries exceeded with url: /olimpijskaya-chempionka-svetlana-xorkina-raskritikovala-uchastnikov-dvizheniya-metoo-55924/ (Caused by ConnectTimeoutError(<urllib3.connection.HTTPSConnection object at 0x000002874FF04310>, 'Connection to sm-news.ru timed out. (connect timeout=20)'))\n",
      "cannot access local variable 'r' where it is not associated with a value\n",
      "HTTPSConnectionPool(host='sm-news.ru', port=443): Max retries exceeded with url: /vodonaeva-rasskazala-o-perezhityx-v-14-let-domogatelstvax-55717/ (Caused by ConnectTimeoutError(<urllib3.connection.HTTPSConnection object at 0x000002874F8E9CD0>, 'Connection to sm-news.ru timed out. (connect timeout=20)'))\n",
      "cannot access local variable 'r' where it is not associated with a value\n",
      "HTTPSConnectionPool(host='sm-news.ru', port=443): Max retries exceeded with url: /vodonaeva-vspomnila-cherchillya-posle-ispovedi-ob-iznasilovanii-1310/ (Caused by ConnectTimeoutError(<urllib3.connection.HTTPSConnection object at 0x000002874FFFE190>, 'Connection to sm-news.ru timed out. (connect timeout=20)'))\n",
      "cannot access local variable 'r' where it is not associated with a value\n",
      "HTTPSConnectionPool(host='sm-news.ru', port=443): Max retries exceeded with url: /volgogradec-pytalsya-za-polchasa-iznasilovat-dvux-zhenshhin-1573/ (Caused by ConnectTimeoutError(<urllib3.connection.HTTPSConnection object at 0x000002874F75B350>, 'Connection to sm-news.ru timed out. (connect timeout=20)'))\n",
      "cannot access local variable 'r' where it is not associated with a value\n",
      "HTTPSConnectionPool(host='sm-news.ru', port=443): Max retries exceeded with url: /v-saratove-ubijca-i-nasilnik-tuvatin-priznal-vinu-v-sude-63187/ (Caused by ConnectTimeoutError(<urllib3.connection.HTTPSConnection object at 0x00000287506DC850>, 'Connection to sm-news.ru timed out. (connect timeout=20)'))\n",
      "cannot access local variable 'r' where it is not associated with a value\n",
      "HTTPSConnectionPool(host='sm-news.ru', port=443): Max retries exceeded with url: /kapitan-mvd-pozhalovalas-chto-uchastkovyj-nadrugalsya-nad-nej-v-lesu-67724/ (Caused by ConnectTimeoutError(<urllib3.connection.HTTPSConnection object at 0x0000028750B57210>, 'Connection to sm-news.ru timed out. (connect timeout=20)'))\n",
      "cannot access local variable 'r' where it is not associated with a value\n",
      "HTTPSConnectionPool(host='sm-news.ru', port=443): Max retries exceeded with url: /v-tomskoj-oblasti-najden-podozrevaemyj-v-iznasilovaniyax-sovershaemyx-12-let-42561/ (Caused by ConnectTimeoutError(<urllib3.connection.HTTPSConnection object at 0x000002874FF07150>, 'Connection to sm-news.ru timed out. (connect timeout=20)'))\n",
      "cannot access local variable 'r' where it is not associated with a value\n",
      "HTTPSConnectionPool(host='sm-news.ru', port=443): Max retries exceeded with url: /konora-makgregora-arestovali-v-korsike-za-popytku-iznasilovaniya-55924/ (Caused by ConnectTimeoutError(<urllib3.connection.HTTPSConnection object at 0x000002875529A190>, 'Connection to sm-news.ru timed out. (connect timeout=20)'))\n",
      "cannot access local variable 'r' where it is not associated with a value\n",
      "HTTPSConnectionPool(host='sm-news.ru', port=443): Max retries exceeded with url: /delo-ob-iznasilovanii-i-ubijstve-sester-v-rybinske-peredano-v-ca-sk-68511/ (Caused by ConnectTimeoutError(<urllib3.connection.HTTPSConnection object at 0x000002874FFFED50>, 'Connection to sm-news.ru timed out. (connect timeout=20)'))\n",
      "cannot access local variable 'r' where it is not associated with a value\n",
      "HTTPSConnectionPool(host='sm-news.ru', port=443): Max retries exceeded with url: /sud-arestoval-ubijcu-dvux-sester-v-rybinske-55717/ (Caused by ConnectTimeoutError(<urllib3.connection.HTTPSConnection object at 0x000002874FB67990>, 'Connection to sm-news.ru timed out. (connect timeout=20)'))\n",
      "cannot access local variable 'r' where it is not associated with a value\n",
      "HTTPSConnectionPool(host='sm-news.ru', port=443): Max retries exceeded with url: /koroleva-velikobritanii-elizaveta-ii-lishila-skandalno-izvestnogo-amerikanskogo-prodyusera-xarvi-vajnshtena-pochetnogo-titula-britanskoj-imperii-66874/ (Caused by ConnectTimeoutError(<urllib3.connection.HTTPSConnection object at 0x000002875051C250>, 'Connection to sm-news.ru timed out. (connect timeout=20)'))\n",
      "cannot access local variable 'r' where it is not associated with a value\n",
      "HTTPSConnectionPool(host='sm-news.ru', port=443): Max retries exceeded with url: /provokacii-s-domom-na-batova-rasprostranyaet-zashhitnik-nasilnika-63331/ (Caused by ConnectTimeoutError(<urllib3.connection.HTTPSConnection object at 0x0000028750EE3B50>, 'Connection to sm-news.ru timed out. (connect timeout=20)'))\n",
      "cannot access local variable 'r' where it is not associated with a value\n",
      "HTTPSConnectionPool(host='sm-news.ru', port=443): Max retries exceeded with url: /staya-brodyachix-sobak-spasla-zhenshhinu-ot-nasilnika-69231/ (Caused by ConnectTimeoutError(<urllib3.connection.HTTPSConnection object at 0x000002874F75AD90>, 'Connection to sm-news.ru timed out. (connect timeout=20)'))\n",
      "cannot access local variable 'r' where it is not associated with a value\n",
      "HTTPSConnectionPool(host='sm-news.ru', port=443): Max retries exceeded with url: /chudesnaya-derevnya-gorodok-ssha-s-tyomnym-sekretom-zdes-zhivut-seksualnye-prestupniki-58271/ (Caused by ConnectTimeoutError(<urllib3.connection.HTTPSConnection object at 0x000002874FF06410>, 'Connection to sm-news.ru timed out. (connect timeout=20)'))\n",
      "cannot access local variable 'r' where it is not associated with a value\n",
      "HTTPSConnectionPool(host='sm-news.ru', port=443): Max retries exceeded with url: /podozrevaemyj-v-ubijstve-mashi-lozhkarevoj-predstanet-pered-sudom-63061/ (Caused by ConnectTimeoutError(<urllib3.connection.HTTPSConnection object at 0x000002874F8EA8D0>, 'Connection to sm-news.ru timed out. (connect timeout=20)'))\n",
      "cannot access local variable 'r' where it is not associated with a value\n",
      "HTTPSConnectionPool(host='sm-news.ru', port=443): Max retries exceeded with url: /sotrudnica-policii-vydumala-iznasilovanie-chtoby-skryt-progul-56509/ (Caused by ConnectTimeoutError(<urllib3.connection.HTTPSConnection object at 0x000002874FFFCE50>, 'Connection to sm-news.ru timed out. (connect timeout=20)'))\n",
      "cannot access local variable 'r' where it is not associated with a value\n",
      "HTTPSConnectionPool(host='sm-news.ru', port=443): Max retries exceeded with url: /emu-nuzhny-golye-zhenshhiny-zalitye-krovyu-eks-supruga-vladimira-epifanceva-rasskazala-o-ego-pristrastiyax-62823/ (Caused by ConnectTimeoutError(<urllib3.connection.HTTPSConnection object at 0x0000028750B774D0>, 'Connection to sm-news.ru timed out. (connect timeout=20)'))\n",
      "cannot access local variable 'r' where it is not associated with a value\n",
      "HTTPSConnectionPool(host='sm-news.ru', port=443): Max retries exceeded with url: /v-tule-mestnye-zhiteli-pomogli-pojmat-nasilnika-70443/ (Caused by ConnectTimeoutError(<urllib3.connection.HTTPSConnection object at 0x000002874F7C7E50>, 'Connection to sm-news.ru timed out. (connect timeout=20)'))\n",
      "cannot access local variable 'r' where it is not associated with a value\n",
      "HTTPSConnectionPool(host='sm-news.ru', port=443): Max retries exceeded with url: /zaderzhannogo-na-kosoj-gore-v-tule-nasilnika-zaklyuchili-pod-strazhu-55717/ (Caused by ConnectTimeoutError(<urllib3.connection.HTTPSConnection object at 0x000002875051DF50>, 'Connection to sm-news.ru timed out. (connect timeout=20)'))\n",
      "cannot access local variable 'r' where it is not associated with a value\n",
      "HTTPSConnectionPool(host='sm-news.ru', port=443): Max retries exceeded with url: /zhitel-tatarstana-izreshetil-druga-nozhom-i-iznasiloval-ego-lyubovnicu-49901/ (Caused by ConnectTimeoutError(<urllib3.connection.HTTPSConnection object at 0x000002874FF04850>, 'Connection to sm-news.ru timed out. (connect timeout=20)'))\n",
      "cannot access local variable 'r' where it is not associated with a value\n",
      "HTTPSConnectionPool(host='sm-news.ru', port=443): Max retries exceeded with url: /ranee-sudimogo-saratovca-budut-sudit-za-razboj-i-seksualnoe-nasilie-63187-u3t5/ (Caused by ConnectTimeoutError(<urllib3.connection.HTTPSConnection object at 0x000002874F7F0C10>, 'Connection to sm-news.ru timed out. (connect timeout=20)'))\n",
      "cannot access local variable 'r' where it is not associated with a value\n",
      "HTTPSConnectionPool(host='sm-news.ru', port=443): Max retries exceeded with url: /sverdlovchanina-obvinyayut-v-iznasilovaniyax-i-ubijstvax-detej-sovershennyx-24-goda-nazad-56509/ (Caused by ConnectTimeoutError(<urllib3.connection.HTTPSConnection object at 0x000002874FCC4750>, 'Connection to sm-news.ru timed out. (connect timeout=20)'))\n",
      "cannot access local variable 'r' where it is not associated with a value\n",
      "HTTPSConnectionPool(host='sm-news.ru', port=443): Max retries exceeded with url: /polsha-ekstradirovala-v-rossiyu-obvinyaemogo-v-iznasilovanii-55924/ (Caused by ConnectTimeoutError(<urllib3.connection.HTTPSConnection object at 0x0000028747CC8290>, 'Connection to sm-news.ru timed out. (connect timeout=20)'))\n",
      "cannot access local variable 'r' where it is not associated with a value\n",
      "HTTPSConnectionPool(host='sm-news.ru', port=443): Max retries exceeded with url: /dva-ugolovnyx-dela-vozbudil-ivanovskij-skr-v-otnoshenii-serijnogo-nasilnika-69781-u3t5/ (Caused by ConnectTimeoutError(<urllib3.connection.HTTPSConnection object at 0x000002875051F7D0>, 'Connection to sm-news.ru timed out. (connect timeout=20)'))\n",
      "cannot access local variable 'r' where it is not associated with a value\n",
      "HTTPSConnectionPool(host='sm-news.ru', port=443): Max retries exceeded with url: /zhitel-izhevska-obvinyaetsya-v-ubijstve-i-iznasilovanii-57062-u3t5/ (Caused by ConnectTimeoutError(<urllib3.connection.HTTPSConnection object at 0x0000028750353310>, 'Connection to sm-news.ru timed out. (connect timeout=20)'))\n",
      "cannot access local variable 'r' where it is not associated with a value\n",
      "HTTPSConnectionPool(host='sm-news.ru', port=443): Max retries exceeded with url: /zhitelnica-eao-zaderzhana-za-unizhenie-i-nadrugatelstvo-nad-devushkoj-popavshee-na-video-69231/ (Caused by ConnectTimeoutError(<urllib3.connection.HTTPSConnection object at 0x000002874F759650>, 'Connection to sm-news.ru timed out. (connect timeout=20)'))\n",
      "cannot access local variable 'r' where it is not associated with a value\n",
      "HTTPSConnectionPool(host='sm-news.ru', port=443): Max retries exceeded with url: /obvinyaemogo-v-iznasilovanii-57-zhenshhin-modelera-vzyali-pod-strazhu-do-yanvarya-55924/ (Caused by ConnectTimeoutError(<urllib3.connection.HTTPSConnection object at 0x000002874FF070D0>, 'Connection to sm-news.ru timed out. (connect timeout=20)'))\n",
      "cannot access local variable 'r' where it is not associated with a value\n",
      "'NoneType' object has no attribute 'get'\n",
      "HTTPSConnectionPool(host='ru.sm.news', port=443): Max retries exceeded with url: /prilozhenie-iconsent-s-registraciej-soglasiya-na-seks-sozdali-v-danii-iz-za-lzhi-ob-iznasilovaniyax-70968/ (Caused by NameResolutionError(\"<urllib3.connection.HTTPSConnection object at 0x000002874F9294D0>: Failed to resolve 'ru.sm.news' ([Errno 11001] getaddrinfo failed)\"))\n",
      "cannot access local variable 'r' where it is not associated with a value\n",
      "'NoneType' object has no attribute 'get'\n",
      "HTTPSConnectionPool(host='sm-news.ru', port=443): Max retries exceeded with url: /evrosoyuz-prizval-turciyu-peresmotret-vyxod-iz-konvencii-po-zashhite-zhenshhin-56509/ (Caused by ConnectTimeoutError(<urllib3.connection.HTTPSConnection object at 0x000002875526A350>, 'Connection to sm-news.ru timed out. (connect timeout=20)'))\n",
      "cannot access local variable 'r' where it is not associated with a value\n",
      "HTTPSConnectionPool(host='sm-news.ru', port=443): Max retries exceeded with url: /sheron-stoun-obvinila-rodnogo-dedushku-v-seksualnom-nasilii-60798-u3t5/ (Caused by ConnectTimeoutError(<urllib3.connection.HTTPSConnection object at 0x0000028751DE2E90>, 'Connection to sm-news.ru timed out. (connect timeout=20)'))\n",
      "cannot access local variable 'r' where it is not associated with a value\n",
      "HTTPSConnectionPool(host='sm-news.ru', port=443): Max retries exceeded with url: /v-barnaule-policejskie-pojmali-devushku-kotoraya-vyprygnula-iz-okna-spasayas-ot-nasilnikov-55924/ (Caused by ConnectTimeoutError(<urllib3.connection.HTTPSConnection object at 0x0000028754C06D50>, 'Connection to sm-news.ru timed out. (connect timeout=20)'))\n",
      "cannot access local variable 'r' where it is not associated with a value\n",
      "HTTPSConnectionPool(host='sm-news.ru', port=443): Max retries exceeded with url: /vdova-olega-tabakova-zudina-raskritikovala-elenu-proklovu-za-otkroveniya-na-shou-o-domogatelstvax-68511/ (Caused by ConnectTimeoutError(<urllib3.connection.HTTPSConnection object at 0x000002875072E450>, 'Connection to sm-news.ru timed out. (connect timeout=20)'))\n",
      "cannot access local variable 'r' where it is not associated with a value\n",
      "HTTPSConnectionPool(host='sm-news.ru', port=443): Max retries exceeded with url: /express-ginekolog-adib-perechislila-rasprostranennye-simptomy-vaginizma-u-zhenshhin-68360-u3t5/ (Caused by ConnectTimeoutError(<urllib3.connection.HTTPSConnection object at 0x000002874AC75090>, 'Connection to sm-news.ru timed out. (connect timeout=20)'))\n",
      "cannot access local variable 'r' where it is not associated with a value\n",
      "HTTPSConnectionPool(host='sm.news', port=443): Read timed out. (read timeout=20)\n",
      "cannot access local variable 'r' where it is not associated with a value\n",
      "HTTPSConnectionPool(host='sm-news.ru', port=443): Max retries exceeded with url: /pevica-valeriya-ocenila-zayavlenie-proklovoj-o-seksualnyx-domogatelstvax-68511/ (Caused by ConnectTimeoutError(<urllib3.connection.HTTPSConnection object at 0x000002874AF095D0>, 'Connection to sm-news.ru timed out. (connect timeout=20)'))\n",
      "cannot access local variable 'r' where it is not associated with a value\n",
      "HTTPSConnectionPool(host='sm.news', port=443): Read timed out. (read timeout=20)\n",
      "cannot access local variable 'r' where it is not associated with a value\n",
      "HTTPSConnectionPool(host='volgograd.sm.news', port=443): Read timed out. (read timeout=20)\n",
      "cannot access local variable 'r' where it is not associated with a value\n",
      "'NoneType' object has no attribute 'get'\n",
      "CPU times: total: 2min 5s\n",
      "Wall time: 55min 54s\n"
     ]
    }
   ],
   "source": [
    "%%time\n",
    "headlines, descriptions, article_bodies, urls = parser(links_sm, sm_scraper)"
   ]
  },
  {
   "cell_type": "code",
   "execution_count": 157,
   "id": "5a4b8040-7d25-4e1c-b22e-8e3bff5dd5b0",
   "metadata": {},
   "outputs": [
    {
     "data": {
      "text/plain": [
       "(129, 4)"
      ]
     },
     "execution_count": 157,
     "metadata": {},
     "output_type": "execute_result"
    }
   ],
   "source": [
    "d = {'headline': headlines, 'description': descriptions, 'article_body': article_bodies, 'url' : urls}\n",
    "texts_sm = pd.DataFrame(data=d)\n",
    "texts_sm.shape"
   ]
  },
  {
   "cell_type": "code",
   "execution_count": 158,
   "id": "e0c786d4-a0fd-4edd-af7e-a094a318226d",
   "metadata": {},
   "outputs": [],
   "source": [
    "save_texts(name, texts_sm)\n",
    "texts_all = pd.concat([texts_all, texts_sm])"
   ]
  },
  {
   "cell_type": "code",
   "execution_count": null,
   "id": "2e9bc7ad-d835-4893-9b87-b1ef2f250f3b",
   "metadata": {},
   "outputs": [],
   "source": []
  },
  {
   "cell_type": "markdown",
   "id": "f1c6fa90-08f9-4f4a-b97d-28140d5fdbbf",
   "metadata": {},
   "source": [
    "## Взгляд.Ру"
   ]
  },
  {
   "cell_type": "code",
   "execution_count": 159,
   "id": "20a8c944-479d-45c3-8fdf-7e139fbce9ee",
   "metadata": {},
   "outputs": [],
   "source": [
    "name = 'Взгляд.Ру'"
   ]
  },
  {
   "cell_type": "code",
   "execution_count": 160,
   "id": "c36f5fd3-2627-4854-b846-aa0844c5aa40",
   "metadata": {},
   "outputs": [],
   "source": [
    "def vz_scraper(link):\n",
    "\n",
    "    try:\n",
    "        try:\n",
    "          r = requests.get(link, timeout=20)\n",
    "        except requests.exceptions.RequestException as ex:\n",
    "          print(ex)\n",
    "\n",
    "        soup = BeautifulSoup(r.content, \"html.parser\")\n",
    "\n",
    "        headline = soup.find('meta', property=\"og:title\").get(\"content\")\n",
    "        description = soup.find('meta', property=\"og:description\").get(\"content\")\n",
    "        article_body = soup.find('div', {'class': \"news_text\"}).get_text()\n",
    "\n",
    "        return(headline, description, article_body)\n",
    "\n",
    "    except (UnboundLocalError, KeyError, AttributeError, UnicodeDecodeError) as error:\n",
    "      print(error)\n",
    "      pass"
   ]
  },
  {
   "cell_type": "code",
   "execution_count": 161,
   "id": "617b11ab-3be8-47b2-bc52-c50fd616d9f6",
   "metadata": {},
   "outputs": [
    {
     "data": {
      "text/plain": [
       "(326,)"
      ]
     },
     "execution_count": 161,
     "metadata": {},
     "output_type": "execute_result"
    }
   ],
   "source": [
    "links_vz = data[data.newspaper == name].url\n",
    "links_vz.shape"
   ]
  },
  {
   "cell_type": "code",
   "execution_count": 162,
   "id": "897ef640-856a-4359-94e1-35e1e439e111",
   "metadata": {},
   "outputs": [
    {
     "name": "stdout",
     "output_type": "stream",
     "text": [
      "'NoneType' object has no attribute 'get'\n",
      "'NoneType' object has no attribute 'get'\n",
      "'NoneType' object has no attribute 'get'\n",
      "CPU times: total: 4min 41s\n",
      "Wall time: 7min 46s\n"
     ]
    }
   ],
   "source": [
    "%%time\n",
    "headlines, descriptions, article_bodies, urls = parser(links_vz, vz_scraper)"
   ]
  },
  {
   "cell_type": "code",
   "execution_count": 163,
   "id": "8ebaebce-1488-4118-af34-c040d68c29dc",
   "metadata": {},
   "outputs": [
    {
     "data": {
      "text/plain": [
       "(323, 4)"
      ]
     },
     "execution_count": 163,
     "metadata": {},
     "output_type": "execute_result"
    }
   ],
   "source": [
    "d = {'headline': headlines, 'description': descriptions, 'article_body': article_bodies, 'url' : urls}\n",
    "texts_vz = pd.DataFrame(data=d)\n",
    "texts_vz.shape"
   ]
  },
  {
   "cell_type": "code",
   "execution_count": 164,
   "id": "3528eb88-fc0b-4c78-b84d-3ebaa5299bf4",
   "metadata": {},
   "outputs": [],
   "source": [
    "save_texts(name, texts_vz)\n",
    "texts_all = pd.concat([texts_all, texts_vz])"
   ]
  },
  {
   "cell_type": "code",
   "execution_count": null,
   "id": "dd441425-fa44-4505-9408-30f0bf98111e",
   "metadata": {},
   "outputs": [],
   "source": []
  },
  {
   "cell_type": "markdown",
   "id": "99073e46-1fc6-4608-b9a8-ea0ef7218170",
   "metadata": {},
   "source": [
    "## Общественная служба новостей (osnmedia.ru)"
   ]
  },
  {
   "cell_type": "code",
   "execution_count": 165,
   "id": "fcd4b8ae-cb96-4b8f-9202-5ee0371d37e3",
   "metadata": {},
   "outputs": [],
   "source": [
    "name = 'Общественная служба новостей (osnmedia.ru)'"
   ]
  },
  {
   "cell_type": "code",
   "execution_count": 166,
   "id": "799567f4-b95e-47be-84cd-59f67e2cffe8",
   "metadata": {},
   "outputs": [],
   "source": [
    "def osn_scraper(link):\n",
    "\n",
    "    try:\n",
    "        try:\n",
    "          r = requests.get(link, timeout=20)\n",
    "        except requests.exceptions.RequestException as ex:\n",
    "          print(ex)\n",
    "\n",
    "        soup = BeautifulSoup(r.content, \"html.parser\")\n",
    "\n",
    "        headline = soup.find('meta', property=\"og:title\").get(\"content\")\n",
    "        description = soup.find('meta', property=\"og:description\").get(\"content\")\n",
    "        article_body = soup.find('div', {'itemprop': 'articleBody'}).get_text()\n",
    "\n",
    "        return(headline, description, article_body)\n",
    "\n",
    "    except (UnboundLocalError, KeyError, AttributeError, UnicodeDecodeError) as error:\n",
    "      print(error)\n",
    "      pass"
   ]
  },
  {
   "cell_type": "code",
   "execution_count": 167,
   "id": "40198e5a-6edd-4346-9722-9e3bd2ffc17e",
   "metadata": {},
   "outputs": [
    {
     "data": {
      "text/plain": [
       "(290,)"
      ]
     },
     "execution_count": 167,
     "metadata": {},
     "output_type": "execute_result"
    }
   ],
   "source": [
    "links_osn = data[data.newspaper == name].url\n",
    "links_osn.shape"
   ]
  },
  {
   "cell_type": "code",
   "execution_count": 168,
   "id": "5450f31e-e32b-4162-a8b0-7a68e3a86198",
   "metadata": {},
   "outputs": [
    {
     "name": "stdout",
     "output_type": "stream",
     "text": [
      "CPU times: total: 3min 22s\n",
      "Wall time: 8min\n"
     ]
    }
   ],
   "source": [
    "%%time\n",
    "headlines, descriptions, article_bodies, urls = parser(links_osn, osn_scraper)"
   ]
  },
  {
   "cell_type": "code",
   "execution_count": 169,
   "id": "c1ee58d4-8e4e-43a9-a115-7cacb5578145",
   "metadata": {},
   "outputs": [
    {
     "data": {
      "text/plain": [
       "(290, 4)"
      ]
     },
     "execution_count": 169,
     "metadata": {},
     "output_type": "execute_result"
    }
   ],
   "source": [
    "d = {'headline': headlines, 'description': descriptions, 'article_body': article_bodies, 'url' : urls}\n",
    "texts_osn = pd.DataFrame(data=d)\n",
    "texts_osn.shape"
   ]
  },
  {
   "cell_type": "code",
   "execution_count": 170,
   "id": "7eb3d78c-1805-4efa-b4e5-719427505bb8",
   "metadata": {},
   "outputs": [],
   "source": [
    "save_texts(name, texts_osn)\n",
    "texts_all = pd.concat([texts_all, texts_osn])"
   ]
  },
  {
   "cell_type": "code",
   "execution_count": null,
   "id": "3761cf73-0b8b-48c7-96b8-a9c8e5d5ddc2",
   "metadata": {},
   "outputs": [],
   "source": []
  },
  {
   "cell_type": "markdown",
   "id": "af651470-8406-45c3-b976-6cff79fb2b8f",
   "metadata": {},
   "source": [
    "## Смотрим (smotrim.ru)"
   ]
  },
  {
   "cell_type": "code",
   "execution_count": 171,
   "id": "cc16a38a-d06f-4768-bdd1-9e57a7158e63",
   "metadata": {},
   "outputs": [
    {
     "data": {
      "text/plain": [
       "'Смотрим (smotrim.ru)'"
      ]
     },
     "execution_count": 171,
     "metadata": {},
     "output_type": "execute_result"
    }
   ],
   "source": [
    "'Смотрим (smotrim.ru)'"
   ]
  },
  {
   "cell_type": "code",
   "execution_count": 172,
   "id": "0679ae02-4c6a-4cc0-ba35-bc1425937a89",
   "metadata": {},
   "outputs": [],
   "source": [
    "def smo_scraper(link):\n",
    "\n",
    "    try:\n",
    "        try:\n",
    "          r = requests.get(link, timeout=20)\n",
    "        except requests.exceptions.RequestException as ex:\n",
    "          print(ex)\n",
    "\n",
    "        soup = BeautifulSoup(r.content, \"html.parser\")\n",
    "\n",
    "        headline = soup.find('meta', property=\"og:title\").get(\"content\")\n",
    "        description = soup.find('meta', property=\"og:description\").get(\"content\")\n",
    "        article_body = soup.find('div', {'class':'article-main-item__body'}).get_text()\n",
    "\n",
    "        return(headline, description, article_body)\n",
    "\n",
    "    except (UnboundLocalError, KeyError, AttributeError, UnicodeDecodeError) as error:\n",
    "      print(error)\n",
    "      pass"
   ]
  },
  {
   "cell_type": "code",
   "execution_count": 173,
   "id": "76173218-beef-4089-86c9-9013caa0d583",
   "metadata": {},
   "outputs": [
    {
     "data": {
      "text/plain": [
       "(290,)"
      ]
     },
     "execution_count": 173,
     "metadata": {},
     "output_type": "execute_result"
    }
   ],
   "source": [
    "links_smo = data[data.newspaper == name].url\n",
    "links_smo.shape"
   ]
  },
  {
   "cell_type": "code",
   "execution_count": 174,
   "id": "3e0e7d22-1a17-416a-92ee-cccc87c8e7e1",
   "metadata": {},
   "outputs": [
    {
     "name": "stdout",
     "output_type": "stream",
     "text": [
      "'NoneType' object has no attribute 'get_text'\n",
      "'NoneType' object has no attribute 'get_text'\n",
      "'NoneType' object has no attribute 'get_text'\n",
      "'NoneType' object has no attribute 'get_text'\n",
      "'NoneType' object has no attribute 'get_text'\n",
      "'NoneType' object has no attribute 'get_text'\n",
      "'NoneType' object has no attribute 'get_text'\n",
      "'NoneType' object has no attribute 'get_text'\n",
      "'NoneType' object has no attribute 'get_text'\n",
      "'NoneType' object has no attribute 'get_text'\n",
      "'NoneType' object has no attribute 'get_text'\n",
      "'NoneType' object has no attribute 'get_text'\n",
      "'NoneType' object has no attribute 'get_text'\n",
      "'NoneType' object has no attribute 'get_text'\n",
      "'NoneType' object has no attribute 'get_text'\n",
      "'NoneType' object has no attribute 'get_text'\n",
      "'NoneType' object has no attribute 'get_text'\n",
      "'NoneType' object has no attribute 'get_text'\n",
      "'NoneType' object has no attribute 'get_text'\n",
      "'NoneType' object has no attribute 'get_text'\n",
      "'NoneType' object has no attribute 'get_text'\n",
      "'NoneType' object has no attribute 'get_text'\n",
      "'NoneType' object has no attribute 'get_text'\n",
      "'NoneType' object has no attribute 'get_text'\n",
      "'NoneType' object has no attribute 'get_text'\n",
      "'NoneType' object has no attribute 'get_text'\n",
      "'NoneType' object has no attribute 'get_text'\n",
      "'NoneType' object has no attribute 'get_text'\n",
      "'NoneType' object has no attribute 'get_text'\n",
      "'NoneType' object has no attribute 'get_text'\n",
      "'NoneType' object has no attribute 'get_text'\n",
      "'NoneType' object has no attribute 'get_text'\n",
      "'NoneType' object has no attribute 'get_text'\n",
      "'NoneType' object has no attribute 'get_text'\n",
      "'NoneType' object has no attribute 'get_text'\n",
      "'NoneType' object has no attribute 'get_text'\n",
      "'NoneType' object has no attribute 'get_text'\n",
      "'NoneType' object has no attribute 'get_text'\n",
      "'NoneType' object has no attribute 'get_text'\n",
      "'NoneType' object has no attribute 'get_text'\n",
      "'NoneType' object has no attribute 'get_text'\n",
      "'NoneType' object has no attribute 'get_text'\n",
      "'NoneType' object has no attribute 'get_text'\n",
      "'NoneType' object has no attribute 'get_text'\n",
      "'NoneType' object has no attribute 'get_text'\n",
      "'NoneType' object has no attribute 'get_text'\n",
      "'NoneType' object has no attribute 'get_text'\n",
      "'NoneType' object has no attribute 'get_text'\n",
      "'NoneType' object has no attribute 'get_text'\n",
      "'NoneType' object has no attribute 'get_text'\n",
      "'NoneType' object has no attribute 'get_text'\n",
      "'NoneType' object has no attribute 'get_text'\n",
      "'NoneType' object has no attribute 'get_text'\n",
      "'NoneType' object has no attribute 'get_text'\n",
      "'NoneType' object has no attribute 'get_text'\n",
      "'NoneType' object has no attribute 'get_text'\n",
      "'NoneType' object has no attribute 'get_text'\n",
      "'NoneType' object has no attribute 'get_text'\n",
      "'NoneType' object has no attribute 'get_text'\n",
      "'NoneType' object has no attribute 'get_text'\n",
      "'NoneType' object has no attribute 'get_text'\n",
      "'NoneType' object has no attribute 'get_text'\n",
      "'NoneType' object has no attribute 'get_text'\n",
      "'NoneType' object has no attribute 'get_text'\n",
      "'NoneType' object has no attribute 'get_text'\n",
      "'NoneType' object has no attribute 'get_text'\n",
      "'NoneType' object has no attribute 'get_text'\n",
      "'NoneType' object has no attribute 'get_text'\n",
      "'NoneType' object has no attribute 'get_text'\n",
      "'NoneType' object has no attribute 'get_text'\n",
      "'NoneType' object has no attribute 'get_text'\n",
      "'NoneType' object has no attribute 'get_text'\n",
      "'NoneType' object has no attribute 'get_text'\n",
      "'NoneType' object has no attribute 'get_text'\n",
      "'NoneType' object has no attribute 'get_text'\n",
      "'NoneType' object has no attribute 'get_text'\n",
      "'NoneType' object has no attribute 'get_text'\n",
      "'NoneType' object has no attribute 'get_text'\n",
      "'NoneType' object has no attribute 'get_text'\n",
      "'NoneType' object has no attribute 'get_text'\n",
      "'NoneType' object has no attribute 'get_text'\n",
      "'NoneType' object has no attribute 'get_text'\n",
      "'NoneType' object has no attribute 'get_text'\n",
      "'NoneType' object has no attribute 'get_text'\n",
      "'NoneType' object has no attribute 'get_text'\n",
      "'NoneType' object has no attribute 'get_text'\n",
      "'NoneType' object has no attribute 'get_text'\n",
      "'NoneType' object has no attribute 'get_text'\n",
      "'NoneType' object has no attribute 'get_text'\n",
      "'NoneType' object has no attribute 'get_text'\n",
      "'NoneType' object has no attribute 'get_text'\n",
      "'NoneType' object has no attribute 'get_text'\n",
      "'NoneType' object has no attribute 'get_text'\n",
      "'NoneType' object has no attribute 'get_text'\n",
      "'NoneType' object has no attribute 'get_text'\n",
      "'NoneType' object has no attribute 'get_text'\n",
      "'NoneType' object has no attribute 'get_text'\n",
      "'NoneType' object has no attribute 'get_text'\n",
      "'NoneType' object has no attribute 'get_text'\n",
      "'NoneType' object has no attribute 'get_text'\n",
      "'NoneType' object has no attribute 'get_text'\n",
      "'NoneType' object has no attribute 'get_text'\n",
      "'NoneType' object has no attribute 'get_text'\n",
      "'NoneType' object has no attribute 'get_text'\n",
      "'NoneType' object has no attribute 'get_text'\n",
      "'NoneType' object has no attribute 'get_text'\n",
      "'NoneType' object has no attribute 'get_text'\n",
      "'NoneType' object has no attribute 'get_text'\n",
      "'NoneType' object has no attribute 'get_text'\n",
      "'NoneType' object has no attribute 'get_text'\n",
      "'NoneType' object has no attribute 'get_text'\n",
      "'NoneType' object has no attribute 'get_text'\n",
      "'NoneType' object has no attribute 'get_text'\n",
      "'NoneType' object has no attribute 'get_text'\n",
      "'NoneType' object has no attribute 'get_text'\n",
      "'NoneType' object has no attribute 'get_text'\n",
      "'NoneType' object has no attribute 'get_text'\n",
      "'NoneType' object has no attribute 'get_text'\n",
      "'NoneType' object has no attribute 'get_text'\n",
      "'NoneType' object has no attribute 'get_text'\n",
      "'NoneType' object has no attribute 'get_text'\n",
      "'NoneType' object has no attribute 'get_text'\n",
      "'NoneType' object has no attribute 'get_text'\n",
      "'NoneType' object has no attribute 'get_text'\n",
      "'NoneType' object has no attribute 'get_text'\n",
      "'NoneType' object has no attribute 'get_text'\n",
      "'NoneType' object has no attribute 'get_text'\n",
      "'NoneType' object has no attribute 'get_text'\n",
      "'NoneType' object has no attribute 'get_text'\n",
      "'NoneType' object has no attribute 'get_text'\n",
      "'NoneType' object has no attribute 'get_text'\n",
      "'NoneType' object has no attribute 'get_text'\n",
      "'NoneType' object has no attribute 'get_text'\n",
      "'NoneType' object has no attribute 'get_text'\n",
      "'NoneType' object has no attribute 'get_text'\n",
      "'NoneType' object has no attribute 'get_text'\n",
      "'NoneType' object has no attribute 'get_text'\n",
      "'NoneType' object has no attribute 'get_text'\n",
      "'NoneType' object has no attribute 'get_text'\n",
      "'NoneType' object has no attribute 'get_text'\n",
      "'NoneType' object has no attribute 'get_text'\n",
      "'NoneType' object has no attribute 'get_text'\n",
      "'NoneType' object has no attribute 'get_text'\n",
      "'NoneType' object has no attribute 'get_text'\n",
      "'NoneType' object has no attribute 'get_text'\n",
      "'NoneType' object has no attribute 'get_text'\n",
      "'NoneType' object has no attribute 'get_text'\n",
      "'NoneType' object has no attribute 'get_text'\n",
      "'NoneType' object has no attribute 'get_text'\n",
      "'NoneType' object has no attribute 'get_text'\n",
      "'NoneType' object has no attribute 'get_text'\n",
      "'NoneType' object has no attribute 'get_text'\n",
      "'NoneType' object has no attribute 'get_text'\n",
      "'NoneType' object has no attribute 'get_text'\n",
      "'NoneType' object has no attribute 'get_text'\n",
      "'NoneType' object has no attribute 'get_text'\n",
      "'NoneType' object has no attribute 'get_text'\n",
      "'NoneType' object has no attribute 'get_text'\n",
      "'NoneType' object has no attribute 'get_text'\n",
      "'NoneType' object has no attribute 'get_text'\n",
      "'NoneType' object has no attribute 'get_text'\n",
      "'NoneType' object has no attribute 'get_text'\n",
      "'NoneType' object has no attribute 'get_text'\n",
      "'NoneType' object has no attribute 'get_text'\n",
      "'NoneType' object has no attribute 'get_text'\n",
      "'NoneType' object has no attribute 'get_text'\n",
      "'NoneType' object has no attribute 'get_text'\n",
      "'NoneType' object has no attribute 'get_text'\n",
      "'NoneType' object has no attribute 'get_text'\n",
      "'NoneType' object has no attribute 'get_text'\n",
      "'NoneType' object has no attribute 'get_text'\n",
      "'NoneType' object has no attribute 'get_text'\n",
      "'NoneType' object has no attribute 'get_text'\n",
      "'NoneType' object has no attribute 'get_text'\n",
      "'NoneType' object has no attribute 'get_text'\n",
      "'NoneType' object has no attribute 'get_text'\n",
      "'NoneType' object has no attribute 'get_text'\n",
      "'NoneType' object has no attribute 'get_text'\n",
      "'NoneType' object has no attribute 'get_text'\n",
      "'NoneType' object has no attribute 'get_text'\n",
      "'NoneType' object has no attribute 'get_text'\n",
      "'NoneType' object has no attribute 'get_text'\n",
      "'NoneType' object has no attribute 'get_text'\n",
      "'NoneType' object has no attribute 'get_text'\n",
      "'NoneType' object has no attribute 'get_text'\n",
      "'NoneType' object has no attribute 'get_text'\n",
      "'NoneType' object has no attribute 'get_text'\n",
      "'NoneType' object has no attribute 'get_text'\n",
      "'NoneType' object has no attribute 'get_text'\n",
      "'NoneType' object has no attribute 'get_text'\n",
      "'NoneType' object has no attribute 'get_text'\n",
      "'NoneType' object has no attribute 'get_text'\n",
      "'NoneType' object has no attribute 'get_text'\n",
      "'NoneType' object has no attribute 'get_text'\n",
      "'NoneType' object has no attribute 'get_text'\n",
      "'NoneType' object has no attribute 'get_text'\n",
      "'NoneType' object has no attribute 'get_text'\n",
      "'NoneType' object has no attribute 'get_text'\n",
      "'NoneType' object has no attribute 'get_text'\n",
      "'NoneType' object has no attribute 'get_text'\n",
      "'NoneType' object has no attribute 'get_text'\n",
      "'NoneType' object has no attribute 'get_text'\n",
      "'NoneType' object has no attribute 'get_text'\n",
      "'NoneType' object has no attribute 'get_text'\n",
      "'NoneType' object has no attribute 'get_text'\n",
      "'NoneType' object has no attribute 'get_text'\n",
      "'NoneType' object has no attribute 'get_text'\n",
      "'NoneType' object has no attribute 'get_text'\n",
      "'NoneType' object has no attribute 'get_text'\n",
      "'NoneType' object has no attribute 'get_text'\n",
      "'NoneType' object has no attribute 'get_text'\n",
      "'NoneType' object has no attribute 'get_text'\n",
      "'NoneType' object has no attribute 'get_text'\n",
      "'NoneType' object has no attribute 'get_text'\n",
      "'NoneType' object has no attribute 'get_text'\n",
      "'NoneType' object has no attribute 'get_text'\n",
      "'NoneType' object has no attribute 'get_text'\n",
      "'NoneType' object has no attribute 'get_text'\n",
      "'NoneType' object has no attribute 'get_text'\n",
      "'NoneType' object has no attribute 'get_text'\n",
      "'NoneType' object has no attribute 'get_text'\n",
      "'NoneType' object has no attribute 'get_text'\n",
      "'NoneType' object has no attribute 'get_text'\n",
      "'NoneType' object has no attribute 'get_text'\n",
      "'NoneType' object has no attribute 'get_text'\n",
      "'NoneType' object has no attribute 'get_text'\n",
      "'NoneType' object has no attribute 'get_text'\n",
      "'NoneType' object has no attribute 'get_text'\n",
      "'NoneType' object has no attribute 'get_text'\n",
      "'NoneType' object has no attribute 'get_text'\n",
      "'NoneType' object has no attribute 'get_text'\n",
      "'NoneType' object has no attribute 'get_text'\n",
      "'NoneType' object has no attribute 'get_text'\n",
      "'NoneType' object has no attribute 'get_text'\n",
      "'NoneType' object has no attribute 'get_text'\n",
      "'NoneType' object has no attribute 'get_text'\n",
      "'NoneType' object has no attribute 'get_text'\n",
      "'NoneType' object has no attribute 'get_text'\n",
      "'NoneType' object has no attribute 'get_text'\n",
      "'NoneType' object has no attribute 'get_text'\n",
      "'NoneType' object has no attribute 'get_text'\n",
      "'NoneType' object has no attribute 'get_text'\n",
      "'NoneType' object has no attribute 'get_text'\n",
      "'NoneType' object has no attribute 'get_text'\n",
      "'NoneType' object has no attribute 'get_text'\n",
      "'NoneType' object has no attribute 'get_text'\n",
      "'NoneType' object has no attribute 'get_text'\n",
      "'NoneType' object has no attribute 'get_text'\n",
      "'NoneType' object has no attribute 'get_text'\n",
      "'NoneType' object has no attribute 'get_text'\n",
      "'NoneType' object has no attribute 'get_text'\n",
      "'NoneType' object has no attribute 'get_text'\n",
      "'NoneType' object has no attribute 'get_text'\n",
      "'NoneType' object has no attribute 'get_text'\n",
      "'NoneType' object has no attribute 'get_text'\n",
      "'NoneType' object has no attribute 'get_text'\n",
      "'NoneType' object has no attribute 'get_text'\n",
      "'NoneType' object has no attribute 'get_text'\n",
      "'NoneType' object has no attribute 'get_text'\n",
      "'NoneType' object has no attribute 'get_text'\n",
      "'NoneType' object has no attribute 'get_text'\n",
      "'NoneType' object has no attribute 'get_text'\n",
      "'NoneType' object has no attribute 'get_text'\n",
      "'NoneType' object has no attribute 'get_text'\n",
      "'NoneType' object has no attribute 'get_text'\n",
      "'NoneType' object has no attribute 'get_text'\n",
      "'NoneType' object has no attribute 'get_text'\n",
      "'NoneType' object has no attribute 'get_text'\n",
      "'NoneType' object has no attribute 'get_text'\n",
      "'NoneType' object has no attribute 'get_text'\n",
      "'NoneType' object has no attribute 'get_text'\n",
      "'NoneType' object has no attribute 'get_text'\n",
      "'NoneType' object has no attribute 'get_text'\n",
      "'NoneType' object has no attribute 'get_text'\n",
      "'NoneType' object has no attribute 'get_text'\n",
      "'NoneType' object has no attribute 'get_text'\n",
      "'NoneType' object has no attribute 'get_text'\n",
      "'NoneType' object has no attribute 'get_text'\n",
      "'NoneType' object has no attribute 'get_text'\n",
      "'NoneType' object has no attribute 'get_text'\n",
      "'NoneType' object has no attribute 'get_text'\n",
      "'NoneType' object has no attribute 'get_text'\n",
      "'NoneType' object has no attribute 'get_text'\n",
      "'NoneType' object has no attribute 'get_text'\n",
      "'NoneType' object has no attribute 'get_text'\n",
      "'NoneType' object has no attribute 'get_text'\n",
      "'NoneType' object has no attribute 'get_text'\n",
      "'NoneType' object has no attribute 'get_text'\n",
      "'NoneType' object has no attribute 'get_text'\n",
      "'NoneType' object has no attribute 'get_text'\n",
      "CPU times: total: 3min 12s\n",
      "Wall time: 6min 44s\n"
     ]
    }
   ],
   "source": [
    "%%time\n",
    "headlines, descriptions, article_bodies, urls = parser(links_smo, smo_scraper)"
   ]
  },
  {
   "cell_type": "code",
   "execution_count": 175,
   "id": "04c139f0-8309-4281-9b64-41cff6f2d656",
   "metadata": {},
   "outputs": [
    {
     "data": {
      "text/plain": [
       "(0, 4)"
      ]
     },
     "execution_count": 175,
     "metadata": {},
     "output_type": "execute_result"
    }
   ],
   "source": [
    "d = {'headline': headlines, 'description': descriptions, 'article_body': article_bodies, 'url' : urls}\n",
    "texts_smo = pd.DataFrame(data=d)\n",
    "texts_smo.shape"
   ]
  },
  {
   "cell_type": "code",
   "execution_count": 176,
   "id": "0306ee8a-ad63-4a63-aad6-1c1972daa3da",
   "metadata": {},
   "outputs": [],
   "source": [
    "save_texts(name, texts_smo)\n",
    "texts_all = pd.concat([texts_all, texts_smo])"
   ]
  },
  {
   "cell_type": "code",
   "execution_count": null,
   "id": "2deb0ca5-5306-491c-9afb-fd92f48ee115",
   "metadata": {},
   "outputs": [],
   "source": []
  },
  {
   "cell_type": "markdown",
   "id": "b915ac63-cc58-4904-8859-3c4cd2d20672",
   "metadata": {},
   "source": [
    "## ФедералПресс (fedpress.ru)"
   ]
  },
  {
   "cell_type": "code",
   "execution_count": 177,
   "id": "bb624903-e080-4caf-a21a-d5e86575f437",
   "metadata": {},
   "outputs": [],
   "source": [
    "name = 'ФедералПресс (fedpress.ru)'"
   ]
  },
  {
   "cell_type": "code",
   "execution_count": 178,
   "id": "88d67a56-a75d-4344-ba49-e5f98962c6fe",
   "metadata": {},
   "outputs": [],
   "source": [
    "def fp_scraper(link):\n",
    "\n",
    "    try:\n",
    "        try:\n",
    "          r = requests.get(link, timeout=20)\n",
    "        except requests.exceptions.RequestException as ex:\n",
    "          print(ex)\n",
    "\n",
    "        soup = BeautifulSoup(r.content, \"html.parser\")\n",
    "\n",
    "        headline = soup.find('meta', property=\"og:title\").get(\"content\")\n",
    "        description = soup.find('meta', property=\"og:description\").get(\"content\")\n",
    "        article_body = soup.find('div', {'itemprop': 'articleBody'}).get_text()\n",
    "\n",
    "        return(headline, description, article_body)\n",
    "\n",
    "    except (UnboundLocalError, KeyError, AttributeError, UnicodeDecodeError) as error:\n",
    "      print(error)\n",
    "      pass"
   ]
  },
  {
   "cell_type": "code",
   "execution_count": 179,
   "id": "933a1156-6693-4702-82cd-14a1b29ec553",
   "metadata": {},
   "outputs": [
    {
     "data": {
      "text/plain": [
       "(290,)"
      ]
     },
     "execution_count": 179,
     "metadata": {},
     "output_type": "execute_result"
    }
   ],
   "source": [
    "links_fp = data[data.newspaper == name].url\n",
    "links_fp.shape"
   ]
  },
  {
   "cell_type": "code",
   "execution_count": 180,
   "id": "3390e108-e5aa-49e4-8d21-99ce95547e54",
   "metadata": {},
   "outputs": [
    {
     "name": "stdout",
     "output_type": "stream",
     "text": [
      "'NoneType' object has no attribute 'get'\n",
      "'NoneType' object has no attribute 'get'\n",
      "'NoneType' object has no attribute 'get'\n",
      "'NoneType' object has no attribute 'get'\n",
      "'NoneType' object has no attribute 'get'\n",
      "'NoneType' object has no attribute 'get'\n",
      "'NoneType' object has no attribute 'get'\n",
      "'NoneType' object has no attribute 'get'\n",
      "'NoneType' object has no attribute 'get'\n",
      "'NoneType' object has no attribute 'get'\n",
      "'NoneType' object has no attribute 'get'\n",
      "'NoneType' object has no attribute 'get'\n",
      "'NoneType' object has no attribute 'get'\n",
      "'NoneType' object has no attribute 'get'\n",
      "CPU times: total: 3min 19s\n",
      "Wall time: 5min 16s\n"
     ]
    }
   ],
   "source": [
    "%%time\n",
    "headlines, descriptions, article_bodies, urls = parser(links_fp, fp_scraper)"
   ]
  },
  {
   "cell_type": "code",
   "execution_count": 181,
   "id": "c561ab1d-fc7b-4ab7-a99a-dba0e36d22f6",
   "metadata": {},
   "outputs": [
    {
     "data": {
      "text/plain": [
       "(276, 4)"
      ]
     },
     "execution_count": 181,
     "metadata": {},
     "output_type": "execute_result"
    }
   ],
   "source": [
    "d = {'headline': headlines, 'description': descriptions, 'article_body': article_bodies, 'url' : urls}\n",
    "texts_fp = pd.DataFrame(data=d)\n",
    "texts_fp.shape"
   ]
  },
  {
   "cell_type": "code",
   "execution_count": 182,
   "id": "28d2c846-0131-4486-9994-49a74d04a7e9",
   "metadata": {},
   "outputs": [],
   "source": [
    "save_texts(name, texts_fp)\n",
    "texts_all = pd.concat([texts_all, texts_fp])"
   ]
  },
  {
   "cell_type": "code",
   "execution_count": null,
   "id": "1af860e3-ca12-460e-bf72-0c8fb93962b7",
   "metadata": {},
   "outputs": [],
   "source": []
  },
  {
   "cell_type": "markdown",
   "id": "9ff22a25-fe75-4d46-86a1-14abc9f3e747",
   "metadata": {},
   "source": [
    "## ИА Ura.ru"
   ]
  },
  {
   "cell_type": "code",
   "execution_count": 183,
   "id": "517105fb-5739-4901-9237-f3e29b6d88ad",
   "metadata": {},
   "outputs": [],
   "source": [
    "name = 'ИА Ura.ru'"
   ]
  },
  {
   "cell_type": "code",
   "execution_count": 184,
   "id": "6e7e546d-484a-433c-8b24-5530bf36918f",
   "metadata": {},
   "outputs": [],
   "source": [
    "def ura_scraper(link):\n",
    "\n",
    "    try:\n",
    "        try:\n",
    "          r = requests.get(link, timeout=20)\n",
    "        except requests.exceptions.RequestException as ex:\n",
    "          print(ex)\n",
    "\n",
    "        soup = BeautifulSoup(r.content, \"html.parser\")\n",
    "\n",
    "        headline = soup.find('meta', property=\"og:title\").get(\"content\")\n",
    "        description = soup.find('meta', property=\"og:description\").get(\"content\")\n",
    "\n",
    "        article_body = ''\n",
    "        blocks = soup.find('div', {'itemprop': 'articleBody'}).find_all('p')\n",
    "        for block in blocks:\n",
    "          article_body = article_body + block.get_text()\n",
    "\n",
    "        return(headline, description, article_body)\n",
    "\n",
    "    except (UnboundLocalError, KeyError, AttributeError, UnicodeDecodeError) as error:\n",
    "      print(error)\n",
    "      pass"
   ]
  },
  {
   "cell_type": "code",
   "execution_count": 185,
   "id": "c7625633-f4e5-45de-a62b-7309c7f7c5f1",
   "metadata": {},
   "outputs": [
    {
     "data": {
      "text/plain": [
       "(275,)"
      ]
     },
     "execution_count": 185,
     "metadata": {},
     "output_type": "execute_result"
    }
   ],
   "source": [
    "links_ura = data[data.newspaper == name].url\n",
    "links_ura.shape"
   ]
  },
  {
   "cell_type": "code",
   "execution_count": 186,
   "id": "d9073664-197c-480f-a588-2daeb87c848e",
   "metadata": {},
   "outputs": [
    {
     "name": "stdout",
     "output_type": "stream",
     "text": [
      "'NoneType' object has no attribute 'find_all'\n",
      "CPU times: total: 3min 16s\n",
      "Wall time: 5min 21s\n"
     ]
    }
   ],
   "source": [
    "%%time\n",
    "headlines, descriptions, article_bodies, urls = parser(links_ura, ura_scraper)"
   ]
  },
  {
   "cell_type": "code",
   "execution_count": 187,
   "id": "cf827a38-9fa7-4429-99e8-0d458c4c9ea3",
   "metadata": {},
   "outputs": [
    {
     "data": {
      "text/plain": [
       "(274, 4)"
      ]
     },
     "execution_count": 187,
     "metadata": {},
     "output_type": "execute_result"
    }
   ],
   "source": [
    "d = {'headline': headlines, 'description': descriptions, 'article_body': article_bodies, 'url' : urls}\n",
    "texts_ura = pd.DataFrame(data=d)\n",
    "texts_ura.shape"
   ]
  },
  {
   "cell_type": "code",
   "execution_count": 188,
   "id": "75ffce0b-4c5f-485c-ace9-c6050e95f97c",
   "metadata": {},
   "outputs": [],
   "source": [
    "save_texts(name, texts_ura)\n",
    "texts_all = pd.concat([texts_all, texts_ura])"
   ]
  },
  {
   "cell_type": "code",
   "execution_count": null,
   "id": "e08345c3-aaea-48e6-b08e-b4026f8c65eb",
   "metadata": {},
   "outputs": [],
   "source": []
  },
  {
   "cell_type": "markdown",
   "id": "b9d5fc5d-cc27-4b57-bc9e-58deccc54ea1",
   "metadata": {},
   "source": [
    "## Аргументы и Факты (aif.ru)"
   ]
  },
  {
   "cell_type": "code",
   "execution_count": 189,
   "id": "ef04ea95-89a4-4803-84f2-80cba295c192",
   "metadata": {},
   "outputs": [],
   "source": [
    "name = 'Аргументы и Факты (aif.ru)'"
   ]
  },
  {
   "cell_type": "code",
   "execution_count": 190,
   "id": "e626f058-b23d-4357-8293-fc921d930687",
   "metadata": {},
   "outputs": [],
   "source": [
    "def aif_scraper(link):\n",
    "\n",
    "    try:\n",
    "        try:\n",
    "          r = requests.get(link, timeout=20)\n",
    "        except requests.exceptions.RequestException as ex:\n",
    "          print(ex)\n",
    "\n",
    "        soup = BeautifulSoup(r.content, \"html.parser\")\n",
    "\n",
    "        headline = soup.find('meta', property=\"og:title\").get(\"content\")\n",
    "        description = soup.find('meta', property=\"og:description\").get(\"content\")\n",
    "        article_body = soup.find('div', {'class': \"article_text\"}).get_text()\n",
    "\n",
    "        return(headline, description, article_body)\n",
    "\n",
    "    except (UnboundLocalError, KeyError, AttributeError, UnicodeDecodeError) as error:\n",
    "      print(error)\n",
    "      pass"
   ]
  },
  {
   "cell_type": "code",
   "execution_count": 191,
   "id": "d76702bf-9cc2-4370-a848-4a34a1f7ce21",
   "metadata": {},
   "outputs": [
    {
     "data": {
      "text/plain": [
       "(263,)"
      ]
     },
     "execution_count": 191,
     "metadata": {},
     "output_type": "execute_result"
    }
   ],
   "source": [
    "links_aif = data[data.newspaper == name].url\n",
    "links_aif.shape"
   ]
  },
  {
   "cell_type": "code",
   "execution_count": 192,
   "id": "df00325b-6a07-4932-8d0b-90e792d36ac0",
   "metadata": {},
   "outputs": [
    {
     "name": "stdout",
     "output_type": "stream",
     "text": [
      "'NoneType' object has no attribute 'get_text'\n",
      "CPU times: total: 3min 59s\n",
      "Wall time: 5min 41s\n"
     ]
    }
   ],
   "source": [
    "%%time\n",
    "headlines, descriptions, article_bodies, urls = parser(links_aif, aif_scraper)"
   ]
  },
  {
   "cell_type": "code",
   "execution_count": 193,
   "id": "1c13550c-5923-4e38-8245-4fe356e83ab3",
   "metadata": {},
   "outputs": [
    {
     "data": {
      "text/plain": [
       "(262, 4)"
      ]
     },
     "execution_count": 193,
     "metadata": {},
     "output_type": "execute_result"
    }
   ],
   "source": [
    "d = {'headline': headlines, 'description': descriptions, 'article_body': article_bodies, 'url' : urls}\n",
    "texts_aif = pd.DataFrame(data=d)\n",
    "texts_aif.shape"
   ]
  },
  {
   "cell_type": "code",
   "execution_count": 194,
   "id": "de9822d0-28c3-4f51-997c-06519b43f432",
   "metadata": {},
   "outputs": [],
   "source": [
    "save_texts(name, texts_aif)\n",
    "texts_all = pd.concat([texts_all, texts_aif])"
   ]
  },
  {
   "cell_type": "code",
   "execution_count": null,
   "id": "99da05a5-4815-4bff-b76b-7ff47f7a2d17",
   "metadata": {},
   "outputs": [],
   "source": []
  },
  {
   "cell_type": "markdown",
   "id": "228676f1-4b8f-4bd6-9965-311f9387a683",
   "metadata": {},
   "source": [
    "## RT (russian.rt.com)"
   ]
  },
  {
   "cell_type": "code",
   "execution_count": 195,
   "id": "bb75a6d9-bb51-470a-95f5-e16490f73035",
   "metadata": {},
   "outputs": [],
   "source": [
    "name = 'RT (russian.rt.com)'"
   ]
  },
  {
   "cell_type": "code",
   "execution_count": 196,
   "id": "43489f80-f5fd-4e68-b4db-53c5f19ac977",
   "metadata": {},
   "outputs": [],
   "source": [
    "def rt_scraper(link):\n",
    "\n",
    "    try:\n",
    "        try:\n",
    "          r = requests.get(link, timeout=20)\n",
    "        except requests.exceptions.RequestException as ex:\n",
    "          print(ex)\n",
    "\n",
    "        soup = BeautifulSoup(r.content, \"html.parser\")\n",
    "\n",
    "        headline = soup.find('meta', property=\"og:title\").get(\"content\")\n",
    "        description = soup.find('meta', property=\"og:description\").get(\"content\")\n",
    "        article_body = soup.find('div', {'class': 'article__text'}).get_text()\n",
    "\n",
    "        return(headline, description, article_body)\n",
    "\n",
    "    except (UnboundLocalError, KeyError, AttributeError, UnicodeDecodeError) as error:\n",
    "      print(error)\n",
    "      pass"
   ]
  },
  {
   "cell_type": "code",
   "execution_count": 197,
   "id": "a26f8c4a-dcc6-429c-a819-47699735d8c0",
   "metadata": {},
   "outputs": [
    {
     "data": {
      "text/plain": [
       "(259,)"
      ]
     },
     "execution_count": 197,
     "metadata": {},
     "output_type": "execute_result"
    }
   ],
   "source": [
    "links_rt = data[data.newspaper == name].url\n",
    "links_rt.shape"
   ]
  },
  {
   "cell_type": "code",
   "execution_count": 198,
   "id": "e6bb99d7-fa48-4fb0-8dff-d7fa456a169b",
   "metadata": {},
   "outputs": [
    {
     "name": "stdout",
     "output_type": "stream",
     "text": [
      "'NoneType' object has no attribute 'get_text'\n",
      "'NoneType' object has no attribute 'get_text'\n",
      "'NoneType' object has no attribute 'get_text'\n",
      "'NoneType' object has no attribute 'get_text'\n",
      "'NoneType' object has no attribute 'get_text'\n",
      "'NoneType' object has no attribute 'get_text'\n",
      "'NoneType' object has no attribute 'get_text'\n",
      "CPU times: total: 2min 53s\n",
      "Wall time: 3min 21s\n"
     ]
    }
   ],
   "source": [
    "%%time\n",
    "headlines, descriptions, article_bodies, urls = parser(links_rt, rt_scraper)"
   ]
  },
  {
   "cell_type": "code",
   "execution_count": 199,
   "id": "9248fe07-a7fb-47a9-9f5f-841fd5f9b065",
   "metadata": {},
   "outputs": [
    {
     "data": {
      "text/plain": [
       "(252, 4)"
      ]
     },
     "execution_count": 199,
     "metadata": {},
     "output_type": "execute_result"
    }
   ],
   "source": [
    "d = {'headline': headlines, 'description': descriptions, 'article_body': article_bodies, 'url' : urls}\n",
    "texts_rt = pd.DataFrame(data=d)\n",
    "texts_rt.shape"
   ]
  },
  {
   "cell_type": "code",
   "execution_count": 200,
   "id": "9c105fc9-8d19-4ee9-b84f-6b2e3fee9a9c",
   "metadata": {},
   "outputs": [],
   "source": [
    "save_texts(name, texts_rt)\n",
    "texts_all = pd.concat([texts_all, texts_rt])"
   ]
  },
  {
   "cell_type": "code",
   "execution_count": null,
   "id": "e1e1935b-7037-48cc-be75-4693cb3b9be0",
   "metadata": {},
   "outputs": [],
   "source": []
  },
  {
   "cell_type": "markdown",
   "id": "feb384f6-f069-4972-ac5e-10ca6f7b371a",
   "metadata": {},
   "source": [
    "## РИАМО (riamo.ru)"
   ]
  },
  {
   "cell_type": "code",
   "execution_count": 201,
   "id": "20952646-b322-4ffa-8332-d68efd4188fa",
   "metadata": {},
   "outputs": [],
   "source": [
    "name = 'РИАМО (riamo.ru)'"
   ]
  },
  {
   "cell_type": "code",
   "execution_count": 202,
   "id": "92e726bf-40ce-4a68-ae9b-7668f7564394",
   "metadata": {},
   "outputs": [],
   "source": [
    "def ri_scraper(link):\n",
    "\n",
    "    try:\n",
    "        try:\n",
    "          r = requests.get(link, timeout=20)\n",
    "        except requests.exceptions.RequestException as ex:\n",
    "          print(ex)\n",
    "\n",
    "        soup = BeautifulSoup(r.content, \"html.parser\")\n",
    "\n",
    "        headline = soup.find('meta', property=\"og:title\").get(\"content\")\n",
    "        description = soup.find('meta', property=\"og:description\").get(\"content\")\n",
    "        article_body = ''\n",
    "\n",
    "        blocks = soup.find_all('p')\n",
    "        for block in blocks:\n",
    "          article_body = article_body + block.get_text()\n",
    "\n",
    "        return(headline, description, article_body)\n",
    "\n",
    "    except (UnboundLocalError, KeyError, AttributeError, UnicodeDecodeError) as error:\n",
    "      print(error)\n",
    "      pass"
   ]
  },
  {
   "cell_type": "code",
   "execution_count": 203,
   "id": "7a728539-a949-48f5-8ee7-666d2d9fcb11",
   "metadata": {},
   "outputs": [
    {
     "data": {
      "text/plain": [
       "(239,)"
      ]
     },
     "execution_count": 203,
     "metadata": {},
     "output_type": "execute_result"
    }
   ],
   "source": [
    "links_ri = data[data.newspaper == name].url\n",
    "links_ri.shape"
   ]
  },
  {
   "cell_type": "code",
   "execution_count": 204,
   "id": "df906366-dbfd-466d-a5d6-7bccfc5140f9",
   "metadata": {
    "scrolled": true
   },
   "outputs": [
    {
     "name": "stdout",
     "output_type": "stream",
     "text": [
      "'NoneType' object has no attribute 'get'\n",
      "'NoneType' object has no attribute 'get'\n",
      "'NoneType' object has no attribute 'get'\n",
      "'NoneType' object has no attribute 'get'\n",
      "'NoneType' object has no attribute 'get'\n",
      "'NoneType' object has no attribute 'get'\n",
      "'NoneType' object has no attribute 'get'\n",
      "'NoneType' object has no attribute 'get'\n",
      "'NoneType' object has no attribute 'get'\n",
      "'NoneType' object has no attribute 'get'\n",
      "'NoneType' object has no attribute 'get'\n",
      "'NoneType' object has no attribute 'get'\n",
      "'NoneType' object has no attribute 'get'\n",
      "'NoneType' object has no attribute 'get'\n",
      "'NoneType' object has no attribute 'get'\n",
      "'NoneType' object has no attribute 'get'\n",
      "'NoneType' object has no attribute 'get'\n",
      "'NoneType' object has no attribute 'get'\n",
      "'NoneType' object has no attribute 'get'\n",
      "'NoneType' object has no attribute 'get'\n",
      "'NoneType' object has no attribute 'get'\n",
      "'NoneType' object has no attribute 'get'\n",
      "'NoneType' object has no attribute 'get'\n",
      "'NoneType' object has no attribute 'get'\n",
      "'NoneType' object has no attribute 'get'\n",
      "'NoneType' object has no attribute 'get'\n",
      "'NoneType' object has no attribute 'get'\n",
      "'NoneType' object has no attribute 'get'\n",
      "'NoneType' object has no attribute 'get'\n",
      "'NoneType' object has no attribute 'get'\n",
      "'NoneType' object has no attribute 'get'\n",
      "'NoneType' object has no attribute 'get'\n",
      "'NoneType' object has no attribute 'get'\n",
      "'NoneType' object has no attribute 'get'\n",
      "'NoneType' object has no attribute 'get'\n",
      "'NoneType' object has no attribute 'get'\n",
      "'NoneType' object has no attribute 'get'\n",
      "'NoneType' object has no attribute 'get'\n",
      "'NoneType' object has no attribute 'get'\n",
      "'NoneType' object has no attribute 'get'\n",
      "'NoneType' object has no attribute 'get'\n",
      "'NoneType' object has no attribute 'get'\n",
      "'NoneType' object has no attribute 'get'\n",
      "'NoneType' object has no attribute 'get'\n",
      "'NoneType' object has no attribute 'get'\n",
      "'NoneType' object has no attribute 'get'\n",
      "'NoneType' object has no attribute 'get'\n",
      "'NoneType' object has no attribute 'get'\n",
      "'NoneType' object has no attribute 'get'\n",
      "'NoneType' object has no attribute 'get'\n",
      "'NoneType' object has no attribute 'get'\n",
      "'NoneType' object has no attribute 'get'\n",
      "'NoneType' object has no attribute 'get'\n",
      "'NoneType' object has no attribute 'get'\n",
      "'NoneType' object has no attribute 'get'\n",
      "'NoneType' object has no attribute 'get'\n",
      "'NoneType' object has no attribute 'get'\n",
      "'NoneType' object has no attribute 'get'\n",
      "'NoneType' object has no attribute 'get'\n",
      "'NoneType' object has no attribute 'get'\n",
      "'NoneType' object has no attribute 'get'\n",
      "'NoneType' object has no attribute 'get'\n",
      "'NoneType' object has no attribute 'get'\n",
      "'NoneType' object has no attribute 'get'\n",
      "'NoneType' object has no attribute 'get'\n",
      "'NoneType' object has no attribute 'get'\n",
      "'NoneType' object has no attribute 'get'\n",
      "'NoneType' object has no attribute 'get'\n",
      "'NoneType' object has no attribute 'get'\n",
      "'NoneType' object has no attribute 'get'\n",
      "'NoneType' object has no attribute 'get'\n",
      "'NoneType' object has no attribute 'get'\n",
      "'NoneType' object has no attribute 'get'\n",
      "'NoneType' object has no attribute 'get'\n",
      "'NoneType' object has no attribute 'get'\n",
      "'NoneType' object has no attribute 'get'\n",
      "'NoneType' object has no attribute 'get'\n",
      "'NoneType' object has no attribute 'get'\n",
      "'NoneType' object has no attribute 'get'\n",
      "'NoneType' object has no attribute 'get'\n",
      "'NoneType' object has no attribute 'get'\n",
      "'NoneType' object has no attribute 'get'\n",
      "'NoneType' object has no attribute 'get'\n",
      "'NoneType' object has no attribute 'get'\n",
      "'NoneType' object has no attribute 'get'\n",
      "'NoneType' object has no attribute 'get'\n",
      "'NoneType' object has no attribute 'get'\n",
      "'NoneType' object has no attribute 'get'\n",
      "'NoneType' object has no attribute 'get'\n",
      "'NoneType' object has no attribute 'get'\n",
      "'NoneType' object has no attribute 'get'\n",
      "'NoneType' object has no attribute 'get'\n",
      "'NoneType' object has no attribute 'get'\n",
      "'NoneType' object has no attribute 'get'\n",
      "'NoneType' object has no attribute 'get'\n",
      "'NoneType' object has no attribute 'get'\n",
      "'NoneType' object has no attribute 'get'\n",
      "'NoneType' object has no attribute 'get'\n",
      "'NoneType' object has no attribute 'get'\n",
      "'NoneType' object has no attribute 'get'\n",
      "'NoneType' object has no attribute 'get'\n",
      "'NoneType' object has no attribute 'get'\n",
      "'NoneType' object has no attribute 'get'\n",
      "'NoneType' object has no attribute 'get'\n",
      "'NoneType' object has no attribute 'get'\n",
      "'NoneType' object has no attribute 'get'\n",
      "'NoneType' object has no attribute 'get'\n",
      "'NoneType' object has no attribute 'get'\n",
      "'NoneType' object has no attribute 'get'\n",
      "'NoneType' object has no attribute 'get'\n",
      "'NoneType' object has no attribute 'get'\n",
      "'NoneType' object has no attribute 'get'\n",
      "'NoneType' object has no attribute 'get'\n",
      "'NoneType' object has no attribute 'get'\n",
      "'NoneType' object has no attribute 'get'\n",
      "'NoneType' object has no attribute 'get'\n",
      "'NoneType' object has no attribute 'get'\n",
      "'NoneType' object has no attribute 'get'\n",
      "'NoneType' object has no attribute 'get'\n",
      "'NoneType' object has no attribute 'get'\n",
      "'NoneType' object has no attribute 'get'\n",
      "'NoneType' object has no attribute 'get'\n",
      "'NoneType' object has no attribute 'get'\n",
      "'NoneType' object has no attribute 'get'\n",
      "'NoneType' object has no attribute 'get'\n",
      "'NoneType' object has no attribute 'get'\n",
      "'NoneType' object has no attribute 'get'\n",
      "'NoneType' object has no attribute 'get'\n",
      "'NoneType' object has no attribute 'get'\n",
      "'NoneType' object has no attribute 'get'\n",
      "'NoneType' object has no attribute 'get'\n",
      "'NoneType' object has no attribute 'get'\n",
      "'NoneType' object has no attribute 'get'\n",
      "'NoneType' object has no attribute 'get'\n",
      "'NoneType' object has no attribute 'get'\n",
      "'NoneType' object has no attribute 'get'\n",
      "'NoneType' object has no attribute 'get'\n",
      "'NoneType' object has no attribute 'get'\n",
      "'NoneType' object has no attribute 'get'\n",
      "'NoneType' object has no attribute 'get'\n",
      "'NoneType' object has no attribute 'get'\n",
      "'NoneType' object has no attribute 'get'\n",
      "'NoneType' object has no attribute 'get'\n",
      "'NoneType' object has no attribute 'get'\n",
      "'NoneType' object has no attribute 'get'\n",
      "'NoneType' object has no attribute 'get'\n",
      "'NoneType' object has no attribute 'get'\n",
      "'NoneType' object has no attribute 'get'\n",
      "'NoneType' object has no attribute 'get'\n",
      "'NoneType' object has no attribute 'get'\n",
      "'NoneType' object has no attribute 'get'\n",
      "'NoneType' object has no attribute 'get'\n",
      "'NoneType' object has no attribute 'get'\n",
      "'NoneType' object has no attribute 'get'\n",
      "'NoneType' object has no attribute 'get'\n",
      "'NoneType' object has no attribute 'get'\n",
      "'NoneType' object has no attribute 'get'\n",
      "'NoneType' object has no attribute 'get'\n",
      "'NoneType' object has no attribute 'get'\n",
      "'NoneType' object has no attribute 'get'\n",
      "'NoneType' object has no attribute 'get'\n",
      "'NoneType' object has no attribute 'get'\n",
      "'NoneType' object has no attribute 'get'\n",
      "'NoneType' object has no attribute 'get'\n",
      "'NoneType' object has no attribute 'get'\n",
      "'NoneType' object has no attribute 'get'\n",
      "'NoneType' object has no attribute 'get'\n",
      "'NoneType' object has no attribute 'get'\n",
      "'NoneType' object has no attribute 'get'\n",
      "'NoneType' object has no attribute 'get'\n",
      "'NoneType' object has no attribute 'get'\n",
      "'NoneType' object has no attribute 'get'\n",
      "'NoneType' object has no attribute 'get'\n",
      "'NoneType' object has no attribute 'get'\n",
      "'NoneType' object has no attribute 'get'\n",
      "'NoneType' object has no attribute 'get'\n",
      "'NoneType' object has no attribute 'get'\n",
      "'NoneType' object has no attribute 'get'\n",
      "'NoneType' object has no attribute 'get'\n",
      "'NoneType' object has no attribute 'get'\n",
      "'NoneType' object has no attribute 'get'\n",
      "'NoneType' object has no attribute 'get'\n",
      "'NoneType' object has no attribute 'get'\n",
      "'NoneType' object has no attribute 'get'\n",
      "'NoneType' object has no attribute 'get'\n",
      "'NoneType' object has no attribute 'get'\n",
      "'NoneType' object has no attribute 'get'\n",
      "HTTPSConnectionPool(host='riamo.ru', port=443): Read timed out. (read timeout=20)\n",
      "cannot access local variable 'r' where it is not associated with a value\n",
      "'NoneType' object has no attribute 'get'\n",
      "'NoneType' object has no attribute 'get'\n",
      "'NoneType' object has no attribute 'get'\n",
      "'NoneType' object has no attribute 'get'\n",
      "'NoneType' object has no attribute 'get'\n",
      "'NoneType' object has no attribute 'get'\n",
      "'NoneType' object has no attribute 'get'\n",
      "'NoneType' object has no attribute 'get'\n",
      "'NoneType' object has no attribute 'get'\n",
      "'NoneType' object has no attribute 'get'\n",
      "'NoneType' object has no attribute 'get'\n",
      "'NoneType' object has no attribute 'get'\n",
      "'NoneType' object has no attribute 'get'\n",
      "'NoneType' object has no attribute 'get'\n",
      "'NoneType' object has no attribute 'get'\n",
      "CPU times: total: 2min 31s\n",
      "Wall time: 5min 6s\n"
     ]
    }
   ],
   "source": [
    "%%time\n",
    "headlines, descriptions, article_bodies, urls = parser(links_ri, ri_scraper)"
   ]
  },
  {
   "cell_type": "code",
   "execution_count": 205,
   "id": "47e2405f-fb6d-42cd-9068-e3eef96fb47c",
   "metadata": {},
   "outputs": [
    {
     "data": {
      "text/plain": [
       "(36, 4)"
      ]
     },
     "execution_count": 205,
     "metadata": {},
     "output_type": "execute_result"
    }
   ],
   "source": [
    "d = {'headline': headlines, 'description': descriptions, 'article_body': article_bodies, 'url' : urls}\n",
    "texts_ri = pd.DataFrame(data=d)\n",
    "texts_ri.shape"
   ]
  },
  {
   "cell_type": "code",
   "execution_count": 206,
   "id": "360c6906-9c3b-4bc4-929c-640c112746c3",
   "metadata": {},
   "outputs": [],
   "source": [
    "save_texts(name, texts_ri)\n",
    "texts_all = pd.concat([texts_all, texts_ri])"
   ]
  },
  {
   "cell_type": "code",
   "execution_count": null,
   "id": "e09c8838-21b1-4290-bfa9-688dfd6a7fdd",
   "metadata": {},
   "outputs": [],
   "source": []
  },
  {
   "cell_type": "markdown",
   "id": "190f684a-7a87-44fe-a06d-8cc7f93543b0",
   "metadata": {},
   "source": [
    "## Ридус (ridus.ru)"
   ]
  },
  {
   "cell_type": "code",
   "execution_count": 207,
   "id": "7fcc86b8-ce51-49a9-afba-3dcf307776eb",
   "metadata": {},
   "outputs": [],
   "source": [
    "name = 'Ридус (ridus.ru)'"
   ]
  },
  {
   "cell_type": "code",
   "execution_count": 208,
   "id": "f064cc2b-48f6-4e50-b99f-c7a5efa0ccde",
   "metadata": {},
   "outputs": [],
   "source": [
    "def rid_scraper(link):\n",
    "\n",
    "    try:\n",
    "        try:\n",
    "          r = requests.get(link, timeout=20)\n",
    "        except requests.exceptions.RequestException as ex:\n",
    "          print(ex)\n",
    "\n",
    "        soup = BeautifulSoup(r.content, \"html.parser\")\n",
    "\n",
    "        headline = soup.find('meta', property=\"og:title\").get(\"content\")\n",
    "        description = soup.find('meta', property=\"og:description\").get(\"content\")\n",
    "        article_body = ''\n",
    "\n",
    "        blocks = soup.find_all('p')\n",
    "        for block in blocks:\n",
    "          article_body = article_body + block.get_text()\n",
    "\n",
    "        return(headline, description, article_body)\n",
    "\n",
    "    except (UnboundLocalError, KeyError, AttributeError, UnicodeDecodeError) as error:\n",
    "      print(error)\n",
    "      pass"
   ]
  },
  {
   "cell_type": "code",
   "execution_count": 209,
   "id": "fc70a50e-ebaf-4004-abd1-d35c23c47ce1",
   "metadata": {},
   "outputs": [
    {
     "data": {
      "text/plain": [
       "(234,)"
      ]
     },
     "execution_count": 209,
     "metadata": {},
     "output_type": "execute_result"
    }
   ],
   "source": [
    "links_rid = data[data.newspaper == name].url\n",
    "links_rid.shape"
   ]
  },
  {
   "cell_type": "code",
   "execution_count": 210,
   "id": "7562195d-09ee-4e23-8507-58426fda7fee",
   "metadata": {},
   "outputs": [
    {
     "name": "stdout",
     "output_type": "stream",
     "text": [
      "'NoneType' object has no attribute 'get'\n",
      "CPU times: total: 2min 39s\n",
      "Wall time: 3min 22s\n"
     ]
    }
   ],
   "source": [
    "%%time\n",
    "headlines, descriptions, article_bodies, urls = parser(links_rid, rid_scraper)"
   ]
  },
  {
   "cell_type": "code",
   "execution_count": 211,
   "id": "1f4925bb-f76c-4b0d-aaee-37361172eb0c",
   "metadata": {},
   "outputs": [
    {
     "data": {
      "text/plain": [
       "(233, 4)"
      ]
     },
     "execution_count": 211,
     "metadata": {},
     "output_type": "execute_result"
    }
   ],
   "source": [
    "d = {'headline': headlines, 'description': descriptions, 'article_body': article_bodies, 'url' : urls}\n",
    "texts_rid = pd.DataFrame(data=d)\n",
    "texts_rid.shape"
   ]
  },
  {
   "cell_type": "code",
   "execution_count": 212,
   "id": "ca46ce7c-8f6f-4ac0-82f5-5d3c1f916fd2",
   "metadata": {},
   "outputs": [],
   "source": [
    "save_texts(name, texts_rid)\n",
    "texts_all = pd.concat([texts_all, texts_rid])"
   ]
  },
  {
   "cell_type": "code",
   "execution_count": null,
   "id": "2de19701-c6cd-43f0-bda5-564e19f4dfae",
   "metadata": {},
   "outputs": [],
   "source": []
  },
  {
   "cell_type": "markdown",
   "id": "d1859553-6317-4bce-bfe5-2cac8dc89a17",
   "metadata": {},
   "source": [
    "## РБК (rbc.ru)"
   ]
  },
  {
   "cell_type": "code",
   "execution_count": 213,
   "id": "a6c47567-83f6-48c3-9275-b448016728f1",
   "metadata": {},
   "outputs": [],
   "source": [
    "name = 'РБК (rbc.ru)'"
   ]
  },
  {
   "cell_type": "code",
   "execution_count": 214,
   "id": "6e7327b2-e68e-423f-83f5-0b235810d1bd",
   "metadata": {},
   "outputs": [],
   "source": [
    "def rbk_scraper(link):\n",
    "\n",
    "    try:\n",
    "        try:\n",
    "          r = requests.get(link, timeout=20)\n",
    "        except requests.exceptions.RequestException as ex:\n",
    "          print(ex)\n",
    "    \n",
    "        soup = BeautifulSoup(r.content, \"html.parser\")\n",
    "    \n",
    "        headline = soup.find('meta', property=\"og:title\").get(\"content\")\n",
    "        description = soup.find('meta', property=\"og:description\").get(\"content\")\n",
    "    \n",
    "        article_body = ''\n",
    "        blocks = soup.find('div', {'itemprop': 'articleBody'}).find_all('p')\n",
    "        for block in blocks:\n",
    "          article_body = article_body + block.get_text()\n",
    "    \n",
    "        return(headline, description, article_body)\n",
    "    \n",
    "    except (UnboundLocalError, KeyError, AttributeError, UnicodeDecodeError) as error:\n",
    "      print(error)\n",
    "      pass"
   ]
  },
  {
   "cell_type": "code",
   "execution_count": 215,
   "id": "61ddaf3d-4dae-48cd-8a4a-21dd9295fd50",
   "metadata": {},
   "outputs": [
    {
     "data": {
      "text/plain": [
       "(211,)"
      ]
     },
     "execution_count": 215,
     "metadata": {},
     "output_type": "execute_result"
    }
   ],
   "source": [
    "links_rbk = data[data.newspaper == name].url\n",
    "links_rbk.shape"
   ]
  },
  {
   "cell_type": "code",
   "execution_count": 216,
   "id": "926e8a9c-0fd3-489f-aa42-1a3fe7f99355",
   "metadata": {},
   "outputs": [
    {
     "name": "stdout",
     "output_type": "stream",
     "text": [
      "CPU times: total: 2min 32s\n",
      "Wall time: 3min 15s\n"
     ]
    }
   ],
   "source": [
    "%%time\n",
    "headlines, descriptions, article_bodies, urls = parser(links_rbk, rbk_scraper)"
   ]
  },
  {
   "cell_type": "code",
   "execution_count": 217,
   "id": "f17b9e66-1b6f-473e-b1ea-3bf1bb424894",
   "metadata": {},
   "outputs": [
    {
     "data": {
      "text/plain": [
       "(211, 4)"
      ]
     },
     "execution_count": 217,
     "metadata": {},
     "output_type": "execute_result"
    }
   ],
   "source": [
    "d = {'headline': headlines, 'description': descriptions, 'article_body': article_bodies, 'url' : urls}\n",
    "texts_rbk = pd.DataFrame(data=d)\n",
    "texts_rbk.shape"
   ]
  },
  {
   "cell_type": "code",
   "execution_count": 218,
   "id": "21e3437a-c9b4-4a9a-ad32-c48238e0dd1d",
   "metadata": {},
   "outputs": [],
   "source": [
    "save_texts(name, texts_rbk)\n",
    "texts_all = pd.concat([texts_all, texts_rbk])"
   ]
  },
  {
   "cell_type": "code",
   "execution_count": null,
   "id": "04c8ead0-d919-4bd7-8db0-678522c8780b",
   "metadata": {},
   "outputs": [],
   "source": []
  },
  {
   "cell_type": "markdown",
   "id": "4faa8aed-6cc0-45c7-ba43-260ad50fef5a",
   "metadata": {},
   "source": [
    "## Свободная пресса (svpressa.ru)"
   ]
  },
  {
   "cell_type": "code",
   "execution_count": 219,
   "id": "718b0fa4-0131-4b94-90ce-df276fc6dadc",
   "metadata": {},
   "outputs": [],
   "source": [
    "name = 'Свободная пресса (svpressa.ru)'"
   ]
  },
  {
   "cell_type": "code",
   "execution_count": 220,
   "id": "215f04b2-b5ef-41c9-988d-6c3cf94c8bf9",
   "metadata": {},
   "outputs": [],
   "source": [
    "def sv_scraper(link):\n",
    "\n",
    "    try:\n",
    "        try:\n",
    "          r = requests.get(link, timeout=20)\n",
    "        except requests.exceptions.RequestException as ex:\n",
    "          print(ex)\n",
    "\n",
    "        soup = BeautifulSoup(r.content, \"html.parser\")\n",
    "\n",
    "        headline = soup.find('meta', property=\"og:title\").get(\"content\")\n",
    "        description = soup.find('meta', property=\"og:description\").get(\"content\")\n",
    "        article_body = soup.find('div', {'class' : 'b-text__content'}).get_text()\n",
    "\n",
    "        return(headline, description, article_body)\n",
    "\n",
    "    except (UnboundLocalError, KeyError, AttributeError, UnicodeDecodeError) as error:\n",
    "      print(error)\n",
    "      pass"
   ]
  },
  {
   "cell_type": "code",
   "execution_count": 221,
   "id": "90afc742-4444-47e8-b1b4-40605d7424f2",
   "metadata": {},
   "outputs": [
    {
     "data": {
      "text/plain": [
       "(196,)"
      ]
     },
     "execution_count": 221,
     "metadata": {},
     "output_type": "execute_result"
    }
   ],
   "source": [
    "links_sv = data[data.newspaper == name].url\n",
    "links_sv.shape"
   ]
  },
  {
   "cell_type": "code",
   "execution_count": 222,
   "id": "1f92448c-3ab3-4d74-ae90-82dfac65a783",
   "metadata": {},
   "outputs": [
    {
     "name": "stdout",
     "output_type": "stream",
     "text": [
      "'NoneType' object has no attribute 'get'\n",
      "'NoneType' object has no attribute 'get'\n",
      "'NoneType' object has no attribute 'get'\n",
      "'NoneType' object has no attribute 'get'\n",
      "'NoneType' object has no attribute 'get'\n",
      "CPU times: total: 2min 10s\n",
      "Wall time: 3min 20s\n"
     ]
    }
   ],
   "source": [
    "%%time\n",
    "headlines, descriptions, article_bodies, urls = parser(links_sv, sv_scraper)"
   ]
  },
  {
   "cell_type": "code",
   "execution_count": 223,
   "id": "65f6d270-38ce-4dbe-8e7c-48bb81b94c30",
   "metadata": {},
   "outputs": [
    {
     "data": {
      "text/plain": [
       "(191, 4)"
      ]
     },
     "execution_count": 223,
     "metadata": {},
     "output_type": "execute_result"
    }
   ],
   "source": [
    "d = {'headline': headlines, 'description': descriptions, 'article_body': article_bodies, 'url' : urls}\n",
    "texts_sv = pd.DataFrame(data=d)\n",
    "texts_sv.shape"
   ]
  },
  {
   "cell_type": "code",
   "execution_count": 224,
   "id": "2f3440fe-0871-4feb-8f79-6a41cf74e495",
   "metadata": {},
   "outputs": [],
   "source": [
    "save_texts(name, texts_sv)\n",
    "texts_all = pd.concat([texts_all, texts_sv])"
   ]
  },
  {
   "cell_type": "code",
   "execution_count": null,
   "id": "44bd9edd-6115-49de-8450-187ad1709983",
   "metadata": {},
   "outputs": [],
   "source": []
  },
  {
   "cell_type": "markdown",
   "id": "d2a8467c-4b88-4268-ad72-4a531993904a",
   "metadata": {},
   "source": [
    "## Дни.Ру"
   ]
  },
  {
   "cell_type": "code",
   "execution_count": 225,
   "id": "cd9564df-18c4-487c-9870-f540a7af0140",
   "metadata": {},
   "outputs": [],
   "source": [
    "name = 'Дни.Ру'"
   ]
  },
  {
   "cell_type": "code",
   "execution_count": 226,
   "id": "3611fd15-435c-4dfb-9739-2fbc71701aaa",
   "metadata": {},
   "outputs": [],
   "source": [
    "def dni_scraper(link):\n",
    "\n",
    "    try:\n",
    "        try:\n",
    "          r = requests.get(link, timeout=20)\n",
    "        except requests.exceptions.RequestException as ex:\n",
    "          print(ex)\n",
    "\n",
    "        soup = BeautifulSoup(r.content, \"html.parser\")\n",
    "\n",
    "        headline = soup.find('meta', property=\"og:title\").get(\"content\")\n",
    "        description = soup.find('meta', property=\"og:description\").get(\"content\")\n",
    "        article_body = soup.find('div', {'itemprop' : 'articleBody'}).get_text()\n",
    "\n",
    "        return(headline, description, article_body)\n",
    "\n",
    "    except (UnboundLocalError, KeyError, AttributeError, UnicodeDecodeError) as error:\n",
    "      print(error)\n",
    "      pass"
   ]
  },
  {
   "cell_type": "code",
   "execution_count": 227,
   "id": "a0d980a5-fb7f-4ffa-bb98-d7a40215a4fd",
   "metadata": {},
   "outputs": [
    {
     "data": {
      "text/plain": [
       "(187,)"
      ]
     },
     "execution_count": 227,
     "metadata": {},
     "output_type": "execute_result"
    }
   ],
   "source": [
    "links_dni = data[data.newspaper == name].url\n",
    "links_dni.shape"
   ]
  },
  {
   "cell_type": "code",
   "execution_count": 228,
   "id": "4a1b4ed7-7373-46e5-9b3f-a52a4b74acc0",
   "metadata": {},
   "outputs": [
    {
     "name": "stdout",
     "output_type": "stream",
     "text": [
      "HTTPSConnectionPool(host='dni.plushttps', port=443): Max retries exceeded with url: //dni.ru/series/2021/12/19/495259.html (Caused by NameResolutionError(\"<urllib3.connection.HTTPSConnection object at 0x0000028755CC5AD0>: Failed to resolve 'dni.plushttps' ([Errno 11001] getaddrinfo failed)\"))\n",
      "cannot access local variable 'r' where it is not associated with a value\n",
      "'NoneType' object has no attribute 'get'\n",
      "CPU times: total: 3min 16s\n",
      "Wall time: 6min 9s\n"
     ]
    }
   ],
   "source": [
    "%%time\n",
    "headlines, descriptions, article_bodies, urls = parser(links_dni, dni_scraper)"
   ]
  },
  {
   "cell_type": "code",
   "execution_count": 229,
   "id": "f831df48-13a0-44b3-a407-1d615ab1697d",
   "metadata": {},
   "outputs": [
    {
     "data": {
      "text/plain": [
       "(185, 4)"
      ]
     },
     "execution_count": 229,
     "metadata": {},
     "output_type": "execute_result"
    }
   ],
   "source": [
    "d = {'headline': headlines, 'description': descriptions, 'article_body': article_bodies, 'url' : urls}\n",
    "texts_dni = pd.DataFrame(data=d)\n",
    "texts_dni.shape"
   ]
  },
  {
   "cell_type": "code",
   "execution_count": 230,
   "id": "258a0abd-e13d-4752-b5f5-624fa1984e54",
   "metadata": {},
   "outputs": [],
   "source": [
    "texts_dni = texts_dni.drop(index=[26, 42, 151])"
   ]
  },
  {
   "cell_type": "code",
   "execution_count": 231,
   "id": "9cb502d8-626d-4bba-99f6-01744ba99b51",
   "metadata": {},
   "outputs": [],
   "source": [
    "save_texts(name, texts_dni)\n",
    "texts_all = pd.concat([texts_all, texts_dni])"
   ]
  },
  {
   "cell_type": "code",
   "execution_count": null,
   "id": "a47613f8-80bc-4c04-a441-3d4a68435599",
   "metadata": {},
   "outputs": [],
   "source": []
  },
  {
   "cell_type": "markdown",
   "id": "14520657-a224-404a-a393-321de3c0b72f",
   "metadata": {},
   "source": [
    "## 78.ru"
   ]
  },
  {
   "cell_type": "code",
   "execution_count": 232,
   "id": "c4fe2b11-7fc0-48f8-8e88-6c95aaf62912",
   "metadata": {},
   "outputs": [],
   "source": [
    "name = '78.ru'"
   ]
  },
  {
   "cell_type": "code",
   "execution_count": 233,
   "id": "6bf2d1eb-bf5b-4085-b558-0de4605c99a7",
   "metadata": {},
   "outputs": [],
   "source": [
    "def scraper_78(link):\n",
    "\n",
    "    try:\n",
    "        try:\n",
    "          r = requests.get(link, timeout=20)\n",
    "        except requests.exceptions.RequestException as ex:\n",
    "          print(ex)\n",
    "\n",
    "        soup = BeautifulSoup(r.content, \"html.parser\")\n",
    "\n",
    "        headline = soup.find('meta', property=\"og:title\").get(\"content\")\n",
    "        description = soup.find('meta', property=\"og:description\").get(\"content\")\n",
    "        article_body = soup.find('div', {'class' : 'publication__body'}).get_text()\n",
    "\n",
    "        return(headline, description, article_body)\n",
    "\n",
    "    except (UnboundLocalError, KeyError, AttributeError, UnicodeDecodeError) as error:\n",
    "      print(error)\n",
    "      pass"
   ]
  },
  {
   "cell_type": "code",
   "execution_count": 234,
   "id": "c68c5dd6-0181-4b2a-a044-d64d349efe59",
   "metadata": {},
   "outputs": [
    {
     "data": {
      "text/plain": [
       "(168,)"
      ]
     },
     "execution_count": 234,
     "metadata": {},
     "output_type": "execute_result"
    }
   ],
   "source": [
    "links_78 = data[data.newspaper == name].url\n",
    "links_78.shape"
   ]
  },
  {
   "cell_type": "code",
   "execution_count": 235,
   "id": "e445678f-ab20-4d6e-b8b6-288b23e03b8c",
   "metadata": {},
   "outputs": [
    {
     "name": "stdout",
     "output_type": "stream",
     "text": [
      "'NoneType' object has no attribute 'get'\n",
      "'NoneType' object has no attribute 'get'\n",
      "CPU times: total: 1min 47s\n",
      "Wall time: 2min 46s\n"
     ]
    }
   ],
   "source": [
    "%%time\n",
    "headlines, descriptions, article_bodies, urls = parser(links_78, scraper_78)"
   ]
  },
  {
   "cell_type": "code",
   "execution_count": 236,
   "id": "53b52561-63fd-44cd-a0aa-8a93bdd4a251",
   "metadata": {},
   "outputs": [
    {
     "data": {
      "text/plain": [
       "(166, 4)"
      ]
     },
     "execution_count": 236,
     "metadata": {},
     "output_type": "execute_result"
    }
   ],
   "source": [
    "d = {'headline': headlines, 'description': descriptions, 'article_body': article_bodies, 'url' : urls}\n",
    "texts_78 = pd.DataFrame(data=d)\n",
    "texts_78.shape"
   ]
  },
  {
   "cell_type": "code",
   "execution_count": 237,
   "id": "364a4a91-a361-4da5-a6ba-d4174f078c44",
   "metadata": {},
   "outputs": [],
   "source": [
    "save_texts(name, texts_78)\n",
    "texts_all = pd.concat([texts_all, texts_78])"
   ]
  },
  {
   "cell_type": "code",
   "execution_count": null,
   "id": "49a10909-5820-4ca3-ad43-eea4f17d5c27",
   "metadata": {},
   "outputs": [],
   "source": []
  },
  {
   "cell_type": "markdown",
   "id": "d968ad75-ef79-45a6-ac46-763c1bab6bfc",
   "metadata": {},
   "source": [
    "## Правда.ру (pravda.ru)"
   ]
  },
  {
   "cell_type": "code",
   "execution_count": 238,
   "id": "07efcdeb-5b64-49e2-b6bf-c7a040259126",
   "metadata": {},
   "outputs": [],
   "source": [
    "name = 'Правда.ру (pravda.ru)'"
   ]
  },
  {
   "cell_type": "code",
   "execution_count": 239,
   "id": "dc889693-fbf2-4ab8-8055-7be9fc16797e",
   "metadata": {},
   "outputs": [],
   "source": [
    "def pr_scraper(link):\n",
    "\n",
    "    try:\n",
    "        try:\n",
    "          r = requests.get(link, timeout=20)\n",
    "        except requests.exceptions.RequestException as ex:\n",
    "          print(ex)\n",
    "\n",
    "        soup = BeautifulSoup(r.content, \"html.parser\")\n",
    "\n",
    "        headline = soup.find('meta', property=\"og:title\").get(\"content\")\n",
    "        description = soup.find('meta', property=\"og:description\").get(\"content\")\n",
    "        article_body = ''\n",
    "\n",
    "        blocks = soup.find_all('p')\n",
    "        for block in blocks:\n",
    "          article_body = article_body + block.get_text()\n",
    "\n",
    "        return(headline, description, article_body)\n",
    "\n",
    "    except (UnboundLocalError, KeyError, AttributeError, UnicodeDecodeError) as error:\n",
    "      print(error)\n",
    "      pass"
   ]
  },
  {
   "cell_type": "code",
   "execution_count": 240,
   "id": "64c2c388-ef11-4c50-87bf-e4476926c031",
   "metadata": {},
   "outputs": [
    {
     "data": {
      "text/plain": [
       "(165,)"
      ]
     },
     "execution_count": 240,
     "metadata": {},
     "output_type": "execute_result"
    }
   ],
   "source": [
    "links_pr = data[data.newspaper == name].url\n",
    "links_pr.shape"
   ]
  },
  {
   "cell_type": "code",
   "execution_count": 241,
   "id": "5af02ede-d747-46a6-8168-16e59bc134f5",
   "metadata": {},
   "outputs": [
    {
     "name": "stdout",
     "output_type": "stream",
     "text": [
      "HTTPSConnectionPool(host='www.pravda.ru', port=443): Read timed out. (read timeout=20)\n",
      "cannot access local variable 'r' where it is not associated with a value\n",
      "CPU times: total: 1min 35s\n",
      "Wall time: 8min 21s\n"
     ]
    }
   ],
   "source": [
    "%%time\n",
    "headlines, descriptions, article_bodies, urls = parser(links_pr, pr_scraper)"
   ]
  },
  {
   "cell_type": "code",
   "execution_count": 242,
   "id": "3b3950d0-5a45-4b7a-b15e-3497413526ae",
   "metadata": {},
   "outputs": [
    {
     "data": {
      "text/plain": [
       "(164, 4)"
      ]
     },
     "execution_count": 242,
     "metadata": {},
     "output_type": "execute_result"
    }
   ],
   "source": [
    "d = {'headline': headlines, 'description': descriptions, 'article_body': article_bodies, 'url' : urls}\n",
    "texts_pr = pd.DataFrame(data=d)\n",
    "texts_pr.shape"
   ]
  },
  {
   "cell_type": "code",
   "execution_count": 243,
   "id": "f7ff7bcb-b2bf-40e0-a08e-8760849f866d",
   "metadata": {},
   "outputs": [],
   "source": [
    "save_texts(name, texts_pr)\n",
    "texts_all = pd.concat([texts_all, texts_pr])"
   ]
  },
  {
   "cell_type": "code",
   "execution_count": null,
   "id": "450e8808-e1bc-4426-9fb5-2b26adc57689",
   "metadata": {},
   "outputs": [],
   "source": []
  },
  {
   "cell_type": "markdown",
   "id": "c3441745-e816-4e42-b0db-4129341e2ce8",
   "metadata": {},
   "source": [
    "## Р-Спорт"
   ]
  },
  {
   "cell_type": "code",
   "execution_count": 244,
   "id": "bf636c27-993e-4409-985e-c6e786a107fb",
   "metadata": {},
   "outputs": [],
   "source": [
    "name = 'Р-Спорт'"
   ]
  },
  {
   "cell_type": "code",
   "execution_count": 245,
   "id": "52455020-e7cd-4ae0-bb92-bb43aac9a99a",
   "metadata": {},
   "outputs": [],
   "source": [
    "def rsp_scraper(link):\n",
    "\n",
    "    try:\n",
    "        try:\n",
    "          r = requests.get(link, timeout=20)\n",
    "        except requests.exceptions.RequestException as ex:\n",
    "          print(ex)\n",
    "\n",
    "        soup = BeautifulSoup(r.content, \"html.parser\")\n",
    "\n",
    "        headline = soup.find('meta', property=\"og:title\").get(\"content\")\n",
    "        description = soup.find('meta', property=\"og:description\").get(\"content\")\n",
    "        article_body = soup.find('div', {'itemprop' : 'articleBody'}).get_text()\n",
    "\n",
    "        return(headline, description, article_body)\n",
    "\n",
    "    except (UnboundLocalError, KeyError, AttributeError, UnicodeDecodeError) as error:\n",
    "      print(error)\n",
    "      pass"
   ]
  },
  {
   "cell_type": "code",
   "execution_count": 246,
   "id": "ea8983d5-9328-4c7b-a2d3-45bed908069b",
   "metadata": {},
   "outputs": [
    {
     "data": {
      "text/plain": [
       "(155,)"
      ]
     },
     "execution_count": 246,
     "metadata": {},
     "output_type": "execute_result"
    }
   ],
   "source": [
    "links_rsp = data[data.newspaper == name].url\n",
    "links_rsp.shape"
   ]
  },
  {
   "cell_type": "code",
   "execution_count": 247,
   "id": "64428369-4e70-474d-bca0-f91fe378f292",
   "metadata": {},
   "outputs": [
    {
     "name": "stdout",
     "output_type": "stream",
     "text": [
      "'NoneType' object has no attribute 'get_text'\n",
      "'NoneType' object has no attribute 'get_text'\n",
      "'NoneType' object has no attribute 'get_text'\n",
      "'NoneType' object has no attribute 'get_text'\n",
      "'NoneType' object has no attribute 'get_text'\n",
      "'NoneType' object has no attribute 'get_text'\n",
      "'NoneType' object has no attribute 'get_text'\n",
      "'NoneType' object has no attribute 'get_text'\n",
      "'NoneType' object has no attribute 'get_text'\n",
      "'NoneType' object has no attribute 'get_text'\n",
      "'NoneType' object has no attribute 'get_text'\n",
      "'NoneType' object has no attribute 'get_text'\n",
      "'NoneType' object has no attribute 'get_text'\n",
      "'NoneType' object has no attribute 'get_text'\n",
      "'NoneType' object has no attribute 'get_text'\n",
      "CPU times: total: 1min 54s\n",
      "Wall time: 3min 49s\n"
     ]
    }
   ],
   "source": [
    "%%time\n",
    "headlines, descriptions, article_bodies, urls = parser(links_rsp, rsp_scraper)"
   ]
  },
  {
   "cell_type": "code",
   "execution_count": 248,
   "id": "45208999-631f-4e3a-9c63-6ff697057125",
   "metadata": {},
   "outputs": [
    {
     "data": {
      "text/plain": [
       "(140, 4)"
      ]
     },
     "execution_count": 248,
     "metadata": {},
     "output_type": "execute_result"
    }
   ],
   "source": [
    "d = {'headline': headlines, 'description': descriptions, 'article_body': article_bodies, 'url' : urls}\n",
    "texts_rsp = pd.DataFrame(data=d)\n",
    "texts_rsp.shape"
   ]
  },
  {
   "cell_type": "code",
   "execution_count": 249,
   "id": "f3104e51-3e2c-4b32-8e64-d615654116f9",
   "metadata": {},
   "outputs": [],
   "source": [
    "save_texts(name, texts_rsp)\n",
    "texts_all = pd.concat([texts_all, texts_rsp])"
   ]
  },
  {
   "cell_type": "code",
   "execution_count": null,
   "id": "4022743e-a1d1-4386-acef-871c5c2c93ba",
   "metadata": {},
   "outputs": [],
   "source": []
  },
  {
   "cell_type": "markdown",
   "id": "fac1b452-1285-4e9f-aa38-6ce4ee58c751",
   "metadata": {},
   "source": [
    "## Новые Известия (newizv.ru)"
   ]
  },
  {
   "cell_type": "code",
   "execution_count": 250,
   "id": "d1b9910c-c430-43e6-8a27-09e3060b6b48",
   "metadata": {},
   "outputs": [],
   "source": [
    "name = 'Новые Известия (newizv.ru)'"
   ]
  },
  {
   "cell_type": "code",
   "execution_count": 251,
   "id": "ed20d127-8d5c-4dd1-a4c6-fc096f40ea05",
   "metadata": {},
   "outputs": [],
   "source": [
    "def new_scraper(link):\n",
    "\n",
    "    try:\n",
    "        try:\n",
    "          r = requests.get(link, timeout=20)\n",
    "        except requests.exceptions.RequestException as ex:\n",
    "          print(ex)\n",
    "\n",
    "        soup = BeautifulSoup(r.content, \"html.parser\")\n",
    "\n",
    "        headline = soup.find('meta', property=\"og:title\").get(\"content\")\n",
    "        description = soup.find('meta', property=\"og:description\").get(\"content\")\n",
    "        article_body = soup.find('div', {'class' : 'Common_common__MfItd'}).get_text()\n",
    "\n",
    "        return(headline, description, article_body)\n",
    "\n",
    "    except (UnboundLocalError, KeyError, AttributeError, UnicodeDecodeError) as error:\n",
    "      print(error)\n",
    "      pass"
   ]
  },
  {
   "cell_type": "code",
   "execution_count": 252,
   "id": "c4de41e3-6c6b-431f-824a-1cb8f728baf4",
   "metadata": {},
   "outputs": [
    {
     "data": {
      "text/plain": [
       "(153,)"
      ]
     },
     "execution_count": 252,
     "metadata": {},
     "output_type": "execute_result"
    }
   ],
   "source": [
    "links_new = data[data.newspaper == name].url\n",
    "links_new.shape"
   ]
  },
  {
   "cell_type": "code",
   "execution_count": 253,
   "id": "9f4ccdd0-9110-494b-b291-082aff9d6e6a",
   "metadata": {},
   "outputs": [
    {
     "name": "stdout",
     "output_type": "stream",
     "text": [
      "'NoneType' object has no attribute 'get_text'\n",
      "'NoneType' object has no attribute 'get_text'\n",
      "'NoneType' object has no attribute 'get_text'\n",
      "'NoneType' object has no attribute 'get_text'\n",
      "'NoneType' object has no attribute 'get_text'\n",
      "'NoneType' object has no attribute 'get_text'\n",
      "'NoneType' object has no attribute 'get_text'\n",
      "'NoneType' object has no attribute 'get_text'\n",
      "'NoneType' object has no attribute 'get_text'\n",
      "'NoneType' object has no attribute 'get_text'\n",
      "'NoneType' object has no attribute 'get_text'\n",
      "'NoneType' object has no attribute 'get_text'\n",
      "'NoneType' object has no attribute 'get_text'\n",
      "'NoneType' object has no attribute 'get_text'\n",
      "'NoneType' object has no attribute 'get_text'\n",
      "'NoneType' object has no attribute 'get_text'\n",
      "'NoneType' object has no attribute 'get_text'\n",
      "'NoneType' object has no attribute 'get_text'\n",
      "'NoneType' object has no attribute 'get_text'\n",
      "'NoneType' object has no attribute 'get_text'\n",
      "'NoneType' object has no attribute 'get_text'\n",
      "'NoneType' object has no attribute 'get_text'\n",
      "'NoneType' object has no attribute 'get_text'\n",
      "'NoneType' object has no attribute 'get_text'\n",
      "'NoneType' object has no attribute 'get_text'\n",
      "'NoneType' object has no attribute 'get_text'\n",
      "CPU times: total: 1min 55s\n",
      "Wall time: 4min 30s\n"
     ]
    }
   ],
   "source": [
    "%%time\n",
    "headlines, descriptions, article_bodies, urls = parser(links_new, new_scraper)"
   ]
  },
  {
   "cell_type": "code",
   "execution_count": 254,
   "id": "9045f187-e375-4cbf-9231-4eb86a72ce28",
   "metadata": {},
   "outputs": [
    {
     "data": {
      "text/plain": [
       "(127, 4)"
      ]
     },
     "execution_count": 254,
     "metadata": {},
     "output_type": "execute_result"
    }
   ],
   "source": [
    "d = {'headline': headlines, 'description': descriptions, 'article_body': article_bodies, 'url' : urls}\n",
    "texts_new = pd.DataFrame(data=d)\n",
    "texts_new.shape"
   ]
  },
  {
   "cell_type": "code",
   "execution_count": 255,
   "id": "ae7b2ef2-ea64-47aa-9919-749e1bc42b9d",
   "metadata": {},
   "outputs": [],
   "source": [
    "save_texts(name, texts_new)\n",
    "texts_all = pd.concat([texts_all, texts_new])"
   ]
  },
  {
   "cell_type": "code",
   "execution_count": null,
   "id": "4986f6f1-4615-4579-99b4-2073606c4ce3",
   "metadata": {},
   "outputs": [],
   "source": []
  },
  {
   "cell_type": "markdown",
   "id": "8b44648d-a593-4af2-aef1-c376cb34694e",
   "metadata": {},
   "source": [
    "## Аргументы недели (argumenti.ru)"
   ]
  },
  {
   "cell_type": "code",
   "execution_count": 256,
   "id": "0b10fe5b-7bd3-4a26-b936-b8cb5b5b017e",
   "metadata": {},
   "outputs": [],
   "source": [
    "name = 'Аргументы недели (argumenti.ru)'"
   ]
  },
  {
   "cell_type": "code",
   "execution_count": 257,
   "id": "bd4c50d7-f8a6-4cde-b3ce-6d3238d95d33",
   "metadata": {},
   "outputs": [],
   "source": [
    "def arg_scraper(link):\n",
    "\n",
    "    try:\n",
    "        try:\n",
    "          r = requests.get(link, timeout=20)\n",
    "        except requests.exceptions.RequestException as ex:\n",
    "          print(ex)\n",
    "\n",
    "        soup = BeautifulSoup(r.content, \"html.parser\")\n",
    "\n",
    "        headline = soup.find('title').get_text()\n",
    "        description = soup.find('meta', {'name' : 'description'}).get(\"content\")\n",
    "        article_body = ''\n",
    "\n",
    "        blocks = soup.find_all('p')\n",
    "        for block in blocks:\n",
    "          article_body = article_body + block.get_text()\n",
    "\n",
    "        return(headline, description, article_body)\n",
    "\n",
    "    except (UnboundLocalError, KeyError, AttributeError, UnicodeDecodeError) as error:\n",
    "      print(error)\n",
    "      pass"
   ]
  },
  {
   "cell_type": "code",
   "execution_count": 258,
   "id": "4977d739-927c-4cf4-8f32-c7da67479800",
   "metadata": {},
   "outputs": [
    {
     "data": {
      "text/plain": [
       "(145,)"
      ]
     },
     "execution_count": 258,
     "metadata": {},
     "output_type": "execute_result"
    }
   ],
   "source": [
    "links_arg = data[data.newspaper == name].url\n",
    "links_arg.shape"
   ]
  },
  {
   "cell_type": "code",
   "execution_count": 259,
   "id": "d88ac63e-4caa-4a22-846c-d300d6023b3f",
   "metadata": {},
   "outputs": [
    {
     "name": "stdout",
     "output_type": "stream",
     "text": [
      "CPU times: total: 1min 38s\n",
      "Wall time: 2min 43s\n"
     ]
    }
   ],
   "source": [
    "%%time\n",
    "headlines, descriptions, article_bodies, urls = parser(links_arg, arg_scraper)"
   ]
  },
  {
   "cell_type": "code",
   "execution_count": 260,
   "id": "56ab8850-62fa-41fe-aad7-be4dad690b43",
   "metadata": {},
   "outputs": [
    {
     "data": {
      "text/plain": [
       "(145, 4)"
      ]
     },
     "execution_count": 260,
     "metadata": {},
     "output_type": "execute_result"
    }
   ],
   "source": [
    "d = {'headline': headlines, 'description': descriptions, 'article_body': article_bodies, 'url' : urls}\n",
    "texts_arg = pd.DataFrame(data=d)\n",
    "texts_arg.shape"
   ]
  },
  {
   "cell_type": "code",
   "execution_count": 261,
   "id": "7d193a67-7e37-4025-ae82-61fd579d4e59",
   "metadata": {},
   "outputs": [],
   "source": [
    "save_texts(name, texts_arg)\n",
    "texts_all = pd.concat([texts_all, texts_arg])"
   ]
  },
  {
   "cell_type": "code",
   "execution_count": null,
   "id": "de1209e8-b019-4af1-ae7d-e51edb1bc3ae",
   "metadata": {},
   "outputs": [],
   "source": []
  },
  {
   "cell_type": "markdown",
   "id": "7e15a199-8b7c-4df0-97b9-690370c18486",
   "metadata": {},
   "source": [
    "## Коммерсантъ. Новости информ. центра"
   ]
  },
  {
   "cell_type": "code",
   "execution_count": 262,
   "id": "abea8791-c4a8-4cb1-9367-2ee334de54dc",
   "metadata": {},
   "outputs": [],
   "source": [
    "name = 'Коммерсантъ. Новости информ. центра'"
   ]
  },
  {
   "cell_type": "code",
   "execution_count": 263,
   "id": "e2fae9c2-8689-4599-8805-dda2b0dde5a1",
   "metadata": {},
   "outputs": [],
   "source": [
    "def kms_scraper(link):\n",
    "\n",
    "    try:\n",
    "        try:\n",
    "          r = requests.get(link, timeout=20)\n",
    "        except requests.exceptions.RequestException as ex:\n",
    "          print(ex)\n",
    "\n",
    "        soup = BeautifulSoup(r.content, \"html.parser\")\n",
    "\n",
    "        headline = soup.find('title').get_text()\n",
    "        description = soup.find('meta', {'name' : 'description'}).get(\"content\")\n",
    "        article_body = soup.find('div', {'itemprop' : 'articleBody'}).get_text()\n",
    "\n",
    "        return(headline, description, article_body)\n",
    "\n",
    "    except (UnboundLocalError, KeyError, AttributeError, UnicodeDecodeError) as error:\n",
    "      print(error)\n",
    "      pass"
   ]
  },
  {
   "cell_type": "code",
   "execution_count": 264,
   "id": "98913db8-5656-4947-a114-5af250271dcf",
   "metadata": {},
   "outputs": [
    {
     "data": {
      "text/plain": [
       "(127,)"
      ]
     },
     "execution_count": 264,
     "metadata": {},
     "output_type": "execute_result"
    }
   ],
   "source": [
    "links_kms = data[data.newspaper == name].url\n",
    "links_kms.shape"
   ]
  },
  {
   "cell_type": "code",
   "execution_count": 265,
   "id": "b25298a9-8e28-42ee-afb8-b6112de6ee8a",
   "metadata": {},
   "outputs": [
    {
     "name": "stdout",
     "output_type": "stream",
     "text": [
      "'NoneType' object has no attribute 'get_text'\n",
      "'NoneType' object has no attribute 'get_text'\n",
      "'NoneType' object has no attribute 'get_text'\n",
      "'NoneType' object has no attribute 'get_text'\n",
      "'NoneType' object has no attribute 'get_text'\n",
      "'NoneType' object has no attribute 'get_text'\n",
      "'NoneType' object has no attribute 'get_text'\n",
      "CPU times: total: 1min 29s\n",
      "Wall time: 1min 59s\n"
     ]
    }
   ],
   "source": [
    "%%time\n",
    "headlines, descriptions, article_bodies, urls = parser(links_kms, kms_scraper)"
   ]
  },
  {
   "cell_type": "code",
   "execution_count": 266,
   "id": "85a56a7f-76fb-40cb-a9a8-3c89d5ecf16b",
   "metadata": {},
   "outputs": [
    {
     "data": {
      "text/plain": [
       "(120, 4)"
      ]
     },
     "execution_count": 266,
     "metadata": {},
     "output_type": "execute_result"
    }
   ],
   "source": [
    "d = {'headline': headlines, 'description': descriptions, 'article_body': article_bodies, 'url' : urls}\n",
    "texts_kms = pd.DataFrame(data=d)\n",
    "texts_kms.shape"
   ]
  },
  {
   "cell_type": "code",
   "execution_count": 267,
   "id": "a7918b0d-6a58-4c93-9489-7ff1904e7124",
   "metadata": {},
   "outputs": [],
   "source": [
    "save_texts(name, texts_kms)\n",
    "texts_all = pd.concat([texts_all, texts_kms])"
   ]
  },
  {
   "cell_type": "code",
   "execution_count": null,
   "id": "fa65190a-62e3-480a-bf6a-1fdd9e6f51bc",
   "metadata": {},
   "outputs": [],
   "source": []
  },
  {
   "cell_type": "markdown",
   "id": "8a1c9a55-dc2f-4242-8cf8-efa8daa04686",
   "metadata": {},
   "source": [
    "## Eadaily.com"
   ]
  },
  {
   "cell_type": "code",
   "execution_count": 268,
   "id": "a8d99d76-5a3a-4092-a3b5-6dabcd2e47fd",
   "metadata": {},
   "outputs": [],
   "source": [
    "name = 'Eadaily.com'"
   ]
  },
  {
   "cell_type": "code",
   "execution_count": 269,
   "id": "b1ba5ccd-bc3e-4160-acfb-12cbf4e85660",
   "metadata": {},
   "outputs": [],
   "source": [
    "def ea_scraper(link):\n",
    "\n",
    "    try:\n",
    "        try:\n",
    "          r = requests.get(link, timeout=20)\n",
    "        except requests.exceptions.RequestException as ex:\n",
    "          print(ex)\n",
    "\n",
    "        soup = BeautifulSoup(r.content, \"html.parser\")\n",
    "\n",
    "        headline = soup.find('title').get_text()\n",
    "        description = soup.find('meta', {'name' : 'description'}).get(\"content\")\n",
    "        article_body = soup.find('div', {'itemprop' : 'articleBody'}).get_text()\n",
    "\n",
    "        return(headline, description, article_body)\n",
    "\n",
    "    except (UnboundLocalError, KeyError, AttributeError, UnicodeDecodeError) as error:\n",
    "      print(error)\n",
    "      pass"
   ]
  },
  {
   "cell_type": "code",
   "execution_count": 270,
   "id": "0f46e99a-b801-4032-aacc-976ef1bf2c1c",
   "metadata": {},
   "outputs": [
    {
     "data": {
      "text/plain": [
       "(122,)"
      ]
     },
     "execution_count": 270,
     "metadata": {},
     "output_type": "execute_result"
    }
   ],
   "source": [
    "links_ea = data[data.newspaper == name].url\n",
    "links_ea.shape"
   ]
  },
  {
   "cell_type": "code",
   "execution_count": 271,
   "id": "84d40b84-1c61-4da4-a6b7-ad4fdca136b0",
   "metadata": {},
   "outputs": [
    {
     "name": "stdout",
     "output_type": "stream",
     "text": [
      "'NoneType' object has no attribute 'get_text'\n",
      "'NoneType' object has no attribute 'get_text'\n",
      "CPU times: total: 1min 25s\n",
      "Wall time: 3min 7s\n"
     ]
    }
   ],
   "source": [
    "%%time\n",
    "headlines, descriptions, article_bodies, urls = parser(links_ea, ea_scraper)"
   ]
  },
  {
   "cell_type": "code",
   "execution_count": 272,
   "id": "150dba42-9694-46ad-a194-a650f66ba06b",
   "metadata": {},
   "outputs": [
    {
     "data": {
      "text/plain": [
       "(120, 4)"
      ]
     },
     "execution_count": 272,
     "metadata": {},
     "output_type": "execute_result"
    }
   ],
   "source": [
    "d = {'headline': headlines, 'description': descriptions, 'article_body': article_bodies, 'url' : urls}\n",
    "texts_ea = pd.DataFrame(data=d)\n",
    "texts_ea.shape"
   ]
  },
  {
   "cell_type": "code",
   "execution_count": 273,
   "id": "c341d43e-14b2-44c0-83d0-c53a5d4c611c",
   "metadata": {},
   "outputs": [],
   "source": [
    "save_texts(name, texts_ea)\n",
    "texts_all = pd.concat([texts_all, texts_ea])"
   ]
  },
  {
   "cell_type": "code",
   "execution_count": null,
   "id": "702cfa64-2e35-4fe3-9dbb-5a1d5dd2a92e",
   "metadata": {},
   "outputs": [],
   "source": []
  },
  {
   "cell_type": "markdown",
   "id": "1c7cf06b-8d7d-4ec0-bdb7-5e76202beb97",
   "metadata": {},
   "source": [
    "## 47 Новостей из Ленинградской области (47news.ru)"
   ]
  },
  {
   "cell_type": "code",
   "execution_count": 274,
   "id": "bbf10458-7916-4dd5-afd5-f275ab19f29e",
   "metadata": {},
   "outputs": [],
   "source": [
    "name = '47 Новостей из Ленинградской области (47news.ru)'"
   ]
  },
  {
   "cell_type": "code",
   "execution_count": 275,
   "id": "c2c81665-ac33-442a-aef2-88e1d5f77c5d",
   "metadata": {},
   "outputs": [],
   "source": [
    "def scraper_47(link):\n",
    "\n",
    "    try:\n",
    "        try:\n",
    "          r = requests.get(link, timeout=20)\n",
    "        except requests.exceptions.RequestException as ex:\n",
    "          print(ex)\n",
    "\n",
    "        soup = BeautifulSoup(r.content, \"html.parser\")\n",
    "\n",
    "        headline = soup.find('title').get_text()\n",
    "        description = soup.find('meta', {'name' : 'description'}).get(\"content\")\n",
    "        article_body = soup.find('div', {'class' : 'article-text'}).get_text()\n",
    "\n",
    "        return(headline, description, article_body)\n",
    "\n",
    "    except (UnboundLocalError, KeyError, AttributeError, UnicodeDecodeError) as error:\n",
    "      print(error)\n",
    "      pass"
   ]
  },
  {
   "cell_type": "code",
   "execution_count": 276,
   "id": "6d54c337-831d-4456-b08d-37d8b00040b8",
   "metadata": {},
   "outputs": [
    {
     "data": {
      "text/plain": [
       "(114,)"
      ]
     },
     "execution_count": 276,
     "metadata": {},
     "output_type": "execute_result"
    }
   ],
   "source": [
    "links_47 = data[data.newspaper == name].url\n",
    "links_47.shape"
   ]
  },
  {
   "cell_type": "code",
   "execution_count": 277,
   "id": "c074566a-d4a6-49ac-9ac7-dd7c09752ffc",
   "metadata": {},
   "outputs": [
    {
     "name": "stdout",
     "output_type": "stream",
     "text": [
      "CPU times: total: 2min\n",
      "Wall time: 2min 27s\n"
     ]
    }
   ],
   "source": [
    "%%time\n",
    "headlines, descriptions, article_bodies, urls = parser(links_47, scraper_47)"
   ]
  },
  {
   "cell_type": "code",
   "execution_count": 278,
   "id": "c69a8c97-5337-48d5-bb07-ccefdfd09528",
   "metadata": {},
   "outputs": [
    {
     "data": {
      "text/plain": [
       "(114, 4)"
      ]
     },
     "execution_count": 278,
     "metadata": {},
     "output_type": "execute_result"
    }
   ],
   "source": [
    "d = {'headline': headlines, 'description': descriptions, 'article_body': article_bodies, 'url' : urls}\n",
    "texts_47 = pd.DataFrame(data=d)\n",
    "texts_47.shape"
   ]
  },
  {
   "cell_type": "code",
   "execution_count": 279,
   "id": "7a080947-058d-46d7-b838-7e9811ae3574",
   "metadata": {},
   "outputs": [],
   "source": [
    "save_texts(name, texts_47)\n",
    "texts_all = pd.concat([texts_all, texts_47])"
   ]
  },
  {
   "cell_type": "code",
   "execution_count": null,
   "id": "d57dacbc-e09e-4f44-b50e-bc08c761fed8",
   "metadata": {},
   "outputs": [],
   "source": []
  },
  {
   "cell_type": "markdown",
   "id": "25453954-9196-4f7b-a91b-fcf4c10f0f1f",
   "metadata": {},
   "source": [
    "## Национальная Служба Новостей"
   ]
  },
  {
   "cell_type": "code",
   "execution_count": 280,
   "id": "a0f491e3-6534-4120-ae51-adb2e6ba2079",
   "metadata": {},
   "outputs": [],
   "source": [
    "name = 'Национальная Служба Новостей'"
   ]
  },
  {
   "cell_type": "code",
   "execution_count": 281,
   "id": "ae8fa54d-d681-45d7-9d75-33c876a335d7",
   "metadata": {},
   "outputs": [],
   "source": [
    "def ns_scraper(link):\n",
    "\n",
    "    try:\n",
    "        try:\n",
    "          r = requests.get(link, timeout=20)\n",
    "        except requests.exceptions.RequestException as ex:\n",
    "          print(ex)\n",
    "\n",
    "        soup = BeautifulSoup(r.content, \"html.parser\")\n",
    "\n",
    "        headline = soup.find('title').get_text()\n",
    "        description = soup.find('meta', {'name' : 'description'}).get(\"content\")\n",
    "        article_body = ''\n",
    "\n",
    "        blocks = soup.find_all('p')\n",
    "        for block in blocks:\n",
    "          article_body = article_body + block.get_text()\n",
    "\n",
    "        return(headline, description, article_body)\n",
    "\n",
    "    except (UnboundLocalError, KeyError, AttributeError, UnicodeDecodeError) as error:\n",
    "      print(error)\n",
    "      pass"
   ]
  },
  {
   "cell_type": "code",
   "execution_count": 282,
   "id": "bc4f14b8-1a7e-4048-a001-221bca786f54",
   "metadata": {},
   "outputs": [
    {
     "data": {
      "text/plain": [
       "(103,)"
      ]
     },
     "execution_count": 282,
     "metadata": {},
     "output_type": "execute_result"
    }
   ],
   "source": [
    "links_ns = data[data.newspaper == name].url\n",
    "links_ns.shape"
   ]
  },
  {
   "cell_type": "code",
   "execution_count": 283,
   "id": "1a7e7a7b-e08e-4d07-8dc9-c91a47d16a33",
   "metadata": {},
   "outputs": [
    {
     "name": "stdout",
     "output_type": "stream",
     "text": [
      "CPU times: total: 1min 10s\n",
      "Wall time: 2min 40s\n"
     ]
    }
   ],
   "source": [
    "%%time\n",
    "headlines, descriptions, article_bodies, urls = parser(links_ns, ns_scraper)"
   ]
  },
  {
   "cell_type": "code",
   "execution_count": 284,
   "id": "5e36a882-187a-4300-a6ab-8e8879f5b2bf",
   "metadata": {},
   "outputs": [
    {
     "data": {
      "text/plain": [
       "(103, 4)"
      ]
     },
     "execution_count": 284,
     "metadata": {},
     "output_type": "execute_result"
    }
   ],
   "source": [
    "d = {'headline': headlines, 'description': descriptions, 'article_body': article_bodies, 'url' : urls}\n",
    "texts_ns = pd.DataFrame(data=d)\n",
    "texts_ns.shape"
   ]
  },
  {
   "cell_type": "code",
   "execution_count": 285,
   "id": "a495c6af-f699-4f05-a35b-c245a9b4dd86",
   "metadata": {},
   "outputs": [],
   "source": [
    "save_texts(name, texts_ns)\n",
    "texts_all = pd.concat([texts_all, texts_ns])"
   ]
  },
  {
   "cell_type": "code",
   "execution_count": null,
   "id": "ca7e688e-1540-4222-8a77-3182f7edf6b5",
   "metadata": {},
   "outputs": [],
   "source": []
  },
  {
   "cell_type": "markdown",
   "id": "d2163d65-9175-4a46-b721-a6912199325b",
   "metadata": {},
   "source": [
    "## Женский журнал Woman.ru"
   ]
  },
  {
   "cell_type": "code",
   "execution_count": 286,
   "id": "1278dfd1-6d34-4003-b606-9502c5595c11",
   "metadata": {},
   "outputs": [],
   "source": [
    "name = 'Женский журнал Woman.ru'"
   ]
  },
  {
   "cell_type": "code",
   "execution_count": 287,
   "id": "7b8544ac-4134-465c-8fe3-73560886a84f",
   "metadata": {},
   "outputs": [],
   "source": [
    "def wm_scraper(link):\n",
    "\n",
    "    try:\n",
    "        try:\n",
    "          r = requests.get(link, timeout=20)\n",
    "        except requests.exceptions.RequestException as ex:\n",
    "          print(ex)\n",
    "\n",
    "        soup = BeautifulSoup(r.content, \"html.parser\")\n",
    "\n",
    "        headline = soup.find('title').get_text()\n",
    "        description = soup.find('meta', {'name' : 'description'}).get(\"content\")\n",
    "        article_body = ''\n",
    "\n",
    "        blocks = soup.find_all('div', {'class': 'article-content-block'})\n",
    "        for block in blocks:\n",
    "          article_body = article_body + block.get_text()\n",
    "\n",
    "        return(headline, description, article_body)\n",
    "\n",
    "    except (UnboundLocalError, KeyError, AttributeError, UnicodeDecodeError) as error:\n",
    "      print(error)\n",
    "      pass"
   ]
  },
  {
   "cell_type": "code",
   "execution_count": 288,
   "id": "3582d048-6f3c-4c76-bee0-aa5f2cd2389a",
   "metadata": {},
   "outputs": [
    {
     "data": {
      "text/plain": [
       "(79,)"
      ]
     },
     "execution_count": 288,
     "metadata": {},
     "output_type": "execute_result"
    }
   ],
   "source": [
    "links_wm = data[data.newspaper == name].url\n",
    "links_wm.shape"
   ]
  },
  {
   "cell_type": "code",
   "execution_count": 289,
   "id": "1ff16328-bac5-4e04-a4bc-f92ac2cc5aa4",
   "metadata": {},
   "outputs": [
    {
     "name": "stdout",
     "output_type": "stream",
     "text": [
      "'NoneType' object has no attribute 'get'\n",
      "'NoneType' object has no attribute 'get'\n",
      "'NoneType' object has no attribute 'get'\n",
      "'NoneType' object has no attribute 'get'\n",
      "'NoneType' object has no attribute 'get'\n",
      "'NoneType' object has no attribute 'get'\n",
      "'NoneType' object has no attribute 'get'\n",
      "'NoneType' object has no attribute 'get'\n",
      "'NoneType' object has no attribute 'get'\n",
      "'NoneType' object has no attribute 'get'\n",
      "'NoneType' object has no attribute 'get'\n",
      "'NoneType' object has no attribute 'get'\n",
      "'NoneType' object has no attribute 'get'\n",
      "'NoneType' object has no attribute 'get'\n",
      "'NoneType' object has no attribute 'get'\n",
      "'NoneType' object has no attribute 'get'\n",
      "'NoneType' object has no attribute 'get'\n",
      "'NoneType' object has no attribute 'get'\n",
      "CPU times: total: 55.7 s\n",
      "Wall time: 1min 56s\n"
     ]
    }
   ],
   "source": [
    "%%time\n",
    "headlines, descriptions, article_bodies, urls = parser(links_wm, wm_scraper)"
   ]
  },
  {
   "cell_type": "code",
   "execution_count": 290,
   "id": "5650d3be-5ee5-47fa-8dc4-fd33906e4b4b",
   "metadata": {},
   "outputs": [
    {
     "data": {
      "text/plain": [
       "(61, 4)"
      ]
     },
     "execution_count": 290,
     "metadata": {},
     "output_type": "execute_result"
    }
   ],
   "source": [
    "d = {'headline': headlines, 'description': descriptions, 'article_body': article_bodies, 'url' : urls}\n",
    "texts_wm = pd.DataFrame(data=d)\n",
    "texts_wm.shape"
   ]
  },
  {
   "cell_type": "code",
   "execution_count": 291,
   "id": "09b1ea15-247b-4083-b4b3-04afcc02655a",
   "metadata": {},
   "outputs": [],
   "source": [
    "save_texts(name, texts_wm)\n",
    "texts_all = pd.concat([texts_all, texts_wm])"
   ]
  },
  {
   "cell_type": "code",
   "execution_count": null,
   "id": "1a1a5843-e08b-40d5-9b48-c2081c6253f9",
   "metadata": {},
   "outputs": [],
   "source": []
  },
  {
   "cell_type": "markdown",
   "id": "53554e4a-a433-4128-9657-470d7e6a747a",
   "metadata": {},
   "source": [
    "## Бизнес Online (business-gazeta.ru)"
   ]
  },
  {
   "cell_type": "code",
   "execution_count": 292,
   "id": "7e62d0fe-a5c8-429c-a032-53c3d69d17aa",
   "metadata": {},
   "outputs": [],
   "source": [
    "name = 'Бизнес Online (business-gazeta.ru)'"
   ]
  },
  {
   "cell_type": "code",
   "execution_count": 293,
   "id": "06cba7d1-1469-488b-8017-7b70811f6658",
   "metadata": {},
   "outputs": [],
   "source": [
    "def bz_scraper(link):\n",
    "\n",
    "    try:\n",
    "        try:\n",
    "          r = requests.get(link, timeout=20)\n",
    "        except requests.exceptions.RequestException as ex:\n",
    "          print(ex)\n",
    "\n",
    "        soup = BeautifulSoup(r.content, \"html.parser\")\n",
    "\n",
    "        headline = soup.find('title').get_text()\n",
    "        description = soup.find('meta', {'name' : 'description'}).get(\"content\")\n",
    "        article_body = soup.find('div', {'class': 'articleBody'}).get_text()\n",
    "\n",
    "        return(headline, description, article_body)\n",
    "\n",
    "    except (UnboundLocalError, KeyError, AttributeError, UnicodeDecodeError) as error:\n",
    "      print(error)\n",
    "      pass"
   ]
  },
  {
   "cell_type": "code",
   "execution_count": 294,
   "id": "50d29970-1cc8-4044-ad0b-b21c609582e1",
   "metadata": {},
   "outputs": [
    {
     "data": {
      "text/plain": [
       "(73,)"
      ]
     },
     "execution_count": 294,
     "metadata": {},
     "output_type": "execute_result"
    }
   ],
   "source": [
    "links_bz = data[data.newspaper == name].url\n",
    "links_bz.shape"
   ]
  },
  {
   "cell_type": "code",
   "execution_count": 295,
   "id": "ee2cfc7a-7c1b-4d0d-a3b0-e083dcd69273",
   "metadata": {},
   "outputs": [
    {
     "name": "stdout",
     "output_type": "stream",
     "text": [
      "'NoneType' object has no attribute 'get'\n",
      "'NoneType' object has no attribute 'get'\n",
      "'NoneType' object has no attribute 'get'\n",
      "CPU times: total: 1min 4s\n",
      "Wall time: 1min 24s\n"
     ]
    }
   ],
   "source": [
    "%%time\n",
    "headlines, descriptions, article_bodies, urls = parser(links_bz, bz_scraper)"
   ]
  },
  {
   "cell_type": "code",
   "execution_count": 296,
   "id": "ea8f6894-f78d-4951-8536-d6b0d20b1864",
   "metadata": {},
   "outputs": [
    {
     "data": {
      "text/plain": [
       "(70, 4)"
      ]
     },
     "execution_count": 296,
     "metadata": {},
     "output_type": "execute_result"
    }
   ],
   "source": [
    "d = {'headline': headlines, 'description': descriptions, 'article_body': article_bodies, 'url' : urls}\n",
    "texts_bz = pd.DataFrame(data=d)\n",
    "texts_bz.shape"
   ]
  },
  {
   "cell_type": "code",
   "execution_count": 297,
   "id": "ea44f95b-e344-495b-95d2-cec9cee5360a",
   "metadata": {},
   "outputs": [],
   "source": [
    "save_texts(name, texts_bz)\n",
    "texts_all = pd.concat([texts_all, texts_bz])"
   ]
  },
  {
   "cell_type": "code",
   "execution_count": null,
   "id": "b93cb32b-3418-4683-9d14-a6bc5647c2dd",
   "metadata": {},
   "outputs": [],
   "source": []
  },
  {
   "cell_type": "markdown",
   "id": "9d831b56-4f8d-4320-9640-06ce262fc93c",
   "metadata": {},
   "source": [
    "## ИА Татар-информ (tatar-inform.ru)"
   ]
  },
  {
   "cell_type": "code",
   "execution_count": 298,
   "id": "c8080ced-f72c-4e0f-9ead-aa40a4352a85",
   "metadata": {},
   "outputs": [],
   "source": [
    "name = 'ИА Татар-информ (tatar-inform.ru)'"
   ]
  },
  {
   "cell_type": "code",
   "execution_count": 299,
   "id": "701cdf51-5c27-42a1-b357-fe4e0d54afbb",
   "metadata": {},
   "outputs": [],
   "source": [
    "def tat_scraper(link):\n",
    "\n",
    "    try:\n",
    "        try:\n",
    "          r = requests.get(link, timeout=20)\n",
    "        except requests.exceptions.RequestException as ex:\n",
    "          print(ex)\n",
    "\n",
    "        soup = BeautifulSoup(r.content, \"html.parser\")\n",
    "\n",
    "        headline = soup.find('title').get_text()\n",
    "        description = soup.find('meta', {'name' : 'description'}).get(\"content\")\n",
    "        article_body = soup.find('div', {'class': 'page-main__text'}).get_text()\n",
    "\n",
    "        return(headline, description, article_body)\n",
    "\n",
    "    except (UnboundLocalError, KeyError, AttributeError, UnicodeDecodeError) as error:\n",
    "      print(error)\n",
    "      pass"
   ]
  },
  {
   "cell_type": "code",
   "execution_count": 300,
   "id": "eed91861-ce68-4a6e-ad8b-cacc7c4743aa",
   "metadata": {},
   "outputs": [
    {
     "data": {
      "text/plain": [
       "(58,)"
      ]
     },
     "execution_count": 300,
     "metadata": {},
     "output_type": "execute_result"
    }
   ],
   "source": [
    "links_tat = data[data.newspaper == name].url\n",
    "links_tat.shape"
   ]
  },
  {
   "cell_type": "code",
   "execution_count": 301,
   "id": "95f72fd5-7b69-4485-b2c0-7b7e117ecf16",
   "metadata": {},
   "outputs": [
    {
     "name": "stdout",
     "output_type": "stream",
     "text": [
      "CPU times: total: 41 s\n",
      "Wall time: 1min 15s\n"
     ]
    }
   ],
   "source": [
    "%%time\n",
    "headlines, descriptions, article_bodies, urls = parser(links_tat, tat_scraper)"
   ]
  },
  {
   "cell_type": "code",
   "execution_count": 302,
   "id": "2e3ba951-481a-4016-86cb-4163a1031c19",
   "metadata": {},
   "outputs": [
    {
     "data": {
      "text/plain": [
       "(58, 4)"
      ]
     },
     "execution_count": 302,
     "metadata": {},
     "output_type": "execute_result"
    }
   ],
   "source": [
    "d = {'headline': headlines, 'description': descriptions, 'article_body': article_bodies, 'url' : urls}\n",
    "texts_tat = pd.DataFrame(data=d)\n",
    "texts_tat.shape"
   ]
  },
  {
   "cell_type": "code",
   "execution_count": 303,
   "id": "fa66fa0d-d7d2-417a-98f2-74f624de0c1f",
   "metadata": {},
   "outputs": [],
   "source": [
    "save_texts(name, texts_tat)\n",
    "texts_all = pd.concat([texts_all, texts_tat])"
   ]
  },
  {
   "cell_type": "code",
   "execution_count": null,
   "id": "a1ba6507-1199-4319-b5c5-22b72bcce3a3",
   "metadata": {},
   "outputs": [],
   "source": []
  },
  {
   "cell_type": "markdown",
   "id": "56a66736-2921-4b8e-bbf6-a0bd04a1a3d7",
   "metadata": {},
   "source": [
    "## Комсомольская правда (msk.kp.ru)"
   ]
  },
  {
   "cell_type": "code",
   "execution_count": 304,
   "id": "18a21462-819e-4a5b-b061-dc2d6bb54c0f",
   "metadata": {},
   "outputs": [],
   "source": [
    "name = 'Комсомольская правда (msk.kp.ru)'"
   ]
  },
  {
   "cell_type": "code",
   "execution_count": 305,
   "id": "c9dc9959-8ed8-4a7c-b811-ce9127701503",
   "metadata": {},
   "outputs": [],
   "source": [
    "def kpm_scraper(link):\n",
    "\n",
    "    try:\n",
    "        try:\n",
    "          r = requests.get(link, timeout=20)\n",
    "        except requests.exceptions.RequestException as ex:\n",
    "          print(ex)\n",
    "\n",
    "        soup = BeautifulSoup(r.content, \"html.parser\")\n",
    "        json_data = json.loads(soup.find(type=\"application/ld+json\").string)\n",
    "\n",
    "        headline = soup.find('title').get_text()\n",
    "        description = soup.find('meta', {'name' : 'description'}).get(\"content\")\n",
    "        article_body = json_data['articleBody']\n",
    "\n",
    "        return(headline, description, article_body)\n",
    "\n",
    "    except (UnboundLocalError, KeyError, AttributeError, UnicodeDecodeError) as error:\n",
    "      print(error)\n",
    "      pass"
   ]
  },
  {
   "cell_type": "code",
   "execution_count": 306,
   "id": "2be78fe2-1686-45a2-b9ab-95dea5067391",
   "metadata": {},
   "outputs": [
    {
     "data": {
      "text/plain": [
       "(56,)"
      ]
     },
     "execution_count": 306,
     "metadata": {},
     "output_type": "execute_result"
    }
   ],
   "source": [
    "links_kpm = data[data.newspaper == name].url\n",
    "links_kpm.shape"
   ]
  },
  {
   "cell_type": "code",
   "execution_count": 307,
   "id": "6674f6b4-10d9-4119-98be-bd5082c7d7a5",
   "metadata": {},
   "outputs": [
    {
     "name": "stdout",
     "output_type": "stream",
     "text": [
      "CPU times: total: 37.8 s\n",
      "Wall time: 1min 33s\n"
     ]
    }
   ],
   "source": [
    "%%time\n",
    "headlines, descriptions, article_bodies, urls = parser(links_kpm, kpm_scraper)"
   ]
  },
  {
   "cell_type": "code",
   "execution_count": 308,
   "id": "8ba3aa32-ba4c-4b9f-8140-9390da4ff080",
   "metadata": {},
   "outputs": [
    {
     "data": {
      "text/plain": [
       "(56, 4)"
      ]
     },
     "execution_count": 308,
     "metadata": {},
     "output_type": "execute_result"
    }
   ],
   "source": [
    "d = {'headline': headlines, 'description': descriptions, 'article_body': article_bodies, 'url' : urls}\n",
    "texts_kpm = pd.DataFrame(data=d)\n",
    "texts_kpm.shape"
   ]
  },
  {
   "cell_type": "code",
   "execution_count": 309,
   "id": "11ec361d-b78a-4932-a280-f3d3811fcfad",
   "metadata": {},
   "outputs": [],
   "source": [
    "save_texts(name, texts_kpm)\n",
    "texts_all = pd.concat([texts_all, texts_kpm])"
   ]
  },
  {
   "cell_type": "code",
   "execution_count": null,
   "id": "8c773e2a-fdcb-4993-9a67-bf1fcfc1a86b",
   "metadata": {},
   "outputs": [],
   "source": []
  },
  {
   "cell_type": "markdown",
   "id": "1b293920-d4cd-4ca7-a69e-af49dfeb7d8b",
   "metadata": {},
   "source": [
    "## Коммерсантъ. Новости Online"
   ]
  },
  {
   "cell_type": "code",
   "execution_count": 310,
   "id": "711b1220-edb3-404e-8bae-094baac11270",
   "metadata": {},
   "outputs": [],
   "source": [
    "name = 'Коммерсантъ. Новости Online'"
   ]
  },
  {
   "cell_type": "code",
   "execution_count": 311,
   "id": "fa2f6f08-6cc6-438f-8849-e38fcfdaa138",
   "metadata": {},
   "outputs": [],
   "source": [
    "def km_scraper(link):\n",
    "\n",
    "    try:\n",
    "        try:\n",
    "          r = requests.get(link, timeout=20)\n",
    "        except requests.exceptions.RequestException as ex:\n",
    "          print(ex)\n",
    "\n",
    "        soup = BeautifulSoup(r.content, \"html.parser\")\n",
    "\n",
    "        headline = soup.find('title').get_text()\n",
    "        description = soup.find('meta', {'name' : 'description'}).get(\"content\")\n",
    "        article_body = soup.find('div', {'itemprop' : 'articleBody'}).get_text()\n",
    "\n",
    "        return(headline, description, article_body)\n",
    "\n",
    "    except (UnboundLocalError, KeyError, AttributeError, UnicodeDecodeError) as error:\n",
    "      print(error)\n",
    "      pass"
   ]
  },
  {
   "cell_type": "code",
   "execution_count": 312,
   "id": "2926a905-c36d-4d7f-887c-91e019f885fc",
   "metadata": {},
   "outputs": [
    {
     "data": {
      "text/plain": [
       "(65,)"
      ]
     },
     "execution_count": 312,
     "metadata": {},
     "output_type": "execute_result"
    }
   ],
   "source": [
    "links_km = data[data.newspaper == name].url\n",
    "links_km.shape"
   ]
  },
  {
   "cell_type": "code",
   "execution_count": 313,
   "id": "0495f2f2-bad1-438e-a30b-69e8c6530171",
   "metadata": {},
   "outputs": [
    {
     "name": "stdout",
     "output_type": "stream",
     "text": [
      "'NoneType' object has no attribute 'get_text'\n",
      "'NoneType' object has no attribute 'get_text'\n",
      "'NoneType' object has no attribute 'get_text'\n",
      "'NoneType' object has no attribute 'get_text'\n",
      "'NoneType' object has no attribute 'get_text'\n",
      "'NoneType' object has no attribute 'get_text'\n",
      "CPU times: total: 49.7 s\n",
      "Wall time: 1min 6s\n"
     ]
    }
   ],
   "source": [
    "%%time\n",
    "headlines, descriptions, article_bodies, urls = parser(links_km, km_scraper)"
   ]
  },
  {
   "cell_type": "code",
   "execution_count": 314,
   "id": "ebfea170-88a4-46dd-ada2-8ea88be0ecfe",
   "metadata": {},
   "outputs": [
    {
     "data": {
      "text/plain": [
       "(59, 4)"
      ]
     },
     "execution_count": 314,
     "metadata": {},
     "output_type": "execute_result"
    }
   ],
   "source": [
    "d = {'headline': headlines, 'description': descriptions, 'article_body': article_bodies, 'url' : urls}\n",
    "texts_km = pd.DataFrame(data=d)\n",
    "texts_km.shape"
   ]
  },
  {
   "cell_type": "code",
   "execution_count": 315,
   "id": "602d33ed-a28f-49a2-8fcf-db1ac166297b",
   "metadata": {},
   "outputs": [],
   "source": [
    "save_texts(name, texts_km)\n",
    "texts_all = pd.concat([texts_all, texts_km])"
   ]
  },
  {
   "cell_type": "code",
   "execution_count": null,
   "id": "d6f42397-94aa-436d-9ae9-73036ed0aeab",
   "metadata": {},
   "outputs": [],
   "source": []
  },
  {
   "cell_type": "markdown",
   "id": "e3526fe4-c091-4f75-a3f8-96cc0a21d90f",
   "metadata": {},
   "source": [
    "## Star Hit (starhit.ru)"
   ]
  },
  {
   "cell_type": "code",
   "execution_count": 316,
   "id": "40e12fc5-e61f-44c4-9241-dd12b4e35a98",
   "metadata": {},
   "outputs": [],
   "source": [
    "name = 'Star Hit (starhit.ru)'"
   ]
  },
  {
   "cell_type": "code",
   "execution_count": 317,
   "id": "d4e1fab7-3b31-46d4-a946-07663b79847a",
   "metadata": {},
   "outputs": [],
   "source": [
    "def sh_scraper(link):\n",
    "\n",
    "    try:\n",
    "        try:\n",
    "          r = requests.get(link, timeout=20)\n",
    "        except requests.exceptions.RequestException as ex:\n",
    "          print(ex)\n",
    "\n",
    "        soup = BeautifulSoup(r.content, \"html.parser\")\n",
    "\n",
    "        headline = soup.find('title').get_text()\n",
    "        description = soup.find('meta', {'name' : 'description'}).get(\"content\")\n",
    "        article_body = ''\n",
    "\n",
    "        blocks = soup.find_all('p')\n",
    "        for block in blocks:\n",
    "          article_body = article_body + block.get_text()\n",
    "\n",
    "        return(headline, description, article_body)\n",
    "\n",
    "    except (UnboundLocalError, KeyError, AttributeError, UnicodeDecodeError) as error:\n",
    "      print(error)\n",
    "      pass"
   ]
  },
  {
   "cell_type": "code",
   "execution_count": 318,
   "id": "0be52ccd-d071-4960-bc77-e7ed5f8182c5",
   "metadata": {},
   "outputs": [
    {
     "data": {
      "text/plain": [
       "(50,)"
      ]
     },
     "execution_count": 318,
     "metadata": {},
     "output_type": "execute_result"
    }
   ],
   "source": [
    "links_sh = data[data.newspaper == name].url\n",
    "links_sh.shape"
   ]
  },
  {
   "cell_type": "code",
   "execution_count": 319,
   "id": "9a5cef7f-a753-4152-b558-de93e7876ac4",
   "metadata": {},
   "outputs": [
    {
     "name": "stdout",
     "output_type": "stream",
     "text": [
      "CPU times: total: 35.5 s\n",
      "Wall time: 1min 12s\n"
     ]
    }
   ],
   "source": [
    "%%time\n",
    "headlines, descriptions, article_bodies, urls = parser(links_sh, sh_scraper)"
   ]
  },
  {
   "cell_type": "code",
   "execution_count": 320,
   "id": "70e4cdb8-4376-47cc-9b6a-31978771c409",
   "metadata": {},
   "outputs": [
    {
     "data": {
      "text/plain": [
       "(50, 4)"
      ]
     },
     "execution_count": 320,
     "metadata": {},
     "output_type": "execute_result"
    }
   ],
   "source": [
    "d = {'headline': headlines, 'description': descriptions, 'article_body': article_bodies, 'url' : urls}\n",
    "texts_sh = pd.DataFrame(data=d)\n",
    "texts_sh.shape"
   ]
  },
  {
   "cell_type": "code",
   "execution_count": 321,
   "id": "d2beeb5a-4d63-412b-b894-70089bb4daff",
   "metadata": {},
   "outputs": [],
   "source": [
    "save_texts(name, texts_sh)\n",
    "texts_all = pd.concat([texts_all, texts_sh])"
   ]
  },
  {
   "cell_type": "code",
   "execution_count": null,
   "id": "4cdff85f-6348-4543-8849-35fe8a73c2b1",
   "metadata": {},
   "outputs": [],
   "source": []
  },
  {
   "cell_type": "markdown",
   "id": "ef234c54-948a-4f27-b911-fe88f0c9a1d1",
   "metadata": {},
   "source": [
    "## Подмосковье сегодня (mosregtoday.ru)"
   ]
  },
  {
   "cell_type": "code",
   "execution_count": 322,
   "id": "3dd2a2c0-b6c6-48d6-8d90-f541bcf10f4d",
   "metadata": {},
   "outputs": [],
   "source": [
    "name = 'Подмосковье сегодня (mosregtoday.ru)'"
   ]
  },
  {
   "cell_type": "code",
   "execution_count": 323,
   "id": "bd3c080c-479b-48a9-9abc-89d18996c998",
   "metadata": {},
   "outputs": [],
   "source": [
    "def ps_scraper(link):\n",
    "\n",
    "    try:\n",
    "        try:\n",
    "          r = requests.get(link, timeout=20)\n",
    "        except requests.exceptions.RequestException as ex:\n",
    "          print(ex)\n",
    "\n",
    "        soup = BeautifulSoup(r.content, \"html.parser\")\n",
    "\n",
    "        headline = soup.find('title').get_text()\n",
    "        description = soup.find('meta', {'name' : 'description'}).get(\"content\")\n",
    "        article_body = ''\n",
    "\n",
    "        blocks = soup.find_all('p')\n",
    "        for block in blocks:\n",
    "          article_body = article_body + block.get_text()\n",
    "\n",
    "        return(headline, description, article_body)\n",
    "\n",
    "    except (UnboundLocalError, KeyError, AttributeError, UnicodeDecodeError) as error:\n",
    "      print(error)\n",
    "      pass"
   ]
  },
  {
   "cell_type": "code",
   "execution_count": 324,
   "id": "cd9437c3-1282-46a1-aa16-1b81a31eb864",
   "metadata": {},
   "outputs": [
    {
     "data": {
      "text/plain": [
       "(45,)"
      ]
     },
     "execution_count": 324,
     "metadata": {},
     "output_type": "execute_result"
    }
   ],
   "source": [
    "links_ps = data[data.newspaper == name].url\n",
    "links_ps.shape"
   ]
  },
  {
   "cell_type": "code",
   "execution_count": 325,
   "id": "693e2208-0671-4b70-87e3-74b65d8df3e6",
   "metadata": {},
   "outputs": [
    {
     "name": "stdout",
     "output_type": "stream",
     "text": [
      "'NoneType' object has no attribute 'get_text'\n",
      "'NoneType' object has no attribute 'get_text'\n",
      "'NoneType' object has no attribute 'get_text'\n",
      "CPU times: total: 27.9 s\n",
      "Wall time: 1min 29s\n"
     ]
    }
   ],
   "source": [
    "%%time\n",
    "headlines, descriptions, article_bodies, urls = parser(links_ps, ps_scraper)"
   ]
  },
  {
   "cell_type": "code",
   "execution_count": 326,
   "id": "990910cb-8a75-4411-bdcd-93ae9f5f9692",
   "metadata": {},
   "outputs": [
    {
     "data": {
      "text/plain": [
       "(42, 4)"
      ]
     },
     "execution_count": 326,
     "metadata": {},
     "output_type": "execute_result"
    }
   ],
   "source": [
    "d = {'headline': headlines, 'description': descriptions, 'article_body': article_bodies, 'url' : urls}\n",
    "texts_ps = pd.DataFrame(data=d)\n",
    "texts_ps.shape"
   ]
  },
  {
   "cell_type": "code",
   "execution_count": 327,
   "id": "d1197c9c-2298-4652-bf29-658bbd4e1e6c",
   "metadata": {},
   "outputs": [],
   "source": [
    "save_texts(name, texts_ps)\n",
    "texts_all = pd.concat([texts_all, texts_ps])"
   ]
  },
  {
   "cell_type": "code",
   "execution_count": null,
   "id": "3568d2b8-1e32-4b56-a1c5-f15c38404c22",
   "metadata": {},
   "outputs": [],
   "source": []
  },
  {
   "cell_type": "markdown",
   "id": "11b71c03-3886-4d24-a830-1a5013a0582e",
   "metadata": {},
   "source": [
    "## ИА Фергана"
   ]
  },
  {
   "cell_type": "code",
   "execution_count": 328,
   "id": "fb911fea-e09e-42a1-b088-b38b27461206",
   "metadata": {},
   "outputs": [],
   "source": [
    "name = 'ИА Фергана'"
   ]
  },
  {
   "cell_type": "code",
   "execution_count": 329,
   "id": "89e222fc-6a57-46e6-b3de-1b214f33feb4",
   "metadata": {},
   "outputs": [],
   "source": [
    "def fe_scraper(link):\n",
    "\n",
    "    try:\n",
    "        try:\n",
    "          r = requests.get(link, timeout=20)\n",
    "        except requests.exceptions.RequestException as ex:\n",
    "          print(ex)\n",
    "    \n",
    "        soup = BeautifulSoup(r.content, \"html.parser\")\n",
    "    \n",
    "        headline = soup.find('title').get_text()\n",
    "        description = headline\n",
    "        article_body = ''\n",
    "    \n",
    "        blocks = soup.find_all('p')\n",
    "        for block in blocks:\n",
    "          article_body = article_body + block.get_text()\n",
    "    \n",
    "        return(headline, description, article_body)\n",
    "    \n",
    "    except (UnboundLocalError, KeyError, AttributeError, UnicodeDecodeError) as error:\n",
    "      print(error)\n",
    "      pass"
   ]
  },
  {
   "cell_type": "code",
   "execution_count": 330,
   "id": "4b173c47-0467-4a64-8d2f-a5f57b51201f",
   "metadata": {},
   "outputs": [
    {
     "data": {
      "text/plain": [
       "(46,)"
      ]
     },
     "execution_count": 330,
     "metadata": {},
     "output_type": "execute_result"
    }
   ],
   "source": [
    "links_fe = data[data.newspaper == name].url\n",
    "links_fe.shape"
   ]
  },
  {
   "cell_type": "code",
   "execution_count": 331,
   "id": "623f9087-c125-458b-b119-9ee9e2913ea3",
   "metadata": {},
   "outputs": [
    {
     "name": "stderr",
     "output_type": "stream",
     "text": [
      "Some characters could not be decoded, and were replaced with REPLACEMENT CHARACTER.\n",
      "Some characters could not be decoded, and were replaced with REPLACEMENT CHARACTER.\n",
      "Some characters could not be decoded, and were replaced with REPLACEMENT CHARACTER.\n",
      "Some characters could not be decoded, and were replaced with REPLACEMENT CHARACTER.\n",
      "Some characters could not be decoded, and were replaced with REPLACEMENT CHARACTER.\n",
      "Some characters could not be decoded, and were replaced with REPLACEMENT CHARACTER.\n",
      "Some characters could not be decoded, and were replaced with REPLACEMENT CHARACTER.\n",
      "Some characters could not be decoded, and were replaced with REPLACEMENT CHARACTER.\n",
      "Some characters could not be decoded, and were replaced with REPLACEMENT CHARACTER.\n",
      "Some characters could not be decoded, and were replaced with REPLACEMENT CHARACTER.\n",
      "Some characters could not be decoded, and were replaced with REPLACEMENT CHARACTER.\n",
      "Some characters could not be decoded, and were replaced with REPLACEMENT CHARACTER.\n"
     ]
    },
    {
     "name": "stdout",
     "output_type": "stream",
     "text": [
      "('Connection aborted.', ConnectionResetError(10054, 'Удаленный хост принудительно разорвал существующее подключение', None, 10054, None))\n",
      "cannot access local variable 'r' where it is not associated with a value\n",
      "('Connection aborted.', ConnectionResetError(10054, 'Удаленный хост принудительно разорвал существующее подключение', None, 10054, None))\n",
      "cannot access local variable 'r' where it is not associated with a value\n",
      "('Connection aborted.', ConnectionResetError(10054, 'Удаленный хост принудительно разорвал существующее подключение', None, 10054, None))\n",
      "cannot access local variable 'r' where it is not associated with a value\n",
      "('Connection aborted.', ConnectionResetError(10054, 'Удаленный хост принудительно разорвал существующее подключение', None, 10054, None))\n",
      "cannot access local variable 'r' where it is not associated with a value\n",
      "('Connection aborted.', ConnectionResetError(10054, 'Удаленный хост принудительно разорвал существующее подключение', None, 10054, None))\n",
      "cannot access local variable 'r' where it is not associated with a value\n",
      "('Connection aborted.', ConnectionResetError(10054, 'Удаленный хост принудительно разорвал существующее подключение', None, 10054, None))\n",
      "cannot access local variable 'r' where it is not associated with a value\n",
      "('Connection aborted.', ConnectionResetError(10054, 'Удаленный хост принудительно разорвал существующее подключение', None, 10054, None))\n",
      "cannot access local variable 'r' where it is not associated with a value\n",
      "('Connection aborted.', ConnectionResetError(10054, 'Удаленный хост принудительно разорвал существующее подключение', None, 10054, None))\n",
      "cannot access local variable 'r' where it is not associated with a value\n",
      "('Connection aborted.', ConnectionResetError(10054, 'Удаленный хост принудительно разорвал существующее подключение', None, 10054, None))\n",
      "cannot access local variable 'r' where it is not associated with a value\n",
      "('Connection aborted.', ConnectionResetError(10054, 'Удаленный хост принудительно разорвал существующее подключение', None, 10054, None))\n",
      "cannot access local variable 'r' where it is not associated with a value\n",
      "('Connection aborted.', ConnectionResetError(10054, 'Удаленный хост принудительно разорвал существующее подключение', None, 10054, None))\n",
      "cannot access local variable 'r' where it is not associated with a value\n",
      "('Connection aborted.', ConnectionResetError(10054, 'Удаленный хост принудительно разорвал существующее подключение', None, 10054, None))\n",
      "cannot access local variable 'r' where it is not associated with a value\n",
      "('Connection aborted.', ConnectionResetError(10054, 'Удаленный хост принудительно разорвал существующее подключение', None, 10054, None))\n",
      "cannot access local variable 'r' where it is not associated with a value\n",
      "HTTPSConnectionPool(host='fergana.agency', port=443): Read timed out. (read timeout=20)\n",
      "cannot access local variable 'r' where it is not associated with a value\n",
      "('Connection aborted.', ConnectionResetError(10054, 'Удаленный хост принудительно разорвал существующее подключение', None, 10054, None))\n",
      "cannot access local variable 'r' where it is not associated with a value\n",
      "('Connection aborted.', ConnectionResetError(10054, 'Удаленный хост принудительно разорвал существующее подключение', None, 10054, None))\n",
      "cannot access local variable 'r' where it is not associated with a value\n",
      "('Connection aborted.', ConnectionResetError(10054, 'Удаленный хост принудительно разорвал существующее подключение', None, 10054, None))\n",
      "cannot access local variable 'r' where it is not associated with a value\n",
      "('Connection aborted.', ConnectionResetError(10054, 'Удаленный хост принудительно разорвал существующее подключение', None, 10054, None))\n",
      "cannot access local variable 'r' where it is not associated with a value\n",
      "('Connection aborted.', ConnectionResetError(10054, 'Удаленный хост принудительно разорвал существующее подключение', None, 10054, None))\n",
      "cannot access local variable 'r' where it is not associated with a value\n",
      "('Connection aborted.', ConnectionResetError(10054, 'Удаленный хост принудительно разорвал существующее подключение', None, 10054, None))\n",
      "cannot access local variable 'r' where it is not associated with a value\n",
      "('Connection aborted.', ConnectionResetError(10054, 'Удаленный хост принудительно разорвал существующее подключение', None, 10054, None))\n",
      "cannot access local variable 'r' where it is not associated with a value\n",
      "('Connection aborted.', ConnectionResetError(10054, 'Удаленный хост принудительно разорвал существующее подключение', None, 10054, None))\n",
      "cannot access local variable 'r' where it is not associated with a value\n",
      "('Connection aborted.', ConnectionResetError(10054, 'Удаленный хост принудительно разорвал существующее подключение', None, 10054, None))\n",
      "cannot access local variable 'r' where it is not associated with a value\n",
      "('Connection aborted.', ConnectionResetError(10054, 'Удаленный хост принудительно разорвал существующее подключение', None, 10054, None))\n",
      "cannot access local variable 'r' where it is not associated with a value\n",
      "('Connection aborted.', ConnectionResetError(10054, 'Удаленный хост принудительно разорвал существующее подключение', None, 10054, None))\n",
      "cannot access local variable 'r' where it is not associated with a value\n",
      "('Connection aborted.', ConnectionResetError(10054, 'Удаленный хост принудительно разорвал существующее подключение', None, 10054, None))\n",
      "cannot access local variable 'r' where it is not associated with a value\n",
      "('Connection aborted.', ConnectionResetError(10054, 'Удаленный хост принудительно разорвал существующее подключение', None, 10054, None))\n",
      "cannot access local variable 'r' where it is not associated with a value\n",
      "('Connection aborted.', ConnectionResetError(10054, 'Удаленный хост принудительно разорвал существующее подключение', None, 10054, None))\n",
      "cannot access local variable 'r' where it is not associated with a value\n",
      "HTTPSConnectionPool(host='fergana.agency', port=443): Read timed out. (read timeout=20)\n",
      "cannot access local variable 'r' where it is not associated with a value\n",
      "('Connection aborted.', ConnectionResetError(10054, 'Удаленный хост принудительно разорвал существующее подключение', None, 10054, None))\n",
      "cannot access local variable 'r' where it is not associated with a value\n",
      "('Connection aborted.', ConnectionResetError(10054, 'Удаленный хост принудительно разорвал существующее подключение', None, 10054, None))\n",
      "cannot access local variable 'r' where it is not associated with a value\n",
      "('Connection aborted.', ConnectionResetError(10054, 'Удаленный хост принудительно разорвал существующее подключение', None, 10054, None))\n",
      "cannot access local variable 'r' where it is not associated with a value\n",
      "('Connection aborted.', ConnectionResetError(10054, 'Удаленный хост принудительно разорвал существующее подключение', None, 10054, None))\n",
      "cannot access local variable 'r' where it is not associated with a value\n",
      "('Connection aborted.', ConnectionResetError(10054, 'Удаленный хост принудительно разорвал существующее подключение', None, 10054, None))\n",
      "cannot access local variable 'r' where it is not associated with a value\n",
      "CPU times: total: 27.3 s\n",
      "Wall time: 11min 33s\n"
     ]
    }
   ],
   "source": [
    "%%time\n",
    "headlines, descriptions, article_bodies, urls = parser(links_fe, fe_scraper)"
   ]
  },
  {
   "cell_type": "code",
   "execution_count": 332,
   "id": "6ad6557b-5378-49ff-8837-1beeff208066",
   "metadata": {},
   "outputs": [
    {
     "data": {
      "text/plain": [
       "(12, 4)"
      ]
     },
     "execution_count": 332,
     "metadata": {},
     "output_type": "execute_result"
    }
   ],
   "source": [
    "d = {'headline': headlines, 'description': descriptions, 'article_body': article_bodies, 'url' : urls}\n",
    "texts_fe = pd.DataFrame(data=d)\n",
    "texts_fe.shape"
   ]
  },
  {
   "cell_type": "code",
   "execution_count": 333,
   "id": "1300565a-9a28-43dd-b34d-feb5e881ca13",
   "metadata": {},
   "outputs": [],
   "source": [
    "save_texts(name, texts_fe)\n",
    "texts_all = pd.concat([texts_all, texts_fe])"
   ]
  },
  {
   "cell_type": "code",
   "execution_count": null,
   "id": "48e7c727-6a0a-4bb6-8bed-9500f9318ea5",
   "metadata": {},
   "outputs": [],
   "source": []
  },
  {
   "cell_type": "markdown",
   "id": "354dd69c-0761-47b0-b167-ea1714decab4",
   "metadata": {},
   "source": [
    "## Утро.ру (utro.ru)"
   ]
  },
  {
   "cell_type": "code",
   "execution_count": 334,
   "id": "b1c1667b-aec3-4758-91c2-83c7476aaa89",
   "metadata": {},
   "outputs": [],
   "source": [
    "name = 'Утро.ру (utro.ru)'"
   ]
  },
  {
   "cell_type": "code",
   "execution_count": 335,
   "id": "f4555165-43e4-4d51-8de8-667b5ca4c81f",
   "metadata": {},
   "outputs": [],
   "source": [
    "def ut_scraper(link):\n",
    "\n",
    "    try:\n",
    "        try:\n",
    "          r = requests.get(link, timeout=20)\n",
    "        except requests.exceptions.RequestException as ex:\n",
    "          print(ex)\n",
    "    \n",
    "        soup = BeautifulSoup(r.content, \"html.parser\")\n",
    "    \n",
    "        headline = soup.find('meta', property=\"og:title\").get('content')\n",
    "        description = soup.find('meta', property=\"og:description\").get('content')\n",
    "        article_body = soup.find('div', {'class': 'js-mediator-article io-article-bod'}).get_text()\n",
    "    \n",
    "        return(headline, description, article_body)\n",
    "    \n",
    "    except (UnboundLocalError, KeyError, AttributeError, UnicodeDecodeError) as error:\n",
    "      print(error)\n",
    "      pass"
   ]
  },
  {
   "cell_type": "code",
   "execution_count": 336,
   "id": "a1b5c532-a714-448f-be69-08a0df37fc0d",
   "metadata": {},
   "outputs": [
    {
     "data": {
      "text/plain": [
       "(44,)"
      ]
     },
     "execution_count": 336,
     "metadata": {},
     "output_type": "execute_result"
    }
   ],
   "source": [
    "links_ut = data[data.newspaper == name].url\n",
    "links_ut.shape"
   ]
  },
  {
   "cell_type": "code",
   "execution_count": 337,
   "id": "7fe94f9c-a51b-429c-8110-47a22bf0e42b",
   "metadata": {},
   "outputs": [
    {
     "name": "stdout",
     "output_type": "stream",
     "text": [
      "HTTPSConnectionPool(host='ytro.ru', port=443): Max retries exceeded with url: /news/showbiz/2021/03/09/1475711.shtml (Caused by ConnectTimeoutError(<urllib3.connection.HTTPSConnection object at 0x0000028751DAA3D0>, 'Connection to ytro.ru timed out. (connect timeout=20)'))\n",
      "cannot access local variable 'r' where it is not associated with a value\n",
      "HTTPSConnectionPool(host='ytro.ru', port=443): Max retries exceeded with url: /news/showbiz/2021/03/09/1475732.shtml (Caused by ConnectTimeoutError(<urllib3.connection.HTTPSConnection object at 0x0000028751DA93D0>, 'Connection to ytro.ru timed out. (connect timeout=20)'))\n",
      "cannot access local variable 'r' where it is not associated with a value\n",
      "HTTPSConnectionPool(host='ytro.news', port=443): Max retries exceeded with url: /news/army/2021/06/17/1484811.shtml (Caused by ConnectTimeoutError(<urllib3.connection.HTTPSConnection object at 0x0000028750362550>, 'Connection to ytro.news timed out. (connect timeout=20)'))\n",
      "cannot access local variable 'r' where it is not associated with a value\n",
      "HTTPSConnectionPool(host='ytro.news', port=443): Max retries exceeded with url: /news/accidents/2021/09/14/1492023.shtml (Caused by ConnectTimeoutError(<urllib3.connection.HTTPSConnection object at 0x0000028750360990>, 'Connection to ytro.news timed out. (connect timeout=20)'))\n",
      "cannot access local variable 'r' where it is not associated with a value\n",
      "HTTPSConnectionPool(host='ytro.news', port=443): Max retries exceeded with url: /news/accidents/2021/10/05/1493815.shtml (Caused by ConnectTimeoutError(<urllib3.connection.HTTPSConnection object at 0x000002874FACAE10>, 'Connection to ytro.news timed out. (connect timeout=20)'))\n",
      "cannot access local variable 'r' where it is not associated with a value\n",
      "HTTPSConnectionPool(host='ytro.news', port=443): Max retries exceeded with url: /news/showbiz/2021/12/21/1501000.shtml (Caused by ConnectTimeoutError(<urllib3.connection.HTTPSConnection object at 0x0000028750363210>, 'Connection to ytro.news timed out. (connect timeout=20)'))\n",
      "cannot access local variable 'r' where it is not associated with a value\n",
      "HTTPSConnectionPool(host='ytro.news', port=443): Max retries exceeded with url: /news/showbiz/2022/01/20/1503253.shtml (Caused by ConnectTimeoutError(<urllib3.connection.HTTPSConnection object at 0x0000028750363FD0>, 'Connection to ytro.news timed out. (connect timeout=20)'))\n",
      "cannot access local variable 'r' where it is not associated with a value\n",
      "CPU times: total: 26.9 s\n",
      "Wall time: 3min\n"
     ]
    }
   ],
   "source": [
    "%%time\n",
    "headlines, descriptions, article_bodies, urls = parser(links_ut, ut_scraper)"
   ]
  },
  {
   "cell_type": "code",
   "execution_count": 338,
   "id": "2cca7c41-1b8f-400e-b3e8-2aea5421846f",
   "metadata": {},
   "outputs": [
    {
     "data": {
      "text/plain": [
       "(37, 4)"
      ]
     },
     "execution_count": 338,
     "metadata": {},
     "output_type": "execute_result"
    }
   ],
   "source": [
    "d = {'headline': headlines, 'description': descriptions, 'article_body': article_bodies, 'url' : urls}\n",
    "texts_ut = pd.DataFrame(data=d)\n",
    "texts_ut.shape"
   ]
  },
  {
   "cell_type": "code",
   "execution_count": 339,
   "id": "23b97fc7-7908-4856-a1cf-2f290db8c8b6",
   "metadata": {},
   "outputs": [],
   "source": [
    "save_texts(name, texts_ut)\n",
    "texts_all = pd.concat([texts_all, texts_ut])"
   ]
  },
  {
   "cell_type": "code",
   "execution_count": null,
   "id": "457edf10-5547-4bc8-a194-dede738a2a01",
   "metadata": {},
   "outputs": [],
   "source": []
  },
  {
   "cell_type": "markdown",
   "id": "fe126b62-75f1-4bb2-9de7-42a98dafa583",
   "metadata": {},
   "source": [
    "## Ведомости (vedomosti.ru)"
   ]
  },
  {
   "cell_type": "code",
   "execution_count": 340,
   "id": "804bf3da-2d58-4b42-ab01-d056af1e88d1",
   "metadata": {},
   "outputs": [],
   "source": [
    "name = 'Ведомости (vedomosti.ru)'"
   ]
  },
  {
   "cell_type": "code",
   "execution_count": 341,
   "id": "0c85fa05-3100-431c-a1c9-6b28e5e976dc",
   "metadata": {},
   "outputs": [],
   "source": [
    "def ve_scraper(link):\n",
    "\n",
    "    try:\n",
    "        try:\n",
    "          r = requests.get(link, timeout=20)\n",
    "        except requests.exceptions.RequestException as ex:\n",
    "          print(ex)\n",
    "    \n",
    "        soup = BeautifulSoup(r.content, \"html.parser\")\n",
    "    \n",
    "        headline = soup.find('meta', property=\"og:title\").get('content')\n",
    "        description = soup.find('meta', property=\"og:description\").get('content')\n",
    "        article_body = ''\n",
    "    \n",
    "        blocks = soup.find_all('p', {'class': 'box-paragraph__text'})\n",
    "        for block in blocks:\n",
    "          article_body = article_body + block.get_text()\n",
    "    \n",
    "        return(headline, description, article_body)\n",
    "    \n",
    "    except (UnboundLocalError, KeyError, AttributeError, UnicodeDecodeError) as error:\n",
    "      print(error)\n",
    "      pass"
   ]
  },
  {
   "cell_type": "code",
   "execution_count": 342,
   "id": "1b692ba2-e793-490d-96e2-d57b01f340be",
   "metadata": {},
   "outputs": [
    {
     "data": {
      "text/plain": [
       "(40,)"
      ]
     },
     "execution_count": 342,
     "metadata": {},
     "output_type": "execute_result"
    }
   ],
   "source": [
    "links_ve = data[data.newspaper == name].url\n",
    "links_ve.shape"
   ]
  },
  {
   "cell_type": "code",
   "execution_count": 343,
   "id": "428f89bd-ddaf-4124-acea-731b102cb8fd",
   "metadata": {},
   "outputs": [
    {
     "name": "stdout",
     "output_type": "stream",
     "text": [
      "CPU times: total: 32.3 s\n",
      "Wall time: 39.4 s\n"
     ]
    }
   ],
   "source": [
    "%%time\n",
    "headlines, descriptions, article_bodies, urls = parser(links_ve, ve_scraper)"
   ]
  },
  {
   "cell_type": "code",
   "execution_count": 344,
   "id": "fe51c831-fa06-4027-994b-f19229f99a35",
   "metadata": {},
   "outputs": [
    {
     "data": {
      "text/plain": [
       "(40, 4)"
      ]
     },
     "execution_count": 344,
     "metadata": {},
     "output_type": "execute_result"
    }
   ],
   "source": [
    "d = {'headline': headlines, 'description': descriptions, 'article_body': article_bodies, 'url' : urls}\n",
    "texts_ve = pd.DataFrame(data=d)\n",
    "texts_ve.shape"
   ]
  },
  {
   "cell_type": "code",
   "execution_count": 345,
   "id": "78ce94a6-7764-4975-ad65-bf319cea1d76",
   "metadata": {},
   "outputs": [],
   "source": [
    "save_texts(name, texts_ve)\n",
    "texts_all = pd.concat([texts_all, texts_ve])"
   ]
  },
  {
   "cell_type": "code",
   "execution_count": null,
   "id": "0d6e6023-7432-4fda-91ed-29c803fd39d4",
   "metadata": {},
   "outputs": [],
   "source": []
  },
  {
   "cell_type": "markdown",
   "id": "926aa22b-ca3e-4211-9e70-72b70f746c13",
   "metadata": {},
   "source": [
    "## Нижегородская правда (pravda-nn.ru)"
   ]
  },
  {
   "cell_type": "code",
   "execution_count": 346,
   "id": "139bd6d5-56d1-4d29-ba4e-c20327b4c5f1",
   "metadata": {},
   "outputs": [],
   "source": [
    "name = 'Нижегородская правда (pravda-nn.ru)'"
   ]
  },
  {
   "cell_type": "code",
   "execution_count": 347,
   "id": "5220d98a-343f-4c7e-aeb3-f34a598d8912",
   "metadata": {},
   "outputs": [],
   "source": [
    "def nn_scraper(link):\n",
    "\n",
    "    try:\n",
    "        try:\n",
    "          r = requests.get(link, timeout=20)\n",
    "        except requests.exceptions.RequestException as ex:\n",
    "          print(ex)\n",
    "    \n",
    "        soup = BeautifulSoup(r.content, \"html.parser\")\n",
    "    \n",
    "        headline = soup.find('meta', property=\"og:title\").get('content')\n",
    "        description = soup.find('meta', property=\"og:description\").get('content')\n",
    "        article_body = ''\n",
    "    \n",
    "        blocks = soup.find_all('p')\n",
    "        for block in blocks:\n",
    "          article_body = article_body + block.get_text()\n",
    "    \n",
    "        return(headline, description, article_body)\n",
    "    \n",
    "    except (UnboundLocalError, KeyError, AttributeError, UnicodeDecodeError) as error:\n",
    "      print(error)\n",
    "      pass"
   ]
  },
  {
   "cell_type": "code",
   "execution_count": 348,
   "id": "503455b2-da64-4758-a1be-db343e0b1e38",
   "metadata": {},
   "outputs": [
    {
     "data": {
      "text/plain": [
       "(27,)"
      ]
     },
     "execution_count": 348,
     "metadata": {},
     "output_type": "execute_result"
    }
   ],
   "source": [
    "links_nn = data[data.newspaper == name].url\n",
    "links_nn.shape"
   ]
  },
  {
   "cell_type": "code",
   "execution_count": 349,
   "id": "5d400745-4742-4d73-b7bf-cc96419f1db6",
   "metadata": {},
   "outputs": [
    {
     "name": "stdout",
     "output_type": "stream",
     "text": [
      "'NoneType' object has no attribute 'get'\n",
      "CPU times: total: 18.2 s\n",
      "Wall time: 33.6 s\n"
     ]
    }
   ],
   "source": [
    "%%time\n",
    "headlines, descriptions, article_bodies, urls = parser(links_nn, nn_scraper)"
   ]
  },
  {
   "cell_type": "code",
   "execution_count": 350,
   "id": "0832bcff-875b-4950-88a7-b22ff09fd775",
   "metadata": {},
   "outputs": [
    {
     "data": {
      "text/plain": [
       "(26, 4)"
      ]
     },
     "execution_count": 350,
     "metadata": {},
     "output_type": "execute_result"
    }
   ],
   "source": [
    "d = {'headline': headlines, 'description': descriptions, 'article_body': article_bodies, 'url' : urls}\n",
    "texts_nn = pd.DataFrame(data=d)\n",
    "texts_nn.shape"
   ]
  },
  {
   "cell_type": "code",
   "execution_count": 351,
   "id": "36539f3f-947f-45d6-ab5b-91b471190dbe",
   "metadata": {},
   "outputs": [],
   "source": [
    "save_texts(name, texts_nn)\n",
    "texts_all = pd.concat([texts_all, texts_nn])"
   ]
  },
  {
   "cell_type": "code",
   "execution_count": null,
   "id": "4b80eec5-472e-47a3-8382-603af60958b0",
   "metadata": {},
   "outputs": [],
   "source": []
  },
  {
   "cell_type": "markdown",
   "id": "bc568188-9c5a-4c33-b08a-2ff0bc8ab28a",
   "metadata": {},
   "source": [
    "## Евро-футбол.ru (euro-football.ru)"
   ]
  },
  {
   "cell_type": "code",
   "execution_count": 352,
   "id": "3fdb116c-f8e3-4221-8182-1317731cdfe7",
   "metadata": {},
   "outputs": [],
   "source": [
    "name = 'Евро-футбол.ru (euro-football.ru)'"
   ]
  },
  {
   "cell_type": "code",
   "execution_count": 353,
   "id": "38f3c393-b667-4a73-a7ea-14fe47fe1a46",
   "metadata": {},
   "outputs": [],
   "source": [
    "def ef_scraper(link):\n",
    "\n",
    "    try:\n",
    "        try:\n",
    "          r = requests.get(link, timeout=20)\n",
    "        except requests.exceptions.RequestException as ex:\n",
    "          print(ex)\n",
    "    \n",
    "        soup = BeautifulSoup(r.content, \"html.parser\")\n",
    "    \n",
    "        headline = soup.find('meta', property=\"og:title\").get('content')\n",
    "        description = soup.find('meta', property=\"og:description\").get('content')\n",
    "        article_body = ''\n",
    "    \n",
    "        blocks = soup.find_all('p')\n",
    "        for block in blocks:\n",
    "          article_body = article_body + block.get_text()\n",
    "    \n",
    "        return(headline, description, article_body)\n",
    "    \n",
    "    except (UnboundLocalError, KeyError, AttributeError, UnicodeDecodeError) as error:\n",
    "      print(error)\n",
    "      pass"
   ]
  },
  {
   "cell_type": "code",
   "execution_count": 354,
   "id": "4f6506fd-2c73-48a1-bc7e-57066043fa46",
   "metadata": {},
   "outputs": [
    {
     "data": {
      "text/plain": [
       "(28,)"
      ]
     },
     "execution_count": 354,
     "metadata": {},
     "output_type": "execute_result"
    }
   ],
   "source": [
    "links_ef = data[data.newspaper == name].url\n",
    "links_ef.shape"
   ]
  },
  {
   "cell_type": "code",
   "execution_count": 355,
   "id": "6a1a1367-8ea6-401c-bb47-6444919bbc93",
   "metadata": {},
   "outputs": [
    {
     "name": "stdout",
     "output_type": "stream",
     "text": [
      "CPU times: total: 36.4 s\n",
      "Wall time: 40.4 s\n"
     ]
    }
   ],
   "source": [
    "%%time\n",
    "headlines, descriptions, article_bodies, urls = parser(links_ef, ef_scraper)"
   ]
  },
  {
   "cell_type": "code",
   "execution_count": 356,
   "id": "77ea37de-4142-4f16-bd2a-8615c4b42c4e",
   "metadata": {},
   "outputs": [
    {
     "data": {
      "text/plain": [
       "(28, 4)"
      ]
     },
     "execution_count": 356,
     "metadata": {},
     "output_type": "execute_result"
    }
   ],
   "source": [
    "d = {'headline': headlines, 'description': descriptions, 'article_body': article_bodies, 'url' : urls}\n",
    "texts_ef = pd.DataFrame(data=d)\n",
    "texts_ef.shape"
   ]
  },
  {
   "cell_type": "code",
   "execution_count": 357,
   "id": "6550bc6b-971c-4cc1-8b17-0c2bd2bf477e",
   "metadata": {},
   "outputs": [],
   "source": [
    "save_texts(name, texts_ef)\n",
    "texts_all = pd.concat([texts_all, texts_ef])"
   ]
  },
  {
   "cell_type": "code",
   "execution_count": null,
   "id": "f82c177f-e556-4ad8-a6ea-a7bbf214a075",
   "metadata": {},
   "outputs": [],
   "source": []
  },
  {
   "cell_type": "markdown",
   "id": "5bfafeee-8910-48e7-bf56-a466cb457ccf",
   "metadata": {},
   "source": [
    "## Агентство Политических Новостей"
   ]
  },
  {
   "cell_type": "code",
   "execution_count": 358,
   "id": "fa5464ff-9187-4dc7-a9df-561a076abd81",
   "metadata": {},
   "outputs": [],
   "source": [
    "name = 'Евро-футбол.ru (euro-football.ru)'"
   ]
  },
  {
   "cell_type": "code",
   "execution_count": 359,
   "id": "8c0f0d76-a9cb-49c9-b47e-24f11c021b42",
   "metadata": {},
   "outputs": [],
   "source": [
    "def apn_scraper(link):\n",
    "\n",
    "    try:\n",
    "        try:\n",
    "          r = requests.get(link, timeout=20)\n",
    "        except requests.exceptions.RequestException as ex:\n",
    "          print(ex)\n",
    "    \n",
    "        soup = BeautifulSoup(r.content, \"html.parser\")\n",
    "    \n",
    "        headline = soup.find('meta', property=\"og:title\").get('content')\n",
    "        description = soup.find('meta', property=\"og:description\").get('content')\n",
    "        article_body = soup.find('div', {'class': 'full-str'}).get_text()\n",
    "    \n",
    "        return(headline, description, article_body)\n",
    "    \n",
    "    except (UnboundLocalError, KeyError, AttributeError, UnicodeDecodeError) as error:\n",
    "      print(error)\n",
    "      pass"
   ]
  },
  {
   "cell_type": "code",
   "execution_count": 360,
   "id": "cb6dce14-0d72-4bef-a964-a75d12bb6337",
   "metadata": {},
   "outputs": [
    {
     "data": {
      "text/plain": [
       "(28,)"
      ]
     },
     "execution_count": 360,
     "metadata": {},
     "output_type": "execute_result"
    }
   ],
   "source": [
    "links_apn = data[data.newspaper == name].url\n",
    "links_apn.shape"
   ]
  },
  {
   "cell_type": "code",
   "execution_count": 361,
   "id": "a59102b2-c804-4e2a-82ff-a12f5a87d9da",
   "metadata": {},
   "outputs": [
    {
     "name": "stdout",
     "output_type": "stream",
     "text": [
      "'NoneType' object has no attribute 'get_text'\n",
      "'NoneType' object has no attribute 'get_text'\n",
      "'NoneType' object has no attribute 'get_text'\n",
      "'NoneType' object has no attribute 'get_text'\n",
      "'NoneType' object has no attribute 'get_text'\n",
      "'NoneType' object has no attribute 'get_text'\n",
      "'NoneType' object has no attribute 'get_text'\n",
      "'NoneType' object has no attribute 'get_text'\n",
      "'NoneType' object has no attribute 'get_text'\n",
      "'NoneType' object has no attribute 'get_text'\n",
      "'NoneType' object has no attribute 'get_text'\n",
      "'NoneType' object has no attribute 'get_text'\n",
      "'NoneType' object has no attribute 'get_text'\n",
      "'NoneType' object has no attribute 'get_text'\n",
      "'NoneType' object has no attribute 'get_text'\n",
      "'NoneType' object has no attribute 'get_text'\n",
      "'NoneType' object has no attribute 'get_text'\n",
      "'NoneType' object has no attribute 'get_text'\n",
      "'NoneType' object has no attribute 'get_text'\n",
      "'NoneType' object has no attribute 'get_text'\n",
      "'NoneType' object has no attribute 'get_text'\n",
      "'NoneType' object has no attribute 'get_text'\n",
      "'NoneType' object has no attribute 'get_text'\n",
      "'NoneType' object has no attribute 'get_text'\n",
      "'NoneType' object has no attribute 'get_text'\n",
      "'NoneType' object has no attribute 'get_text'\n",
      "'NoneType' object has no attribute 'get_text'\n",
      "'NoneType' object has no attribute 'get_text'\n",
      "CPU times: total: 37.6 s\n",
      "Wall time: 43.6 s\n"
     ]
    }
   ],
   "source": [
    "%%time\n",
    "headlines, descriptions, article_bodies, urls = parser(links_apn, apn_scraper)"
   ]
  },
  {
   "cell_type": "code",
   "execution_count": 362,
   "id": "a84bb4e2-646e-4e28-9dd6-f32af1236c84",
   "metadata": {},
   "outputs": [
    {
     "data": {
      "text/plain": [
       "(0, 4)"
      ]
     },
     "execution_count": 362,
     "metadata": {},
     "output_type": "execute_result"
    }
   ],
   "source": [
    "d = {'headline': headlines, 'description': descriptions, 'article_body': article_bodies, 'url' : urls}\n",
    "texts_apn = pd.DataFrame(data=d)\n",
    "texts_apn.shape"
   ]
  },
  {
   "cell_type": "code",
   "execution_count": 363,
   "id": "ba314197-8287-4041-81fb-157920ee650a",
   "metadata": {},
   "outputs": [],
   "source": [
    "save_texts(name, texts_apn)\n",
    "texts_all = pd.concat([texts_all, texts_apn])"
   ]
  },
  {
   "cell_type": "code",
   "execution_count": null,
   "id": "5f8f55ac-2f95-4144-8900-99750e6e66ae",
   "metadata": {},
   "outputs": [],
   "source": []
  },
  {
   "cell_type": "markdown",
   "id": "bbcef53f-e568-4181-90c3-3451c4673f4f",
   "metadata": {},
   "source": [
    "## Спорт день за днем (sportsdaily.ru)"
   ]
  },
  {
   "cell_type": "code",
   "execution_count": 364,
   "id": "93c72e06-7c4b-4871-8fbb-883bdf64ffe1",
   "metadata": {},
   "outputs": [],
   "source": [
    "name = 'Спорт день за днем (sportsdaily.ru)'"
   ]
  },
  {
   "cell_type": "code",
   "execution_count": 365,
   "id": "f760c435-9fb9-44ec-8bcd-1b6d0c8ffd2c",
   "metadata": {},
   "outputs": [],
   "source": [
    "def spd_scraper(link):\n",
    "\n",
    "    try:\n",
    "        try:\n",
    "          r = requests.get(link, timeout=20)\n",
    "        except requests.exceptions.RequestException as ex:\n",
    "          print(ex)\n",
    "    \n",
    "        soup = BeautifulSoup(r.content, \"html.parser\")\n",
    "    \n",
    "        headline = soup.find('meta', property=\"og:title\").get('content')\n",
    "        description = soup.find('meta', property=\"og:description\").get('content')\n",
    "        article_body = soup.find('div', {'itemprop': 'articleBody'}).get_text()\n",
    "    \n",
    "        return(headline, description, article_body)\n",
    "    \n",
    "    except (UnboundLocalError, KeyError, AttributeError, UnicodeDecodeError) as error:\n",
    "      print(error)\n",
    "      pass"
   ]
  },
  {
   "cell_type": "code",
   "execution_count": 366,
   "id": "f85e88fb-d255-4564-b3e4-0d5748491785",
   "metadata": {},
   "outputs": [
    {
     "data": {
      "text/plain": [
       "(16,)"
      ]
     },
     "execution_count": 366,
     "metadata": {},
     "output_type": "execute_result"
    }
   ],
   "source": [
    "links_spd = data[data.newspaper == name].url\n",
    "links_spd.shape"
   ]
  },
  {
   "cell_type": "code",
   "execution_count": 367,
   "id": "71a11737-9440-4a92-8e3c-7a9ec722dfd6",
   "metadata": {},
   "outputs": [
    {
     "name": "stdout",
     "output_type": "stream",
     "text": [
      "CPU times: total: 13.5 s\n",
      "Wall time: 14.8 s\n"
     ]
    }
   ],
   "source": [
    "%%time\n",
    "headlines, descriptions, article_bodies, urls = parser(links_spd, spd_scraper)"
   ]
  },
  {
   "cell_type": "code",
   "execution_count": 368,
   "id": "1a0f37c0-7b38-4ea1-a444-c06af4b98794",
   "metadata": {},
   "outputs": [
    {
     "data": {
      "text/plain": [
       "(16, 4)"
      ]
     },
     "execution_count": 368,
     "metadata": {},
     "output_type": "execute_result"
    }
   ],
   "source": [
    "d = {'headline': headlines, 'description': descriptions, 'article_body': article_bodies, 'url' : urls}\n",
    "texts_spd = pd.DataFrame(data=d)\n",
    "texts_spd.shape"
   ]
  },
  {
   "cell_type": "code",
   "execution_count": 369,
   "id": "3ec218a4-1e8e-4fe1-a7ec-2f397a9eaefa",
   "metadata": {},
   "outputs": [],
   "source": [
    "save_texts(name, texts_spd)\n",
    "texts_all = pd.concat([texts_all, texts_spd])"
   ]
  },
  {
   "cell_type": "code",
   "execution_count": null,
   "id": "fc89f08a-a636-4df5-9fbb-55c5c6f7181b",
   "metadata": {},
   "outputs": [],
   "source": []
  },
  {
   "cell_type": "markdown",
   "id": "9b8781e2-e627-4a86-987b-922497df8810",
   "metadata": {},
   "source": [
    "## Федеральные новости (fednews.ru)"
   ]
  },
  {
   "cell_type": "code",
   "execution_count": 370,
   "id": "934bf2f5-7688-4477-9c45-c9246def9c55",
   "metadata": {},
   "outputs": [],
   "source": [
    "name = 'Федеральные новости (fednews.ru)'"
   ]
  },
  {
   "cell_type": "code",
   "execution_count": 371,
   "id": "1954a8f4-e52e-4d7c-9726-e668186a300f",
   "metadata": {},
   "outputs": [],
   "source": [
    "def fn_scraper(link):\n",
    "\n",
    "    try:\n",
    "        try:\n",
    "          r = requests.get(link, timeout=20)\n",
    "        except requests.exceptions.RequestException as ex:\n",
    "          print(ex)\n",
    "    \n",
    "        soup = BeautifulSoup(r.content, \"html.parser\")\n",
    "    \n",
    "        headline = soup.find('meta', property=\"og:title\").get('content')\n",
    "        description = soup.find('meta', {'name': 'description'}).get('content')\n",
    "        article_body = soup.find('div', {'itemprop': 'articleBody'}).get_text()\n",
    "        \n",
    "        return(headline, description, article_body)\n",
    "    \n",
    "    except (UnboundLocalError, KeyError, AttributeError, UnicodeDecodeError) as error:\n",
    "      print(error)\n",
    "      pass"
   ]
  },
  {
   "cell_type": "code",
   "execution_count": 372,
   "id": "a8b39512-b432-47ca-859b-05ada734b355",
   "metadata": {},
   "outputs": [
    {
     "data": {
      "text/plain": [
       "(15,)"
      ]
     },
     "execution_count": 372,
     "metadata": {},
     "output_type": "execute_result"
    }
   ],
   "source": [
    "links_fn = data[data.newspaper == name].url\n",
    "links_fn.shape"
   ]
  },
  {
   "cell_type": "code",
   "execution_count": 373,
   "id": "fc8f64ca-f2de-403e-a2ce-923fdd0f05f8",
   "metadata": {},
   "outputs": [
    {
     "name": "stdout",
     "output_type": "stream",
     "text": [
      "CPU times: total: 812 ms\n",
      "Wall time: 17.1 s\n"
     ]
    }
   ],
   "source": [
    "%%time\n",
    "headlines, descriptions, article_bodies, urls = parser(links_fn, fn_scraper)"
   ]
  },
  {
   "cell_type": "code",
   "execution_count": 374,
   "id": "ba83ff2e-194b-4099-98c6-ca56e6c2a14a",
   "metadata": {},
   "outputs": [
    {
     "data": {
      "text/plain": [
       "(15, 4)"
      ]
     },
     "execution_count": 374,
     "metadata": {},
     "output_type": "execute_result"
    }
   ],
   "source": [
    "d = {'headline': headlines, 'description': descriptions, 'article_body': article_bodies, 'url' : urls}\n",
    "texts_fn = pd.DataFrame(data=d)\n",
    "texts_fn.shape"
   ]
  },
  {
   "cell_type": "code",
   "execution_count": 375,
   "id": "ce354209-7538-4bcf-8507-e4d41792a7d3",
   "metadata": {},
   "outputs": [],
   "source": [
    "save_texts(name, texts_fn)\n",
    "texts_all = pd.concat([texts_all, texts_fn])"
   ]
  },
  {
   "cell_type": "code",
   "execution_count": null,
   "id": "cedd92a8-3f63-428c-a49a-92232ded22e3",
   "metadata": {},
   "outputs": [],
   "source": []
  },
  {
   "cell_type": "markdown",
   "id": "d6df1271-7dd2-4dbf-981e-dcf0b84e914c",
   "metadata": {},
   "source": [
    "## ИА Stringer"
   ]
  },
  {
   "cell_type": "code",
   "execution_count": 376,
   "id": "63777926-b071-4a95-8dea-49a6dc70da34",
   "metadata": {},
   "outputs": [],
   "source": [
    "name = 'ИА Stringer'"
   ]
  },
  {
   "cell_type": "code",
   "execution_count": 377,
   "id": "e579857e-eb91-43dc-b9d5-679d0cf8917f",
   "metadata": {},
   "outputs": [],
   "source": [
    "def st_scraper(link):\n",
    "\n",
    "    try:\n",
    "        try:\n",
    "          r = requests.get(link, timeout=20)\n",
    "        except requests.exceptions.RequestException as ex:\n",
    "          print(ex)\n",
    "    \n",
    "        soup = BeautifulSoup(r.content, \"html.parser\")\n",
    "    \n",
    "        headline = soup.find('title').get_text()\n",
    "        description = soup.find('meta', {'name': 'description'}).get('content')\n",
    "        article_body = ''\n",
    "    \n",
    "        blocks = soup.find_all('p')\n",
    "        for block in blocks:\n",
    "          article_body = article_body + block.get_text()\n",
    "    \n",
    "        return(headline, description, article_body)\n",
    "    \n",
    "    except (UnboundLocalError, KeyError, AttributeError, UnicodeDecodeError) as error:\n",
    "      print(error)\n",
    "      pass"
   ]
  },
  {
   "cell_type": "code",
   "execution_count": 378,
   "id": "5f751041-e0b3-40f7-aa4e-38ae334ea66d",
   "metadata": {},
   "outputs": [
    {
     "data": {
      "text/plain": [
       "(12,)"
      ]
     },
     "execution_count": 378,
     "metadata": {},
     "output_type": "execute_result"
    }
   ],
   "source": [
    "links_st = data[data.newspaper == name].url\n",
    "links_st.shape"
   ]
  },
  {
   "cell_type": "code",
   "execution_count": 379,
   "id": "9a239ca5-ae3b-481c-88ee-f1b096cf0c21",
   "metadata": {},
   "outputs": [
    {
     "name": "stdout",
     "output_type": "stream",
     "text": [
      "'NoneType' object has no attribute 'get'\n",
      "CPU times: total: 7.55 s\n",
      "Wall time: 10.9 s\n"
     ]
    }
   ],
   "source": [
    "%%time\n",
    "headlines, descriptions, article_bodies, urls = parser(links_st, st_scraper)"
   ]
  },
  {
   "cell_type": "code",
   "execution_count": 380,
   "id": "f1bdb6f8-80a9-424a-9b0f-28a270804265",
   "metadata": {},
   "outputs": [
    {
     "data": {
      "text/plain": [
       "(11, 4)"
      ]
     },
     "execution_count": 380,
     "metadata": {},
     "output_type": "execute_result"
    }
   ],
   "source": [
    "d = {'headline': headlines, 'description': descriptions, 'article_body': article_bodies, 'url' : urls}\n",
    "texts_st = pd.DataFrame(data=d)\n",
    "texts_st.shape"
   ]
  },
  {
   "cell_type": "code",
   "execution_count": 381,
   "id": "f4808248-5f4e-45d8-b591-c318da855d81",
   "metadata": {},
   "outputs": [],
   "source": [
    "save_texts(name, texts_st)\n",
    "texts_all = pd.concat([texts_all, texts_st])"
   ]
  },
  {
   "cell_type": "code",
   "execution_count": null,
   "id": "733912ec-aab4-4942-b422-2d480ed7a6b1",
   "metadata": {},
   "outputs": [],
   "source": []
  },
  {
   "cell_type": "markdown",
   "id": "82ff5cd0-c027-4706-9f30-366e033fd0d1",
   "metadata": {},
   "source": [
    "## Ведомости"
   ]
  },
  {
   "cell_type": "code",
   "execution_count": 382,
   "id": "c4d8dde4-1033-481e-8f1a-d824164d1d3c",
   "metadata": {},
   "outputs": [],
   "source": [
    "name = 'Ведомости'"
   ]
  },
  {
   "cell_type": "code",
   "execution_count": 383,
   "id": "1625746c-1f98-4b2e-8cae-ecfce8ace1a5",
   "metadata": {},
   "outputs": [],
   "source": [
    "def vd_scraper(link):\n",
    "\n",
    "    try:\n",
    "        try:\n",
    "          r = requests.get(link, timeout=20)\n",
    "        except requests.exceptions.RequestException as ex:\n",
    "          print(ex)\n",
    "    \n",
    "        soup = BeautifulSoup(r.content, \"html.parser\")\n",
    "    \n",
    "        headline = soup.find('title').get_text()\n",
    "        description = soup.find('meta', {'name': 'description'}).get('content')\n",
    "        article_body = ''\n",
    "    \n",
    "        blocks = soup.find_all('p')\n",
    "        for block in blocks:\n",
    "          article_body = article_body + block.get_text()\n",
    "    \n",
    "        return(headline, description, article_body)\n",
    "    \n",
    "    except (UnboundLocalError, KeyError, AttributeError, UnicodeDecodeError) as error:\n",
    "      print(error)\n",
    "      pass"
   ]
  },
  {
   "cell_type": "code",
   "execution_count": 384,
   "id": "92cb190e-2dec-4a72-91f2-e806e652e16a",
   "metadata": {},
   "outputs": [
    {
     "data": {
      "text/plain": [
       "(7,)"
      ]
     },
     "execution_count": 384,
     "metadata": {},
     "output_type": "execute_result"
    }
   ],
   "source": [
    "links_vd = data[data.newspaper == name].url\n",
    "links_vd.shape"
   ]
  },
  {
   "cell_type": "code",
   "execution_count": 385,
   "id": "24db464c-1d4b-4ff4-8b7b-e09f2c3a193a",
   "metadata": {},
   "outputs": [
    {
     "name": "stdout",
     "output_type": "stream",
     "text": [
      "CPU times: total: 6.36 s\n",
      "Wall time: 7.63 s\n"
     ]
    }
   ],
   "source": [
    "%%time\n",
    "headlines, descriptions, article_bodies, urls = parser(links_vd, vd_scraper)"
   ]
  },
  {
   "cell_type": "code",
   "execution_count": 386,
   "id": "fcdb016c-11f6-406d-97a7-a08e9bbb8901",
   "metadata": {},
   "outputs": [
    {
     "data": {
      "text/plain": [
       "(7, 4)"
      ]
     },
     "execution_count": 386,
     "metadata": {},
     "output_type": "execute_result"
    }
   ],
   "source": [
    "d = {'headline': headlines, 'description': descriptions, 'article_body': article_bodies, 'url' : urls}\n",
    "texts_vd = pd.DataFrame(data=d)\n",
    "texts_vd.shape"
   ]
  },
  {
   "cell_type": "code",
   "execution_count": 387,
   "id": "a6a65cac-56b4-4d4c-9a01-1156e808a8bf",
   "metadata": {},
   "outputs": [],
   "source": [
    "save_texts(name, texts_vd)\n",
    "texts_all = pd.concat([texts_all, texts_vd])"
   ]
  },
  {
   "cell_type": "code",
   "execution_count": null,
   "id": "cadbf3f7-bf74-47e0-ab71-9075274d9bd4",
   "metadata": {},
   "outputs": [],
   "source": []
  },
  {
   "cell_type": "markdown",
   "id": "6db28204-ed52-4e11-ba4e-e1b10e9c8b8f",
   "metadata": {},
   "source": [
    "## ИА Инфоповод"
   ]
  },
  {
   "cell_type": "code",
   "execution_count": 388,
   "id": "af1661c2-45a1-40f0-bede-2dec0f35b76f",
   "metadata": {},
   "outputs": [],
   "source": [
    "name = 'ИА Инфоповод'"
   ]
  },
  {
   "cell_type": "code",
   "execution_count": 389,
   "id": "e2e80a8c-019f-4ef3-9766-1fc3d0022fe8",
   "metadata": {},
   "outputs": [],
   "source": [
    "def if_scraper(link):\n",
    "\n",
    "    try:\n",
    "        try:\n",
    "          r = requests.get(link, timeout=20)\n",
    "        except requests.exceptions.RequestException as ex:\n",
    "          print(ex)\n",
    "    \n",
    "        soup = BeautifulSoup(r.content, \"html.parser\")\n",
    "    \n",
    "        headline = soup.find('title').get_text()\n",
    "        description = soup.find('meta', {'name': 'description'}).get('content')\n",
    "        article_body = ''\n",
    "    \n",
    "        blocks = soup.find_all('p')\n",
    "        for block in blocks:\n",
    "          article_body = article_body + block.get_text()\n",
    "    \n",
    "        return(headline, description, article_body)\n",
    "    \n",
    "    except (UnboundLocalError, KeyError, AttributeError, UnicodeDecodeError) as error:\n",
    "      print(error)\n",
    "      pass"
   ]
  },
  {
   "cell_type": "code",
   "execution_count": 390,
   "id": "5d120f3d-6180-41ee-a0f9-4e41acb69471",
   "metadata": {},
   "outputs": [
    {
     "data": {
      "text/plain": [
       "(5,)"
      ]
     },
     "execution_count": 390,
     "metadata": {},
     "output_type": "execute_result"
    }
   ],
   "source": [
    "links_if = data[data.newspaper == name].url\n",
    "links_if.shape"
   ]
  },
  {
   "cell_type": "code",
   "execution_count": 391,
   "id": "442d3e0a-8bd3-4924-a6bd-bdf205915ab2",
   "metadata": {},
   "outputs": [
    {
     "name": "stdout",
     "output_type": "stream",
     "text": [
      "CPU times: total: 3.55 s\n",
      "Wall time: 8.46 s\n"
     ]
    }
   ],
   "source": [
    "%%time\n",
    "headlines, descriptions, article_bodies, urls = parser(links_if, if_scraper)"
   ]
  },
  {
   "cell_type": "code",
   "execution_count": 392,
   "id": "7873e35e-b17b-4b78-9d31-def31d3add7d",
   "metadata": {},
   "outputs": [
    {
     "data": {
      "text/plain": [
       "(5, 4)"
      ]
     },
     "execution_count": 392,
     "metadata": {},
     "output_type": "execute_result"
    }
   ],
   "source": [
    "d = {'headline': headlines, 'description': descriptions, 'article_body': article_bodies, 'url' : urls}\n",
    "texts_if = pd.DataFrame(data=d)\n",
    "texts_if.shape"
   ]
  },
  {
   "cell_type": "code",
   "execution_count": 393,
   "id": "5521fc29-528d-4273-9045-f1e33b9f980c",
   "metadata": {},
   "outputs": [],
   "source": [
    "save_texts(name, texts_if)\n",
    "texts_all = pd.concat([texts_all, texts_if])"
   ]
  },
  {
   "cell_type": "code",
   "execution_count": null,
   "id": "573b5f63-3da6-48c7-ace9-901ab3f8bc5d",
   "metadata": {},
   "outputs": [],
   "source": []
  },
  {
   "cell_type": "markdown",
   "id": "e4909860-a180-4d89-a3ab-07f510e33492",
   "metadata": {},
   "source": [
    "## ИА OnAir.ru"
   ]
  },
  {
   "cell_type": "code",
   "execution_count": 394,
   "id": "bcba863b-4208-48cf-abc5-6f2ec84f91b5",
   "metadata": {},
   "outputs": [],
   "source": [
    "name = 'ИА OnAir.ru'"
   ]
  },
  {
   "cell_type": "code",
   "execution_count": 395,
   "id": "e5dd8697-6776-4b28-96f9-cc7c1207d400",
   "metadata": {},
   "outputs": [],
   "source": [
    "def on_scraper(link):\n",
    "\n",
    "    try:\n",
    "        try:\n",
    "          r = requests.get(link, timeout=20)\n",
    "        except requests.exceptions.RequestException as ex:\n",
    "          print(ex)\n",
    "    \n",
    "        soup = BeautifulSoup(r.content, \"html.parser\")\n",
    "    \n",
    "        headline = soup.find('title').get_text()\n",
    "        description = soup.find('meta', {'name': 'description'}).get('content')\n",
    "        article_body = ''\n",
    "    \n",
    "        blocks = soup.find_all('p')\n",
    "        for block in blocks:\n",
    "          article_body = article_body + block.get_text()\n",
    "    \n",
    "        return(headline, description, article_body)\n",
    "    \n",
    "    except (UnboundLocalError, KeyError, AttributeError, UnicodeDecodeError) as error:\n",
    "      print(error)\n",
    "      pass"
   ]
  },
  {
   "cell_type": "code",
   "execution_count": 396,
   "id": "2023c490-89b8-41ff-bdab-ad2642850c8c",
   "metadata": {},
   "outputs": [
    {
     "data": {
      "text/plain": [
       "(5,)"
      ]
     },
     "execution_count": 396,
     "metadata": {},
     "output_type": "execute_result"
    }
   ],
   "source": [
    "links_on = data[data.newspaper == name].url\n",
    "links_on.shape"
   ]
  },
  {
   "cell_type": "code",
   "execution_count": 397,
   "id": "a8196ef0-54dd-47e6-91da-33a8fb8bf98a",
   "metadata": {},
   "outputs": [
    {
     "name": "stdout",
     "output_type": "stream",
     "text": [
      "CPU times: total: 3.28 s\n",
      "Wall time: 6.59 s\n"
     ]
    }
   ],
   "source": [
    "%%time\n",
    "headlines, descriptions, article_bodies, urls = parser(links_on, on_scraper)"
   ]
  },
  {
   "cell_type": "code",
   "execution_count": 398,
   "id": "d49569c9-70ee-4205-ba31-ee7150d278ec",
   "metadata": {},
   "outputs": [
    {
     "data": {
      "text/plain": [
       "(5, 4)"
      ]
     },
     "execution_count": 398,
     "metadata": {},
     "output_type": "execute_result"
    }
   ],
   "source": [
    "d = {'headline': headlines, 'description': descriptions, 'article_body': article_bodies, 'url' : urls}\n",
    "texts_on = pd.DataFrame(data=d)\n",
    "texts_on.shape"
   ]
  },
  {
   "cell_type": "code",
   "execution_count": 399,
   "id": "9105bcaa-17c0-416e-b48d-fbbec389c80f",
   "metadata": {},
   "outputs": [],
   "source": [
    "save_texts(name, texts_on)\n",
    "texts_all = pd.concat([texts_all, texts_on])"
   ]
  },
  {
   "cell_type": "code",
   "execution_count": null,
   "id": "78d277cf-40aa-4129-8d22-7cb62241bc76",
   "metadata": {},
   "outputs": [],
   "source": []
  },
  {
   "cell_type": "markdown",
   "id": "1ce15b52-13b5-468c-ad30-3bcb62790c67",
   "metadata": {},
   "source": [
    "## Подъём (pdmnews.ru)"
   ]
  },
  {
   "cell_type": "code",
   "execution_count": 400,
   "id": "838f8b2d-b229-4bd3-b742-5f372b836111",
   "metadata": {},
   "outputs": [],
   "source": [
    "name = 'Подъём (pdmnews.ru)'"
   ]
  },
  {
   "cell_type": "code",
   "execution_count": 401,
   "id": "1fb0750d-969e-4255-b2b8-191efa71a534",
   "metadata": {},
   "outputs": [],
   "source": [
    "def pd_scraper(link):\n",
    "\n",
    "    try:\n",
    "        try:\n",
    "          r = requests.get(link, timeout=20)\n",
    "        except requests.exceptions.RequestException as ex:\n",
    "          print(ex)\n",
    "    \n",
    "        soup = BeautifulSoup(r.content, \"html.parser\")\n",
    "    \n",
    "        headline = soup.find('title').get_text()\n",
    "        description = soup.find('meta', {'name': 'description'}).get('content')\n",
    "        article_body = ''\n",
    "    \n",
    "        blocks = soup.find_all('p')\n",
    "        for block in blocks:\n",
    "          article_body = article_body + block.get_text()\n",
    "    \n",
    "        return(headline, description, article_body)\n",
    "    \n",
    "    except (UnboundLocalError, KeyError, AttributeError, UnicodeDecodeError) as error:\n",
    "      print(error)\n",
    "      pass"
   ]
  },
  {
   "cell_type": "code",
   "execution_count": 402,
   "id": "cce9075a-7a72-4fc6-8e6c-a7199cf3b171",
   "metadata": {},
   "outputs": [
    {
     "data": {
      "text/plain": [
       "(5,)"
      ]
     },
     "execution_count": 402,
     "metadata": {},
     "output_type": "execute_result"
    }
   ],
   "source": [
    "links_pd = data[data.newspaper == name].url\n",
    "links_pd.shape"
   ]
  },
  {
   "cell_type": "code",
   "execution_count": 403,
   "id": "a3d9ce98-2615-4687-9c2b-10c1bdf7edf2",
   "metadata": {},
   "outputs": [
    {
     "name": "stdout",
     "output_type": "stream",
     "text": [
      "CPU times: total: 2.95 s\n",
      "Wall time: 12 s\n"
     ]
    }
   ],
   "source": [
    "%%time\n",
    "headlines, descriptions, article_bodies, urls = parser(links_pd, pd_scraper)"
   ]
  },
  {
   "cell_type": "code",
   "execution_count": 404,
   "id": "be606278-6254-4700-9523-d2bad79fa5c3",
   "metadata": {},
   "outputs": [
    {
     "data": {
      "text/plain": [
       "(5, 4)"
      ]
     },
     "execution_count": 404,
     "metadata": {},
     "output_type": "execute_result"
    }
   ],
   "source": [
    "d = {'headline': headlines, 'description': descriptions, 'article_body': article_bodies, 'url' : urls}\n",
    "texts_pd = pd.DataFrame(data=d)\n",
    "texts_pd.shape"
   ]
  },
  {
   "cell_type": "code",
   "execution_count": 405,
   "id": "8cb3ee08-1fe7-4070-a1c1-5e8e589bc133",
   "metadata": {},
   "outputs": [],
   "source": [
    "save_texts(name, texts_pd)\n",
    "texts_all = pd.concat([texts_all, texts_pd])"
   ]
  },
  {
   "cell_type": "code",
   "execution_count": null,
   "id": "2fa1a465-a328-43b9-910a-0268f53d44f3",
   "metadata": {},
   "outputs": [],
   "source": []
  },
  {
   "cell_type": "markdown",
   "id": "aa194112-2e88-4d53-8a1e-845fe083db28",
   "metadata": {},
   "source": [
    "## ПРАЙМ, Завтра, Коммерсантъ (kommersant.ru), ИА Реалист"
   ]
  },
  {
   "cell_type": "code",
   "execution_count": 406,
   "id": "e772115b-cde6-4a1e-b2ce-fd2572e6f266",
   "metadata": {},
   "outputs": [],
   "source": [
    "name = ['ПРАЙМ', 'Завтра', 'Коммерсантъ (kommersant.ru)', 'ИА Реалист']"
   ]
  },
  {
   "cell_type": "code",
   "execution_count": 407,
   "id": "ceaf9fa1-429b-4057-9f27-d603ea6ba14f",
   "metadata": {},
   "outputs": [],
   "source": [
    "def re_scraper(link):\n",
    "\n",
    "    try:\n",
    "        try:\n",
    "          r = requests.get(link, timeout=20)\n",
    "        except requests.exceptions.RequestException as ex:\n",
    "          print(ex)\n",
    "    \n",
    "        soup = BeautifulSoup(r.content, \"html.parser\")\n",
    "    \n",
    "        headline = soup.find('title').get_text()\n",
    "        description = soup.find('meta', {'name': 'description'}).get('content')\n",
    "        article_body = ''\n",
    "    \n",
    "        blocks = soup.find_all('p')\n",
    "        for block in blocks:\n",
    "          article_body = article_body + block.get_text()\n",
    "    \n",
    "        return(headline, description, article_body)\n",
    "    \n",
    "    except (UnboundLocalError, KeyError, AttributeError, UnicodeDecodeError) as error:\n",
    "      print(error)\n",
    "      pass"
   ]
  },
  {
   "cell_type": "code",
   "execution_count": 408,
   "id": "1164e126-7358-4658-9d17-6cc47d09bad0",
   "metadata": {},
   "outputs": [
    {
     "data": {
      "text/plain": [
       "(7,)"
      ]
     },
     "execution_count": 408,
     "metadata": {},
     "output_type": "execute_result"
    }
   ],
   "source": [
    "links_re = data[data.newspaper.isin(name)].url\n",
    "links_re.shape"
   ]
  },
  {
   "cell_type": "code",
   "execution_count": 409,
   "id": "96e31346-1c20-4ab9-a2ee-1f1f074ab751",
   "metadata": {},
   "outputs": [
    {
     "name": "stdout",
     "output_type": "stream",
     "text": [
      "CPU times: total: 4.47 s\n",
      "Wall time: 13.1 s\n"
     ]
    }
   ],
   "source": [
    "%%time\n",
    "headlines, descriptions, article_bodies, urls = parser(links_re, re_scraper)"
   ]
  },
  {
   "cell_type": "code",
   "execution_count": 410,
   "id": "f1ff0f8f-be07-4de3-bf9d-f4299a6e0de0",
   "metadata": {},
   "outputs": [
    {
     "data": {
      "text/plain": [
       "(7, 4)"
      ]
     },
     "execution_count": 410,
     "metadata": {},
     "output_type": "execute_result"
    }
   ],
   "source": [
    "d = {'headline': headlines, 'description': descriptions, 'article_body': article_bodies, 'url' : urls}\n",
    "texts_re = pd.DataFrame(data=d)\n",
    "texts_re.shape"
   ]
  },
  {
   "cell_type": "code",
   "execution_count": 411,
   "id": "c5b39fce-ef0f-4ee7-880e-aaf4df9162de",
   "metadata": {},
   "outputs": [],
   "source": [
    "save_texts(' '.join(str(n) for n in name), texts_re)\n",
    "texts_all = pd.concat([texts_all, texts_re])"
   ]
  },
  {
   "cell_type": "code",
   "execution_count": null,
   "id": "4a64228d-7198-44eb-8763-32af55415487",
   "metadata": {},
   "outputs": [],
   "source": []
  },
  {
   "cell_type": "markdown",
   "id": "505a82fc-b059-4f86-a183-6c216faa9341",
   "metadata": {},
   "source": [
    "## Финальный датасет"
   ]
  },
  {
   "cell_type": "code",
   "execution_count": 412,
   "id": "552f3093-5782-484c-85e9-6cf22d243d57",
   "metadata": {},
   "outputs": [
    {
     "data": {
      "text/html": [
       "<div>\n",
       "<style scoped>\n",
       "    .dataframe tbody tr th:only-of-type {\n",
       "        vertical-align: middle;\n",
       "    }\n",
       "\n",
       "    .dataframe tbody tr th {\n",
       "        vertical-align: top;\n",
       "    }\n",
       "\n",
       "    .dataframe thead th {\n",
       "        text-align: right;\n",
       "    }\n",
       "</style>\n",
       "<table border=\"1\" class=\"dataframe\">\n",
       "  <thead>\n",
       "    <tr style=\"text-align: right;\">\n",
       "      <th></th>\n",
       "      <th>headline</th>\n",
       "      <th>description</th>\n",
       "      <th>article_body</th>\n",
       "      <th>url</th>\n",
       "    </tr>\n",
       "  </thead>\n",
       "  <tbody>\n",
       "    <tr>\n",
       "      <th>0</th>\n",
       "      <td>В центре Кельна около тысячи мигрантов устроил...</td>\n",
       "      <td>Полиция Германии расследует информацию о серий...</td>\n",
       "      <td>По словам жертв, они попали в агрессивную толп...</td>\n",
       "      <td>http://www.kp.ru/daily/26476/3347751/</td>\n",
       "    </tr>\n",
       "    <tr>\n",
       "      <th>1</th>\n",
       "      <td>СМИ: Германия не простит Меркель новые изнасил...</td>\n",
       "      <td>Канцлер же решила дать убежище еще миллиону бе...</td>\n",
       "      <td>Западные журналисты считают, что ФРГ не прости...</td>\n",
       "      <td>http://www.kp.ru/online/news/2271518/</td>\n",
       "    </tr>\n",
       "    <tr>\n",
       "      <th>2</th>\n",
       "      <td>Две жительницы Саратовской области подозревают...</td>\n",
       "      <td>Аткарчанки надругались над женщиной, угрожая у...</td>\n",
       "      <td>Две жительницы Аткарска Саратовской области об...</td>\n",
       "      <td>http://www.kp.ru/online/news/2272031/</td>\n",
       "    </tr>\n",
       "  </tbody>\n",
       "</table>\n",
       "</div>"
      ],
      "text/plain": [
       "                                            headline  \\\n",
       "0  В центре Кельна около тысячи мигрантов устроил...   \n",
       "1  СМИ: Германия не простит Меркель новые изнасил...   \n",
       "2  Две жительницы Саратовской области подозревают...   \n",
       "\n",
       "                                         description  \\\n",
       "0  Полиция Германии расследует информацию о серий...   \n",
       "1  Канцлер же решила дать убежище еще миллиону бе...   \n",
       "2  Аткарчанки надругались над женщиной, угрожая у...   \n",
       "\n",
       "                                        article_body  \\\n",
       "0  По словам жертв, они попали в агрессивную толп...   \n",
       "1  Западные журналисты считают, что ФРГ не прости...   \n",
       "2  Две жительницы Аткарска Саратовской области об...   \n",
       "\n",
       "                                     url  \n",
       "0  http://www.kp.ru/daily/26476/3347751/  \n",
       "1  http://www.kp.ru/online/news/2271518/  \n",
       "2  http://www.kp.ru/online/news/2272031/  "
      ]
     },
     "execution_count": 412,
     "metadata": {},
     "output_type": "execute_result"
    }
   ],
   "source": [
    "texts_all = texts_all.drop_duplicates()\n",
    "texts_all.head(3)"
   ]
  },
  {
   "cell_type": "code",
   "execution_count": 413,
   "id": "afe3e857-3a43-4736-8885-f4a68f836bd4",
   "metadata": {},
   "outputs": [],
   "source": [
    "texts_all.to_excel('texts-parsed.xlsx')"
   ]
  },
  {
   "cell_type": "code",
   "execution_count": null,
   "id": "806bbca7-66db-40ab-ad65-a369c26a26f5",
   "metadata": {},
   "outputs": [],
   "source": []
  }
 ],
 "metadata": {
  "kernelspec": {
   "display_name": "Python 3 (ipykernel)",
   "language": "python",
   "name": "python3"
  },
  "language_info": {
   "codemirror_mode": {
    "name": "ipython",
    "version": 3
   },
   "file_extension": ".py",
   "mimetype": "text/x-python",
   "name": "python",
   "nbconvert_exporter": "python",
   "pygments_lexer": "ipython3",
   "version": "3.11.7"
  }
 },
 "nbformat": 4,
 "nbformat_minor": 5
}
