{
 "cells": [
  {
   "cell_type": "markdown",
   "metadata": {},
   "source": [
    "## Импорт списка ссылок, дроп перепечаток и сортировка по дате"
   ]
  },
  {
   "cell_type": "code",
   "execution_count": 1,
   "metadata": {
    "id": "lC0TYoNJQHLZ"
   },
   "outputs": [],
   "source": [
    "import numpy as np\n",
    "import pandas as pd"
   ]
  },
  {
   "cell_type": "code",
   "execution_count": 2,
   "metadata": {
    "colab": {
     "base_uri": "https://localhost:8080/",
     "height": 606
    },
    "id": "C6BOhSjGcbzl",
    "outputId": "f629c931-9aa6-45c7-fc1a-0344470e5209"
   },
   "outputs": [
    {
     "data": {
      "text/html": [
       "<div>\n",
       "<style scoped>\n",
       "    .dataframe tbody tr th:only-of-type {\n",
       "        vertical-align: middle;\n",
       "    }\n",
       "\n",
       "    .dataframe tbody tr th {\n",
       "        vertical-align: top;\n",
       "    }\n",
       "\n",
       "    .dataframe thead th {\n",
       "        text-align: right;\n",
       "    }\n",
       "</style>\n",
       "<table border=\"1\" class=\"dataframe\">\n",
       "  <thead>\n",
       "    <tr style=\"text-align: right;\">\n",
       "      <th></th>\n",
       "      <th>id</th>\n",
       "      <th>header</th>\n",
       "      <th>date</th>\n",
       "      <th>newspaper</th>\n",
       "      <th>city</th>\n",
       "      <th>md_index</th>\n",
       "      <th>url</th>\n",
       "    </tr>\n",
       "  </thead>\n",
       "  <tbody>\n",
       "    <tr>\n",
       "      <th>0</th>\n",
       "      <td>1</td>\n",
       "      <td>Европа похожа на изнасилованную и брошенную же...</td>\n",
       "      <td>2016-02-01</td>\n",
       "      <td>РИА ФАН (riafan.ru)</td>\n",
       "      <td>Москва</td>\n",
       "      <td>0.003</td>\n",
       "      <td>http://riafan.ru/499751-evropa-pohozha-na-izna...</td>\n",
       "    </tr>\n",
       "    <tr>\n",
       "      <th>1</th>\n",
       "      <td>2</td>\n",
       "      <td>Беженцы привезли в Швецию грабежи и насилие</td>\n",
       "      <td>2016-02-01</td>\n",
       "      <td>Утро.ру (utro.ru)</td>\n",
       "      <td>Москва</td>\n",
       "      <td>0.885</td>\n",
       "      <td>http://www.utro.ru/articles/2016/02/01/1269361...</td>\n",
       "    </tr>\n",
       "    <tr>\n",
       "      <th>2</th>\n",
       "      <td>3</td>\n",
       "      <td>В Европе бесследно исчезли 10 тысяч детей мигр...</td>\n",
       "      <td>2016-02-01</td>\n",
       "      <td>ТК Звезда (tvzvezda.ru)</td>\n",
       "      <td>Москва</td>\n",
       "      <td>0.910</td>\n",
       "      <td>http://tvzvezda.ru/news/vstrane_i_mire/content...</td>\n",
       "    </tr>\n",
       "    <tr>\n",
       "      <th>3</th>\n",
       "      <td>4</td>\n",
       "      <td>На Урале уголовник изнасиловал дочь и чуть не ...</td>\n",
       "      <td>2016-02-01</td>\n",
       "      <td>ИА Ura.ru</td>\n",
       "      <td>Екатеринбург</td>\n",
       "      <td>0.900</td>\n",
       "      <td>http://ura.ru/news/1052238777</td>\n",
       "    </tr>\n",
       "    <tr>\n",
       "      <th>4</th>\n",
       "      <td>5</td>\n",
       "      <td>На Ставрополье насильник-рецидивист надругался...</td>\n",
       "      <td>2016-02-01</td>\n",
       "      <td>Комсомольская правда (kp.ru)</td>\n",
       "      <td>Москва</td>\n",
       "      <td>1.440</td>\n",
       "      <td>http://www.kp.ru/online/news/2293586/</td>\n",
       "    </tr>\n",
       "    <tr>\n",
       "      <th>5</th>\n",
       "      <td>6</td>\n",
       "      <td>Петербурженка изнасилована неизвестным с татуи...</td>\n",
       "      <td>2016-02-01</td>\n",
       "      <td>Фонтанка (fontanka.ru)</td>\n",
       "      <td>Санкт-Петербург</td>\n",
       "      <td>0.894</td>\n",
       "      <td>http://www.fontanka.ru/2016/02/01/045/</td>\n",
       "    </tr>\n",
       "    <tr>\n",
       "      <th>6</th>\n",
       "      <td>7</td>\n",
       "      <td>Девочка из русского мира</td>\n",
       "      <td>2016-02-01</td>\n",
       "      <td>Новая газета</td>\n",
       "      <td>Москва</td>\n",
       "      <td>2.462</td>\n",
       "      <td>NaN</td>\n",
       "    </tr>\n",
       "    <tr>\n",
       "      <th>7</th>\n",
       "      <td>8</td>\n",
       "      <td>ПРОБЛЕМА ДЛИНОЮ В ВЕКА</td>\n",
       "      <td>2016-02-01</td>\n",
       "      <td>The New Times</td>\n",
       "      <td>Москва</td>\n",
       "      <td>0.891</td>\n",
       "      <td>NaN</td>\n",
       "    </tr>\n",
       "    <tr>\n",
       "      <th>8</th>\n",
       "      <td>9</td>\n",
       "      <td>КАЗЕННЫЙ ДОМ</td>\n",
       "      <td>2016-02-01</td>\n",
       "      <td>Наша версия</td>\n",
       "      <td>Москва</td>\n",
       "      <td>0.387</td>\n",
       "      <td>NaN</td>\n",
       "    </tr>\n",
       "    <tr>\n",
       "      <th>9</th>\n",
       "      <td>10</td>\n",
       "      <td>НЕ ЧУЖОЕ БЕЗУМИЕ</td>\n",
       "      <td>2016-02-01</td>\n",
       "      <td>Наша версия</td>\n",
       "      <td>Москва</td>\n",
       "      <td>0.327</td>\n",
       "      <td>NaN</td>\n",
       "    </tr>\n",
       "  </tbody>\n",
       "</table>\n",
       "</div>"
      ],
      "text/plain": [
       "   id                                             header       date  \\\n",
       "0   1  Европа похожа на изнасилованную и брошенную же... 2016-02-01   \n",
       "1   2        Беженцы привезли в Швецию грабежи и насилие 2016-02-01   \n",
       "2   3  В Европе бесследно исчезли 10 тысяч детей мигр... 2016-02-01   \n",
       "3   4  На Урале уголовник изнасиловал дочь и чуть не ... 2016-02-01   \n",
       "4   5  На Ставрополье насильник-рецидивист надругался... 2016-02-01   \n",
       "5   6  Петербурженка изнасилована неизвестным с татуи... 2016-02-01   \n",
       "6   7                           Девочка из русского мира 2016-02-01   \n",
       "7   8                             ПРОБЛЕМА ДЛИНОЮ В ВЕКА 2016-02-01   \n",
       "8   9                                       КАЗЕННЫЙ ДОМ 2016-02-01   \n",
       "9  10                                   НЕ ЧУЖОЕ БЕЗУМИЕ 2016-02-01   \n",
       "\n",
       "                      newspaper             city  md_index  \\\n",
       "0           РИА ФАН (riafan.ru)           Москва     0.003   \n",
       "1             Утро.ру (utro.ru)           Москва     0.885   \n",
       "2       ТК Звезда (tvzvezda.ru)           Москва     0.910   \n",
       "3                     ИА Ura.ru     Екатеринбург     0.900   \n",
       "4  Комсомольская правда (kp.ru)           Москва     1.440   \n",
       "5        Фонтанка (fontanka.ru)  Санкт-Петербург     0.894   \n",
       "6                  Новая газета           Москва     2.462   \n",
       "7                 The New Times           Москва     0.891   \n",
       "8                   Наша версия           Москва     0.387   \n",
       "9                   Наша версия           Москва     0.327   \n",
       "\n",
       "                                                 url  \n",
       "0  http://riafan.ru/499751-evropa-pohozha-na-izna...  \n",
       "1  http://www.utro.ru/articles/2016/02/01/1269361...  \n",
       "2  http://tvzvezda.ru/news/vstrane_i_mire/content...  \n",
       "3                      http://ura.ru/news/1052238777  \n",
       "4              http://www.kp.ru/online/news/2293586/  \n",
       "5             http://www.fontanka.ru/2016/02/01/045/  \n",
       "6                                                NaN  \n",
       "7                                                NaN  \n",
       "8                                                NaN  \n",
       "9                                                NaN  "
      ]
     },
     "metadata": {},
     "output_type": "display_data"
    }
   ],
   "source": [
    "names = ['id', 'header', 'date',\n",
    "         'newspaper', 'city', 'md_index', 'url']\n",
    "\n",
    "data = pd.read_excel('urls-all.xlsx',\n",
    "                     names = names)\n",
    "\n",
    "shape_init = data.shape\n",
    "\n",
    "display(data.head(10))"
   ]
  },
  {
   "cell_type": "code",
   "execution_count": 3,
   "metadata": {
    "colab": {
     "base_uri": "https://localhost:8080/"
    },
    "id": "iKJIotj6VOnf",
    "outputId": "32229514-579d-4970-df0c-b5d04765842f"
   },
   "outputs": [
    {
     "name": "stdout",
     "output_type": "stream",
     "text": [
      "Initinal num of articles: 87183\n",
      "Num of variables: 7\n"
     ]
    }
   ],
   "source": [
    "print('Initinal num of articles:', shape_init[0])\n",
    "print('Num of variables:', shape_init[1])"
   ]
  },
  {
   "cell_type": "code",
   "execution_count": 4,
   "metadata": {
    "colab": {
     "base_uri": "https://localhost:8080/"
    },
    "id": "Gw0B3a8BHTk-",
    "outputId": "d530e54a-d8af-4bc5-b51c-76b2cb380826"
   },
   "outputs": [
    {
     "name": "stdout",
     "output_type": "stream",
     "text": [
      "Num of duplicates: 10961\n",
      "Num of unique articles: 76222\n"
     ]
    }
   ],
   "source": [
    "data = data.drop_duplicates(subset=['header'])\n",
    "shape_uniq = data.shape\n",
    "\n",
    "print('Num of duplicates:', shape_init[0] - shape_uniq[0])\n",
    "print('Num of unique articles:', shape_uniq[0])"
   ]
  },
  {
   "cell_type": "code",
   "execution_count": 5,
   "metadata": {
    "colab": {
     "base_uri": "https://localhost:8080/",
     "height": 310
    },
    "id": "7oO0ssQMVuga",
    "outputId": "7601dfb7-7949-453c-fff5-2e5c362f6631"
   },
   "outputs": [
    {
     "data": {
      "text/html": [
       "<div>\n",
       "<style scoped>\n",
       "    .dataframe tbody tr th:only-of-type {\n",
       "        vertical-align: middle;\n",
       "    }\n",
       "\n",
       "    .dataframe tbody tr th {\n",
       "        vertical-align: top;\n",
       "    }\n",
       "\n",
       "    .dataframe thead th {\n",
       "        text-align: right;\n",
       "    }\n",
       "</style>\n",
       "<table border=\"1\" class=\"dataframe\">\n",
       "  <thead>\n",
       "    <tr style=\"text-align: right;\">\n",
       "      <th></th>\n",
       "      <th>id</th>\n",
       "      <th>header</th>\n",
       "      <th>date</th>\n",
       "      <th>newspaper</th>\n",
       "      <th>city</th>\n",
       "      <th>md_index</th>\n",
       "      <th>url</th>\n",
       "    </tr>\n",
       "  </thead>\n",
       "  <tbody>\n",
       "    <tr>\n",
       "      <th>710</th>\n",
       "      <td>711</td>\n",
       "      <td>Героев - народу!</td>\n",
       "      <td>2016-01-01</td>\n",
       "      <td>Мир фантастики</td>\n",
       "      <td>Москва</td>\n",
       "      <td>0.003</td>\n",
       "      <td>NaN</td>\n",
       "    </tr>\n",
       "    <tr>\n",
       "      <th>709</th>\n",
       "      <td>710</td>\n",
       "      <td>RISE OF THE TOMB RAIDER</td>\n",
       "      <td>2016-01-01</td>\n",
       "      <td>Игромания</td>\n",
       "      <td>Москва</td>\n",
       "      <td>0.135</td>\n",
       "      <td>NaN</td>\n",
       "    </tr>\n",
       "    <tr>\n",
       "      <th>708</th>\n",
       "      <td>709</td>\n",
       "      <td>Сводка Совинформбюро на 02 января 1942</td>\n",
       "      <td>2016-01-02</td>\n",
       "      <td>ИА Росинформбюро</td>\n",
       "      <td>Москва</td>\n",
       "      <td>0.003</td>\n",
       "      <td>http://www.rosinform.ru/sovinformburo/632038-s...</td>\n",
       "    </tr>\n",
       "    <tr>\n",
       "      <th>707</th>\n",
       "      <td>708</td>\n",
       "      <td>Эксгибиционизм</td>\n",
       "      <td>2016-01-02</td>\n",
       "      <td>Passion (passion.ru)</td>\n",
       "      <td>Москва</td>\n",
       "      <td>0.096</td>\n",
       "      <td>http://sex.passion.ru/entsiklopediya-seksa/e/e...</td>\n",
       "    </tr>\n",
       "    <tr>\n",
       "      <th>706</th>\n",
       "      <td>707</td>\n",
       "      <td>Волшебные книги на новогодние праздники: обзор...</td>\n",
       "      <td>2016-01-02</td>\n",
       "      <td>Фонтанка (fontanka.ru)</td>\n",
       "      <td>Санкт-Петербург</td>\n",
       "      <td>2.965</td>\n",
       "      <td>http://calendar.fontanka.ru/articles/3178/</td>\n",
       "    </tr>\n",
       "  </tbody>\n",
       "</table>\n",
       "</div>"
      ],
      "text/plain": [
       "      id                                             header       date  \\\n",
       "710  711                                   Героев - народу! 2016-01-01   \n",
       "709  710                            RISE OF THE TOMB RAIDER 2016-01-01   \n",
       "708  709             Сводка Совинформбюро на 02 января 1942 2016-01-02   \n",
       "707  708                                     Эксгибиционизм 2016-01-02   \n",
       "706  707  Волшебные книги на новогодние праздники: обзор... 2016-01-02   \n",
       "\n",
       "                  newspaper             city  md_index  \\\n",
       "710          Мир фантастики           Москва     0.003   \n",
       "709               Игромания           Москва     0.135   \n",
       "708        ИА Росинформбюро           Москва     0.003   \n",
       "707    Passion (passion.ru)           Москва     0.096   \n",
       "706  Фонтанка (fontanka.ru)  Санкт-Петербург     2.965   \n",
       "\n",
       "                                                   url  \n",
       "710                                                NaN  \n",
       "709                                                NaN  \n",
       "708  http://www.rosinform.ru/sovinformburo/632038-s...  \n",
       "707  http://sex.passion.ru/entsiklopediya-seksa/e/e...  \n",
       "706         http://calendar.fontanka.ru/articles/3178/  "
      ]
     },
     "execution_count": 5,
     "metadata": {},
     "output_type": "execute_result"
    }
   ],
   "source": [
    "data = data.sort_values(by=['date'])\n",
    "data.head()"
   ]
  },
  {
   "cell_type": "code",
   "execution_count": null,
   "metadata": {
    "id": "d9reXSlSVumQ"
   },
   "outputs": [],
   "source": []
  },
  {
   "cell_type": "markdown",
   "metadata": {
    "id": "7Zp-16y3XFEc"
   },
   "source": [
    "## Чистка данных. Этап 1.\n",
    "\n",
    "Удаление нерелевантных медиа, публикаций без ссылок и негативный фильтр по ключевым словам для очистки от нерелевантных форм насилия"
   ]
  },
  {
   "cell_type": "code",
   "execution_count": 6,
   "metadata": {
    "id": "Q9rJexztY86x"
   },
   "outputs": [
    {
     "name": "stdout",
     "output_type": "stream",
     "text": [
      "['10-лет', '10-лет', '11-лет', '11-лет', '12-лет', '12-лет', '13-лет', '13-лет', '14-лет', '14-лет', '15-лет', '15-лет', '16-лет', '16-лет', '17-лет', '17-лет', '2-лет', '2-лет', '3-лет', '3-лет', '4-лет', '4-лет', '5-лет', '5-лет', '6-лет', '6-лет', '7-лет', '7-лет', '8-лет', '8-лет', '9-лет', '9-лет', 'внуч', 'Внуч', 'воспитанни', 'Воспитанни', 'восьмилет', 'Восьмилет', 'геи', 'Геи', 'гей', 'Гей', 'гея', 'Гея', 'двухлет', 'Двухлет', 'девоч', 'Девоч', 'девятилет', 'Девятилет', 'десятилет', 'Десятилет', 'детдом', 'Детдом', 'детей', 'Детей', 'дети', 'Дети', 'детоубий', 'Детоубий', 'детск', 'Детск', 'детьми', 'Детьми', 'дочер', 'Дочер', 'дочк', 'Дочк', 'дочь', 'Дочь', 'животн', 'Животн', 'зоофил', 'Зоофил', 'извращ', 'Извращ', 'изнасиловала', 'Изнасиловала', 'изнасилованного', 'Изнасилованного', 'изнасилованном', 'Изнасилованном', 'изнасилованный', 'Изнасилованный', 'интернат', 'Интернат', 'классник', 'Классник', 'классниц', 'Классниц', 'маленькую', 'Маленькую', 'малолетн', 'Малолетн', 'малыш', 'Малыш', 'мальчи', 'Мальчи', 'младен', 'Младен', 'напал', 'Напал', 'несовершеннолетн', 'Несовершеннолетн', 'новорожд', 'Новорожд', 'одноклассниц', 'Одноклассниц', 'падчериц', 'Падчериц', 'педафил', 'Педафил', 'педофил', 'Педофил', 'племянни', 'Племянни', 'подвергшегося', 'Подвергшегося', 'подвергшемуся', 'Подвергшемуся', 'подвергшийся', 'Подвергшийся', 'подростк', 'Подростк', 'подростки', 'Подростки', 'подросток', 'Подросток', 'пятилет', 'Пятилет', 'развращ', 'Развращ', 'растлен', 'Растлен', 'растли', 'Растли', 'ребен', 'Ребен', 'ребён', 'Ребён', 'сверстни', 'Сверстни', 'семилет', 'Семилет', 'сирот', 'Сирот', 'соврати', 'Соврати', 'совращен', 'Совращен', 'сына', 'Сына', 'трехлет', 'Трехлет', 'трёхлет', 'Трёхлет', 'ученик', 'Ученик', 'учениц', 'Учениц', 'учитель', 'Учитель', 'четырехлет', 'Четырехлет', 'четырёхлет', 'Четырёхлет', 'шестилет', 'Шестилет', 'школ', 'Школ', 'школьни', 'Школьни', 'юнош', 'Юнош']\n"
     ]
    }
   ],
   "source": [
    "# Список стоп-слов для фильтра неревантных публикаций\n",
    "stopwords_txt = open(\"stopwords.txt\", \"r\", encoding = 'utf-8').read().strip().split('\\n')\n",
    "stopwords = []\n",
    "\n",
    "for word in stopwords_txt:\n",
    "    stopwords.extend([word, word.capitalize()])\n",
    "    \n",
    "print(stopwords)"
   ]
  },
  {
   "cell_type": "code",
   "execution_count": 7,
   "metadata": {
    "colab": {
     "base_uri": "https://localhost:8080/"
    },
    "id": "q5ivw51IjxUB",
    "outputId": "a5eb05ab-bd61-4478-a602-7ee425e8f746"
   },
   "outputs": [
    {
     "name": "stdout",
     "output_type": "stream",
     "text": [
      "Num of articles dropped: 30750\n",
      "Num of articles remaining: 45472\n"
     ]
    }
   ],
   "source": [
    "for word in stopwords:\n",
    "  data = data.drop(data[data.header.str.contains(word, regex=False)].index)\n",
    "\n",
    "print('Num of articles dropped:', shape_uniq[0] - data.shape[0])\n",
    "print('Num of articles remaining:', data.shape[0])"
   ]
  },
  {
   "cell_type": "code",
   "execution_count": 8,
   "metadata": {
    "colab": {
     "base_uri": "https://localhost:8080/"
    },
    "id": "v5P4ZVBj_gpk",
    "outputId": "90c556d3-e24a-4ecc-9445-e5bc186e4548"
   },
   "outputs": [
    {
     "data": {
      "text/plain": [
       "count    5827.000000\n",
       "mean        0.859471\n",
       "std         1.142639\n",
       "min         0.000000\n",
       "25%         0.003000\n",
       "50%         0.125000\n",
       "75%         1.680000\n",
       "max         6.032000\n",
       "Name: md_index, dtype: float64"
      ]
     },
     "execution_count": 8,
     "metadata": {},
     "output_type": "execute_result"
    }
   ],
   "source": [
    "data[data.url.isna()].md_index.describe()"
   ]
  },
  {
   "cell_type": "code",
   "execution_count": 9,
   "metadata": {
    "colab": {
     "base_uri": "https://localhost:8080/"
    },
    "id": "SAMcV5bA_uo6",
    "outputId": "b9b77bd6-a388-4d39-a469-276c3cd42be3"
   },
   "outputs": [
    {
     "data": {
      "text/plain": [
       "count    39645.000000\n",
       "mean         1.222656\n",
       "std          0.752824\n",
       "min          0.000000\n",
       "25%          0.629000\n",
       "50%          1.140000\n",
       "75%          1.699000\n",
       "max          4.995000\n",
       "Name: md_index, dtype: float64"
      ]
     },
     "execution_count": 9,
     "metadata": {},
     "output_type": "execute_result"
    }
   ],
   "source": [
    "data[~data.url.isna()].md_index.describe()"
   ]
  },
  {
   "cell_type": "code",
   "execution_count": 10,
   "metadata": {
    "colab": {
     "base_uri": "https://localhost:8080/",
     "height": 753
    },
    "id": "CpDFX5DhAWIN",
    "outputId": "648923d5-39fd-4749-9085-bc714ea679fb"
   },
   "outputs": [
    {
     "data": {
      "text/html": [
       "<div>\n",
       "<style scoped>\n",
       "    .dataframe tbody tr th:only-of-type {\n",
       "        vertical-align: middle;\n",
       "    }\n",
       "\n",
       "    .dataframe tbody tr th {\n",
       "        vertical-align: top;\n",
       "    }\n",
       "\n",
       "    .dataframe thead th {\n",
       "        text-align: right;\n",
       "    }\n",
       "</style>\n",
       "<table border=\"1\" class=\"dataframe\">\n",
       "  <thead>\n",
       "    <tr style=\"text-align: right;\">\n",
       "      <th></th>\n",
       "      <th>id</th>\n",
       "      <th>header</th>\n",
       "      <th>date</th>\n",
       "      <th>newspaper</th>\n",
       "      <th>city</th>\n",
       "      <th>md_index</th>\n",
       "      <th>url</th>\n",
       "    </tr>\n",
       "  </thead>\n",
       "  <tbody>\n",
       "    <tr>\n",
       "      <th>708</th>\n",
       "      <td>709</td>\n",
       "      <td>Сводка Совинформбюро на 02 января 1942</td>\n",
       "      <td>2016-01-02</td>\n",
       "      <td>ИА Росинформбюро</td>\n",
       "      <td>Москва</td>\n",
       "      <td>0.003</td>\n",
       "      <td>http://www.rosinform.ru/sovinformburo/632038-s...</td>\n",
       "    </tr>\n",
       "    <tr>\n",
       "      <th>707</th>\n",
       "      <td>708</td>\n",
       "      <td>Эксгибиционизм</td>\n",
       "      <td>2016-01-02</td>\n",
       "      <td>Passion (passion.ru)</td>\n",
       "      <td>Москва</td>\n",
       "      <td>0.096</td>\n",
       "      <td>http://sex.passion.ru/entsiklopediya-seksa/e/e...</td>\n",
       "    </tr>\n",
       "    <tr>\n",
       "      <th>706</th>\n",
       "      <td>707</td>\n",
       "      <td>Волшебные книги на новогодние праздники: обзор...</td>\n",
       "      <td>2016-01-02</td>\n",
       "      <td>Фонтанка (fontanka.ru)</td>\n",
       "      <td>Санкт-Петербург</td>\n",
       "      <td>2.965</td>\n",
       "      <td>http://calendar.fontanka.ru/articles/3178/</td>\n",
       "    </tr>\n",
       "    <tr>\n",
       "      <th>704</th>\n",
       "      <td>705</td>\n",
       "      <td>Заместители глав МИД Японии, США и Южной Кореи...</td>\n",
       "      <td>2016-01-03</td>\n",
       "      <td>ТАСС</td>\n",
       "      <td>Москва</td>\n",
       "      <td>1.988</td>\n",
       "      <td>http://tass.ru/mezhdunarodnaya-panorama/2569822</td>\n",
       "    </tr>\n",
       "    <tr>\n",
       "      <th>703</th>\n",
       "      <td>704</td>\n",
       "      <td>Женщины для утех по-прежнему нужны: Япония и К...</td>\n",
       "      <td>2016-01-03</td>\n",
       "      <td>ИА Regnum</td>\n",
       "      <td>Москва</td>\n",
       "      <td>2.312</td>\n",
       "      <td>http://regnum.ru/news/2048238.html</td>\n",
       "    </tr>\n",
       "    <tr>\n",
       "      <th>...</th>\n",
       "      <td>...</td>\n",
       "      <td>...</td>\n",
       "      <td>...</td>\n",
       "      <td>...</td>\n",
       "      <td>...</td>\n",
       "      <td>...</td>\n",
       "      <td>...</td>\n",
       "    </tr>\n",
       "    <tr>\n",
       "      <th>86780</th>\n",
       "      <td>11</td>\n",
       "      <td>Член жюри телешоу \"Американский идол\" обвинила...</td>\n",
       "      <td>2023-12-30</td>\n",
       "      <td>Газета.Ru</td>\n",
       "      <td>Москва</td>\n",
       "      <td>1.324</td>\n",
       "      <td>https://www.gazeta.ru/culture/news/2023/12/30/...</td>\n",
       "    </tr>\n",
       "    <tr>\n",
       "      <th>86790</th>\n",
       "      <td>21</td>\n",
       "      <td>Обвиняется в домогательствах: более 600 деятел...</td>\n",
       "      <td>2023-12-30</td>\n",
       "      <td>Passion (passion.ru)</td>\n",
       "      <td>Москва</td>\n",
       "      <td>0.416</td>\n",
       "      <td>https://www.passion.ru/news/ikh-shoubiz/obviny...</td>\n",
       "    </tr>\n",
       "    <tr>\n",
       "      <th>86782</th>\n",
       "      <td>13</td>\n",
       "      <td>Более 600 деятелей культуры во Франции выступи...</td>\n",
       "      <td>2023-12-30</td>\n",
       "      <td>ИА Regnum</td>\n",
       "      <td>Москва</td>\n",
       "      <td>0.897</td>\n",
       "      <td>https://regnum.ru/news/3856475</td>\n",
       "    </tr>\n",
       "    <tr>\n",
       "      <th>86772</th>\n",
       "      <td>3</td>\n",
       "      <td>Ришар отказался от письма в поддержку Депардье</td>\n",
       "      <td>2023-12-31</td>\n",
       "      <td>ИА Ura.ru</td>\n",
       "      <td>Екатеринбург</td>\n",
       "      <td>1.959</td>\n",
       "      <td>https://ura.news/news/1052719195</td>\n",
       "    </tr>\n",
       "    <tr>\n",
       "      <th>86770</th>\n",
       "      <td>1</td>\n",
       "      <td>Пьер Ришар извинился за подпись под обращением...</td>\n",
       "      <td>2023-12-31</td>\n",
       "      <td>Lenta.Ru</td>\n",
       "      <td>Москва</td>\n",
       "      <td>0.920</td>\n",
       "      <td>https://lenta.ru/news/2023/12/31/pier-rishar-i...</td>\n",
       "    </tr>\n",
       "  </tbody>\n",
       "</table>\n",
       "<p>39645 rows × 7 columns</p>\n",
       "</div>"
      ],
      "text/plain": [
       "        id                                             header       date  \\\n",
       "708    709             Сводка Совинформбюро на 02 января 1942 2016-01-02   \n",
       "707    708                                     Эксгибиционизм 2016-01-02   \n",
       "706    707  Волшебные книги на новогодние праздники: обзор... 2016-01-02   \n",
       "704    705  Заместители глав МИД Японии, США и Южной Кореи... 2016-01-03   \n",
       "703    704  Женщины для утех по-прежнему нужны: Япония и К... 2016-01-03   \n",
       "...    ...                                                ...        ...   \n",
       "86780   11  Член жюри телешоу \"Американский идол\" обвинила... 2023-12-30   \n",
       "86790   21  Обвиняется в домогательствах: более 600 деятел... 2023-12-30   \n",
       "86782   13  Более 600 деятелей культуры во Франции выступи... 2023-12-30   \n",
       "86772    3     Ришар отказался от письма в поддержку Депардье 2023-12-31   \n",
       "86770    1  Пьер Ришар извинился за подпись под обращением... 2023-12-31   \n",
       "\n",
       "                    newspaper             city  md_index  \\\n",
       "708          ИА Росинформбюро           Москва     0.003   \n",
       "707      Passion (passion.ru)           Москва     0.096   \n",
       "706    Фонтанка (fontanka.ru)  Санкт-Петербург     2.965   \n",
       "704                      ТАСС           Москва     1.988   \n",
       "703                 ИА Regnum           Москва     2.312   \n",
       "...                       ...              ...       ...   \n",
       "86780               Газета.Ru           Москва     1.324   \n",
       "86790    Passion (passion.ru)           Москва     0.416   \n",
       "86782               ИА Regnum           Москва     0.897   \n",
       "86772               ИА Ura.ru     Екатеринбург     1.959   \n",
       "86770                Lenta.Ru           Москва     0.920   \n",
       "\n",
       "                                                     url  \n",
       "708    http://www.rosinform.ru/sovinformburo/632038-s...  \n",
       "707    http://sex.passion.ru/entsiklopediya-seksa/e/e...  \n",
       "706           http://calendar.fontanka.ru/articles/3178/  \n",
       "704      http://tass.ru/mezhdunarodnaya-panorama/2569822  \n",
       "703                   http://regnum.ru/news/2048238.html  \n",
       "...                                                  ...  \n",
       "86780  https://www.gazeta.ru/culture/news/2023/12/30/...  \n",
       "86790  https://www.passion.ru/news/ikh-shoubiz/obviny...  \n",
       "86782                     https://regnum.ru/news/3856475  \n",
       "86772                   https://ura.news/news/1052719195  \n",
       "86770  https://lenta.ru/news/2023/12/31/pier-rishar-i...  \n",
       "\n",
       "[39645 rows x 7 columns]"
      ]
     },
     "execution_count": 10,
     "metadata": {},
     "output_type": "execute_result"
    }
   ],
   "source": [
    "# Удаляю все публикации без ссылок\n",
    "data = data[~data.url.isna()]\n",
    "data"
   ]
  },
  {
   "cell_type": "code",
   "execution_count": 11,
   "metadata": {
    "colab": {
     "base_uri": "https://localhost:8080/"
    },
    "id": "SL29n0cbAmF-",
    "outputId": "807a949f-c280-4088-f4d4-5cca9a0166e4"
   },
   "outputs": [
    {
     "data": {
      "text/plain": [
       "(131,)"
      ]
     },
     "execution_count": 11,
     "metadata": {},
     "output_type": "execute_result"
    }
   ],
   "source": [
    "# Сколько всего медиа на этом этапе\n",
    "data.newspaper.unique().shape"
   ]
  },
  {
   "cell_type": "code",
   "execution_count": 12,
   "metadata": {
    "colab": {
     "base_uri": "https://localhost:8080/",
     "height": 423
    },
    "id": "eb0Ds7KZKbsj",
    "outputId": "c184e083-7686-4dcf-ea4c-1ce10baa999d"
   },
   "outputs": [
    {
     "data": {
      "text/html": [
       "<div>\n",
       "<style scoped>\n",
       "    .dataframe tbody tr th:only-of-type {\n",
       "        vertical-align: middle;\n",
       "    }\n",
       "\n",
       "    .dataframe tbody tr th {\n",
       "        vertical-align: top;\n",
       "    }\n",
       "\n",
       "    .dataframe thead th {\n",
       "        text-align: right;\n",
       "    }\n",
       "</style>\n",
       "<table border=\"1\" class=\"dataframe\">\n",
       "  <thead>\n",
       "    <tr style=\"text-align: right;\">\n",
       "      <th></th>\n",
       "      <th>newspaper</th>\n",
       "      <th>count</th>\n",
       "    </tr>\n",
       "  </thead>\n",
       "  <tbody>\n",
       "    <tr>\n",
       "      <th>78</th>\n",
       "      <td>Комсомольская правда (kp.ru)</td>\n",
       "      <td>2190</td>\n",
       "    </tr>\n",
       "    <tr>\n",
       "      <th>12</th>\n",
       "      <td>Lenta.Ru</td>\n",
       "      <td>2057</td>\n",
       "    </tr>\n",
       "    <tr>\n",
       "      <th>34</th>\n",
       "      <td>Газета.Ru</td>\n",
       "      <td>2013</td>\n",
       "    </tr>\n",
       "    <tr>\n",
       "      <th>51</th>\n",
       "      <td>ИА Regnum</td>\n",
       "      <td>1656</td>\n",
       "    </tr>\n",
       "    <tr>\n",
       "      <th>108</th>\n",
       "      <td>РИА ФАН (riafan.ru)</td>\n",
       "      <td>1545</td>\n",
       "    </tr>\n",
       "    <tr>\n",
       "      <th>...</th>\n",
       "      <td>...</td>\n",
       "      <td>...</td>\n",
       "    </tr>\n",
       "    <tr>\n",
       "      <th>55</th>\n",
       "      <td>ИА Аванпост Пресс</td>\n",
       "      <td>1</td>\n",
       "    </tr>\n",
       "    <tr>\n",
       "      <th>68</th>\n",
       "      <td>ИА Сегодня (agencytoday.ru)</td>\n",
       "      <td>1</td>\n",
       "    </tr>\n",
       "    <tr>\n",
       "      <th>72</th>\n",
       "      <td>ИА Финансовый Юрист (financial-lawyer.ru)</td>\n",
       "      <td>1</td>\n",
       "    </tr>\n",
       "    <tr>\n",
       "      <th>43</th>\n",
       "      <td>ИА Agencytown.ru</td>\n",
       "      <td>1</td>\n",
       "    </tr>\n",
       "    <tr>\n",
       "      <th>106</th>\n",
       "      <td>РИА Новости # Пресс-центр</td>\n",
       "      <td>1</td>\n",
       "    </tr>\n",
       "  </tbody>\n",
       "</table>\n",
       "<p>131 rows × 2 columns</p>\n",
       "</div>"
      ],
      "text/plain": [
       "                                     newspaper  count\n",
       "78                Комсомольская правда (kp.ru)   2190\n",
       "12                                    Lenta.Ru   2057\n",
       "34                                   Газета.Ru   2013\n",
       "51                                   ИА Regnum   1656\n",
       "108                        РИА ФАН (riafan.ru)   1545\n",
       "..                                         ...    ...\n",
       "55                           ИА Аванпост Пресс      1\n",
       "68                 ИА Сегодня (agencytoday.ru)      1\n",
       "72   ИА Финансовый Юрист (financial-lawyer.ru)      1\n",
       "43                            ИА Agencytown.ru      1\n",
       "106                  РИА Новости # Пресс-центр      1\n",
       "\n",
       "[131 rows x 2 columns]"
      ]
     },
     "execution_count": 12,
     "metadata": {},
     "output_type": "execute_result"
    }
   ],
   "source": [
    "# Посмотрим на медиа, которые вошли в изначальный датасет\n",
    "names = data.groupby(['newspaper']).size().index\n",
    "papers = pd.DataFrame(data.groupby(['newspaper']).size(),\n",
    "                      columns = ['count'])\n",
    "papers.insert(0, 'newspaper', names)\n",
    "papers = papers.set_index(np.arange(0, papers.shape[0]))\n",
    "papers.sort_values(by=['count'], ascending=False)"
   ]
  },
  {
   "cell_type": "code",
   "execution_count": 13,
   "metadata": {
    "colab": {
     "base_uri": "https://localhost:8080/",
     "height": 597
    },
    "id": "cEHDaE2RGQym",
    "outputId": "284d14d6-9251-418b-ce05-b293955b3397"
   },
   "outputs": [],
   "source": [
    "# Здесь вручную отсмотрела все 131 медиа на релевантность и актуальность\n",
    "#data[data.newspaper == 'Lenta.Ru']"
   ]
  },
  {
   "cell_type": "code",
   "execution_count": 14,
   "metadata": {
    "id": "ebeWdBLTGiK-"
   },
   "outputs": [
    {
     "name": "stdout",
     "output_type": "stream",
     "text": [
      "Papers dropped: 62\n"
     ]
    }
   ],
   "source": [
    "# Дропаем нерелевантные / неактивные медиа\n",
    "papers_for_drop = open(\"irr-media-sources.txt\", \"r\", encoding = 'utf-8').read().strip().split('\\n')\n",
    "\n",
    "# Сохраним список удаленных медиа в эксельку\n",
    "irr_papers = papers[papers.newspaper.isin(papers_for_drop)]\n",
    "irr_papers = irr_papers.sort_values(by='count', ascending=False)\n",
    "print('Papers dropped:', irr_papers.shape[0])\n",
    "\n",
    "irr_papers.to_excel(\"newspapers-for-drop.xlsx\")"
   ]
  },
  {
   "cell_type": "code",
   "execution_count": 15,
   "metadata": {
    "colab": {
     "base_uri": "https://localhost:8080/"
    },
    "id": "4KglU4KHV7Fy",
    "outputId": "84254754-1c85-45f9-e4cd-a712ff2874fa"
   },
   "outputs": [
    {
     "name": "stdout",
     "output_type": "stream",
     "text": [
      "Remaining papers: 69\n"
     ]
    }
   ],
   "source": [
    "papers = papers[~papers.newspaper.isin(papers_for_drop)]\n",
    "papers = papers.sort_values(by='count', ascending=False)\n",
    "print('Remaining papers:', papers.shape[0])\n",
    "\n",
    "# Сохраним список оставшихся медиа в эксельку\n",
    "#papers.to_excel(\"newspapers-list.xlsx\")"
   ]
  },
  {
   "cell_type": "code",
   "execution_count": 16,
   "metadata": {
    "id": "H5ifkbzlXX23"
   },
   "outputs": [],
   "source": [
    "assert data[data.newspaper.isin(papers_for_drop)].shape[0] == irr_papers['count'].sum()"
   ]
  },
  {
   "cell_type": "code",
   "execution_count": 17,
   "metadata": {
    "colab": {
     "base_uri": "https://localhost:8080/"
    },
    "id": "dlKlNDqpV7Rx",
    "outputId": "abdcde5b-5eba-4065-d450-a88d4092aca0"
   },
   "outputs": [
    {
     "name": "stdout",
     "output_type": "stream",
     "text": [
      "Num of articles after 1st cleaning: 31817\n"
     ]
    }
   ],
   "source": [
    "data = data[~data.newspaper.isin(papers_for_drop)]\n",
    "print('Num of articles after 1st cleaning:', data.shape[0])\n",
    "#data.to_excel(\"urls-cleaned.xlsx\")"
   ]
  },
  {
   "cell_type": "code",
   "execution_count": null,
   "metadata": {
    "id": "0gwh-ZDd7g0d"
   },
   "outputs": [],
   "source": []
  },
  {
   "cell_type": "markdown",
   "metadata": {
    "id": "QjsVQnDe7hy9"
   },
   "source": [
    "## Чистка данных. Этап 2\n",
    "\n",
    "Позитивный фильтр по ключевым словам про насилие над женщинами"
   ]
  },
  {
   "cell_type": "code",
   "execution_count": 18,
   "metadata": {
    "colab": {
     "base_uri": "https://localhost:8080/"
    },
    "id": "ziWpQABR9_z6",
    "outputId": "f03210b3-6039-4396-a2a7-e56af8f3a871"
   },
   "outputs": [
    {
     "name": "stdout",
     "output_type": "stream",
     "text": [
      "['harassment', 'Harassment', 'metoo', 'Metoo', 'MeToo', 'Metoo', 'домогавшегося', 'Домогавшегося', 'домогавшийся', 'Домогавшийся', 'домогался', 'Домогался', 'домогательств', 'Домогательств', 'домогаться', 'Домогаться', 'женщин', 'Женщин', 'жертв', 'Жертв', 'защит', 'Защит', 'защищ', 'Защищ', 'избиение', 'Избиение', 'избил', 'Избил', 'избитая', 'Избитая', 'изнасилов', 'Изнасилов', 'маньяк', 'Маньяк', 'на женщ', 'На женщ', 'На женщ', 'На женщ', 'надругал', 'Надругал', 'надругательст', 'Надругательст', 'нападен', 'Нападен', 'насилова', 'Насилова', 'насилуют', 'Насилуют', 'насильник', 'Насильник', 'насильственные сексуальные действия', 'Насильственные сексуальные действия', 'обвинение', 'Обвинение', 'обвиняемый', 'Обвиняемый', 'похититель', 'Похититель', 'похищение', 'Похищение', 'самооборон', 'Самооборон', 'секс-преступлен', 'Секс-преступлен', 'секс-скандал', 'Секс-скандал', 'скандал', 'Скандал', 'убийств', 'Убийств', 'убийц', 'Убийц', 'убил', 'Убил', 'харассмент', 'Харассмент', 'я тоже', 'Я тоже', 'Я тоже', 'Я тоже']\n",
      "[['полиц', 'секс'], ['Полиц', 'секс'], ['полиц', 'Секс'], ['Полиц', 'Секс'], ['прав', 'женщин'], ['Прав', 'женщин'], ['прав', 'Женщин'], ['Прав', 'Женщин'], ['секc', 'нападен'], ['Секc', 'нападен'], ['секc', 'Нападен'], ['Секc', 'Нападен'], ['секс', 'насил'], ['Секс', 'насил'], ['секс', 'Насил'], ['Секс', 'Насил'], ['секс', 'преступлен'], ['Секс', 'преступлен'], ['секс', 'Преступлен'], ['Секс', 'Преступлен'], ['секс', 'преступник'], ['Секс', 'преступник'], ['секс', 'Преступник'], ['Секс', 'Преступник'], ['секс', 'рабство'], ['Секс', 'рабство'], ['секс', 'Рабство'], ['Секс', 'Рабство']]\n"
     ]
    }
   ],
   "source": [
    "# Ключевые слова для отбора публикаций\n",
    "\n",
    "keywords_all = open(\"sv-women-keywords.txt\", \"r\", encoding = 'utf-8').read().strip().split('\\n')\n",
    "keywords_sin = []\n",
    "keywords_mult = []\n",
    "\n",
    "for keyword in keywords_all:\n",
    "  if '&' in keyword:\n",
    "    pair = keyword.split(' & ')\n",
    "    keywords_mult.extend([pair,\n",
    "                          [pair[0].capitalize(), pair[1]],\n",
    "                          [pair[0], pair[1].capitalize()],\n",
    "                          [pair[0].capitalize(), pair[1].capitalize()]])\n",
    "  else:\n",
    "    keywords_sin.extend([keyword,\n",
    "                         keyword.capitalize()])\n",
    "\n",
    "print(keywords_sin)\n",
    "print(keywords_mult)"
   ]
  },
  {
   "cell_type": "code",
   "execution_count": 19,
   "metadata": {
    "id": "ZN62Dbnpv-Eo"
   },
   "outputs": [],
   "source": [
    "# Кусок к которому начнем клеить\n",
    "d1 = data[data.header.str.contains(keywords_sin[0])]"
   ]
  },
  {
   "cell_type": "code",
   "execution_count": 20,
   "metadata": {
    "id": "IoRD1bLXv2lE"
   },
   "outputs": [],
   "source": [
    "# Добавляем все релевантные публикации построчно (хз почему так, захотелось бля)\n",
    "for keyword in keywords_sin:\n",
    "  d_add = data[data.header.str.contains(keyword, regex=False)]\n",
    "  d1 = pd.concat([d1, d_add])\n",
    "\n",
    "for pair in keywords_mult:\n",
    "  d_add = data[data.header.str.contains(pair[0]) & data.header.str.contains(pair[1])]\n",
    "  d1 = pd.concat([d1, d_add])\n",
    "\n",
    "data_parsing = d1.drop_duplicates(subset=['header'])\n",
    "data_parsing = data_parsing.sort_values(by=['date'])"
   ]
  },
  {
   "cell_type": "code",
   "execution_count": 21,
   "metadata": {
    "colab": {
     "base_uri": "https://localhost:8080/"
    },
    "id": "1VKwOFjy9ipT",
    "outputId": "5200f98c-6e26-45d0-a9a3-15725e3071cf"
   },
   "outputs": [
    {
     "name": "stdout",
     "output_type": "stream",
     "text": [
      "Num of articles after 2nd cleaning: 17110\n"
     ]
    }
   ],
   "source": [
    "print('Num of articles after 2nd cleaning:', data_parsing.shape[0])\n",
    "data_parsing.to_excel(\"urls-for-parsing.xlsx\")"
   ]
  },
  {
   "cell_type": "code",
   "execution_count": null,
   "metadata": {
    "id": "UWmVVffw9ivN"
   },
   "outputs": [],
   "source": []
  },
  {
   "cell_type": "markdown",
   "metadata": {
    "id": "xmjFDhmY9JHP"
   },
   "source": [
    "## Посмотрим на датасет ссылок для парсинга"
   ]
  },
  {
   "cell_type": "code",
   "execution_count": 22,
   "metadata": {
    "colab": {
     "base_uri": "https://localhost:8080/",
     "height": 788
    },
    "id": "2-h7bwkr9IBA",
    "outputId": "aa180ecb-772d-4ee6-de8f-3c84e75093ac"
   },
   "outputs": [
    {
     "data": {
      "text/html": [
       "<div>\n",
       "<style scoped>\n",
       "    .dataframe tbody tr th:only-of-type {\n",
       "        vertical-align: middle;\n",
       "    }\n",
       "\n",
       "    .dataframe tbody tr th {\n",
       "        vertical-align: top;\n",
       "    }\n",
       "\n",
       "    .dataframe thead th {\n",
       "        text-align: right;\n",
       "    }\n",
       "</style>\n",
       "<table border=\"1\" class=\"dataframe\">\n",
       "  <thead>\n",
       "    <tr style=\"text-align: right;\">\n",
       "      <th></th>\n",
       "      <th>id</th>\n",
       "      <th>header</th>\n",
       "      <th>date</th>\n",
       "      <th>newspaper</th>\n",
       "      <th>city</th>\n",
       "      <th>md_index</th>\n",
       "      <th>url</th>\n",
       "    </tr>\n",
       "  </thead>\n",
       "  <tbody>\n",
       "    <tr>\n",
       "      <th>703</th>\n",
       "      <td>704</td>\n",
       "      <td>Женщины для утех по-прежнему нужны: Япония и К...</td>\n",
       "      <td>2016-01-03</td>\n",
       "      <td>ИА Regnum</td>\n",
       "      <td>Москва</td>\n",
       "      <td>2.312</td>\n",
       "      <td>http://regnum.ru/news/2048238.html</td>\n",
       "    </tr>\n",
       "    <tr>\n",
       "      <th>700</th>\n",
       "      <td>701</td>\n",
       "      <td>В Норвегии мигрантов научат не насиловать женщин</td>\n",
       "      <td>2016-01-04</td>\n",
       "      <td>Известия (iz.ru)</td>\n",
       "      <td>Москва</td>\n",
       "      <td>1.113</td>\n",
       "      <td>http://izvestia.ru/news/600956</td>\n",
       "    </tr>\n",
       "    <tr>\n",
       "      <th>693</th>\n",
       "      <td>694</td>\n",
       "      <td>Полиция Кельна опровергла сообщения о нападени...</td>\n",
       "      <td>2016-01-05</td>\n",
       "      <td>Российская газета (rg.ru)</td>\n",
       "      <td>Москва</td>\n",
       "      <td>1.266</td>\n",
       "      <td>http://www.rg.ru/2016/01/05/keln-site.html</td>\n",
       "    </tr>\n",
       "    <tr>\n",
       "      <th>691</th>\n",
       "      <td>692</td>\n",
       "      <td>Меркель потребовала дать жесткий ответ на напа...</td>\n",
       "      <td>2016-01-05</td>\n",
       "      <td>Фонтанка (fontanka.ru)</td>\n",
       "      <td>Санкт-Петербург</td>\n",
       "      <td>1.186</td>\n",
       "      <td>http://www.fontanka.ru/2016/01/05/077/</td>\n",
       "    </tr>\n",
       "    <tr>\n",
       "      <th>681</th>\n",
       "      <td>682</td>\n",
       "      <td>Мэр Кельна шокировала немок советом, как избег...</td>\n",
       "      <td>2016-01-06</td>\n",
       "      <td>РИА Новости</td>\n",
       "      <td>Москва</td>\n",
       "      <td>3.996</td>\n",
       "      <td>http://ria.ru/world/20160106/1355541587.html</td>\n",
       "    </tr>\n",
       "    <tr>\n",
       "      <th>...</th>\n",
       "      <td>...</td>\n",
       "      <td>...</td>\n",
       "      <td>...</td>\n",
       "      <td>...</td>\n",
       "      <td>...</td>\n",
       "      <td>...</td>\n",
       "      <td>...</td>\n",
       "    </tr>\n",
       "    <tr>\n",
       "      <th>86794</th>\n",
       "      <td>25</td>\n",
       "      <td>Брата Майкла Джексона обвинили в изнасиловании</td>\n",
       "      <td>2023-12-29</td>\n",
       "      <td>Известия (iz.ru)</td>\n",
       "      <td>Москва</td>\n",
       "      <td>1.200</td>\n",
       "      <td>https://iz.ru/1628155/2023-12-29/brata-maikla-...</td>\n",
       "    </tr>\n",
       "    <tr>\n",
       "      <th>86792</th>\n",
       "      <td>23</td>\n",
       "      <td>Просто эпидемия: старшего брата Майкла Джексон...</td>\n",
       "      <td>2023-12-29</td>\n",
       "      <td>Eadaily.com</td>\n",
       "      <td>Москва</td>\n",
       "      <td>1.469</td>\n",
       "      <td>https://eadaily.com/ru/news/2023/12/29/prosto-...</td>\n",
       "    </tr>\n",
       "    <tr>\n",
       "      <th>86803</th>\n",
       "      <td>34</td>\n",
       "      <td>Приговоренный к 24 годам тюрьмы тулунский мань...</td>\n",
       "      <td>2023-12-29</td>\n",
       "      <td>Телеканал 360 (360tv.ru)</td>\n",
       "      <td>Красногорск</td>\n",
       "      <td>1.559</td>\n",
       "      <td>https://360tv.ru/news/proisshestviya/prigovore...</td>\n",
       "    </tr>\n",
       "    <tr>\n",
       "      <th>86784</th>\n",
       "      <td>15</td>\n",
       "      <td>Более 600 деятелей культуры осудили обвиняемог...</td>\n",
       "      <td>2023-12-30</td>\n",
       "      <td>Общественная служба новостей (osnmedia.ru)</td>\n",
       "      <td>Москва</td>\n",
       "      <td>0.959</td>\n",
       "      <td>https://www.osnmedia.ru/kultura/bolee-600-deya...</td>\n",
       "    </tr>\n",
       "    <tr>\n",
       "      <th>86780</th>\n",
       "      <td>11</td>\n",
       "      <td>Член жюри телешоу \"Американский идол\" обвинила...</td>\n",
       "      <td>2023-12-30</td>\n",
       "      <td>Газета.Ru</td>\n",
       "      <td>Москва</td>\n",
       "      <td>1.324</td>\n",
       "      <td>https://www.gazeta.ru/culture/news/2023/12/30/...</td>\n",
       "    </tr>\n",
       "  </tbody>\n",
       "</table>\n",
       "<p>17110 rows × 7 columns</p>\n",
       "</div>"
      ],
      "text/plain": [
       "        id                                             header       date  \\\n",
       "703    704  Женщины для утех по-прежнему нужны: Япония и К... 2016-01-03   \n",
       "700    701   В Норвегии мигрантов научат не насиловать женщин 2016-01-04   \n",
       "693    694  Полиция Кельна опровергла сообщения о нападени... 2016-01-05   \n",
       "691    692  Меркель потребовала дать жесткий ответ на напа... 2016-01-05   \n",
       "681    682  Мэр Кельна шокировала немок советом, как избег... 2016-01-06   \n",
       "...    ...                                                ...        ...   \n",
       "86794   25     Брата Майкла Джексона обвинили в изнасиловании 2023-12-29   \n",
       "86792   23  Просто эпидемия: старшего брата Майкла Джексон... 2023-12-29   \n",
       "86803   34  Приговоренный к 24 годам тюрьмы тулунский мань... 2023-12-29   \n",
       "86784   15  Более 600 деятелей культуры осудили обвиняемог... 2023-12-30   \n",
       "86780   11  Член жюри телешоу \"Американский идол\" обвинила... 2023-12-30   \n",
       "\n",
       "                                        newspaper             city  md_index  \\\n",
       "703                                     ИА Regnum           Москва     2.312   \n",
       "700                              Известия (iz.ru)           Москва     1.113   \n",
       "693                     Российская газета (rg.ru)           Москва     1.266   \n",
       "691                        Фонтанка (fontanka.ru)  Санкт-Петербург     1.186   \n",
       "681                                   РИА Новости           Москва     3.996   \n",
       "...                                           ...              ...       ...   \n",
       "86794                            Известия (iz.ru)           Москва     1.200   \n",
       "86792                                 Eadaily.com           Москва     1.469   \n",
       "86803                    Телеканал 360 (360tv.ru)      Красногорск     1.559   \n",
       "86784  Общественная служба новостей (osnmedia.ru)           Москва     0.959   \n",
       "86780                                   Газета.Ru           Москва     1.324   \n",
       "\n",
       "                                                     url  \n",
       "703                   http://regnum.ru/news/2048238.html  \n",
       "700                       http://izvestia.ru/news/600956  \n",
       "693           http://www.rg.ru/2016/01/05/keln-site.html  \n",
       "691               http://www.fontanka.ru/2016/01/05/077/  \n",
       "681         http://ria.ru/world/20160106/1355541587.html  \n",
       "...                                                  ...  \n",
       "86794  https://iz.ru/1628155/2023-12-29/brata-maikla-...  \n",
       "86792  https://eadaily.com/ru/news/2023/12/29/prosto-...  \n",
       "86803  https://360tv.ru/news/proisshestviya/prigovore...  \n",
       "86784  https://www.osnmedia.ru/kultura/bolee-600-deya...  \n",
       "86780  https://www.gazeta.ru/culture/news/2023/12/30/...  \n",
       "\n",
       "[17110 rows x 7 columns]"
      ]
     },
     "execution_count": 22,
     "metadata": {},
     "output_type": "execute_result"
    }
   ],
   "source": [
    "data_parsing"
   ]
  },
  {
   "cell_type": "code",
   "execution_count": 23,
   "metadata": {
    "id": "CMkyQDYH9IEW"
   },
   "outputs": [],
   "source": [
    "# Медиа в порядке от самого популярного по кол-ву публикаций до самого нет\n",
    "names = data_parsing.groupby(['newspaper']).size().index\n",
    "papers = pd.DataFrame(data_parsing.groupby(['newspaper']).size(),\n",
    "                      columns = ['count'])\n",
    "papers.insert(0, 'newspaper', names)\n",
    "papers = papers.set_index(np.arange(0, papers.shape[0]))\n",
    "papers = papers.sort_values(by=['count'], ascending=False)"
   ]
  },
  {
   "cell_type": "code",
   "execution_count": 24,
   "metadata": {},
   "outputs": [
    {
     "data": {
      "text/html": [
       "<div>\n",
       "<style scoped>\n",
       "    .dataframe tbody tr th:only-of-type {\n",
       "        vertical-align: middle;\n",
       "    }\n",
       "\n",
       "    .dataframe tbody tr th {\n",
       "        vertical-align: top;\n",
       "    }\n",
       "\n",
       "    .dataframe thead th {\n",
       "        text-align: right;\n",
       "    }\n",
       "</style>\n",
       "<table border=\"1\" class=\"dataframe\">\n",
       "  <thead>\n",
       "    <tr style=\"text-align: right;\">\n",
       "      <th></th>\n",
       "      <th>newspaper</th>\n",
       "      <th>count</th>\n",
       "    </tr>\n",
       "  </thead>\n",
       "  <tbody>\n",
       "    <tr>\n",
       "      <th>41</th>\n",
       "      <td>Комсомольская правда (kp.ru)</td>\n",
       "      <td>1522</td>\n",
       "    </tr>\n",
       "    <tr>\n",
       "      <th>20</th>\n",
       "      <td>Газета.Ru</td>\n",
       "      <td>1103</td>\n",
       "    </tr>\n",
       "    <tr>\n",
       "      <th>5</th>\n",
       "      <td>Lenta.Ru</td>\n",
       "      <td>1079</td>\n",
       "    </tr>\n",
       "    <tr>\n",
       "      <th>27</th>\n",
       "      <td>ИА Regnum</td>\n",
       "      <td>868</td>\n",
       "    </tr>\n",
       "    <tr>\n",
       "      <th>62</th>\n",
       "      <td>Телеканал 360 (360tv.ru)</td>\n",
       "      <td>738</td>\n",
       "    </tr>\n",
       "    <tr>\n",
       "      <th>...</th>\n",
       "      <td>...</td>\n",
       "      <td>...</td>\n",
       "    </tr>\n",
       "    <tr>\n",
       "      <th>26</th>\n",
       "      <td>ИА OnAir.ru</td>\n",
       "      <td>5</td>\n",
       "    </tr>\n",
       "    <tr>\n",
       "      <th>48</th>\n",
       "      <td>ПРАЙМ</td>\n",
       "      <td>4</td>\n",
       "    </tr>\n",
       "    <tr>\n",
       "      <th>33</th>\n",
       "      <td>ИА Реалист</td>\n",
       "      <td>1</td>\n",
       "    </tr>\n",
       "    <tr>\n",
       "      <th>38</th>\n",
       "      <td>Коммерсантъ (kommersant.ru)</td>\n",
       "      <td>1</td>\n",
       "    </tr>\n",
       "    <tr>\n",
       "      <th>25</th>\n",
       "      <td>Завтра</td>\n",
       "      <td>1</td>\n",
       "    </tr>\n",
       "  </tbody>\n",
       "</table>\n",
       "<p>68 rows × 2 columns</p>\n",
       "</div>"
      ],
      "text/plain": [
       "                       newspaper  count\n",
       "41  Комсомольская правда (kp.ru)   1522\n",
       "20                     Газета.Ru   1103\n",
       "5                       Lenta.Ru   1079\n",
       "27                     ИА Regnum    868\n",
       "62      Телеканал 360 (360tv.ru)    738\n",
       "..                           ...    ...\n",
       "26                   ИА OnAir.ru      5\n",
       "48                         ПРАЙМ      4\n",
       "33                    ИА Реалист      1\n",
       "38   Коммерсантъ (kommersant.ru)      1\n",
       "25                        Завтра      1\n",
       "\n",
       "[68 rows x 2 columns]"
      ]
     },
     "execution_count": 24,
     "metadata": {},
     "output_type": "execute_result"
    }
   ],
   "source": [
    "papers"
   ]
  },
  {
   "cell_type": "code",
   "execution_count": 25,
   "metadata": {
    "id": "v-bc9ZB99efR"
   },
   "outputs": [],
   "source": [
    "# Видим, что ушло несколько источников, сохраним новый список в эксельку\n",
    "\n",
    "papers.to_excel(\"newspapers-list-fin.xlsx\")"
   ]
  },
  {
   "cell_type": "code",
   "execution_count": null,
   "metadata": {
    "id": "5oEIXQiU9erz"
   },
   "outputs": [],
   "source": []
  }
 ],
 "metadata": {
  "colab": {
   "provenance": []
  },
  "kernelspec": {
   "display_name": "Python 3 (ipykernel)",
   "language": "python",
   "name": "python3"
  },
  "language_info": {
   "codemirror_mode": {
    "name": "ipython",
    "version": 3
   },
   "file_extension": ".py",
   "mimetype": "text/x-python",
   "name": "python",
   "nbconvert_exporter": "python",
   "pygments_lexer": "ipython3",
   "version": "3.11.7"
  }
 },
 "nbformat": 4,
 "nbformat_minor": 4
}
